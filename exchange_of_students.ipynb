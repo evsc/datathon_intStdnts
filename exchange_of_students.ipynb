{
  "cells": [
    {
      "cell_type": "code",
      "metadata": {
        "tags": [],
        "cell_id": "00000-aa1e97b6-99eb-4ed3-9f08-d949c0e6eccd",
        "deepnote_to_be_reexecuted": false,
        "source_hash": "1f0c2c1e",
        "execution_millis": 12402,
        "execution_start": 1618082704225,
        "deepnote_cell_type": "code"
      },
      "source": "# INSTALLS\n\n# Important library for many geopython libraries\n!apt install gdal-bin python-gdal python3-gdal \n# Install rtree - Geopandas requirment\n!apt install python3-rtree \n# Install Geopandas\n!pip install git+git://github.com/geopandas/geopandas.git\n# Install descartes - Geopandas requirment\n!pip install descartes ",
      "execution_count": null,
      "outputs": [
        {
          "name": "stdout",
          "text": "\n\n\nE: Unable to locate package gdal-bin\nE: Unable to locate package python-gdal\nE: Unable to locate package python3-gdal\n\n\n\nE: Unable to locate package python3-rtree\nCollecting git+git://github.com/geopandas/geopandas.git\n  Cloning git://github.com/geopandas/geopandas.git to /tmp/pip-req-build-51pwf2nw\n  Running command git clone -q git://github.com/geopandas/geopandas.git /tmp/pip-req-build-51pwf2nw\nRequirement already satisfied (use --upgrade to upgrade): geopandas==0.9.0+12.gafa49e0 from git+git://github.com/geopandas/geopandas.git in /root/venv/lib/python3.7/site-packages\nRequirement already satisfied: pandas>=0.24.0 in /shared-libs/python3.7/py/lib/python3.7/site-packages (from geopandas==0.9.0+12.gafa49e0) (1.2.3)\nRequirement already satisfied: shapely>=1.6 in /root/venv/lib/python3.7/site-packages (from geopandas==0.9.0+12.gafa49e0) (1.7.1)\nRequirement already satisfied: fiona>=1.8 in /shared-libs/python3.7/py/lib/python3.7/site-packages (from geopandas==0.9.0+12.gafa49e0) (1.8.18)\nRequirement already satisfied: pyproj>=2.2.0 in /root/venv/lib/python3.7/site-packages (from geopandas==0.9.0+12.gafa49e0) (3.0.1)\nRequirement already satisfied: pytz>=2017.3 in /shared-libs/python3.7/py/lib/python3.7/site-packages (from pandas>=0.24.0->geopandas==0.9.0+12.gafa49e0) (2021.1)\nRequirement already satisfied: numpy>=1.16.5 in /shared-libs/python3.7/py/lib/python3.7/site-packages (from pandas>=0.24.0->geopandas==0.9.0+12.gafa49e0) (1.19.5)\nRequirement already satisfied: python-dateutil>=2.7.3 in /shared-libs/python3.7/py-core/lib/python3.7/site-packages (from pandas>=0.24.0->geopandas==0.9.0+12.gafa49e0) (2.8.1)\nRequirement already satisfied: click<8,>=4.0 in /shared-libs/python3.7/py/lib/python3.7/site-packages (from fiona>=1.8->geopandas==0.9.0+12.gafa49e0) (7.1.2)\nRequirement already satisfied: attrs>=17 in /shared-libs/python3.7/py-core/lib/python3.7/site-packages (from fiona>=1.8->geopandas==0.9.0+12.gafa49e0) (20.3.0)\nRequirement already satisfied: munch in /shared-libs/python3.7/py/lib/python3.7/site-packages (from fiona>=1.8->geopandas==0.9.0+12.gafa49e0) (2.5.0)\nRequirement already satisfied: click-plugins>=1.0 in /shared-libs/python3.7/py/lib/python3.7/site-packages (from fiona>=1.8->geopandas==0.9.0+12.gafa49e0) (1.1.1)\nRequirement already satisfied: certifi in /shared-libs/python3.7/py/lib/python3.7/site-packages (from fiona>=1.8->geopandas==0.9.0+12.gafa49e0) (2020.12.5)\nRequirement already satisfied: cligj>=0.5 in /shared-libs/python3.7/py/lib/python3.7/site-packages (from fiona>=1.8->geopandas==0.9.0+12.gafa49e0) (0.7.1)\nRequirement already satisfied: six>=1.7 in /shared-libs/python3.7/py-core/lib/python3.7/site-packages (from fiona>=1.8->geopandas==0.9.0+12.gafa49e0) (1.15.0)\nBuilding wheels for collected packages: geopandas\n  Building wheel for geopandas (setup.py) ... \u001b[?25ldone\n\u001b[?25h  Created wheel for geopandas: filename=geopandas-0.9.0+12.gafa49e0-py2.py3-none-any.whl size=995084 sha256=2ee194cb4354381fa2d873302eebcc0e4e3ee6dc372d0bb32f8ca9b50c53175a\n  Stored in directory: /tmp/pip-ephem-wheel-cache-osfbn9sr/wheels/cf/3e/0b/6475054094c2b1ea054158ac1fdcf749fb92f5b512377e4cf8\nSuccessfully built geopandas\n\u001b[33mWARNING: You are using pip version 20.1.1; however, version 21.0.1 is available.\nYou should consider upgrading via the '/root/venv/bin/python -m pip install --upgrade pip' command.\u001b[0m\nCollecting descartes\n  Downloading descartes-1.1.0-py3-none-any.whl (5.8 kB)\nRequirement already satisfied: matplotlib in /shared-libs/python3.7/py/lib/python3.7/site-packages (from descartes) (3.3.4)\nRequirement already satisfied: cycler>=0.10 in /shared-libs/python3.7/py/lib/python3.7/site-packages (from matplotlib->descartes) (0.10.0)\nRequirement already satisfied: python-dateutil>=2.1 in /shared-libs/python3.7/py-core/lib/python3.7/site-packages (from matplotlib->descartes) (2.8.1)\nRequirement already satisfied: pillow>=6.2.0 in /shared-libs/python3.7/py/lib/python3.7/site-packages (from matplotlib->descartes) (8.1.2)\nRequirement already satisfied: numpy>=1.15 in /shared-libs/python3.7/py/lib/python3.7/site-packages (from matplotlib->descartes) (1.19.5)\nRequirement already satisfied: kiwisolver>=1.0.1 in /shared-libs/python3.7/py/lib/python3.7/site-packages (from matplotlib->descartes) (1.3.1)\nRequirement already satisfied: pyparsing!=2.0.4,!=2.1.2,!=2.1.6,>=2.0.3 in /shared-libs/python3.7/py-core/lib/python3.7/site-packages (from matplotlib->descartes) (2.4.7)\nRequirement already satisfied: six in /shared-libs/python3.7/py-core/lib/python3.7/site-packages (from cycler>=0.10->matplotlib->descartes) (1.15.0)\nInstalling collected packages: descartes\nSuccessfully installed descartes-1.1.0\n\u001b[33mWARNING: You are using pip version 20.1.1; however, version 21.0.1 is available.\nYou should consider upgrading via the '/root/venv/bin/python -m pip install --upgrade pip' command.\u001b[0m\n",
          "output_type": "stream"
        }
      ]
    },
    {
      "cell_type": "code",
      "metadata": {
        "tags": [],
        "cell_id": "00001-6444ab1b-c789-42a0-8c43-440ec3086f36",
        "deepnote_to_be_reexecuted": false,
        "source_hash": "11d5d6b3",
        "execution_millis": 486,
        "execution_start": 1618103508087,
        "deepnote_cell_type": "code"
      },
      "source": "# IMPORTS\n\nimport pandas as pd\nimport numpy as np\nimport os\nimport geopandas as gpd\nimport plotly.express as px\nimport plotly.graph_objs as go",
      "execution_count": 4,
      "outputs": []
    },
    {
      "cell_type": "code",
      "metadata": {
        "tags": [],
        "cell_id": "00002-4145de0d-bbcb-4548-b063-8e09f7a70972",
        "deepnote_to_be_reexecuted": false,
        "source_hash": "af98a0e3",
        "execution_millis": 11,
        "execution_start": 1618103508656,
        "deepnote_cell_type": "code"
      },
      "source": "# MOUNT DRIVE\n\nroot_dir = '/datasets/datathondeepnoteaccess/'\nbase_dir = root_dir + 'Stanford_Datathon_103/'  ",
      "execution_count": 5,
      "outputs": []
    },
    {
      "cell_type": "code",
      "metadata": {
        "tags": [],
        "cell_id": "00003-dabcd763-22d3-4d23-83da-a6c8a1d1d6ce",
        "deepnote_to_be_reexecuted": false,
        "source_hash": "b78a8552",
        "execution_millis": 17,
        "execution_start": 1618103510342,
        "deepnote_cell_type": "code"
      },
      "source": "# READ IN THE DATA\n\n# Pre-processed data from \n# https://opendoorsdata.org/data/international-students/leading-places-of-origin/\n# https://opendoorsdata.org/data/us-study-abroad/all-destinations/ \n\nfile1 = base_dir + 'dataset/intStdnts_inUS_origin.csv'\nfile2 = base_dir + 'dataset/USStdnts_abroad.csv'\ndata_in = pd.read_csv(file1)\ndata_out = pd.read_csv(file2)",
      "execution_count": 6,
      "outputs": []
    },
    {
      "cell_type": "markdown",
      "source": "# CLEAN DATA",
      "metadata": {
        "tags": [],
        "cell_id": "00005-1a391e67-9ef2-41a5-8f5a-1fa07ecfdf39",
        "deepnote_cell_type": "markdown"
      }
    },
    {
      "cell_type": "code",
      "metadata": {
        "tags": [],
        "cell_id": "00005-d0477cdd-0869-4241-a4a9-62fa59d55f5d",
        "deepnote_to_be_reexecuted": false,
        "source_hash": "c4b7a379",
        "execution_millis": 8,
        "execution_start": 1618103552173,
        "deepnote_cell_type": "code"
      },
      "source": "data_in.info()",
      "execution_count": 12,
      "outputs": [
        {
          "name": "stdout",
          "text": "<class 'pandas.core.frame.DataFrame'>\nRangeIndex: 500 entries, 0 to 499\nData columns (total 4 columns):\n #   Column           Non-Null Count  Dtype  \n---  ------           --------------  -----  \n 0   Place of Origin  500 non-null    object \n 1   Int'l Students   500 non-null    float64\n 2   % of Total       500 non-null    float64\n 3   Year             500 non-null    object \ndtypes: float64(2), object(2)\nmemory usage: 15.8+ KB\n",
          "output_type": "stream"
        }
      ]
    },
    {
      "cell_type": "code",
      "metadata": {
        "tags": [],
        "cell_id": "00006-8fbf6845-e883-4ae1-885b-5d9d17fcce51",
        "deepnote_to_be_reexecuted": false,
        "source_hash": "69b24117",
        "execution_millis": 34,
        "execution_start": 1618103553259,
        "deepnote_cell_type": "code"
      },
      "source": "# Rename columns\ndata_in_1 = data_in.rename(columns={'Place of Origin':'country',\n                                    'Int\\'l Students':'intStdnts',\n                                    '% of Total':'percTotal',\n                                    'Year':'year'})\n\n\n# data_in_1[\"intStdnts\"] = data_in_1[\"intStdnts\"].str.replace(\",\",\"\").astype(float)\ndata_in_1[\"percTotal\"] = data_in_1[\"percTotal\"]/100.0\ndata_in_1['year'] = data_in_1.year.str.extract('(\\d+)').astype(int)\n\ndata_in_1['country'] = data_in_1['country'].str.replace(\"China, PRC\",\"China\")\ndata_in_1['country'] = data_in_1['country'].str.replace(\"Hong Kong, China\",\"Hong Kong\")\n\ndata_in_1.info()\ndata_in_1.head()",
      "execution_count": 13,
      "outputs": [
        {
          "name": "stdout",
          "text": "<class 'pandas.core.frame.DataFrame'>\nRangeIndex: 500 entries, 0 to 499\nData columns (total 4 columns):\n #   Column     Non-Null Count  Dtype  \n---  ------     --------------  -----  \n 0   country    500 non-null    object \n 1   intStdnts  500 non-null    float64\n 2   percTotal  500 non-null    float64\n 3   year       500 non-null    int64  \ndtypes: float64(2), int64(1), object(1)\nmemory usage: 15.8+ KB\n",
          "output_type": "stream"
        },
        {
          "output_type": "execute_result",
          "execution_count": 13,
          "data": {
            "application/vnd.deepnote.dataframe.v2+json": {
              "row_count": 5,
              "column_count": 4,
              "columns": [
                {
                  "name": "country",
                  "dtype": "object",
                  "stats": {
                    "unique_count": 5,
                    "nan_count": 0,
                    "categories": [
                      {
                        "name": "China",
                        "count": 1
                      },
                      {
                        "name": "India",
                        "count": 1
                      },
                      {
                        "name": "3 others",
                        "count": 3
                      }
                    ]
                  }
                },
                {
                  "name": "intStdnts",
                  "dtype": "float64",
                  "stats": {
                    "unique_count": 5,
                    "nan_count": 0,
                    "min": 28566,
                    "max": 59939,
                    "histogram": [
                      {
                        "bin_start": 28566,
                        "bin_end": 31703.3,
                        "count": 1
                      },
                      {
                        "bin_start": 31703.3,
                        "bin_end": 34840.6,
                        "count": 0
                      },
                      {
                        "bin_start": 34840.6,
                        "bin_end": 37977.9,
                        "count": 0
                      },
                      {
                        "bin_start": 37977.9,
                        "bin_end": 41115.2,
                        "count": 0
                      },
                      {
                        "bin_start": 41115.2,
                        "bin_end": 44252.5,
                        "count": 0
                      },
                      {
                        "bin_start": 44252.5,
                        "bin_end": 47389.8,
                        "count": 2
                      },
                      {
                        "bin_start": 47389.8,
                        "bin_end": 50527.100000000006,
                        "count": 0
                      },
                      {
                        "bin_start": 50527.100000000006,
                        "bin_end": 53664.4,
                        "count": 0
                      },
                      {
                        "bin_start": 53664.4,
                        "bin_end": 56801.7,
                        "count": 1
                      },
                      {
                        "bin_start": 56801.7,
                        "bin_end": 59939,
                        "count": 1
                      }
                    ]
                  }
                },
                {
                  "name": "percTotal",
                  "dtype": "float64",
                  "stats": {
                    "unique_count": 5,
                    "nan_count": 0,
                    "min": 0.052000000000000005,
                    "max": 0.109,
                    "histogram": [
                      {
                        "bin_start": 0.052000000000000005,
                        "bin_end": 0.0577,
                        "count": 1
                      },
                      {
                        "bin_start": 0.0577,
                        "bin_end": 0.0634,
                        "count": 0
                      },
                      {
                        "bin_start": 0.0634,
                        "bin_end": 0.0691,
                        "count": 0
                      },
                      {
                        "bin_start": 0.0691,
                        "bin_end": 0.0748,
                        "count": 0
                      },
                      {
                        "bin_start": 0.0748,
                        "bin_end": 0.0805,
                        "count": 0
                      },
                      {
                        "bin_start": 0.0805,
                        "bin_end": 0.0862,
                        "count": 2
                      },
                      {
                        "bin_start": 0.0862,
                        "bin_end": 0.09190000000000001,
                        "count": 0
                      },
                      {
                        "bin_start": 0.09190000000000001,
                        "bin_end": 0.09759999999999999,
                        "count": 0
                      },
                      {
                        "bin_start": 0.09759999999999999,
                        "bin_end": 0.1033,
                        "count": 1
                      },
                      {
                        "bin_start": 0.1033,
                        "bin_end": 0.109,
                        "count": 1
                      }
                    ]
                  }
                },
                {
                  "name": "year",
                  "dtype": "int64",
                  "stats": {
                    "unique_count": 1,
                    "nan_count": 0,
                    "min": 2000,
                    "max": 2000,
                    "histogram": [
                      {
                        "bin_start": 1999.5,
                        "bin_end": 1999.6,
                        "count": 0
                      },
                      {
                        "bin_start": 1999.6,
                        "bin_end": 1999.7,
                        "count": 0
                      },
                      {
                        "bin_start": 1999.7,
                        "bin_end": 1999.8,
                        "count": 0
                      },
                      {
                        "bin_start": 1999.8,
                        "bin_end": 1999.9,
                        "count": 0
                      },
                      {
                        "bin_start": 1999.9,
                        "bin_end": 2000,
                        "count": 0
                      },
                      {
                        "bin_start": 2000,
                        "bin_end": 2000.1,
                        "count": 5
                      },
                      {
                        "bin_start": 2000.1,
                        "bin_end": 2000.2,
                        "count": 0
                      },
                      {
                        "bin_start": 2000.2,
                        "bin_end": 2000.3,
                        "count": 0
                      },
                      {
                        "bin_start": 2000.3,
                        "bin_end": 2000.4,
                        "count": 0
                      },
                      {
                        "bin_start": 2000.4,
                        "bin_end": 2000.5,
                        "count": 0
                      }
                    ]
                  }
                },
                {
                  "name": "_deepnote_index_column",
                  "dtype": "int64"
                }
              ],
              "rows_top": [
                {
                  "country": "China",
                  "intStdnts": 59939,
                  "percTotal": 0.109,
                  "year": 2000,
                  "_deepnote_index_column": 0
                },
                {
                  "country": "India",
                  "intStdnts": 54664,
                  "percTotal": 0.1,
                  "year": 2000,
                  "_deepnote_index_column": 1
                },
                {
                  "country": "Japan",
                  "intStdnts": 46497,
                  "percTotal": 0.085,
                  "year": 2000,
                  "_deepnote_index_column": 2
                },
                {
                  "country": "South Korea",
                  "intStdnts": 45685,
                  "percTotal": 0.083,
                  "year": 2000,
                  "_deepnote_index_column": 3
                },
                {
                  "country": "Taiwan",
                  "intStdnts": 28566,
                  "percTotal": 0.052000000000000005,
                  "year": 2000,
                  "_deepnote_index_column": 4
                }
              ],
              "rows_bottom": null
            },
            "text/plain": "       country  intStdnts  percTotal  year\n0        China    59939.0      0.109  2000\n1        India    54664.0      0.100  2000\n2        Japan    46497.0      0.085  2000\n3  South Korea    45685.0      0.083  2000\n4       Taiwan    28566.0      0.052  2000",
            "text/html": "<div>\n<style scoped>\n    .dataframe tbody tr th:only-of-type {\n        vertical-align: middle;\n    }\n\n    .dataframe tbody tr th {\n        vertical-align: top;\n    }\n\n    .dataframe thead th {\n        text-align: right;\n    }\n</style>\n<table border=\"1\" class=\"dataframe\">\n  <thead>\n    <tr style=\"text-align: right;\">\n      <th></th>\n      <th>country</th>\n      <th>intStdnts</th>\n      <th>percTotal</th>\n      <th>year</th>\n    </tr>\n  </thead>\n  <tbody>\n    <tr>\n      <th>0</th>\n      <td>China</td>\n      <td>59939.0</td>\n      <td>0.109</td>\n      <td>2000</td>\n    </tr>\n    <tr>\n      <th>1</th>\n      <td>India</td>\n      <td>54664.0</td>\n      <td>0.100</td>\n      <td>2000</td>\n    </tr>\n    <tr>\n      <th>2</th>\n      <td>Japan</td>\n      <td>46497.0</td>\n      <td>0.085</td>\n      <td>2000</td>\n    </tr>\n    <tr>\n      <th>3</th>\n      <td>South Korea</td>\n      <td>45685.0</td>\n      <td>0.083</td>\n      <td>2000</td>\n    </tr>\n    <tr>\n      <th>4</th>\n      <td>Taiwan</td>\n      <td>28566.0</td>\n      <td>0.052</td>\n      <td>2000</td>\n    </tr>\n  </tbody>\n</table>\n</div>"
          },
          "metadata": {}
        }
      ]
    },
    {
      "cell_type": "code",
      "metadata": {
        "tags": [],
        "cell_id": "00007-c4cc36a2-303e-4830-8c61-862f297a3784",
        "deepnote_to_be_reexecuted": false,
        "source_hash": "1b0468d4",
        "execution_millis": 7,
        "execution_start": 1618103555074,
        "deepnote_cell_type": "code"
      },
      "source": "data_out.info()",
      "execution_count": 14,
      "outputs": [
        {
          "name": "stdout",
          "text": "<class 'pandas.core.frame.DataFrame'>\nRangeIndex: 222 entries, 0 to 221\nData columns (total 23 columns):\n #   Column        Non-Null Count  Dtype \n---  ------        --------------  ----- \n 0   Destinations  222 non-null    object\n 1   Region        222 non-null    object\n 2   Continent     222 non-null    object\n 3   1999/00       222 non-null    object\n 4   2000/01       222 non-null    object\n 5   2001/02       222 non-null    object\n 6   2002/03       222 non-null    object\n 7   2003/04       222 non-null    object\n 8   2004/05       222 non-null    object\n 9   2005/06       222 non-null    object\n 10  2006/07       222 non-null    object\n 11  2007/08       222 non-null    object\n 12  2008/09       222 non-null    object\n 13  2009/10       222 non-null    object\n 14  2010/11       222 non-null    object\n 15  2011/12       222 non-null    object\n 16  2012/13       222 non-null    object\n 17  2013/14       222 non-null    object\n 18  2014/15       222 non-null    object\n 19  2015/16       222 non-null    object\n 20  2016/17       222 non-null    object\n 21  2017/18       222 non-null    object\n 22  2018/19       222 non-null    object\ndtypes: object(23)\nmemory usage: 40.0+ KB\n",
          "output_type": "stream"
        }
      ]
    },
    {
      "cell_type": "code",
      "metadata": {
        "tags": [],
        "cell_id": "00008-dd6a06d7-d264-40d9-98cb-e369fef59e67",
        "deepnote_to_be_reexecuted": false,
        "source_hash": "70b5feb8",
        "execution_millis": 104,
        "execution_start": 1618103556056,
        "deepnote_cell_type": "code"
      },
      "source": "# data_out.head()\n\n# Rename columns\ndata_out_1 = data_out.rename(columns={'Destinations':'country',\n                                    'Region':'region',\n                                    'Continent':'continent',\n                                    '1999/00':'1999','2000/01':'2000','2001/02':'2001','2002/03':'2002',\n                                    '2003/04':'2003','2004/05':'2004','2005/06':'2005','2006/07':'2006',\n                                    '2007/08':'2007','2008/09':'2008','2009/10':'2009','2010/11':'2010',\n                                    '2011/12':'2011','2012/13':'2012','2013/14':'2013','2014/15':'2014',\n                                    '2015/16':'2015','2016/17':'2016','2017/18':'2017','2018/19':'2018'})\n\ndata_out_1 = data_out_1.drop(['region','continent'], axis=1)\n\n# data_out_1.set_index('country')\n\nall_years = ['1999','2000','2001','2002','2003','2004','2005','2006','2007','2008','2009','2010','2011','2012','2013','2014','2015','2016','2017','2018']\ndata_out_1[all_years] = data_out_1[all_years].replace(\"-\",\"0\")\ndata_out_1[all_years] = data_out_1[all_years].apply(pd.to_numeric, errors='coerce')\n\n\ndata_out_1.info()\ndata_out_1.head()\n",
      "execution_count": 15,
      "outputs": [
        {
          "name": "stdout",
          "text": "<class 'pandas.core.frame.DataFrame'>\nRangeIndex: 222 entries, 0 to 221\nData columns (total 21 columns):\n #   Column   Non-Null Count  Dtype \n---  ------   --------------  ----- \n 0   country  222 non-null    object\n 1   1999     222 non-null    int64 \n 2   2000     222 non-null    int64 \n 3   2001     222 non-null    int64 \n 4   2002     222 non-null    int64 \n 5   2003     222 non-null    int64 \n 6   2004     222 non-null    int64 \n 7   2005     222 non-null    int64 \n 8   2006     222 non-null    int64 \n 9   2007     222 non-null    int64 \n 10  2008     222 non-null    int64 \n 11  2009     222 non-null    int64 \n 12  2010     222 non-null    int64 \n 13  2011     222 non-null    int64 \n 14  2012     222 non-null    int64 \n 15  2013     222 non-null    int64 \n 16  2014     222 non-null    int64 \n 17  2015     222 non-null    int64 \n 18  2016     222 non-null    int64 \n 19  2017     222 non-null    int64 \n 20  2018     222 non-null    int64 \ndtypes: int64(20), object(1)\nmemory usage: 36.5+ KB\n",
          "output_type": "stream"
        },
        {
          "output_type": "execute_result",
          "execution_count": 15,
          "data": {
            "application/vnd.deepnote.dataframe.v2+json": {
              "row_count": 5,
              "column_count": 21,
              "columns": [
                {
                  "name": "country",
                  "dtype": "object",
                  "stats": {
                    "unique_count": 5,
                    "nan_count": 0,
                    "categories": [
                      {
                        "name": "Burundi",
                        "count": 1
                      },
                      {
                        "name": "Djibouti",
                        "count": 1
                      },
                      {
                        "name": "3 others",
                        "count": 3
                      }
                    ]
                  }
                },
                {
                  "name": "1999",
                  "dtype": "int64",
                  "stats": {
                    "unique_count": 2,
                    "nan_count": 0,
                    "min": 0,
                    "max": 695,
                    "histogram": [
                      {
                        "bin_start": 0,
                        "bin_end": 69.5,
                        "count": 4
                      },
                      {
                        "bin_start": 69.5,
                        "bin_end": 139,
                        "count": 0
                      },
                      {
                        "bin_start": 139,
                        "bin_end": 208.5,
                        "count": 0
                      },
                      {
                        "bin_start": 208.5,
                        "bin_end": 278,
                        "count": 0
                      },
                      {
                        "bin_start": 278,
                        "bin_end": 347.5,
                        "count": 0
                      },
                      {
                        "bin_start": 347.5,
                        "bin_end": 417,
                        "count": 0
                      },
                      {
                        "bin_start": 417,
                        "bin_end": 486.5,
                        "count": 0
                      },
                      {
                        "bin_start": 486.5,
                        "bin_end": 556,
                        "count": 0
                      },
                      {
                        "bin_start": 556,
                        "bin_end": 625.5,
                        "count": 0
                      },
                      {
                        "bin_start": 625.5,
                        "bin_end": 695,
                        "count": 1
                      }
                    ]
                  }
                },
                {
                  "name": "2000",
                  "dtype": "int64",
                  "stats": {
                    "unique_count": 4,
                    "nan_count": 0,
                    "min": 0,
                    "max": 846,
                    "histogram": [
                      {
                        "bin_start": 0,
                        "bin_end": 84.6,
                        "count": 4
                      },
                      {
                        "bin_start": 84.6,
                        "bin_end": 169.2,
                        "count": 0
                      },
                      {
                        "bin_start": 169.2,
                        "bin_end": 253.79999999999998,
                        "count": 0
                      },
                      {
                        "bin_start": 253.79999999999998,
                        "bin_end": 338.4,
                        "count": 0
                      },
                      {
                        "bin_start": 338.4,
                        "bin_end": 423,
                        "count": 0
                      },
                      {
                        "bin_start": 423,
                        "bin_end": 507.59999999999997,
                        "count": 0
                      },
                      {
                        "bin_start": 507.59999999999997,
                        "bin_end": 592.1999999999999,
                        "count": 0
                      },
                      {
                        "bin_start": 592.1999999999999,
                        "bin_end": 676.8,
                        "count": 0
                      },
                      {
                        "bin_start": 676.8,
                        "bin_end": 761.4,
                        "count": 0
                      },
                      {
                        "bin_start": 761.4,
                        "bin_end": 846,
                        "count": 1
                      }
                    ]
                  }
                },
                {
                  "name": "2001",
                  "dtype": "int64",
                  "stats": {
                    "unique_count": 3,
                    "nan_count": 0,
                    "min": 0,
                    "max": 720,
                    "histogram": [
                      {
                        "bin_start": 0,
                        "bin_end": 72,
                        "count": 4
                      },
                      {
                        "bin_start": 72,
                        "bin_end": 144,
                        "count": 0
                      },
                      {
                        "bin_start": 144,
                        "bin_end": 216,
                        "count": 0
                      },
                      {
                        "bin_start": 216,
                        "bin_end": 288,
                        "count": 0
                      },
                      {
                        "bin_start": 288,
                        "bin_end": 360,
                        "count": 0
                      },
                      {
                        "bin_start": 360,
                        "bin_end": 432,
                        "count": 0
                      },
                      {
                        "bin_start": 432,
                        "bin_end": 504,
                        "count": 0
                      },
                      {
                        "bin_start": 504,
                        "bin_end": 576,
                        "count": 0
                      },
                      {
                        "bin_start": 576,
                        "bin_end": 648,
                        "count": 0
                      },
                      {
                        "bin_start": 648,
                        "bin_end": 720,
                        "count": 1
                      }
                    ]
                  }
                },
                {
                  "name": "2002",
                  "dtype": "int64",
                  "stats": {
                    "unique_count": 4,
                    "nan_count": 0,
                    "min": 0,
                    "max": 625,
                    "histogram": [
                      {
                        "bin_start": 0,
                        "bin_end": 62.5,
                        "count": 4
                      },
                      {
                        "bin_start": 62.5,
                        "bin_end": 125,
                        "count": 0
                      },
                      {
                        "bin_start": 125,
                        "bin_end": 187.5,
                        "count": 0
                      },
                      {
                        "bin_start": 187.5,
                        "bin_end": 250,
                        "count": 0
                      },
                      {
                        "bin_start": 250,
                        "bin_end": 312.5,
                        "count": 0
                      },
                      {
                        "bin_start": 312.5,
                        "bin_end": 375,
                        "count": 0
                      },
                      {
                        "bin_start": 375,
                        "bin_end": 437.5,
                        "count": 0
                      },
                      {
                        "bin_start": 437.5,
                        "bin_end": 500,
                        "count": 0
                      },
                      {
                        "bin_start": 500,
                        "bin_end": 562.5,
                        "count": 0
                      },
                      {
                        "bin_start": 562.5,
                        "bin_end": 625,
                        "count": 1
                      }
                    ]
                  }
                },
                {
                  "name": "2003",
                  "dtype": "int64",
                  "stats": {
                    "unique_count": 4,
                    "nan_count": 0,
                    "min": 0,
                    "max": 387,
                    "histogram": [
                      {
                        "bin_start": 0,
                        "bin_end": 38.7,
                        "count": 4
                      },
                      {
                        "bin_start": 38.7,
                        "bin_end": 77.4,
                        "count": 0
                      },
                      {
                        "bin_start": 77.4,
                        "bin_end": 116.10000000000001,
                        "count": 0
                      },
                      {
                        "bin_start": 116.10000000000001,
                        "bin_end": 154.8,
                        "count": 0
                      },
                      {
                        "bin_start": 154.8,
                        "bin_end": 193.5,
                        "count": 0
                      },
                      {
                        "bin_start": 193.5,
                        "bin_end": 232.20000000000002,
                        "count": 0
                      },
                      {
                        "bin_start": 232.20000000000002,
                        "bin_end": 270.90000000000003,
                        "count": 0
                      },
                      {
                        "bin_start": 270.90000000000003,
                        "bin_end": 309.6,
                        "count": 0
                      },
                      {
                        "bin_start": 309.6,
                        "bin_end": 348.3,
                        "count": 0
                      },
                      {
                        "bin_start": 348.3,
                        "bin_end": 387,
                        "count": 1
                      }
                    ]
                  }
                },
                {
                  "name": "2004",
                  "dtype": "int64",
                  "stats": {
                    "unique_count": 5,
                    "nan_count": 0,
                    "min": 0,
                    "max": 661,
                    "histogram": [
                      {
                        "bin_start": 0,
                        "bin_end": 66.1,
                        "count": 4
                      },
                      {
                        "bin_start": 66.1,
                        "bin_end": 132.2,
                        "count": 0
                      },
                      {
                        "bin_start": 132.2,
                        "bin_end": 198.29999999999998,
                        "count": 0
                      },
                      {
                        "bin_start": 198.29999999999998,
                        "bin_end": 264.4,
                        "count": 0
                      },
                      {
                        "bin_start": 264.4,
                        "bin_end": 330.5,
                        "count": 0
                      },
                      {
                        "bin_start": 330.5,
                        "bin_end": 396.59999999999997,
                        "count": 0
                      },
                      {
                        "bin_start": 396.59999999999997,
                        "bin_end": 462.69999999999993,
                        "count": 0
                      },
                      {
                        "bin_start": 462.69999999999993,
                        "bin_end": 528.8,
                        "count": 0
                      },
                      {
                        "bin_start": 528.8,
                        "bin_end": 594.9,
                        "count": 0
                      },
                      {
                        "bin_start": 594.9,
                        "bin_end": 661,
                        "count": 1
                      }
                    ]
                  }
                },
                {
                  "name": "2005",
                  "dtype": "int64",
                  "stats": {
                    "unique_count": 4,
                    "nan_count": 0,
                    "min": 0,
                    "max": 694,
                    "histogram": [
                      {
                        "bin_start": 0,
                        "bin_end": 69.4,
                        "count": 4
                      },
                      {
                        "bin_start": 69.4,
                        "bin_end": 138.8,
                        "count": 0
                      },
                      {
                        "bin_start": 138.8,
                        "bin_end": 208.20000000000002,
                        "count": 0
                      },
                      {
                        "bin_start": 208.20000000000002,
                        "bin_end": 277.6,
                        "count": 0
                      },
                      {
                        "bin_start": 277.6,
                        "bin_end": 347,
                        "count": 0
                      },
                      {
                        "bin_start": 347,
                        "bin_end": 416.40000000000003,
                        "count": 0
                      },
                      {
                        "bin_start": 416.40000000000003,
                        "bin_end": 485.80000000000007,
                        "count": 0
                      },
                      {
                        "bin_start": 485.80000000000007,
                        "bin_end": 555.2,
                        "count": 0
                      },
                      {
                        "bin_start": 555.2,
                        "bin_end": 624.6,
                        "count": 0
                      },
                      {
                        "bin_start": 624.6,
                        "bin_end": 694,
                        "count": 1
                      }
                    ]
                  }
                },
                {
                  "name": "2006",
                  "dtype": "int64",
                  "stats": {
                    "unique_count": 4,
                    "nan_count": 0,
                    "min": 0,
                    "max": 686,
                    "histogram": [
                      {
                        "bin_start": 0,
                        "bin_end": 68.6,
                        "count": 3
                      },
                      {
                        "bin_start": 68.6,
                        "bin_end": 137.2,
                        "count": 1
                      },
                      {
                        "bin_start": 137.2,
                        "bin_end": 205.79999999999998,
                        "count": 0
                      },
                      {
                        "bin_start": 205.79999999999998,
                        "bin_end": 274.4,
                        "count": 0
                      },
                      {
                        "bin_start": 274.4,
                        "bin_end": 343,
                        "count": 0
                      },
                      {
                        "bin_start": 343,
                        "bin_end": 411.59999999999997,
                        "count": 0
                      },
                      {
                        "bin_start": 411.59999999999997,
                        "bin_end": 480.19999999999993,
                        "count": 0
                      },
                      {
                        "bin_start": 480.19999999999993,
                        "bin_end": 548.8,
                        "count": 0
                      },
                      {
                        "bin_start": 548.8,
                        "bin_end": 617.4,
                        "count": 0
                      },
                      {
                        "bin_start": 617.4,
                        "bin_end": 686,
                        "count": 1
                      }
                    ]
                  }
                },
                {
                  "name": "2007",
                  "dtype": "int64",
                  "stats": {
                    "unique_count": 3,
                    "nan_count": 0,
                    "min": 0,
                    "max": 657,
                    "histogram": [
                      {
                        "bin_start": 0,
                        "bin_end": 65.7,
                        "count": 3
                      },
                      {
                        "bin_start": 65.7,
                        "bin_end": 131.4,
                        "count": 1
                      },
                      {
                        "bin_start": 131.4,
                        "bin_end": 197.10000000000002,
                        "count": 0
                      },
                      {
                        "bin_start": 197.10000000000002,
                        "bin_end": 262.8,
                        "count": 0
                      },
                      {
                        "bin_start": 262.8,
                        "bin_end": 328.5,
                        "count": 0
                      },
                      {
                        "bin_start": 328.5,
                        "bin_end": 394.20000000000005,
                        "count": 0
                      },
                      {
                        "bin_start": 394.20000000000005,
                        "bin_end": 459.90000000000003,
                        "count": 0
                      },
                      {
                        "bin_start": 459.90000000000003,
                        "bin_end": 525.6,
                        "count": 0
                      },
                      {
                        "bin_start": 525.6,
                        "bin_end": 591.3000000000001,
                        "count": 0
                      },
                      {
                        "bin_start": 591.3000000000001,
                        "bin_end": 657,
                        "count": 1
                      }
                    ]
                  }
                },
                {
                  "name": "2008",
                  "dtype": "int64",
                  "stats": {
                    "unique_count": 4,
                    "nan_count": 0,
                    "min": 0,
                    "max": 881,
                    "histogram": [
                      {
                        "bin_start": 0,
                        "bin_end": 88.1,
                        "count": 3
                      },
                      {
                        "bin_start": 88.1,
                        "bin_end": 176.2,
                        "count": 1
                      },
                      {
                        "bin_start": 176.2,
                        "bin_end": 264.29999999999995,
                        "count": 0
                      },
                      {
                        "bin_start": 264.29999999999995,
                        "bin_end": 352.4,
                        "count": 0
                      },
                      {
                        "bin_start": 352.4,
                        "bin_end": 440.5,
                        "count": 0
                      },
                      {
                        "bin_start": 440.5,
                        "bin_end": 528.5999999999999,
                        "count": 0
                      },
                      {
                        "bin_start": 528.5999999999999,
                        "bin_end": 616.6999999999999,
                        "count": 0
                      },
                      {
                        "bin_start": 616.6999999999999,
                        "bin_end": 704.8,
                        "count": 0
                      },
                      {
                        "bin_start": 704.8,
                        "bin_end": 792.9,
                        "count": 0
                      },
                      {
                        "bin_start": 792.9,
                        "bin_end": 881,
                        "count": 1
                      }
                    ]
                  }
                },
                {
                  "name": "2009",
                  "dtype": "int64",
                  "stats": {
                    "unique_count": 5,
                    "nan_count": 0,
                    "min": 0,
                    "max": 1198,
                    "histogram": [
                      {
                        "bin_start": 0,
                        "bin_end": 119.8,
                        "count": 3
                      },
                      {
                        "bin_start": 119.8,
                        "bin_end": 239.6,
                        "count": 1
                      },
                      {
                        "bin_start": 239.6,
                        "bin_end": 359.4,
                        "count": 0
                      },
                      {
                        "bin_start": 359.4,
                        "bin_end": 479.2,
                        "count": 0
                      },
                      {
                        "bin_start": 479.2,
                        "bin_end": 599,
                        "count": 0
                      },
                      {
                        "bin_start": 599,
                        "bin_end": 718.8,
                        "count": 0
                      },
                      {
                        "bin_start": 718.8,
                        "bin_end": 838.6,
                        "count": 0
                      },
                      {
                        "bin_start": 838.6,
                        "bin_end": 958.4,
                        "count": 0
                      },
                      {
                        "bin_start": 958.4,
                        "bin_end": 1078.2,
                        "count": 0
                      },
                      {
                        "bin_start": 1078.2,
                        "bin_end": 1198,
                        "count": 1
                      }
                    ]
                  }
                },
                {
                  "name": "2010",
                  "dtype": "int64",
                  "stats": {
                    "unique_count": 5,
                    "nan_count": 0,
                    "min": 0,
                    "max": 1291,
                    "histogram": [
                      {
                        "bin_start": 0,
                        "bin_end": 129.1,
                        "count": 3
                      },
                      {
                        "bin_start": 129.1,
                        "bin_end": 258.2,
                        "count": 1
                      },
                      {
                        "bin_start": 258.2,
                        "bin_end": 387.29999999999995,
                        "count": 0
                      },
                      {
                        "bin_start": 387.29999999999995,
                        "bin_end": 516.4,
                        "count": 0
                      },
                      {
                        "bin_start": 516.4,
                        "bin_end": 645.5,
                        "count": 0
                      },
                      {
                        "bin_start": 645.5,
                        "bin_end": 774.5999999999999,
                        "count": 0
                      },
                      {
                        "bin_start": 774.5999999999999,
                        "bin_end": 903.6999999999999,
                        "count": 0
                      },
                      {
                        "bin_start": 903.6999999999999,
                        "bin_end": 1032.8,
                        "count": 0
                      },
                      {
                        "bin_start": 1032.8,
                        "bin_end": 1161.8999999999999,
                        "count": 0
                      },
                      {
                        "bin_start": 1161.8999999999999,
                        "bin_end": 1291,
                        "count": 1
                      }
                    ]
                  }
                },
                {
                  "name": "2011",
                  "dtype": "int64",
                  "stats": {
                    "unique_count": 5,
                    "nan_count": 0,
                    "min": 1,
                    "max": 1231,
                    "histogram": [
                      {
                        "bin_start": 1,
                        "bin_end": 124,
                        "count": 3
                      },
                      {
                        "bin_start": 124,
                        "bin_end": 247,
                        "count": 0
                      },
                      {
                        "bin_start": 247,
                        "bin_end": 370,
                        "count": 1
                      },
                      {
                        "bin_start": 370,
                        "bin_end": 493,
                        "count": 0
                      },
                      {
                        "bin_start": 493,
                        "bin_end": 616,
                        "count": 0
                      },
                      {
                        "bin_start": 616,
                        "bin_end": 739,
                        "count": 0
                      },
                      {
                        "bin_start": 739,
                        "bin_end": 862,
                        "count": 0
                      },
                      {
                        "bin_start": 862,
                        "bin_end": 985,
                        "count": 0
                      },
                      {
                        "bin_start": 985,
                        "bin_end": 1108,
                        "count": 0
                      },
                      {
                        "bin_start": 1108,
                        "bin_end": 1231,
                        "count": 1
                      }
                    ]
                  }
                },
                {
                  "name": "2012",
                  "dtype": "int64",
                  "stats": {
                    "unique_count": 4,
                    "nan_count": 0,
                    "min": 0,
                    "max": 1238,
                    "histogram": [
                      {
                        "bin_start": 0,
                        "bin_end": 123.8,
                        "count": 3
                      },
                      {
                        "bin_start": 123.8,
                        "bin_end": 247.6,
                        "count": 1
                      },
                      {
                        "bin_start": 247.6,
                        "bin_end": 371.4,
                        "count": 0
                      },
                      {
                        "bin_start": 371.4,
                        "bin_end": 495.2,
                        "count": 0
                      },
                      {
                        "bin_start": 495.2,
                        "bin_end": 619,
                        "count": 0
                      },
                      {
                        "bin_start": 619,
                        "bin_end": 742.8,
                        "count": 0
                      },
                      {
                        "bin_start": 742.8,
                        "bin_end": 866.6,
                        "count": 0
                      },
                      {
                        "bin_start": 866.6,
                        "bin_end": 990.4,
                        "count": 0
                      },
                      {
                        "bin_start": 990.4,
                        "bin_end": 1114.2,
                        "count": 0
                      },
                      {
                        "bin_start": 1114.2,
                        "bin_end": 1238,
                        "count": 1
                      }
                    ]
                  }
                },
                {
                  "name": "2013",
                  "dtype": "int64",
                  "stats": {
                    "unique_count": 3,
                    "nan_count": 0,
                    "min": 1,
                    "max": 1022,
                    "histogram": [
                      {
                        "bin_start": 1,
                        "bin_end": 103.1,
                        "count": 3
                      },
                      {
                        "bin_start": 103.1,
                        "bin_end": 205.2,
                        "count": 0
                      },
                      {
                        "bin_start": 205.2,
                        "bin_end": 307.29999999999995,
                        "count": 1
                      },
                      {
                        "bin_start": 307.29999999999995,
                        "bin_end": 409.4,
                        "count": 0
                      },
                      {
                        "bin_start": 409.4,
                        "bin_end": 511.5,
                        "count": 0
                      },
                      {
                        "bin_start": 511.5,
                        "bin_end": 613.5999999999999,
                        "count": 0
                      },
                      {
                        "bin_start": 613.5999999999999,
                        "bin_end": 715.6999999999999,
                        "count": 0
                      },
                      {
                        "bin_start": 715.6999999999999,
                        "bin_end": 817.8,
                        "count": 0
                      },
                      {
                        "bin_start": 817.8,
                        "bin_end": 919.9,
                        "count": 0
                      },
                      {
                        "bin_start": 919.9,
                        "bin_end": 1022,
                        "count": 1
                      }
                    ]
                  }
                },
                {
                  "name": "2014",
                  "dtype": "int64",
                  "stats": {
                    "unique_count": 4,
                    "nan_count": 0,
                    "min": 0,
                    "max": 634,
                    "histogram": [
                      {
                        "bin_start": 0,
                        "bin_end": 63.4,
                        "count": 3
                      },
                      {
                        "bin_start": 63.4,
                        "bin_end": 126.8,
                        "count": 0
                      },
                      {
                        "bin_start": 126.8,
                        "bin_end": 190.2,
                        "count": 0
                      },
                      {
                        "bin_start": 190.2,
                        "bin_end": 253.6,
                        "count": 0
                      },
                      {
                        "bin_start": 253.6,
                        "bin_end": 317,
                        "count": 1
                      },
                      {
                        "bin_start": 317,
                        "bin_end": 380.4,
                        "count": 0
                      },
                      {
                        "bin_start": 380.4,
                        "bin_end": 443.8,
                        "count": 0
                      },
                      {
                        "bin_start": 443.8,
                        "bin_end": 507.2,
                        "count": 0
                      },
                      {
                        "bin_start": 507.2,
                        "bin_end": 570.6,
                        "count": 0
                      },
                      {
                        "bin_start": 570.6,
                        "bin_end": 634,
                        "count": 1
                      }
                    ]
                  }
                },
                {
                  "name": "2015",
                  "dtype": "int64",
                  "stats": {
                    "unique_count": 4,
                    "nan_count": 0,
                    "min": 0,
                    "max": 681,
                    "histogram": [
                      {
                        "bin_start": 0,
                        "bin_end": 68.1,
                        "count": 3
                      },
                      {
                        "bin_start": 68.1,
                        "bin_end": 136.2,
                        "count": 0
                      },
                      {
                        "bin_start": 136.2,
                        "bin_end": 204.29999999999998,
                        "count": 0
                      },
                      {
                        "bin_start": 204.29999999999998,
                        "bin_end": 272.4,
                        "count": 0
                      },
                      {
                        "bin_start": 272.4,
                        "bin_end": 340.5,
                        "count": 1
                      },
                      {
                        "bin_start": 340.5,
                        "bin_end": 408.59999999999997,
                        "count": 0
                      },
                      {
                        "bin_start": 408.59999999999997,
                        "bin_end": 476.69999999999993,
                        "count": 0
                      },
                      {
                        "bin_start": 476.69999999999993,
                        "bin_end": 544.8,
                        "count": 0
                      },
                      {
                        "bin_start": 544.8,
                        "bin_end": 612.9,
                        "count": 0
                      },
                      {
                        "bin_start": 612.9,
                        "bin_end": 681,
                        "count": 1
                      }
                    ]
                  }
                },
                {
                  "name": "2016",
                  "dtype": "int64",
                  "stats": {
                    "unique_count": 5,
                    "nan_count": 0,
                    "min": 0,
                    "max": 778,
                    "histogram": [
                      {
                        "bin_start": 0,
                        "bin_end": 77.8,
                        "count": 4
                      },
                      {
                        "bin_start": 77.8,
                        "bin_end": 155.6,
                        "count": 0
                      },
                      {
                        "bin_start": 155.6,
                        "bin_end": 233.39999999999998,
                        "count": 0
                      },
                      {
                        "bin_start": 233.39999999999998,
                        "bin_end": 311.2,
                        "count": 0
                      },
                      {
                        "bin_start": 311.2,
                        "bin_end": 389,
                        "count": 0
                      },
                      {
                        "bin_start": 389,
                        "bin_end": 466.79999999999995,
                        "count": 0
                      },
                      {
                        "bin_start": 466.79999999999995,
                        "bin_end": 544.6,
                        "count": 0
                      },
                      {
                        "bin_start": 544.6,
                        "bin_end": 622.4,
                        "count": 0
                      },
                      {
                        "bin_start": 622.4,
                        "bin_end": 700.1999999999999,
                        "count": 0
                      },
                      {
                        "bin_start": 700.1999999999999,
                        "bin_end": 778,
                        "count": 1
                      }
                    ]
                  }
                },
                {
                  "name": "2017",
                  "dtype": "int64",
                  "stats": {
                    "unique_count": 3,
                    "nan_count": 0,
                    "min": 0,
                    "max": 927,
                    "histogram": [
                      {
                        "bin_start": 0,
                        "bin_end": 92.7,
                        "count": 3
                      },
                      {
                        "bin_start": 92.7,
                        "bin_end": 185.4,
                        "count": 0
                      },
                      {
                        "bin_start": 185.4,
                        "bin_end": 278.1,
                        "count": 1
                      },
                      {
                        "bin_start": 278.1,
                        "bin_end": 370.8,
                        "count": 0
                      },
                      {
                        "bin_start": 370.8,
                        "bin_end": 463.5,
                        "count": 0
                      },
                      {
                        "bin_start": 463.5,
                        "bin_end": 556.2,
                        "count": 0
                      },
                      {
                        "bin_start": 556.2,
                        "bin_end": 648.9,
                        "count": 0
                      },
                      {
                        "bin_start": 648.9,
                        "bin_end": 741.6,
                        "count": 0
                      },
                      {
                        "bin_start": 741.6,
                        "bin_end": 834.3000000000001,
                        "count": 0
                      },
                      {
                        "bin_start": 834.3000000000001,
                        "bin_end": 927,
                        "count": 1
                      }
                    ]
                  }
                },
                {
                  "name": "2018",
                  "dtype": "int64",
                  "stats": {
                    "unique_count": 4,
                    "nan_count": 0,
                    "min": 0,
                    "max": 926,
                    "histogram": [
                      {
                        "bin_start": 0,
                        "bin_end": 92.6,
                        "count": 3
                      },
                      {
                        "bin_start": 92.6,
                        "bin_end": 185.2,
                        "count": 0
                      },
                      {
                        "bin_start": 185.2,
                        "bin_end": 277.79999999999995,
                        "count": 1
                      },
                      {
                        "bin_start": 277.79999999999995,
                        "bin_end": 370.4,
                        "count": 0
                      },
                      {
                        "bin_start": 370.4,
                        "bin_end": 463,
                        "count": 0
                      },
                      {
                        "bin_start": 463,
                        "bin_end": 555.5999999999999,
                        "count": 0
                      },
                      {
                        "bin_start": 555.5999999999999,
                        "bin_end": 648.1999999999999,
                        "count": 0
                      },
                      {
                        "bin_start": 648.1999999999999,
                        "bin_end": 740.8,
                        "count": 0
                      },
                      {
                        "bin_start": 740.8,
                        "bin_end": 833.4,
                        "count": 0
                      },
                      {
                        "bin_start": 833.4,
                        "bin_end": 926,
                        "count": 1
                      }
                    ]
                  }
                },
                {
                  "name": "_deepnote_index_column",
                  "dtype": "int64"
                }
              ],
              "rows_top": [
                {
                  "1999": 0,
                  "2000": 0,
                  "2001": 0,
                  "2002": 0,
                  "2003": 0,
                  "2004": 1,
                  "2005": 0,
                  "2006": 1,
                  "2007": 0,
                  "2008": 0,
                  "2009": 0,
                  "2010": 2,
                  "2011": 9,
                  "2012": 0,
                  "2013": 1,
                  "2014": 2,
                  "2015": 0,
                  "2016": 11,
                  "2017": 0,
                  "2018": 0,
                  "country": "Burundi",
                  "_deepnote_index_column": 0
                },
                {
                  "1999": 0,
                  "2000": 0,
                  "2001": 0,
                  "2002": 0,
                  "2003": 0,
                  "2004": 0,
                  "2005": 0,
                  "2006": 0,
                  "2007": 0,
                  "2008": 0,
                  "2009": 23,
                  "2010": 1,
                  "2011": 4,
                  "2012": 1,
                  "2013": 1,
                  "2014": 0,
                  "2015": 0,
                  "2016": 0,
                  "2017": 0,
                  "2018": 0,
                  "country": "Djibouti",
                  "_deepnote_index_column": 1
                },
                {
                  "1999": 0,
                  "2000": 18,
                  "2001": 0,
                  "2002": 12,
                  "2003": 1,
                  "2004": 14,
                  "2005": 8,
                  "2006": 1,
                  "2007": 0,
                  "2008": 1,
                  "2009": 3,
                  "2010": 0,
                  "2011": 1,
                  "2012": 0,
                  "2013": 1,
                  "2014": 0,
                  "2015": 1,
                  "2016": 1,
                  "2017": 0,
                  "2018": 5,
                  "country": "Eritrea",
                  "_deepnote_index_column": 2
                },
                {
                  "1999": 0,
                  "2000": 12,
                  "2001": 30,
                  "2002": 26,
                  "2003": 26,
                  "2004": 33,
                  "2005": 56,
                  "2006": 84,
                  "2007": 115,
                  "2008": 133,
                  "2009": 191,
                  "2010": 147,
                  "2011": 267,
                  "2012": 231,
                  "2013": 235,
                  "2014": 261,
                  "2015": 302,
                  "2016": 73,
                  "2017": 207,
                  "2018": 249,
                  "country": "Ethiopia",
                  "_deepnote_index_column": 3
                },
                {
                  "1999": 695,
                  "2000": 846,
                  "2001": 720,
                  "2002": 625,
                  "2003": 387,
                  "2004": 661,
                  "2005": 694,
                  "2006": 686,
                  "2007": 657,
                  "2008": 881,
                  "2009": 1198,
                  "2010": 1291,
                  "2011": 1231,
                  "2012": 1238,
                  "2013": 1022,
                  "2014": 634,
                  "2015": 681,
                  "2016": 778,
                  "2017": 927,
                  "2018": 926,
                  "country": "Kenya",
                  "_deepnote_index_column": 4
                }
              ],
              "rows_bottom": null
            },
            "text/plain": "    country  1999  2000  2001  2002  2003  2004  2005  2006  2007  ...  2009  \\\n0   Burundi     0     0     0     0     0     1     0     1     0  ...     0   \n1  Djibouti     0     0     0     0     0     0     0     0     0  ...    23   \n2   Eritrea     0    18     0    12     1    14     8     1     0  ...     3   \n3  Ethiopia     0    12    30    26    26    33    56    84   115  ...   191   \n4     Kenya   695   846   720   625   387   661   694   686   657  ...  1198   \n\n   2010  2011  2012  2013  2014  2015  2016  2017  2018  \n0     2     9     0     1     2     0    11     0     0  \n1     1     4     1     1     0     0     0     0     0  \n2     0     1     0     1     0     1     1     0     5  \n3   147   267   231   235   261   302    73   207   249  \n4  1291  1231  1238  1022   634   681   778   927   926  \n\n[5 rows x 21 columns]",
            "text/html": "<div>\n<style scoped>\n    .dataframe tbody tr th:only-of-type {\n        vertical-align: middle;\n    }\n\n    .dataframe tbody tr th {\n        vertical-align: top;\n    }\n\n    .dataframe thead th {\n        text-align: right;\n    }\n</style>\n<table border=\"1\" class=\"dataframe\">\n  <thead>\n    <tr style=\"text-align: right;\">\n      <th></th>\n      <th>country</th>\n      <th>1999</th>\n      <th>2000</th>\n      <th>2001</th>\n      <th>2002</th>\n      <th>2003</th>\n      <th>2004</th>\n      <th>2005</th>\n      <th>2006</th>\n      <th>2007</th>\n      <th>...</th>\n      <th>2009</th>\n      <th>2010</th>\n      <th>2011</th>\n      <th>2012</th>\n      <th>2013</th>\n      <th>2014</th>\n      <th>2015</th>\n      <th>2016</th>\n      <th>2017</th>\n      <th>2018</th>\n    </tr>\n  </thead>\n  <tbody>\n    <tr>\n      <th>0</th>\n      <td>Burundi</td>\n      <td>0</td>\n      <td>0</td>\n      <td>0</td>\n      <td>0</td>\n      <td>0</td>\n      <td>1</td>\n      <td>0</td>\n      <td>1</td>\n      <td>0</td>\n      <td>...</td>\n      <td>0</td>\n      <td>2</td>\n      <td>9</td>\n      <td>0</td>\n      <td>1</td>\n      <td>2</td>\n      <td>0</td>\n      <td>11</td>\n      <td>0</td>\n      <td>0</td>\n    </tr>\n    <tr>\n      <th>1</th>\n      <td>Djibouti</td>\n      <td>0</td>\n      <td>0</td>\n      <td>0</td>\n      <td>0</td>\n      <td>0</td>\n      <td>0</td>\n      <td>0</td>\n      <td>0</td>\n      <td>0</td>\n      <td>...</td>\n      <td>23</td>\n      <td>1</td>\n      <td>4</td>\n      <td>1</td>\n      <td>1</td>\n      <td>0</td>\n      <td>0</td>\n      <td>0</td>\n      <td>0</td>\n      <td>0</td>\n    </tr>\n    <tr>\n      <th>2</th>\n      <td>Eritrea</td>\n      <td>0</td>\n      <td>18</td>\n      <td>0</td>\n      <td>12</td>\n      <td>1</td>\n      <td>14</td>\n      <td>8</td>\n      <td>1</td>\n      <td>0</td>\n      <td>...</td>\n      <td>3</td>\n      <td>0</td>\n      <td>1</td>\n      <td>0</td>\n      <td>1</td>\n      <td>0</td>\n      <td>1</td>\n      <td>1</td>\n      <td>0</td>\n      <td>5</td>\n    </tr>\n    <tr>\n      <th>3</th>\n      <td>Ethiopia</td>\n      <td>0</td>\n      <td>12</td>\n      <td>30</td>\n      <td>26</td>\n      <td>26</td>\n      <td>33</td>\n      <td>56</td>\n      <td>84</td>\n      <td>115</td>\n      <td>...</td>\n      <td>191</td>\n      <td>147</td>\n      <td>267</td>\n      <td>231</td>\n      <td>235</td>\n      <td>261</td>\n      <td>302</td>\n      <td>73</td>\n      <td>207</td>\n      <td>249</td>\n    </tr>\n    <tr>\n      <th>4</th>\n      <td>Kenya</td>\n      <td>695</td>\n      <td>846</td>\n      <td>720</td>\n      <td>625</td>\n      <td>387</td>\n      <td>661</td>\n      <td>694</td>\n      <td>686</td>\n      <td>657</td>\n      <td>...</td>\n      <td>1198</td>\n      <td>1291</td>\n      <td>1231</td>\n      <td>1238</td>\n      <td>1022</td>\n      <td>634</td>\n      <td>681</td>\n      <td>778</td>\n      <td>927</td>\n      <td>926</td>\n    </tr>\n  </tbody>\n</table>\n<p>5 rows × 21 columns</p>\n</div>"
          },
          "metadata": {}
        }
      ]
    },
    {
      "cell_type": "markdown",
      "source": "# VIZ",
      "metadata": {
        "tags": [],
        "cell_id": "00010-8ae97c53-7bbc-4fa7-ae45-7eccbc4d4df1",
        "deepnote_cell_type": "markdown"
      }
    },
    {
      "cell_type": "markdown",
      "source": "## Incoming students over time",
      "metadata": {
        "tags": [],
        "cell_id": "00011-43d99192-27a9-4be4-96cc-b32ec8a0dc03",
        "deepnote_cell_type": "markdown"
      }
    },
    {
      "cell_type": "code",
      "metadata": {
        "tags": [],
        "cell_id": "00010-e6da3210-70ce-468b-97ad-90793e44b738",
        "deepnote_to_be_reexecuted": false,
        "source_hash": "bdfc98f4",
        "execution_millis": 239,
        "execution_start": 1618091333215,
        "deepnote_cell_type": "code"
      },
      "source": "\ndat_vz_incoming = data_in_1[['country','intStdnts','year']].query('intStdnts >= 1000')\n# dat_vz_incoming.info()\n\ntable_i = dat_vz_incoming.pivot_table(index='year', columns='country', values='intStdnts').reset_index()\n# table.head()\n# print(table)\n\nfig = px.line(table_i,x='year', y=table_i.columns[:])\nfig.show()",
      "execution_count": null,
      "outputs": [
        {
          "data": {
            "text/html": "<html>\n<head><meta charset=\"utf-8\" /></head>\n<body>\n    <div>            <script src=\"https://cdnjs.cloudflare.com/ajax/libs/mathjax/2.7.5/MathJax.js?config=TeX-AMS-MML_SVG\"></script><script type=\"text/javascript\">if (window.MathJax) {MathJax.Hub.Config({SVG: {font: \"STIX-Web\"}});}</script>                <script type=\"text/javascript\">window.PlotlyConfig = {MathJaxConfig: 'local'};</script>\n        <script src=\"https://cdn.plot.ly/plotly-latest.min.js\"></script>                <div id=\"0e5e9ce5-a2af-470f-9e34-e074eee4b44f\" class=\"plotly-graph-div\" style=\"height:525px; width:100%;\"></div>            <script type=\"text/javascript\">                                    window.PLOTLYENV=window.PLOTLYENV || {};                                    if (document.getElementById(\"0e5e9ce5-a2af-470f-9e34-e074eee4b44f\")) {                    Plotly.newPlot(                        \"0e5e9ce5-a2af-470f-9e34-e074eee4b44f\",                        [{\"hovertemplate\": \"variable=Bangladesh<br>year=%{x}<br>value=%{y}<extra></extra>\", \"legendgroup\": \"Bangladesh\", \"line\": {\"color\": \"#636efa\", \"dash\": \"solid\"}, \"mode\": \"lines\", \"name\": \"Bangladesh\", \"orientation\": \"v\", \"showlegend\": true, \"type\": \"scatter\", \"x\": [2000, 2001, 2002, 2003, 2004, 2005, 2006, 2007, 2008, 2009, 2010, 2011, 2012, 2013, 2014, 2015, 2016, 2017, 2018, 2019], \"xaxis\": \"x\", \"y\": [null, null, null, null, null, null, null, null, null, null, null, null, null, null, null, null, 7143.0, 7496.0, 8249.0, 8838.0], \"yaxis\": \"y\"}, {\"hovertemplate\": \"variable=Brazil<br>year=%{x}<br>value=%{y}<extra></extra>\", \"legendgroup\": \"Brazil\", \"line\": {\"color\": \"#EF553B\", \"dash\": \"solid\"}, \"mode\": \"lines\", \"name\": \"Brazil\", \"orientation\": \"v\", \"showlegend\": true, \"type\": \"scatter\", \"x\": [2000, 2001, 2002, 2003, 2004, 2005, 2006, 2007, 2008, 2009, 2010, 2011, 2012, 2013, 2014, 2015, 2016, 2017, 2018, 2019], \"xaxis\": \"x\", \"y\": [8846.0, 8972.0, 8388.0, 7799.0, 7244.0, 7009.0, 7126.0, 7578.0, 8767.0, 8786.0, 8777.0, 9029.0, 10868.0, 13286.0, 23675.0, 19370.0, 13089.0, 14620.0, 16059.0, 16671.0], \"yaxis\": \"y\"}, {\"hovertemplate\": \"variable=Canada<br>year=%{x}<br>value=%{y}<extra></extra>\", \"legendgroup\": \"Canada\", \"line\": {\"color\": \"#00cc96\", \"dash\": \"solid\"}, \"mode\": \"lines\", \"name\": \"Canada\", \"orientation\": \"v\", \"showlegend\": true, \"type\": \"scatter\", \"x\": [2000, 2001, 2002, 2003, 2004, 2005, 2006, 2007, 2008, 2009, 2010, 2011, 2012, 2013, 2014, 2015, 2016, 2017, 2018, 2019], \"xaxis\": \"x\", \"y\": [25279.0, 26514.0, 26513.0, 27017.0, 28140.0, 28202.0, 28280.0, 29051.0, 29697.0, 28145.0, 27546.0, 26821.0, 27357.0, 28304.0, 27240.0, 26973.0, 27065.0, 25909.0, 26122.0, 25992.0], \"yaxis\": \"y\"}, {\"hovertemplate\": \"variable=China<br>year=%{x}<br>value=%{y}<extra></extra>\", \"legendgroup\": \"China\", \"line\": {\"color\": \"#ab63fa\", \"dash\": \"solid\"}, \"mode\": \"lines\", \"name\": \"China\", \"orientation\": \"v\", \"showlegend\": true, \"type\": \"scatter\", \"x\": [2000, 2001, 2002, 2003, 2004, 2005, 2006, 2007, 2008, 2009, 2010, 2011, 2012, 2013, 2014, 2015, 2016, 2017, 2018, 2019], \"xaxis\": \"x\", \"y\": [59939.0, 63211.0, 64757.0, 61765.0, 62523.0, 62582.0, 67723.0, 81127.0, 98235.0, 127628.0, 157558.0, 194029.0, 235597.0, 274439.0, 304040.0, 328547.0, 350755.0, 363341.0, 369548.0, 372532.0], \"yaxis\": \"y\"}, {\"hovertemplate\": \"variable=Colombia<br>year=%{x}<br>value=%{y}<extra></extra>\", \"legendgroup\": \"Colombia\", \"line\": {\"color\": \"#FFA15A\", \"dash\": \"solid\"}, \"mode\": \"lines\", \"name\": \"Colombia\", \"orientation\": \"v\", \"showlegend\": true, \"type\": \"scatter\", \"x\": [2000, 2001, 2002, 2003, 2004, 2005, 2006, 2007, 2008, 2009, 2010, 2011, 2012, 2013, 2014, 2015, 2016, 2017, 2018, 2019], \"xaxis\": \"x\", \"y\": [6765.0, 8068.0, 7771.0, 7533.0, 7334.0, 6835.0, 6750.0, 6662.0, 7013.0, 6920.0, 6456.0, 6295.0, 6543.0, 7083.0, 7169.0, 7815.0, 7982.0, 7976.0, 8060.0, 7787.0], \"yaxis\": \"y\"}, {\"hovertemplate\": \"variable=France<br>year=%{x}<br>value=%{y}<extra></extra>\", \"legendgroup\": \"France\", \"line\": {\"color\": \"#19d3f3\", \"dash\": \"solid\"}, \"mode\": \"lines\", \"name\": \"France\", \"orientation\": \"v\", \"showlegend\": true, \"type\": \"scatter\", \"x\": [2000, 2001, 2002, 2003, 2004, 2005, 2006, 2007, 2008, 2009, 2010, 2011, 2012, 2013, 2014, 2015, 2016, 2017, 2018, 2019], \"xaxis\": \"x\", \"y\": [7273.0, 7401.0, 7223.0, 6818.0, 6555.0, 6640.0, 6704.0, 7050.0, 7421.0, 7716.0, 8098.0, 8232.0, 8297.0, 8302.0, 8743.0, 8764.0, 8814.0, 8802.0, 8716.0, 8471.0], \"yaxis\": \"y\"}, {\"hovertemplate\": \"variable=Germany<br>year=%{x}<br>value=%{y}<extra></extra>\", \"legendgroup\": \"Germany\", \"line\": {\"color\": \"#FF6692\", \"dash\": \"solid\"}, \"mode\": \"lines\", \"name\": \"Germany\", \"orientation\": \"v\", \"showlegend\": true, \"type\": \"scatter\", \"x\": [2000, 2001, 2002, 2003, 2004, 2005, 2006, 2007, 2008, 2009, 2010, 2011, 2012, 2013, 2014, 2015, 2016, 2017, 2018, 2019], \"xaxis\": \"x\", \"y\": [10128.0, 9613.0, 9302.0, 8745.0, 8640.0, 8829.0, 8656.0, 8907.0, 9679.0, 9548.0, 9458.0, 9347.0, 9819.0, 10160.0, 10193.0, 10145.0, 10169.0, 10042.0, 9191.0, 9242.0], \"yaxis\": \"y\"}, {\"hovertemplate\": \"variable=Hong Kong<br>year=%{x}<br>value=%{y}<extra></extra>\", \"legendgroup\": \"Hong Kong\", \"line\": {\"color\": \"#B6E880\", \"dash\": \"solid\"}, \"mode\": \"lines\", \"name\": \"Hong Kong\", \"orientation\": \"v\", \"showlegend\": true, \"type\": \"scatter\", \"x\": [2000, 2001, 2002, 2003, 2004, 2005, 2006, 2007, 2008, 2009, 2010, 2011, 2012, 2013, 2014, 2015, 2016, 2017, 2018, 2019], \"xaxis\": \"x\", \"y\": [7627.0, 7757.0, 8076.0, 7353.0, 7180.0, 7849.0, 7722.0, 8286.0, 8329.0, 8034.0, 8136.0, 8032.0, 8026.0, 8104.0, 8012.0, 7923.0, 7547.0, null, null, null], \"yaxis\": \"y\"}, {\"hovertemplate\": \"variable=India<br>year=%{x}<br>value=%{y}<extra></extra>\", \"legendgroup\": \"India\", \"line\": {\"color\": \"#FF97FF\", \"dash\": \"solid\"}, \"mode\": \"lines\", \"name\": \"India\", \"orientation\": \"v\", \"showlegend\": true, \"type\": \"scatter\", \"x\": [2000, 2001, 2002, 2003, 2004, 2005, 2006, 2007, 2008, 2009, 2010, 2011, 2012, 2013, 2014, 2015, 2016, 2017, 2018, 2019], \"xaxis\": \"x\", \"y\": [54664.0, 66836.0, 74603.0, 79736.0, 80466.0, 76503.0, 83833.0, 94563.0, 103260.0, 104897.0, 103895.0, 100270.0, 96754.0, 102673.0, 132888.0, 165918.0, 186267.0, 196271.0, 202014.0, 193124.0], \"yaxis\": \"y\"}, {\"hovertemplate\": \"variable=Indonesia<br>year=%{x}<br>value=%{y}<extra></extra>\", \"legendgroup\": \"Indonesia\", \"line\": {\"color\": \"#FECB52\", \"dash\": \"solid\"}, \"mode\": \"lines\", \"name\": \"Indonesia\", \"orientation\": \"v\", \"showlegend\": true, \"type\": \"scatter\", \"x\": [2000, 2001, 2002, 2003, 2004, 2005, 2006, 2007, 2008, 2009, 2010, 2011, 2012, 2013, 2014, 2015, 2016, 2017, 2018, 2019], \"xaxis\": \"x\", \"y\": [11625.0, 11614.0, 10432.0, 8880.0, 7760.0, 7575.0, 7338.0, 7692.0, 7509.0, 6943.0, 6942.0, 7131.0, 7670.0, 7920.0, 8188.0, 8727.0, 8776.0, 8650.0, 8356.0, 8300.0], \"yaxis\": \"y\"}, {\"hovertemplate\": \"variable=Iran<br>year=%{x}<br>value=%{y}<extra></extra>\", \"legendgroup\": \"Iran\", \"line\": {\"color\": \"#636efa\", \"dash\": \"solid\"}, \"mode\": \"lines\", \"name\": \"Iran\", \"orientation\": \"v\", \"showlegend\": true, \"type\": \"scatter\", \"x\": [2000, 2001, 2002, 2003, 2004, 2005, 2006, 2007, 2008, 2009, 2010, 2011, 2012, 2013, 2014, 2015, 2016, 2017, 2018, 2019], \"xaxis\": \"x\", \"y\": [null, null, null, null, null, null, null, null, null, null, 5626.0, 6982.0, 8744.0, 10194.0, 11338.0, 12269.0, 12643.0, 12783.0, 12142.0, 11451.0], \"yaxis\": \"y\"}, {\"hovertemplate\": \"variable=Jamaica<br>year=%{x}<br>value=%{y}<extra></extra>\", \"legendgroup\": \"Jamaica\", \"line\": {\"color\": \"#EF553B\", \"dash\": \"solid\"}, \"mode\": \"lines\", \"name\": \"Jamaica\", \"orientation\": \"v\", \"showlegend\": true, \"type\": \"scatter\", \"x\": [2000, 2001, 2002, 2003, 2004, 2005, 2006, 2007, 2008, 2009, 2010, 2011, 2012, 2013, 2014, 2015, 2016, 2017, 2018, 2019], \"xaxis\": \"x\", \"y\": [4225.0, 4286.0, 4723.0, 4994.0, 4368.0, 4166.0, null, null, null, null, null, null, null, null, null, null, null, null, null, null], \"yaxis\": \"y\"}, {\"hovertemplate\": \"variable=Japan<br>year=%{x}<br>value=%{y}<extra></extra>\", \"legendgroup\": \"Japan\", \"line\": {\"color\": \"#00cc96\", \"dash\": \"solid\"}, \"mode\": \"lines\", \"name\": \"Japan\", \"orientation\": \"v\", \"showlegend\": true, \"type\": \"scatter\", \"x\": [2000, 2001, 2002, 2003, 2004, 2005, 2006, 2007, 2008, 2009, 2010, 2011, 2012, 2013, 2014, 2015, 2016, 2017, 2018, 2019], \"xaxis\": \"x\", \"y\": [46497.0, 46810.0, 45960.0, 40835.0, 42215.0, 38712.0, 35282.0, 33974.0, 29264.0, 24842.0, 21290.0, 19966.0, 19568.0, 19334.0, 19064.0, 19060.0, 18780.0, 18753.0, 18105.0, 17554.0], \"yaxis\": \"y\"}, {\"hovertemplate\": \"variable=Kenya<br>year=%{x}<br>value=%{y}<extra></extra>\", \"legendgroup\": \"Kenya\", \"line\": {\"color\": \"#ab63fa\", \"dash\": \"solid\"}, \"mode\": \"lines\", \"name\": \"Kenya\", \"orientation\": \"v\", \"showlegend\": true, \"type\": \"scatter\", \"x\": [2000, 2001, 2002, 2003, 2004, 2005, 2006, 2007, 2008, 2009, 2010, 2011, 2012, 2013, 2014, 2015, 2016, 2017, 2018, 2019], \"xaxis\": \"x\", \"y\": [6229.0, 7097.0, 7862.0, 7381.0, 6728.0, 6559.0, 6349.0, 5838.0, 5877.0, 5384.0, null, null, null, null, null, null, null, null, null, null], \"yaxis\": \"y\"}, {\"hovertemplate\": \"variable=Kuwait<br>year=%{x}<br>value=%{y}<extra></extra>\", \"legendgroup\": \"Kuwait\", \"line\": {\"color\": \"#FFA15A\", \"dash\": \"solid\"}, \"mode\": \"lines\", \"name\": \"Kuwait\", \"orientation\": \"v\", \"showlegend\": true, \"type\": \"scatter\", \"x\": [2000, 2001, 2002, 2003, 2004, 2005, 2006, 2007, 2008, 2009, 2010, 2011, 2012, 2013, 2014, 2015, 2016, 2017, 2018, 2019], \"xaxis\": \"x\", \"y\": [null, null, null, null, null, null, null, null, null, null, null, null, 5115.0, 7288.0, 9034.0, 9772.0, 9825.0, 10190.0, 9195.0, 8375.0], \"yaxis\": \"y\"}, {\"hovertemplate\": \"variable=Malaysia<br>year=%{x}<br>value=%{y}<extra></extra>\", \"legendgroup\": \"Malaysia\", \"line\": {\"color\": \"#19d3f3\", \"dash\": \"solid\"}, \"mode\": \"lines\", \"name\": \"Malaysia\", \"orientation\": \"v\", \"showlegend\": true, \"type\": \"scatter\", \"x\": [2000, 2001, 2002, 2003, 2004, 2005, 2006, 2007, 2008, 2009, 2010, 2011, 2012, 2013, 2014, 2015, 2016, 2017, 2018, 2019], \"xaxis\": \"x\", \"y\": [7795.0, 7395.0, 6595.0, 6483.0, 6142.0, 5515.0, 5281.0, 5428.0, 5942.0, 6190.0, 6735.0, 6743.0, 6791.0, 6822.0, 7231.0, 7834.0, 8247.0, 8271.0, 7709.0, 6910.0], \"yaxis\": \"y\"}, {\"hovertemplate\": \"variable=Mexico<br>year=%{x}<br>value=%{y}<extra></extra>\", \"legendgroup\": \"Mexico\", \"line\": {\"color\": \"#FF6692\", \"dash\": \"solid\"}, \"mode\": \"lines\", \"name\": \"Mexico\", \"orientation\": \"v\", \"showlegend\": true, \"type\": \"scatter\", \"x\": [2000, 2001, 2002, 2003, 2004, 2005, 2006, 2007, 2008, 2009, 2010, 2011, 2012, 2013, 2014, 2015, 2016, 2017, 2018, 2019], \"xaxis\": \"x\", \"y\": [10670.0, 12518.0, 12801.0, 13329.0, 13063.0, 13931.0, 13826.0, 14837.0, 14850.0, 13450.0, 13713.0, 13893.0, 14199.0, 14779.0, 17052.0, 16733.0, 16835.0, 15468.0, 15229.0, 14348.0], \"yaxis\": \"y\"}, {\"hovertemplate\": \"variable=Nepal<br>year=%{x}<br>value=%{y}<extra></extra>\", \"legendgroup\": \"Nepal\", \"line\": {\"color\": \"#B6E880\", \"dash\": \"solid\"}, \"mode\": \"lines\", \"name\": \"Nepal\", \"orientation\": \"v\", \"showlegend\": true, \"type\": \"scatter\", \"x\": [2000, 2001, 2002, 2003, 2004, 2005, 2006, 2007, 2008, 2009, 2010, 2011, 2012, 2013, 2014, 2015, 2016, 2017, 2018, 2019], \"xaxis\": \"x\", \"y\": [null, null, null, 4384.0, 4861.0, 6061.0, 7754.0, 8936.0, 11581.0, 11233.0, 10301.0, 9621.0, 8920.0, 8155.0, 8158.0, 9662.0, 11607.0, 13270.0, 13229.0, 12730.0], \"yaxis\": \"y\"}, {\"hovertemplate\": \"variable=Nigeria<br>year=%{x}<br>value=%{y}<extra></extra>\", \"legendgroup\": \"Nigeria\", \"line\": {\"color\": \"#FF97FF\", \"dash\": \"solid\"}, \"mode\": \"lines\", \"name\": \"Nigeria\", \"orientation\": \"v\", \"showlegend\": true, \"type\": \"scatter\", \"x\": [2000, 2001, 2002, 2003, 2004, 2005, 2006, 2007, 2008, 2009, 2010, 2011, 2012, 2013, 2014, 2015, 2016, 2017, 2018, 2019], \"xaxis\": \"x\", \"y\": [null, 4499.0, 5816.0, 6140.0, 6335.0, 6192.0, 5943.0, 6222.0, 6256.0, 6568.0, 7148.0, 7028.0, 7316.0, 7921.0, 9494.0, 10674.0, 11710.0, 12693.0, 13423.0, 13762.0], \"yaxis\": \"y\"}, {\"hovertemplate\": \"variable=Pakistan<br>year=%{x}<br>value=%{y}<extra></extra>\", \"legendgroup\": \"Pakistan\", \"line\": {\"color\": \"#FECB52\", \"dash\": \"solid\"}, \"mode\": \"lines\", \"name\": \"Pakistan\", \"orientation\": \"v\", \"showlegend\": true, \"type\": \"scatter\", \"x\": [2000, 2001, 2002, 2003, 2004, 2005, 2006, 2007, 2008, 2009, 2010, 2011, 2012, 2013, 2014, 2015, 2016, 2017, 2018, 2019], \"xaxis\": \"x\", \"y\": [6948.0, 8644.0, 8123.0, 7325.0, 6296.0, 5759.0, 5401.0, 5345.0, 5298.0, 5222.0, 5045.0, null, null, null, null, null, null, 7537.0, 7957.0, 7939.0], \"yaxis\": \"y\"}, {\"hovertemplate\": \"variable=Russia<br>year=%{x}<br>value=%{y}<extra></extra>\", \"legendgroup\": \"Russia\", \"line\": {\"color\": \"#636efa\", \"dash\": \"solid\"}, \"mode\": \"lines\", \"name\": \"Russia\", \"orientation\": \"v\", \"showlegend\": true, \"type\": \"scatter\", \"x\": [2000, 2001, 2002, 2003, 2004, 2005, 2006, 2007, 2008, 2009, 2010, 2011, 2012, 2013, 2014, 2015, 2016, 2017, 2018, 2019], \"xaxis\": \"x\", \"y\": [6858.0, 6643.0, 6238.0, 5532.0, 5073.0, 4801.0, 4751.0, 4906.0, 4908.0, 4827.0, 4692.0, 4805.0, null, null, null, null, null, null, null, null], \"yaxis\": \"y\"}, {\"hovertemplate\": \"variable=Saudi Arabia<br>year=%{x}<br>value=%{y}<extra></extra>\", \"legendgroup\": \"Saudi Arabia\", \"line\": {\"color\": \"#EF553B\", \"dash\": \"solid\"}, \"mode\": \"lines\", \"name\": \"Saudi Arabia\", \"orientation\": \"v\", \"showlegend\": true, \"type\": \"scatter\", \"x\": [2000, 2001, 2002, 2003, 2004, 2005, 2006, 2007, 2008, 2009, 2010, 2011, 2012, 2013, 2014, 2015, 2016, 2017, 2018, 2019], \"xaxis\": \"x\", \"y\": [5273.0, 5579.0, 4175.0, null, null, null, 7886.0, 9873.0, 12661.0, 15810.0, 22704.0, 34139.0, 44566.0, 53919.0, 59945.0, 61287.0, 52611.0, 44432.0, 37080.0, 30957.0], \"yaxis\": \"y\"}, {\"hovertemplate\": \"variable=Singapore<br>year=%{x}<br>value=%{y}<extra></extra>\", \"legendgroup\": \"Singapore\", \"line\": {\"color\": \"#00cc96\", \"dash\": \"solid\"}, \"mode\": \"lines\", \"name\": \"Singapore\", \"orientation\": \"v\", \"showlegend\": true, \"type\": \"scatter\", \"x\": [2000, 2001, 2002, 2003, 2004, 2005, 2006, 2007, 2008, 2009, 2010, 2011, 2012, 2013, 2014, 2015, 2016, 2017, 2018, 2019], \"xaxis\": \"x\", \"y\": [4166.0, null, 4189.0, 3955.0, 3769.0, null, null, null, null, null, null, null, null, null, null, null, null, null, null, null], \"yaxis\": \"y\"}, {\"hovertemplate\": \"variable=South Korea<br>year=%{x}<br>value=%{y}<extra></extra>\", \"legendgroup\": \"South Korea\", \"line\": {\"color\": \"#ab63fa\", \"dash\": \"solid\"}, \"mode\": \"lines\", \"name\": \"South Korea\", \"orientation\": \"v\", \"showlegend\": true, \"type\": \"scatter\", \"x\": [2000, 2001, 2002, 2003, 2004, 2005, 2006, 2007, 2008, 2009, 2010, 2011, 2012, 2013, 2014, 2015, 2016, 2017, 2018, 2019], \"xaxis\": \"x\", \"y\": [45685.0, 49046.0, 51519.0, 52484.0, 53358.0, 59022.0, 62392.0, 69124.0, 75065.0, 72153.0, 73351.0, 72295.0, 70627.0, 68047.0, 63710.0, 61007.0, 58663.0, 54555.0, 52250.0, 49809.0], \"yaxis\": \"y\"}, {\"hovertemplate\": \"variable=Spain<br>year=%{x}<br>value=%{y}<extra></extra>\", \"legendgroup\": \"Spain\", \"line\": {\"color\": \"#FFA15A\", \"dash\": \"solid\"}, \"mode\": \"lines\", \"name\": \"Spain\", \"orientation\": \"v\", \"showlegend\": true, \"type\": \"scatter\", \"x\": [2000, 2001, 2002, 2003, 2004, 2005, 2006, 2007, 2008, 2009, 2010, 2011, 2012, 2013, 2014, 2015, 2016, 2017, 2018, 2019], \"xaxis\": \"x\", \"y\": [null, null, null, null, null, null, null, null, null, null, null, 4924.0, 5033.0, 5350.0, 6143.0, 6640.0, 7164.0, 7489.0, 7262.0, 7954.0], \"yaxis\": \"y\"}, {\"hovertemplate\": \"variable=Sweden<br>year=%{x}<br>value=%{y}<extra></extra>\", \"legendgroup\": \"Sweden\", \"line\": {\"color\": \"#19d3f3\", \"dash\": \"solid\"}, \"mode\": \"lines\", \"name\": \"Sweden\", \"orientation\": \"v\", \"showlegend\": true, \"type\": \"scatter\", \"x\": [2000, 2001, 2002, 2003, 2004, 2005, 2006, 2007, 2008, 2009, 2010, 2011, 2012, 2013, 2014, 2015, 2016, 2017, 2018, 2019], \"xaxis\": \"x\", \"y\": [4598.0, null, null, null, null, null, null, null, null, null, null, null, null, null, null, null, null, null, null, null], \"yaxis\": \"y\"}, {\"hovertemplate\": \"variable=Taiwan<br>year=%{x}<br>value=%{y}<extra></extra>\", \"legendgroup\": \"Taiwan\", \"line\": {\"color\": \"#FF6692\", \"dash\": \"solid\"}, \"mode\": \"lines\", \"name\": \"Taiwan\", \"orientation\": \"v\", \"showlegend\": true, \"type\": \"scatter\", \"x\": [2000, 2001, 2002, 2003, 2004, 2005, 2006, 2007, 2008, 2009, 2010, 2011, 2012, 2013, 2014, 2015, 2016, 2017, 2018, 2019], \"xaxis\": \"x\", \"y\": [28566.0, 28930.0, 28017.0, 26178.0, 25914.0, 27876.0, 29094.0, 29001.0, 28065.0, 26685.0, 24818.0, 23250.0, 21867.0, 21266.0, 20993.0, 21127.0, 21516.0, 22454.0, 23369.0, 23724.0], \"yaxis\": \"y\"}, {\"hovertemplate\": \"variable=Thailand<br>year=%{x}<br>value=%{y}<extra></extra>\", \"legendgroup\": \"Thailand\", \"line\": {\"color\": \"#B6E880\", \"dash\": \"solid\"}, \"mode\": \"lines\", \"name\": \"Thailand\", \"orientation\": \"v\", \"showlegend\": true, \"type\": \"scatter\", \"x\": [2000, 2001, 2002, 2003, 2004, 2005, 2006, 2007, 2008, 2009, 2010, 2011, 2012, 2013, 2014, 2015, 2016, 2017, 2018, 2019], \"xaxis\": \"x\", \"y\": [11187.0, 11606.0, 9982.0, 8937.0, 8637.0, 8765.0, 8886.0, 9004.0, 8736.0, 8531.0, 8236.0, 7626.0, 7314.0, 7341.0, 7217.0, 7113.0, null, null, null, null], \"yaxis\": \"y\"}, {\"hovertemplate\": \"variable=Turkey<br>year=%{x}<br>value=%{y}<extra></extra>\", \"legendgroup\": \"Turkey\", \"line\": {\"color\": \"#FF97FF\", \"dash\": \"solid\"}, \"mode\": \"lines\", \"name\": \"Turkey\", \"orientation\": \"v\", \"showlegend\": true, \"type\": \"scatter\", \"x\": [2000, 2001, 2002, 2003, 2004, 2005, 2006, 2007, 2008, 2009, 2010, 2011, 2012, 2013, 2014, 2015, 2016, 2017, 2018, 2019], \"xaxis\": \"x\", \"y\": [10983.0, 12091.0, 11601.0, 11398.0, 12474.0, 11622.0, 11506.0, 12030.0, 12148.0, 12397.0, 12184.0, 11973.0, 11278.0, 10821.0, 10724.0, 10691.0, 10586.0, 10520.0, 10159.0, 9481.0], \"yaxis\": \"y\"}, {\"hovertemplate\": \"variable=United Kingdom<br>year=%{x}<br>value=%{y}<extra></extra>\", \"legendgroup\": \"United Kingdom\", \"line\": {\"color\": \"#FECB52\", \"dash\": \"solid\"}, \"mode\": \"lines\", \"name\": \"United Kingdom\", \"orientation\": \"v\", \"showlegend\": true, \"type\": \"scatter\", \"x\": [2000, 2001, 2002, 2003, 2004, 2005, 2006, 2007, 2008, 2009, 2010, 2011, 2012, 2013, 2014, 2015, 2016, 2017, 2018, 2019], \"xaxis\": \"x\", \"y\": [8139.0, 8414.0, 8326.0, 8439.0, 8236.0, 8274.0, 8438.0, 8367.0, 8701.0, 8861.0, 8947.0, 9186.0, 9467.0, 10191.0, 10743.0, 11599.0, 11489.0, 11460.0, 11146.0, 10756.0], \"yaxis\": \"y\"}, {\"hovertemplate\": \"variable=Venezuela<br>year=%{x}<br>value=%{y}<extra></extra>\", \"legendgroup\": \"Venezuela\", \"line\": {\"color\": \"#636efa\", \"dash\": \"solid\"}, \"mode\": \"lines\", \"name\": \"Venezuela\", \"orientation\": \"v\", \"showlegend\": true, \"type\": \"scatter\", \"x\": [2000, 2001, 2002, 2003, 2004, 2005, 2006, 2007, 2008, 2009, 2010, 2011, 2012, 2013, 2014, 2015, 2016, 2017, 2018, 2019], \"xaxis\": \"x\", \"y\": [5217.0, 5627.0, 5333.0, 5575.0, 5279.0, 4792.0, 4523.0, 4446.0, 4678.0, 4958.0, 5491.0, 6281.0, 6158.0, 7022.0, 7890.0, 8267.0, 8540.0, 8371.0, 7760.0, 6855.0], \"yaxis\": \"y\"}, {\"hovertemplate\": \"variable=Vietnam<br>year=%{x}<br>value=%{y}<extra></extra>\", \"legendgroup\": \"Vietnam\", \"line\": {\"color\": \"#EF553B\", \"dash\": \"solid\"}, \"mode\": \"lines\", \"name\": \"Vietnam\", \"orientation\": \"v\", \"showlegend\": true, \"type\": \"scatter\", \"x\": [2000, 2001, 2002, 2003, 2004, 2005, 2006, 2007, 2008, 2009, 2010, 2011, 2012, 2013, 2014, 2015, 2016, 2017, 2018, 2019], \"xaxis\": \"x\", \"y\": [null, null, null, null, null, 4597.0, 6036.0, 8769.0, 12823.0, 13112.0, 14888.0, 15572.0, 16098.0, 16579.0, 18722.0, 21403.0, 22438.0, 24325.0, 24392.0, 23777.0], \"yaxis\": \"y\"}],                        {\"legend\": {\"title\": {\"text\": \"variable\"}, \"tracegroupgap\": 0}, \"margin\": {\"t\": 60}, \"template\": {\"data\": {\"bar\": [{\"error_x\": {\"color\": \"#2a3f5f\"}, \"error_y\": {\"color\": \"#2a3f5f\"}, \"marker\": {\"line\": {\"color\": \"#E5ECF6\", \"width\": 0.5}}, \"type\": \"bar\"}], \"barpolar\": [{\"marker\": {\"line\": {\"color\": \"#E5ECF6\", \"width\": 0.5}}, \"type\": \"barpolar\"}], \"carpet\": [{\"aaxis\": {\"endlinecolor\": \"#2a3f5f\", \"gridcolor\": \"white\", \"linecolor\": \"white\", \"minorgridcolor\": \"white\", \"startlinecolor\": \"#2a3f5f\"}, \"baxis\": {\"endlinecolor\": \"#2a3f5f\", \"gridcolor\": \"white\", \"linecolor\": \"white\", \"minorgridcolor\": \"white\", \"startlinecolor\": \"#2a3f5f\"}, \"type\": \"carpet\"}], \"choropleth\": [{\"colorbar\": {\"outlinewidth\": 0, \"ticks\": \"\"}, \"type\": \"choropleth\"}], \"contour\": [{\"colorbar\": {\"outlinewidth\": 0, \"ticks\": \"\"}, \"colorscale\": [[0.0, \"#0d0887\"], [0.1111111111111111, \"#46039f\"], [0.2222222222222222, \"#7201a8\"], [0.3333333333333333, \"#9c179e\"], [0.4444444444444444, \"#bd3786\"], [0.5555555555555556, \"#d8576b\"], [0.6666666666666666, \"#ed7953\"], [0.7777777777777778, \"#fb9f3a\"], [0.8888888888888888, \"#fdca26\"], [1.0, \"#f0f921\"]], \"type\": \"contour\"}], \"contourcarpet\": [{\"colorbar\": {\"outlinewidth\": 0, \"ticks\": \"\"}, \"type\": \"contourcarpet\"}], \"heatmap\": [{\"colorbar\": {\"outlinewidth\": 0, \"ticks\": \"\"}, \"colorscale\": [[0.0, \"#0d0887\"], [0.1111111111111111, \"#46039f\"], [0.2222222222222222, \"#7201a8\"], [0.3333333333333333, \"#9c179e\"], [0.4444444444444444, \"#bd3786\"], [0.5555555555555556, \"#d8576b\"], [0.6666666666666666, \"#ed7953\"], [0.7777777777777778, \"#fb9f3a\"], [0.8888888888888888, \"#fdca26\"], [1.0, \"#f0f921\"]], \"type\": \"heatmap\"}], \"heatmapgl\": [{\"colorbar\": {\"outlinewidth\": 0, \"ticks\": \"\"}, \"colorscale\": [[0.0, \"#0d0887\"], [0.1111111111111111, \"#46039f\"], [0.2222222222222222, \"#7201a8\"], [0.3333333333333333, \"#9c179e\"], [0.4444444444444444, \"#bd3786\"], [0.5555555555555556, \"#d8576b\"], [0.6666666666666666, \"#ed7953\"], [0.7777777777777778, \"#fb9f3a\"], [0.8888888888888888, \"#fdca26\"], [1.0, \"#f0f921\"]], \"type\": \"heatmapgl\"}], \"histogram\": [{\"marker\": {\"colorbar\": {\"outlinewidth\": 0, \"ticks\": \"\"}}, \"type\": \"histogram\"}], \"histogram2d\": [{\"colorbar\": {\"outlinewidth\": 0, \"ticks\": \"\"}, \"colorscale\": [[0.0, \"#0d0887\"], [0.1111111111111111, \"#46039f\"], [0.2222222222222222, \"#7201a8\"], [0.3333333333333333, \"#9c179e\"], [0.4444444444444444, \"#bd3786\"], [0.5555555555555556, \"#d8576b\"], [0.6666666666666666, \"#ed7953\"], [0.7777777777777778, \"#fb9f3a\"], [0.8888888888888888, \"#fdca26\"], [1.0, \"#f0f921\"]], \"type\": \"histogram2d\"}], \"histogram2dcontour\": [{\"colorbar\": {\"outlinewidth\": 0, \"ticks\": \"\"}, \"colorscale\": [[0.0, \"#0d0887\"], [0.1111111111111111, \"#46039f\"], [0.2222222222222222, \"#7201a8\"], [0.3333333333333333, \"#9c179e\"], [0.4444444444444444, \"#bd3786\"], [0.5555555555555556, \"#d8576b\"], [0.6666666666666666, \"#ed7953\"], [0.7777777777777778, \"#fb9f3a\"], [0.8888888888888888, \"#fdca26\"], [1.0, \"#f0f921\"]], \"type\": \"histogram2dcontour\"}], \"mesh3d\": [{\"colorbar\": {\"outlinewidth\": 0, \"ticks\": \"\"}, \"type\": \"mesh3d\"}], \"parcoords\": [{\"line\": {\"colorbar\": {\"outlinewidth\": 0, \"ticks\": \"\"}}, \"type\": \"parcoords\"}], \"pie\": [{\"automargin\": true, \"type\": \"pie\"}], \"scatter\": [{\"marker\": {\"colorbar\": {\"outlinewidth\": 0, \"ticks\": \"\"}}, \"type\": \"scatter\"}], \"scatter3d\": [{\"line\": {\"colorbar\": {\"outlinewidth\": 0, \"ticks\": \"\"}}, \"marker\": {\"colorbar\": {\"outlinewidth\": 0, \"ticks\": \"\"}}, \"type\": \"scatter3d\"}], \"scattercarpet\": [{\"marker\": {\"colorbar\": {\"outlinewidth\": 0, \"ticks\": \"\"}}, \"type\": \"scattercarpet\"}], \"scattergeo\": [{\"marker\": {\"colorbar\": {\"outlinewidth\": 0, \"ticks\": \"\"}}, \"type\": \"scattergeo\"}], \"scattergl\": [{\"marker\": {\"colorbar\": {\"outlinewidth\": 0, \"ticks\": \"\"}}, \"type\": \"scattergl\"}], \"scattermapbox\": [{\"marker\": {\"colorbar\": {\"outlinewidth\": 0, \"ticks\": \"\"}}, \"type\": \"scattermapbox\"}], \"scatterpolar\": [{\"marker\": {\"colorbar\": {\"outlinewidth\": 0, \"ticks\": \"\"}}, \"type\": \"scatterpolar\"}], \"scatterpolargl\": [{\"marker\": {\"colorbar\": {\"outlinewidth\": 0, \"ticks\": \"\"}}, \"type\": \"scatterpolargl\"}], \"scatterternary\": [{\"marker\": {\"colorbar\": {\"outlinewidth\": 0, \"ticks\": \"\"}}, \"type\": \"scatterternary\"}], \"surface\": [{\"colorbar\": {\"outlinewidth\": 0, \"ticks\": \"\"}, \"colorscale\": [[0.0, \"#0d0887\"], [0.1111111111111111, \"#46039f\"], [0.2222222222222222, \"#7201a8\"], [0.3333333333333333, \"#9c179e\"], [0.4444444444444444, \"#bd3786\"], [0.5555555555555556, \"#d8576b\"], [0.6666666666666666, \"#ed7953\"], [0.7777777777777778, \"#fb9f3a\"], [0.8888888888888888, \"#fdca26\"], [1.0, \"#f0f921\"]], \"type\": \"surface\"}], \"table\": [{\"cells\": {\"fill\": {\"color\": \"#EBF0F8\"}, \"line\": {\"color\": \"white\"}}, \"header\": {\"fill\": {\"color\": \"#C8D4E3\"}, \"line\": {\"color\": \"white\"}}, \"type\": \"table\"}]}, \"layout\": {\"annotationdefaults\": {\"arrowcolor\": \"#2a3f5f\", \"arrowhead\": 0, \"arrowwidth\": 1}, \"autotypenumbers\": \"strict\", \"coloraxis\": {\"colorbar\": {\"outlinewidth\": 0, \"ticks\": \"\"}}, \"colorscale\": {\"diverging\": [[0, \"#8e0152\"], [0.1, \"#c51b7d\"], [0.2, \"#de77ae\"], [0.3, \"#f1b6da\"], [0.4, \"#fde0ef\"], [0.5, \"#f7f7f7\"], [0.6, \"#e6f5d0\"], [0.7, \"#b8e186\"], [0.8, \"#7fbc41\"], [0.9, \"#4d9221\"], [1, \"#276419\"]], \"sequential\": [[0.0, \"#0d0887\"], [0.1111111111111111, \"#46039f\"], [0.2222222222222222, \"#7201a8\"], [0.3333333333333333, \"#9c179e\"], [0.4444444444444444, \"#bd3786\"], [0.5555555555555556, \"#d8576b\"], [0.6666666666666666, \"#ed7953\"], [0.7777777777777778, \"#fb9f3a\"], [0.8888888888888888, \"#fdca26\"], [1.0, \"#f0f921\"]], \"sequentialminus\": [[0.0, \"#0d0887\"], [0.1111111111111111, \"#46039f\"], [0.2222222222222222, \"#7201a8\"], [0.3333333333333333, \"#9c179e\"], [0.4444444444444444, \"#bd3786\"], [0.5555555555555556, \"#d8576b\"], [0.6666666666666666, \"#ed7953\"], [0.7777777777777778, \"#fb9f3a\"], [0.8888888888888888, \"#fdca26\"], [1.0, \"#f0f921\"]]}, \"colorway\": [\"#636efa\", \"#EF553B\", \"#00cc96\", \"#ab63fa\", \"#FFA15A\", \"#19d3f3\", \"#FF6692\", \"#B6E880\", \"#FF97FF\", \"#FECB52\"], \"font\": {\"color\": \"#2a3f5f\"}, \"geo\": {\"bgcolor\": \"white\", \"lakecolor\": \"white\", \"landcolor\": \"#E5ECF6\", \"showlakes\": true, \"showland\": true, \"subunitcolor\": \"white\"}, \"hoverlabel\": {\"align\": \"left\"}, \"hovermode\": \"closest\", \"mapbox\": {\"style\": \"light\"}, \"paper_bgcolor\": \"white\", \"plot_bgcolor\": \"#E5ECF6\", \"polar\": {\"angularaxis\": {\"gridcolor\": \"white\", \"linecolor\": \"white\", \"ticks\": \"\"}, \"bgcolor\": \"#E5ECF6\", \"radialaxis\": {\"gridcolor\": \"white\", \"linecolor\": \"white\", \"ticks\": \"\"}}, \"scene\": {\"xaxis\": {\"backgroundcolor\": \"#E5ECF6\", \"gridcolor\": \"white\", \"gridwidth\": 2, \"linecolor\": \"white\", \"showbackground\": true, \"ticks\": \"\", \"zerolinecolor\": \"white\"}, \"yaxis\": {\"backgroundcolor\": \"#E5ECF6\", \"gridcolor\": \"white\", \"gridwidth\": 2, \"linecolor\": \"white\", \"showbackground\": true, \"ticks\": \"\", \"zerolinecolor\": \"white\"}, \"zaxis\": {\"backgroundcolor\": \"#E5ECF6\", \"gridcolor\": \"white\", \"gridwidth\": 2, \"linecolor\": \"white\", \"showbackground\": true, \"ticks\": \"\", \"zerolinecolor\": \"white\"}}, \"shapedefaults\": {\"line\": {\"color\": \"#2a3f5f\"}}, \"ternary\": {\"aaxis\": {\"gridcolor\": \"white\", \"linecolor\": \"white\", \"ticks\": \"\"}, \"baxis\": {\"gridcolor\": \"white\", \"linecolor\": \"white\", \"ticks\": \"\"}, \"bgcolor\": \"#E5ECF6\", \"caxis\": {\"gridcolor\": \"white\", \"linecolor\": \"white\", \"ticks\": \"\"}}, \"title\": {\"x\": 0.05}, \"xaxis\": {\"automargin\": true, \"gridcolor\": \"white\", \"linecolor\": \"white\", \"ticks\": \"\", \"title\": {\"standoff\": 15}, \"zerolinecolor\": \"white\", \"zerolinewidth\": 2}, \"yaxis\": {\"automargin\": true, \"gridcolor\": \"white\", \"linecolor\": \"white\", \"ticks\": \"\", \"title\": {\"standoff\": 15}, \"zerolinecolor\": \"white\", \"zerolinewidth\": 2}}}, \"xaxis\": {\"anchor\": \"y\", \"domain\": [0.0, 1.0], \"title\": {\"text\": \"year\"}}, \"yaxis\": {\"anchor\": \"x\", \"domain\": [0.0, 1.0], \"title\": {\"text\": \"value\"}}},                        {\"responsive\": true}                    ).then(function(){\n                            \nvar gd = document.getElementById('0e5e9ce5-a2af-470f-9e34-e074eee4b44f');\nvar x = new MutationObserver(function (mutations, observer) {{\n        var display = window.getComputedStyle(gd).display;\n        if (!display || display === 'none') {{\n            console.log([gd, 'removed!']);\n            Plotly.purge(gd);\n            observer.disconnect();\n        }}\n}});\n\n// Listen for the removal of the full notebook cells\nvar notebookContainer = gd.closest('#notebook-container');\nif (notebookContainer) {{\n    x.observe(notebookContainer, {childList: true});\n}}\n\n// Listen for the clearing of the current output cell\nvar outputEl = gd.closest('.output');\nif (outputEl) {{\n    x.observe(outputEl, {childList: true});\n}}\n\n                        })                };                            </script>        </div>\n</body>\n</html>"
          },
          "metadata": {},
          "output_type": "display_data"
        }
      ]
    },
    {
      "cell_type": "markdown",
      "source": "## Outgoing students over time",
      "metadata": {
        "tags": [],
        "cell_id": "00013-97e7727d-165a-4133-82b1-a4da03828fff",
        "deepnote_cell_type": "markdown"
      }
    },
    {
      "cell_type": "code",
      "metadata": {
        "tags": [],
        "cell_id": "00014-0ecfd865-c543-40cd-a17a-68ce315395b8",
        "deepnote_to_be_reexecuted": false,
        "source_hash": "cc2df582",
        "execution_millis": 1588,
        "execution_start": 1618091348837,
        "deepnote_cell_type": "code"
      },
      "source": "# data_out_1.head()\ndat_vz_outoing = data_out_1.set_index('country').transpose().reset_index()\ndat_vz_outoing = dat_vz_outoing.rename(columns={'index':'year'})\n\n# dat_vz_outoing.head()\n# dat_vz_outoing.info()\n\nfig = px.line(dat_vz_outoing,x='year', y=dat_vz_outoing.columns[:])\nfig.show()",
      "execution_count": null,
      "outputs": [
        {
          "data": {
            "text/html": "<html>\n<head><meta charset=\"utf-8\" /></head>\n<body>\n    <div>            <script src=\"https://cdnjs.cloudflare.com/ajax/libs/mathjax/2.7.5/MathJax.js?config=TeX-AMS-MML_SVG\"></script><script type=\"text/javascript\">if (window.MathJax) {MathJax.Hub.Config({SVG: {font: \"STIX-Web\"}});}</script>                <script type=\"text/javascript\">window.PlotlyConfig = {MathJaxConfig: 'local'};</script>\n        <script src=\"https://cdn.plot.ly/plotly-latest.min.js\"></script>                <div id=\"c61d732b-30f2-4330-9dce-e95a6bffafc1\" class=\"plotly-graph-div\" style=\"height:525px; width:100%;\"></div>            <script type=\"text/javascript\">                                    window.PLOTLYENV=window.PLOTLYENV || {};                                    if (document.getElementById(\"c61d732b-30f2-4330-9dce-e95a6bffafc1\")) {                    Plotly.newPlot(                        \"c61d732b-30f2-4330-9dce-e95a6bffafc1\",                        [{\"hovertemplate\": \"variable=Burundi<br>year=%{x}<br>value=%{y}<extra></extra>\", \"legendgroup\": \"Burundi\", \"line\": {\"color\": \"#636efa\", \"dash\": \"solid\"}, \"mode\": \"lines\", \"name\": \"Burundi\", \"showlegend\": true, \"type\": \"scattergl\", \"x\": [\"1999\", \"2000\", \"2001\", \"2002\", \"2003\", \"2004\", \"2005\", \"2006\", \"2007\", \"2008\", \"2009\", \"2010\", \"2011\", \"2012\", \"2013\", \"2014\", \"2015\", \"2016\", \"2017\", \"2018\"], \"xaxis\": \"x\", \"y\": [0, 0, 0, 0, 0, 1, 0, 1, 0, 0, 0, 2, 9, 0, 1, 2, 0, 11, 0, 0], \"yaxis\": \"y\"}, {\"hovertemplate\": \"variable=Djibouti<br>year=%{x}<br>value=%{y}<extra></extra>\", \"legendgroup\": \"Djibouti\", \"line\": {\"color\": \"#EF553B\", \"dash\": \"solid\"}, \"mode\": \"lines\", \"name\": \"Djibouti\", \"showlegend\": true, \"type\": \"scattergl\", \"x\": [\"1999\", \"2000\", \"2001\", \"2002\", \"2003\", \"2004\", \"2005\", \"2006\", \"2007\", \"2008\", \"2009\", \"2010\", \"2011\", \"2012\", \"2013\", \"2014\", \"2015\", \"2016\", \"2017\", \"2018\"], \"xaxis\": \"x\", \"y\": [0, 0, 0, 0, 0, 0, 0, 0, 0, 0, 23, 1, 4, 1, 1, 0, 0, 0, 0, 0], \"yaxis\": \"y\"}, {\"hovertemplate\": \"variable=Eritrea<br>year=%{x}<br>value=%{y}<extra></extra>\", \"legendgroup\": \"Eritrea\", \"line\": {\"color\": \"#00cc96\", \"dash\": \"solid\"}, \"mode\": \"lines\", \"name\": \"Eritrea\", \"showlegend\": true, \"type\": \"scattergl\", \"x\": [\"1999\", \"2000\", \"2001\", \"2002\", \"2003\", \"2004\", \"2005\", \"2006\", \"2007\", \"2008\", \"2009\", \"2010\", \"2011\", \"2012\", \"2013\", \"2014\", \"2015\", \"2016\", \"2017\", \"2018\"], \"xaxis\": \"x\", \"y\": [0, 18, 0, 12, 1, 14, 8, 1, 0, 1, 3, 0, 1, 0, 1, 0, 1, 1, 0, 5], \"yaxis\": \"y\"}, {\"hovertemplate\": \"variable=Ethiopia<br>year=%{x}<br>value=%{y}<extra></extra>\", \"legendgroup\": \"Ethiopia\", \"line\": {\"color\": \"#ab63fa\", \"dash\": \"solid\"}, \"mode\": \"lines\", \"name\": \"Ethiopia\", \"showlegend\": true, \"type\": \"scattergl\", \"x\": [\"1999\", \"2000\", \"2001\", \"2002\", \"2003\", \"2004\", \"2005\", \"2006\", \"2007\", \"2008\", \"2009\", \"2010\", \"2011\", \"2012\", \"2013\", \"2014\", \"2015\", \"2016\", \"2017\", \"2018\"], \"xaxis\": \"x\", \"y\": [0, 12, 30, 26, 26, 33, 56, 84, 115, 133, 191, 147, 267, 231, 235, 261, 302, 73, 207, 249], \"yaxis\": \"y\"}, {\"hovertemplate\": \"variable=Kenya<br>year=%{x}<br>value=%{y}<extra></extra>\", \"legendgroup\": \"Kenya\", \"line\": {\"color\": \"#FFA15A\", \"dash\": \"solid\"}, \"mode\": \"lines\", \"name\": \"Kenya\", \"showlegend\": true, \"type\": \"scattergl\", \"x\": [\"1999\", \"2000\", \"2001\", \"2002\", \"2003\", \"2004\", \"2005\", \"2006\", \"2007\", \"2008\", \"2009\", \"2010\", \"2011\", \"2012\", \"2013\", \"2014\", \"2015\", \"2016\", \"2017\", \"2018\"], \"xaxis\": \"x\", \"y\": [695, 846, 720, 625, 387, 661, 694, 686, 657, 881, 1198, 1291, 1231, 1238, 1022, 634, 681, 778, 927, 926], \"yaxis\": \"y\"}, {\"hovertemplate\": \"variable=Rwanda<br>year=%{x}<br>value=%{y}<extra></extra>\", \"legendgroup\": \"Rwanda\", \"line\": {\"color\": \"#19d3f3\", \"dash\": \"solid\"}, \"mode\": \"lines\", \"name\": \"Rwanda\", \"showlegend\": true, \"type\": \"scattergl\", \"x\": [\"1999\", \"2000\", \"2001\", \"2002\", \"2003\", \"2004\", \"2005\", \"2006\", \"2007\", \"2008\", \"2009\", \"2010\", \"2011\", \"2012\", \"2013\", \"2014\", \"2015\", \"2016\", \"2017\", \"2018\"], \"xaxis\": \"x\", \"y\": [1, 0, 1, 6, 10, 14, 44, 59, 61, 203, 126, 196, 308, 366, 332, 275, 411, 380, 377, 460], \"yaxis\": \"y\"}, {\"hovertemplate\": \"variable=Seychelles<br>year=%{x}<br>value=%{y}<extra></extra>\", \"legendgroup\": \"Seychelles\", \"line\": {\"color\": \"#FF6692\", \"dash\": \"solid\"}, \"mode\": \"lines\", \"name\": \"Seychelles\", \"showlegend\": true, \"type\": \"scattergl\", \"x\": [\"1999\", \"2000\", \"2001\", \"2002\", \"2003\", \"2004\", \"2005\", \"2006\", \"2007\", \"2008\", \"2009\", \"2010\", \"2011\", \"2012\", \"2013\", \"2014\", \"2015\", \"2016\", \"2017\", \"2018\"], \"xaxis\": \"x\", \"y\": [0, 0, 0, 0, 0, 0, 0, 0, 0, 0, 0, 0, 0, 1, 1, 0, 0, 0, 0, 3], \"yaxis\": \"y\"}, {\"hovertemplate\": \"variable=Somalia<br>year=%{x}<br>value=%{y}<extra></extra>\", \"legendgroup\": \"Somalia\", \"line\": {\"color\": \"#B6E880\", \"dash\": \"solid\"}, \"mode\": \"lines\", \"name\": \"Somalia\", \"showlegend\": true, \"type\": \"scattergl\", \"x\": [\"1999\", \"2000\", \"2001\", \"2002\", \"2003\", \"2004\", \"2005\", \"2006\", \"2007\", \"2008\", \"2009\", \"2010\", \"2011\", \"2012\", \"2013\", \"2014\", \"2015\", \"2016\", \"2017\", \"2018\"], \"xaxis\": \"x\", \"y\": [0, 0, 0, 0, 1, 1, 1, 1, 0, 1, 1, 2, 1, 0, 1, 0, 0, 0, 10, 0], \"yaxis\": \"y\"}, {\"hovertemplate\": \"variable=South Sudan<br>year=%{x}<br>value=%{y}<extra></extra>\", \"legendgroup\": \"South Sudan\", \"line\": {\"color\": \"#FF97FF\", \"dash\": \"solid\"}, \"mode\": \"lines\", \"name\": \"South Sudan\", \"showlegend\": true, \"type\": \"scattergl\", \"x\": [\"1999\", \"2000\", \"2001\", \"2002\", \"2003\", \"2004\", \"2005\", \"2006\", \"2007\", \"2008\", \"2009\", \"2010\", \"2011\", \"2012\", \"2013\", \"2014\", \"2015\", \"2016\", \"2017\", \"2018\"], \"xaxis\": \"x\", \"y\": [0, 0, 0, 0, 0, 0, 0, 0, 0, 0, 0, 0, 0, 2, 7, 3, 12, 23, 0, 1], \"yaxis\": \"y\"}, {\"hovertemplate\": \"variable=Sudan<br>year=%{x}<br>value=%{y}<extra></extra>\", \"legendgroup\": \"Sudan\", \"line\": {\"color\": \"#FECB52\", \"dash\": \"solid\"}, \"mode\": \"lines\", \"name\": \"Sudan\", \"showlegend\": true, \"type\": \"scattergl\", \"x\": [\"1999\", \"2000\", \"2001\", \"2002\", \"2003\", \"2004\", \"2005\", \"2006\", \"2007\", \"2008\", \"2009\", \"2010\", \"2011\", \"2012\", \"2013\", \"2014\", \"2015\", \"2016\", \"2017\", \"2018\"], \"xaxis\": \"x\", \"y\": [0, 0, 0, 0, 0, 1, 43, 4, 2, 1, 1, 5, 6, 3, 0, 1, 1, 0, 16, 0], \"yaxis\": \"y\"}, {\"hovertemplate\": \"variable=Tanzania<br>year=%{x}<br>value=%{y}<extra></extra>\", \"legendgroup\": \"Tanzania\", \"line\": {\"color\": \"#636efa\", \"dash\": \"solid\"}, \"mode\": \"lines\", \"name\": \"Tanzania\", \"showlegend\": true, \"type\": \"scattergl\", \"x\": [\"1999\", \"2000\", \"2001\", \"2002\", \"2003\", \"2004\", \"2005\", \"2006\", \"2007\", \"2008\", \"2009\", \"2010\", \"2011\", \"2012\", \"2013\", \"2014\", \"2015\", \"2016\", \"2017\", \"2018\"], \"xaxis\": \"x\", \"y\": [253, 295, 293, 347, 373, 467, 557, 630, 783, 863, 962, 1126, 1115, 1238, 1294, 1216, 1254, 1364, 1556, 1334], \"yaxis\": \"y\"}, {\"hovertemplate\": \"variable=Uganda<br>year=%{x}<br>value=%{y}<extra></extra>\", \"legendgroup\": \"Uganda\", \"line\": {\"color\": \"#EF553B\", \"dash\": \"solid\"}, \"mode\": \"lines\", \"name\": \"Uganda\", \"showlegend\": true, \"type\": \"scattergl\", \"x\": [\"1999\", \"2000\", \"2001\", \"2002\", \"2003\", \"2004\", \"2005\", \"2006\", \"2007\", \"2008\", \"2009\", \"2010\", \"2011\", \"2012\", \"2013\", \"2014\", \"2015\", \"2016\", \"2017\", \"2018\"], \"xaxis\": \"x\", \"y\": [44, 28, 76, 85, 141, 159, 327, 357, 457, 611, 571, 673, 716, 692, 685, 527, 722, 845, 837, 797], \"yaxis\": \"y\"}, {\"hovertemplate\": \"variable=Cameroon<br>year=%{x}<br>value=%{y}<extra></extra>\", \"legendgroup\": \"Cameroon\", \"line\": {\"color\": \"#00cc96\", \"dash\": \"solid\"}, \"mode\": \"lines\", \"name\": \"Cameroon\", \"showlegend\": true, \"type\": \"scattergl\", \"x\": [\"1999\", \"2000\", \"2001\", \"2002\", \"2003\", \"2004\", \"2005\", \"2006\", \"2007\", \"2008\", \"2009\", \"2010\", \"2011\", \"2012\", \"2013\", \"2014\", \"2015\", \"2016\", \"2017\", \"2018\"], \"xaxis\": \"x\", \"y\": [53, 95, 51, 66, 74, 75, 66, 142, 108, 134, 70, 106, 135, 103, 175, 92, 53, 99, 57, 34], \"yaxis\": \"y\"}, {\"hovertemplate\": \"variable=Central African Republic<br>year=%{x}<br>value=%{y}<extra></extra>\", \"legendgroup\": \"Central African Republic\", \"line\": {\"color\": \"#ab63fa\", \"dash\": \"solid\"}, \"mode\": \"lines\", \"name\": \"Central African Republic\", \"showlegend\": true, \"type\": \"scattergl\", \"x\": [\"1999\", \"2000\", \"2001\", \"2002\", \"2003\", \"2004\", \"2005\", \"2006\", \"2007\", \"2008\", \"2009\", \"2010\", \"2011\", \"2012\", \"2013\", \"2014\", \"2015\", \"2016\", \"2017\", \"2018\"], \"xaxis\": \"x\", \"y\": [0, 13, 0, 0, 0, 7, 0, 2, 9, 0, 2, 8, 2, 0, 0, 0, 0, 0, 0, 1], \"yaxis\": \"y\"}, {\"hovertemplate\": \"variable=Chad<br>year=%{x}<br>value=%{y}<extra></extra>\", \"legendgroup\": \"Chad\", \"line\": {\"color\": \"#FFA15A\", \"dash\": \"solid\"}, \"mode\": \"lines\", \"name\": \"Chad\", \"showlegend\": true, \"type\": \"scattergl\", \"x\": [\"1999\", \"2000\", \"2001\", \"2002\", \"2003\", \"2004\", \"2005\", \"2006\", \"2007\", \"2008\", \"2009\", \"2010\", \"2011\", \"2012\", \"2013\", \"2014\", \"2015\", \"2016\", \"2017\", \"2018\"], \"xaxis\": \"x\", \"y\": [1, 0, 0, 0, 0, 0, 0, 4, 0, 0, 1, 1, 0, 5, 0, 0, 1, 0, 2, 0], \"yaxis\": \"y\"}, {\"hovertemplate\": \"variable=Congo, Republic of the (Brazzaville)<br>year=%{x}<br>value=%{y}<extra></extra>\", \"legendgroup\": \"Congo, Republic of the (Brazzaville)\", \"line\": {\"color\": \"#19d3f3\", \"dash\": \"solid\"}, \"mode\": \"lines\", \"name\": \"Congo, Republic of the (Brazzaville)\", \"showlegend\": true, \"type\": \"scattergl\", \"x\": [\"1999\", \"2000\", \"2001\", \"2002\", \"2003\", \"2004\", \"2005\", \"2006\", \"2007\", \"2008\", \"2009\", \"2010\", \"2011\", \"2012\", \"2013\", \"2014\", \"2015\", \"2016\", \"2017\", \"2018\"], \"xaxis\": \"x\", \"y\": [1, 0, 2, 1, 0, 0, 0, 1, 3, 1, 1, 4, 4, 4, 3, 3, 2, 3, 5, 13], \"yaxis\": \"y\"}, {\"hovertemplate\": \"variable=Congo, Dem. Rep. of the (Kinshasa)<br>year=%{x}<br>value=%{y}<extra></extra>\", \"legendgroup\": \"Congo, Dem. Rep. of the (Kinshasa)\", \"line\": {\"color\": \"#FF6692\", \"dash\": \"solid\"}, \"mode\": \"lines\", \"name\": \"Congo, Dem. Rep. of the (Kinshasa)\", \"showlegend\": true, \"type\": \"scattergl\", \"x\": [\"1999\", \"2000\", \"2001\", \"2002\", \"2003\", \"2004\", \"2005\", \"2006\", \"2007\", \"2008\", \"2009\", \"2010\", \"2011\", \"2012\", \"2013\", \"2014\", \"2015\", \"2016\", \"2017\", \"2018\"], \"xaxis\": \"x\", \"y\": [0, 0, 0, 0, 1, 0, 3, 3, 0, 1, 4, 3, 6, 7, 16, 15, 7, 8, 6, 4], \"yaxis\": \"y\"}, {\"hovertemplate\": \"variable=Equatorial Guinea<br>year=%{x}<br>value=%{y}<extra></extra>\", \"legendgroup\": \"Equatorial Guinea\", \"line\": {\"color\": \"#B6E880\", \"dash\": \"solid\"}, \"mode\": \"lines\", \"name\": \"Equatorial Guinea\", \"showlegend\": true, \"type\": \"scattergl\", \"x\": [\"1999\", \"2000\", \"2001\", \"2002\", \"2003\", \"2004\", \"2005\", \"2006\", \"2007\", \"2008\", \"2009\", \"2010\", \"2011\", \"2012\", \"2013\", \"2014\", \"2015\", \"2016\", \"2017\", \"2018\"], \"xaxis\": \"x\", \"y\": [0, 8, 2, 7, 2, 5, 11, 16, 14, 21, 18, 13, 16, 11, 12, 17, 22, 7, 7, 11], \"yaxis\": \"y\"}, {\"hovertemplate\": \"variable=Gabon<br>year=%{x}<br>value=%{y}<extra></extra>\", \"legendgroup\": \"Gabon\", \"line\": {\"color\": \"#FF97FF\", \"dash\": \"solid\"}, \"mode\": \"lines\", \"name\": \"Gabon\", \"showlegend\": true, \"type\": \"scattergl\", \"x\": [\"1999\", \"2000\", \"2001\", \"2002\", \"2003\", \"2004\", \"2005\", \"2006\", \"2007\", \"2008\", \"2009\", \"2010\", \"2011\", \"2012\", \"2013\", \"2014\", \"2015\", \"2016\", \"2017\", \"2018\"], \"xaxis\": \"x\", \"y\": [1, 2, 1, 3, 1, 0, 5, 1, 8, 2, 0, 16, 23, 4, 45, 20, 14, 5, 4, 2], \"yaxis\": \"y\"}, {\"hovertemplate\": \"variable=S\\ufffdo Tom\\ufffd & Pr\\ufffdncipe<br>year=%{x}<br>value=%{y}<extra></extra>\", \"legendgroup\": \"S\\ufffdo Tom\\ufffd & Pr\\ufffdncipe\", \"line\": {\"color\": \"#FECB52\", \"dash\": \"solid\"}, \"mode\": \"lines\", \"name\": \"S\\ufffdo Tom\\ufffd & Pr\\ufffdncipe\", \"showlegend\": true, \"type\": \"scattergl\", \"x\": [\"1999\", \"2000\", \"2001\", \"2002\", \"2003\", \"2004\", \"2005\", \"2006\", \"2007\", \"2008\", \"2009\", \"2010\", \"2011\", \"2012\", \"2013\", \"2014\", \"2015\", \"2016\", \"2017\", \"2018\"], \"xaxis\": \"x\", \"y\": [0, 0, 0, 0, 0, 0, 0, 10, 1, 8, 7, 19, 6, 4, 0, 5, 0, 0, 0, 1], \"yaxis\": \"y\"}, {\"hovertemplate\": \"variable=Angola<br>year=%{x}<br>value=%{y}<extra></extra>\", \"legendgroup\": \"Angola\", \"line\": {\"color\": \"#636efa\", \"dash\": \"solid\"}, \"mode\": \"lines\", \"name\": \"Angola\", \"showlegend\": true, \"type\": \"scattergl\", \"x\": [\"1999\", \"2000\", \"2001\", \"2002\", \"2003\", \"2004\", \"2005\", \"2006\", \"2007\", \"2008\", \"2009\", \"2010\", \"2011\", \"2012\", \"2013\", \"2014\", \"2015\", \"2016\", \"2017\", \"2018\"], \"xaxis\": \"x\", \"y\": [0, 0, 1, 0, 1, 0, 1, 1, 0, 1, 1, 7, 2, 14, 0, 1, 0, 2, 0, 1], \"yaxis\": \"y\"}, {\"hovertemplate\": \"variable=Botswana<br>year=%{x}<br>value=%{y}<extra></extra>\", \"legendgroup\": \"Botswana\", \"line\": {\"color\": \"#EF553B\", \"dash\": \"solid\"}, \"mode\": \"lines\", \"name\": \"Botswana\", \"showlegend\": true, \"type\": \"scattergl\", \"x\": [\"1999\", \"2000\", \"2001\", \"2002\", \"2003\", \"2004\", \"2005\", \"2006\", \"2007\", \"2008\", \"2009\", \"2010\", \"2011\", \"2012\", \"2013\", \"2014\", \"2015\", \"2016\", \"2017\", \"2018\"], \"xaxis\": \"x\", \"y\": [14, 44, 36, 42, 80, 102, 130, 194, 164, 183, 215, 283, 281, 326, 268, 279, 266, 275, 252, 300], \"yaxis\": \"y\"}, {\"hovertemplate\": \"variable=Comoros<br>year=%{x}<br>value=%{y}<extra></extra>\", \"legendgroup\": \"Comoros\", \"line\": {\"color\": \"#00cc96\", \"dash\": \"solid\"}, \"mode\": \"lines\", \"name\": \"Comoros\", \"showlegend\": true, \"type\": \"scattergl\", \"x\": [\"1999\", \"2000\", \"2001\", \"2002\", \"2003\", \"2004\", \"2005\", \"2006\", \"2007\", \"2008\", \"2009\", \"2010\", \"2011\", \"2012\", \"2013\", \"2014\", \"2015\", \"2016\", \"2017\", \"2018\"], \"xaxis\": \"x\", \"y\": [0, 0, 0, 0, 0, 0, 0, 0, 0, 0, 0, 1, 0, 0, 0, 1, 0, 0, 0, 0], \"yaxis\": \"y\"}, {\"hovertemplate\": \"variable=Eswatini<br>year=%{x}<br>value=%{y}<extra></extra>\", \"legendgroup\": \"Eswatini\", \"line\": {\"color\": \"#ab63fa\", \"dash\": \"solid\"}, \"mode\": \"lines\", \"name\": \"Eswatini\", \"showlegend\": true, \"type\": \"scattergl\", \"x\": [\"1999\", \"2000\", \"2001\", \"2002\", \"2003\", \"2004\", \"2005\", \"2006\", \"2007\", \"2008\", \"2009\", \"2010\", \"2011\", \"2012\", \"2013\", \"2014\", \"2015\", \"2016\", \"2017\", \"2018\"], \"xaxis\": \"x\", \"y\": [8, 31, 4, 21, 5, 26, 23, 76, 44, 81, 51, 26, 156, 44, 70, 89, 122, 92, 118, 72], \"yaxis\": \"y\"}, {\"hovertemplate\": \"variable=Lesotho<br>year=%{x}<br>value=%{y}<extra></extra>\", \"legendgroup\": \"Lesotho\", \"line\": {\"color\": \"#FFA15A\", \"dash\": \"solid\"}, \"mode\": \"lines\", \"name\": \"Lesotho\", \"showlegend\": true, \"type\": \"scattergl\", \"x\": [\"1999\", \"2000\", \"2001\", \"2002\", \"2003\", \"2004\", \"2005\", \"2006\", \"2007\", \"2008\", \"2009\", \"2010\", \"2011\", \"2012\", \"2013\", \"2014\", \"2015\", \"2016\", \"2017\", \"2018\"], \"xaxis\": \"x\", \"y\": [0, 0, 19, 34, 28, 11, 54, 14, 64, 89, 27, 27, 3, 34, 26, 14, 6, 23, 1, 4], \"yaxis\": \"y\"}, {\"hovertemplate\": \"variable=Madagascar<br>year=%{x}<br>value=%{y}<extra></extra>\", \"legendgroup\": \"Madagascar\", \"line\": {\"color\": \"#19d3f3\", \"dash\": \"solid\"}, \"mode\": \"lines\", \"name\": \"Madagascar\", \"showlegend\": true, \"type\": \"scattergl\", \"x\": [\"1999\", \"2000\", \"2001\", \"2002\", \"2003\", \"2004\", \"2005\", \"2006\", \"2007\", \"2008\", \"2009\", \"2010\", \"2011\", \"2012\", \"2013\", \"2014\", \"2015\", \"2016\", \"2017\", \"2018\"], \"xaxis\": \"x\", \"y\": [48, 51, 84, 15, 62, 73, 120, 89, 131, 70, 100, 104, 165, 145, 138, 114, 175, 145, 159, 168], \"yaxis\": \"y\"}, {\"hovertemplate\": \"variable=Malawi<br>year=%{x}<br>value=%{y}<extra></extra>\", \"legendgroup\": \"Malawi\", \"line\": {\"color\": \"#FF6692\", \"dash\": \"solid\"}, \"mode\": \"lines\", \"name\": \"Malawi\", \"showlegend\": true, \"type\": \"scattergl\", \"x\": [\"1999\", \"2000\", \"2001\", \"2002\", \"2003\", \"2004\", \"2005\", \"2006\", \"2007\", \"2008\", \"2009\", \"2010\", \"2011\", \"2012\", \"2013\", \"2014\", \"2015\", \"2016\", \"2017\", \"2018\"], \"xaxis\": \"x\", \"y\": [3, 30, 9, 9, 12, 12, 64, 120, 115, 139, 126, 166, 162, 201, 223, 195, 217, 215, 263, 268], \"yaxis\": \"y\"}, {\"hovertemplate\": \"variable=Mauritius<br>year=%{x}<br>value=%{y}<extra></extra>\", \"legendgroup\": \"Mauritius\", \"line\": {\"color\": \"#B6E880\", \"dash\": \"solid\"}, \"mode\": \"lines\", \"name\": \"Mauritius\", \"showlegend\": true, \"type\": \"scattergl\", \"x\": [\"1999\", \"2000\", \"2001\", \"2002\", \"2003\", \"2004\", \"2005\", \"2006\", \"2007\", \"2008\", \"2009\", \"2010\", \"2011\", \"2012\", \"2013\", \"2014\", \"2015\", \"2016\", \"2017\", \"2018\"], \"xaxis\": \"x\", \"y\": [0, 4, 1, 1, 2, 1, 122, 9, 10, 1, 4, 1, 0, 0, 4, 4, 4, 3, 22, 54], \"yaxis\": \"y\"}, {\"hovertemplate\": \"variable=Mozambique<br>year=%{x}<br>value=%{y}<extra></extra>\", \"legendgroup\": \"Mozambique\", \"line\": {\"color\": \"#FF97FF\", \"dash\": \"solid\"}, \"mode\": \"lines\", \"name\": \"Mozambique\", \"showlegend\": true, \"type\": \"scattergl\", \"x\": [\"1999\", \"2000\", \"2001\", \"2002\", \"2003\", \"2004\", \"2005\", \"2006\", \"2007\", \"2008\", \"2009\", \"2010\", \"2011\", \"2012\", \"2013\", \"2014\", \"2015\", \"2016\", \"2017\", \"2018\"], \"xaxis\": \"x\", \"y\": [12, 66, 20, 29, 42, 27, 19, 14, 16, 25, 11, 20, 42, 47, 44, 32, 45, 30, 48, 30], \"yaxis\": \"y\"}, {\"hovertemplate\": \"variable=Namibia<br>year=%{x}<br>value=%{y}<extra></extra>\", \"legendgroup\": \"Namibia\", \"line\": {\"color\": \"#FECB52\", \"dash\": \"solid\"}, \"mode\": \"lines\", \"name\": \"Namibia\", \"showlegend\": true, \"type\": \"scattergl\", \"x\": [\"1999\", \"2000\", \"2001\", \"2002\", \"2003\", \"2004\", \"2005\", \"2006\", \"2007\", \"2008\", \"2009\", \"2010\", \"2011\", \"2012\", \"2013\", \"2014\", \"2015\", \"2016\", \"2017\", \"2018\"], \"xaxis\": \"x\", \"y\": [48, 38, 38, 120, 97, 188, 181, 146, 204, 220, 226, 155, 234, 182, 167, 227, 245, 207, 237, 270], \"yaxis\": \"y\"}, {\"hovertemplate\": \"variable=Reunion<br>year=%{x}<br>value=%{y}<extra></extra>\", \"legendgroup\": \"Reunion\", \"line\": {\"color\": \"#636efa\", \"dash\": \"solid\"}, \"mode\": \"lines\", \"name\": \"Reunion\", \"showlegend\": true, \"type\": \"scattergl\", \"x\": [\"1999\", \"2000\", \"2001\", \"2002\", \"2003\", \"2004\", \"2005\", \"2006\", \"2007\", \"2008\", \"2009\", \"2010\", \"2011\", \"2012\", \"2013\", \"2014\", \"2015\", \"2016\", \"2017\", \"2018\"], \"xaxis\": \"x\", \"y\": [1, 4, 1, 0, 3, 2, 1, 0, 2, 8, 1, 0, 2, 1, 1, 0, 3, 0, 3, 3], \"yaxis\": \"y\"}, {\"hovertemplate\": \"variable=South Africa<br>year=%{x}<br>value=%{y}<extra></extra>\", \"legendgroup\": \"South Africa\", \"line\": {\"color\": \"#EF553B\", \"dash\": \"solid\"}, \"mode\": \"lines\", \"name\": \"South Africa\", \"showlegend\": true, \"type\": \"scattergl\", \"x\": [\"1999\", \"2000\", \"2001\", \"2002\", \"2003\", \"2004\", \"2005\", \"2006\", \"2007\", \"2008\", \"2009\", \"2010\", \"2011\", \"2012\", \"2013\", \"2014\", \"2015\", \"2016\", \"2017\", \"2018\"], \"xaxis\": \"x\", \"y\": [899, 1107, 1456, 1594, 2009, 2304, 2512, 3216, 3700, 4160, 4313, 4337, 4540, 5337, 4968, 5249, 5782, 6042, 6001, 5278], \"yaxis\": \"y\"}, {\"hovertemplate\": \"variable=Zambia<br>year=%{x}<br>value=%{y}<extra></extra>\", \"legendgroup\": \"Zambia\", \"line\": {\"color\": \"#00cc96\", \"dash\": \"solid\"}, \"mode\": \"lines\", \"name\": \"Zambia\", \"showlegend\": true, \"type\": \"scattergl\", \"x\": [\"1999\", \"2000\", \"2001\", \"2002\", \"2003\", \"2004\", \"2005\", \"2006\", \"2007\", \"2008\", \"2009\", \"2010\", \"2011\", \"2012\", \"2013\", \"2014\", \"2015\", \"2016\", \"2017\", \"2018\"], \"xaxis\": \"x\", \"y\": [0, 11, 15, 24, 50, 86, 112, 133, 103, 185, 233, 265, 284, 366, 291, 299, 262, 306, 372, 326], \"yaxis\": \"y\"}, {\"hovertemplate\": \"variable=Zimbabwe<br>year=%{x}<br>value=%{y}<extra></extra>\", \"legendgroup\": \"Zimbabwe\", \"line\": {\"color\": \"#ab63fa\", \"dash\": \"solid\"}, \"mode\": \"lines\", \"name\": \"Zimbabwe\", \"showlegend\": true, \"type\": \"scattergl\", \"x\": [\"1999\", \"2000\", \"2001\", \"2002\", \"2003\", \"2004\", \"2005\", \"2006\", \"2007\", \"2008\", \"2009\", \"2010\", \"2011\", \"2012\", \"2013\", \"2014\", \"2015\", \"2016\", \"2017\", \"2018\"], \"xaxis\": \"x\", \"y\": [250, 186, 40, 29, 9, 7, 9, 26, 9, 27, 9, 15, 12, 29, 47, 38, 58, 37, 35, 25], \"yaxis\": \"y\"}, {\"hovertemplate\": \"variable=Benin<br>year=%{x}<br>value=%{y}<extra></extra>\", \"legendgroup\": \"Benin\", \"line\": {\"color\": \"#FFA15A\", \"dash\": \"solid\"}, \"mode\": \"lines\", \"name\": \"Benin\", \"showlegend\": true, \"type\": \"scattergl\", \"x\": [\"1999\", \"2000\", \"2001\", \"2002\", \"2003\", \"2004\", \"2005\", \"2006\", \"2007\", \"2008\", \"2009\", \"2010\", \"2011\", \"2012\", \"2013\", \"2014\", \"2015\", \"2016\", \"2017\", \"2018\"], \"xaxis\": \"x\", \"y\": [20, 21, 22, 14, 15, 11, 26, 43, 68, 36, 59, 22, 15, 34, 46, 15, 42, 22, 64, 55], \"yaxis\": \"y\"}, {\"hovertemplate\": \"variable=Burkina Faso<br>year=%{x}<br>value=%{y}<extra></extra>\", \"legendgroup\": \"Burkina Faso\", \"line\": {\"color\": \"#19d3f3\", \"dash\": \"solid\"}, \"mode\": \"lines\", \"name\": \"Burkina Faso\", \"showlegend\": true, \"type\": \"scattergl\", \"x\": [\"1999\", \"2000\", \"2001\", \"2002\", \"2003\", \"2004\", \"2005\", \"2006\", \"2007\", \"2008\", \"2009\", \"2010\", \"2011\", \"2012\", \"2013\", \"2014\", \"2015\", \"2016\", \"2017\", \"2018\"], \"xaxis\": \"x\", \"y\": [22, 10, 33, 7, 28, 40, 19, 34, 49, 71, 28, 27, 57, 24, 31, 8, 5, 7, 6, 5], \"yaxis\": \"y\"}, {\"hovertemplate\": \"variable=Cabo Verde/Cape Verde<br>year=%{x}<br>value=%{y}<extra></extra>\", \"legendgroup\": \"Cabo Verde/Cape Verde\", \"line\": {\"color\": \"#FF6692\", \"dash\": \"solid\"}, \"mode\": \"lines\", \"name\": \"Cabo Verde/Cape Verde\", \"showlegend\": true, \"type\": \"scattergl\", \"x\": [\"1999\", \"2000\", \"2001\", \"2002\", \"2003\", \"2004\", \"2005\", \"2006\", \"2007\", \"2008\", \"2009\", \"2010\", \"2011\", \"2012\", \"2013\", \"2014\", \"2015\", \"2016\", \"2017\", \"2018\"], \"xaxis\": \"x\", \"y\": [0, 0, 0, 0, 0, 0, 14, 1, 0, 3, 14, 26, 13, 59, 2, 18, 9, 11, 9, 5], \"yaxis\": \"y\"}, {\"hovertemplate\": \"variable=C\\ufffdte d\\ufffdIvoire/Ivory Coast<br>year=%{x}<br>value=%{y}<extra></extra>\", \"legendgroup\": \"C\\ufffdte d\\ufffdIvoire/Ivory Coast\", \"line\": {\"color\": \"#B6E880\", \"dash\": \"solid\"}, \"mode\": \"lines\", \"name\": \"C\\ufffdte d\\ufffdIvoire/Ivory Coast\", \"showlegend\": true, \"type\": \"scattergl\", \"x\": [\"1999\", \"2000\", \"2001\", \"2002\", \"2003\", \"2004\", \"2005\", \"2006\", \"2007\", \"2008\", \"2009\", \"2010\", \"2011\", \"2012\", \"2013\", \"2014\", \"2015\", \"2016\", \"2017\", \"2018\"], \"xaxis\": \"x\", \"y\": [7, 10, 21, 0, 2, 17, 12, 0, 3, 0, 1, 1, 12, 1, 15, 4, 4, 4, 3, 13], \"yaxis\": \"y\"}, {\"hovertemplate\": \"variable=Gambia<br>year=%{x}<br>value=%{y}<extra></extra>\", \"legendgroup\": \"Gambia\", \"line\": {\"color\": \"#FF97FF\", \"dash\": \"solid\"}, \"mode\": \"lines\", \"name\": \"Gambia\", \"showlegend\": true, \"type\": \"scattergl\", \"x\": [\"1999\", \"2000\", \"2001\", \"2002\", \"2003\", \"2004\", \"2005\", \"2006\", \"2007\", \"2008\", \"2009\", \"2010\", \"2011\", \"2012\", \"2013\", \"2014\", \"2015\", \"2016\", \"2017\", \"2018\"], \"xaxis\": \"x\", \"y\": [13, 23, 35, 22, 34, 36, 31, 44, 28, 65, 18, 54, 109, 96, 118, 25, 73, 39, 62, 61], \"yaxis\": \"y\"}, {\"hovertemplate\": \"variable=Ghana<br>year=%{x}<br>value=%{y}<extra></extra>\", \"legendgroup\": \"Ghana\", \"line\": {\"color\": \"#FECB52\", \"dash\": \"solid\"}, \"mode\": \"lines\", \"name\": \"Ghana\", \"showlegend\": true, \"type\": \"scattergl\", \"x\": [\"1999\", \"2000\", \"2001\", \"2002\", \"2003\", \"2004\", \"2005\", \"2006\", \"2007\", \"2008\", \"2009\", \"2010\", \"2011\", \"2012\", \"2013\", \"2014\", \"2015\", \"2016\", \"2017\", \"2018\"], \"xaxis\": \"x\", \"y\": [630, 607, 821, 805, 909, 1125, 1205, 1645, 1856, 2030, 2132, 2133, 2190, 2086, 2301, 737, 1564, 1865, 2210, 2147], \"yaxis\": \"y\"}, {\"hovertemplate\": \"variable=Guinea<br>year=%{x}<br>value=%{y}<extra></extra>\", \"legendgroup\": \"Guinea\", \"line\": {\"color\": \"#636efa\", \"dash\": \"solid\"}, \"mode\": \"lines\", \"name\": \"Guinea\", \"showlegend\": true, \"type\": \"scattergl\", \"x\": [\"1999\", \"2000\", \"2001\", \"2002\", \"2003\", \"2004\", \"2005\", \"2006\", \"2007\", \"2008\", \"2009\", \"2010\", \"2011\", \"2012\", \"2013\", \"2014\", \"2015\", \"2016\", \"2017\", \"2018\"], \"xaxis\": \"x\", \"y\": [1, 0, 10, 0, 2, 1, 1, 1, 0, 0, 0, 0, 4, 20, 4, 0, 7, 2, 14, 8], \"yaxis\": \"y\"}, {\"hovertemplate\": \"variable=Guinea-Bissau<br>year=%{x}<br>value=%{y}<extra></extra>\", \"legendgroup\": \"Guinea-Bissau\", \"line\": {\"color\": \"#EF553B\", \"dash\": \"solid\"}, \"mode\": \"lines\", \"name\": \"Guinea-Bissau\", \"showlegend\": true, \"type\": \"scattergl\", \"x\": [\"1999\", \"2000\", \"2001\", \"2002\", \"2003\", \"2004\", \"2005\", \"2006\", \"2007\", \"2008\", \"2009\", \"2010\", \"2011\", \"2012\", \"2013\", \"2014\", \"2015\", \"2016\", \"2017\", \"2018\"], \"xaxis\": \"x\", \"y\": [0, 0, 0, 0, 0, 0, 1, 0, 0, 0, 0, 0, 0, 0, 5, 0, 0, 1, 6, 0], \"yaxis\": \"y\"}, {\"hovertemplate\": \"variable=Liberia<br>year=%{x}<br>value=%{y}<extra></extra>\", \"legendgroup\": \"Liberia\", \"line\": {\"color\": \"#00cc96\", \"dash\": \"solid\"}, \"mode\": \"lines\", \"name\": \"Liberia\", \"showlegend\": true, \"type\": \"scattergl\", \"x\": [\"1999\", \"2000\", \"2001\", \"2002\", \"2003\", \"2004\", \"2005\", \"2006\", \"2007\", \"2008\", \"2009\", \"2010\", \"2011\", \"2012\", \"2013\", \"2014\", \"2015\", \"2016\", \"2017\", \"2018\"], \"xaxis\": \"x\", \"y\": [3, 0, 0, 1, 2, 0, 3, 25, 3, 42, 35, 53, 83, 47, 70, 3, 15, 30, 37, 40], \"yaxis\": \"y\"}, {\"hovertemplate\": \"variable=Mali<br>year=%{x}<br>value=%{y}<extra></extra>\", \"legendgroup\": \"Mali\", \"line\": {\"color\": \"#ab63fa\", \"dash\": \"solid\"}, \"mode\": \"lines\", \"name\": \"Mali\", \"showlegend\": true, \"type\": \"scattergl\", \"x\": [\"1999\", \"2000\", \"2001\", \"2002\", \"2003\", \"2004\", \"2005\", \"2006\", \"2007\", \"2008\", \"2009\", \"2010\", \"2011\", \"2012\", \"2013\", \"2014\", \"2015\", \"2016\", \"2017\", \"2018\"], \"xaxis\": \"x\", \"y\": [82, 57, 44, 31, 66, 55, 66, 39, 145, 77, 101, 29, 73, 0, 16, 3, 3, 2, 3, 0], \"yaxis\": \"y\"}, {\"hovertemplate\": \"variable=Mauritania<br>year=%{x}<br>value=%{y}<extra></extra>\", \"legendgroup\": \"Mauritania\", \"line\": {\"color\": \"#FFA15A\", \"dash\": \"solid\"}, \"mode\": \"lines\", \"name\": \"Mauritania\", \"showlegend\": true, \"type\": \"scattergl\", \"x\": [\"1999\", \"2000\", \"2001\", \"2002\", \"2003\", \"2004\", \"2005\", \"2006\", \"2007\", \"2008\", \"2009\", \"2010\", \"2011\", \"2012\", \"2013\", \"2014\", \"2015\", \"2016\", \"2017\", \"2018\"], \"xaxis\": \"x\", \"y\": [1, 2, 1, 4, 3, 0, 1, 0, 14, 2, 14, 0, 1, 0, 1, 0, 0, 0, 2, 0], \"yaxis\": \"y\"}, {\"hovertemplate\": \"variable=Niger<br>year=%{x}<br>value=%{y}<extra></extra>\", \"legendgroup\": \"Niger\", \"line\": {\"color\": \"#19d3f3\", \"dash\": \"solid\"}, \"mode\": \"lines\", \"name\": \"Niger\", \"showlegend\": true, \"type\": \"scattergl\", \"x\": [\"1999\", \"2000\", \"2001\", \"2002\", \"2003\", \"2004\", \"2005\", \"2006\", \"2007\", \"2008\", \"2009\", \"2010\", \"2011\", \"2012\", \"2013\", \"2014\", \"2015\", \"2016\", \"2017\", \"2018\"], \"xaxis\": \"x\", \"y\": [14, 14, 24, 23, 14, 24, 22, 16, 19, 80, 29, 21, 0, 4, 5, 3, 5, 6, 0, 6], \"yaxis\": \"y\"}, {\"hovertemplate\": \"variable=Nigeria<br>year=%{x}<br>value=%{y}<extra></extra>\", \"legendgroup\": \"Nigeria\", \"line\": {\"color\": \"#FF6692\", \"dash\": \"solid\"}, \"mode\": \"lines\", \"name\": \"Nigeria\", \"showlegend\": true, \"type\": \"scattergl\", \"x\": [\"1999\", \"2000\", \"2001\", \"2002\", \"2003\", \"2004\", \"2005\", \"2006\", \"2007\", \"2008\", \"2009\", \"2010\", \"2011\", \"2012\", \"2013\", \"2014\", \"2015\", \"2016\", \"2017\", \"2018\"], \"xaxis\": \"x\", \"y\": [26, 5, 10, 24, 29, 14, 37, 22, 11, 42, 35, 41, 23, 32, 18, 11, 11, 42, 34, 38], \"yaxis\": \"y\"}, {\"hovertemplate\": \"variable=Saint Helena<br>year=%{x}<br>value=%{y}<extra></extra>\", \"legendgroup\": \"Saint Helena\", \"line\": {\"color\": \"#B6E880\", \"dash\": \"solid\"}, \"mode\": \"lines\", \"name\": \"Saint Helena\", \"showlegend\": true, \"type\": \"scattergl\", \"x\": [\"1999\", \"2000\", \"2001\", \"2002\", \"2003\", \"2004\", \"2005\", \"2006\", \"2007\", \"2008\", \"2009\", \"2010\", \"2011\", \"2012\", \"2013\", \"2014\", \"2015\", \"2016\", \"2017\", \"2018\"], \"xaxis\": \"x\", \"y\": [0, 0, 0, 0, 0, 0, 0, 0, 0, 0, 0, 0, 0, 0, 11, 0, 0, 0, 0, 0], \"yaxis\": \"y\"}, {\"hovertemplate\": \"variable=Senegal<br>year=%{x}<br>value=%{y}<extra></extra>\", \"legendgroup\": \"Senegal\", \"line\": {\"color\": \"#FF97FF\", \"dash\": \"solid\"}, \"mode\": \"lines\", \"name\": \"Senegal\", \"showlegend\": true, \"type\": \"scattergl\", \"x\": [\"1999\", \"2000\", \"2001\", \"2002\", \"2003\", \"2004\", \"2005\", \"2006\", \"2007\", \"2008\", \"2009\", \"2010\", \"2011\", \"2012\", \"2013\", \"2014\", \"2015\", \"2016\", \"2017\", \"2018\"], \"xaxis\": \"x\", \"y\": [180, 140, 211, 286, 280, 320, 440, 475, 463, 384, 381, 375, 399, 278, 381, 199, 281, 344, 337, 376], \"yaxis\": \"y\"}, {\"hovertemplate\": \"variable=Sierra Leone<br>year=%{x}<br>value=%{y}<extra></extra>\", \"legendgroup\": \"Sierra Leone\", \"line\": {\"color\": \"#FECB52\", \"dash\": \"solid\"}, \"mode\": \"lines\", \"name\": \"Sierra Leone\", \"showlegend\": true, \"type\": \"scattergl\", \"x\": [\"1999\", \"2000\", \"2001\", \"2002\", \"2003\", \"2004\", \"2005\", \"2006\", \"2007\", \"2008\", \"2009\", \"2010\", \"2011\", \"2012\", \"2013\", \"2014\", \"2015\", \"2016\", \"2017\", \"2018\"], \"xaxis\": \"x\", \"y\": [0, 0, 0, 7, 0, 3, 8, 15, 42, 13, 69, 67, 122, 89, 128, 3, 29, 56, 79, 57], \"yaxis\": \"y\"}, {\"hovertemplate\": \"variable=Togo<br>year=%{x}<br>value=%{y}<extra></extra>\", \"legendgroup\": \"Togo\", \"line\": {\"color\": \"#636efa\", \"dash\": \"solid\"}, \"mode\": \"lines\", \"name\": \"Togo\", \"showlegend\": true, \"type\": \"scattergl\", \"x\": [\"1999\", \"2000\", \"2001\", \"2002\", \"2003\", \"2004\", \"2005\", \"2006\", \"2007\", \"2008\", \"2009\", \"2010\", \"2011\", \"2012\", \"2013\", \"2014\", \"2015\", \"2016\", \"2017\", \"2018\"], \"xaxis\": \"x\", \"y\": [5, 4, 7, 7, 16, 2, 2, 12, 3, 10, 4, 9, 25, 5, 36, 5, 22, 28, 28, 4], \"yaxis\": \"y\"}, {\"hovertemplate\": \"variable=China<br>year=%{x}<br>value=%{y}<extra></extra>\", \"legendgroup\": \"China\", \"line\": {\"color\": \"#EF553B\", \"dash\": \"solid\"}, \"mode\": \"lines\", \"name\": \"China\", \"showlegend\": true, \"type\": \"scattergl\", \"x\": [\"1999\", \"2000\", \"2001\", \"2002\", \"2003\", \"2004\", \"2005\", \"2006\", \"2007\", \"2008\", \"2009\", \"2010\", \"2011\", \"2012\", \"2013\", \"2014\", \"2015\", \"2016\", \"2017\", \"2018\"], \"xaxis\": \"x\", \"y\": [2949, 2942, 3911, 2493, 4737, 6389, 8830, 11064, 13165, 13674, 13910, 14596, 14887, 14413, 13763, 12790, 11688, 11910, 11613, 11639], \"yaxis\": \"y\"}, {\"hovertemplate\": \"variable=Hong Kong<br>year=%{x}<br>value=%{y}<extra></extra>\", \"legendgroup\": \"Hong Kong\", \"line\": {\"color\": \"#00cc96\", \"dash\": \"solid\"}, \"mode\": \"lines\", \"name\": \"Hong Kong\", \"showlegend\": true, \"type\": \"scattergl\", \"x\": [\"1999\", \"2000\", \"2001\", \"2002\", \"2003\", \"2004\", \"2005\", \"2006\", \"2007\", \"2008\", \"2009\", \"2010\", \"2011\", \"2012\", \"2013\", \"2014\", \"2015\", \"2016\", \"2017\", \"2018\"], \"xaxis\": \"x\", \"y\": [342, 470, 501, 458, 487, 748, 915, 1059, 1093, 1155, 1196, 1033, 1474, 1401, 1596, 1508, 1612, 1641, 1859, 2314], \"yaxis\": \"y\"}, {\"hovertemplate\": \"variable=Japan<br>year=%{x}<br>value=%{y}<extra></extra>\", \"legendgroup\": \"Japan\", \"line\": {\"color\": \"#ab63fa\", \"dash\": \"solid\"}, \"mode\": \"lines\", \"name\": \"Japan\", \"showlegend\": true, \"type\": \"scattergl\", \"x\": [\"1999\", \"2000\", \"2001\", \"2002\", \"2003\", \"2004\", \"2005\", \"2006\", \"2007\", \"2008\", \"2009\", \"2010\", \"2011\", \"2012\", \"2013\", \"2014\", \"2015\", \"2016\", \"2017\", \"2018\"], \"xaxis\": \"x\", \"y\": [2679, 2618, 3168, 3457, 3707, 4100, 4411, 5012, 5710, 5784, 6166, 4134, 5283, 5758, 5978, 6053, 7145, 7531, 8467, 8928], \"yaxis\": \"y\"}, {\"hovertemplate\": \"variable=Macau<br>year=%{x}<br>value=%{y}<extra></extra>\", \"legendgroup\": \"Macau\", \"line\": {\"color\": \"#FFA15A\", \"dash\": \"solid\"}, \"mode\": \"lines\", \"name\": \"Macau\", \"showlegend\": true, \"type\": \"scattergl\", \"x\": [\"1999\", \"2000\", \"2001\", \"2002\", \"2003\", \"2004\", \"2005\", \"2006\", \"2007\", \"2008\", \"2009\", \"2010\", \"2011\", \"2012\", \"2013\", \"2014\", \"2015\", \"2016\", \"2017\", \"2018\"], \"xaxis\": \"x\", \"y\": [0, 5, 2, 0, 0, 0, 0, 3, 4, 0, 6, 18, 4, 17, 18, 3, 4, 33, 4, 23], \"yaxis\": \"y\"}, {\"hovertemplate\": \"variable=Mongolia<br>year=%{x}<br>value=%{y}<extra></extra>\", \"legendgroup\": \"Mongolia\", \"line\": {\"color\": \"#19d3f3\", \"dash\": \"solid\"}, \"mode\": \"lines\", \"name\": \"Mongolia\", \"showlegend\": true, \"type\": \"scattergl\", \"x\": [\"1999\", \"2000\", \"2001\", \"2002\", \"2003\", \"2004\", \"2005\", \"2006\", \"2007\", \"2008\", \"2009\", \"2010\", \"2011\", \"2012\", \"2013\", \"2014\", \"2015\", \"2016\", \"2017\", \"2018\"], \"xaxis\": \"x\", \"y\": [2, 39, 33, 27, 68, 66, 92, 54, 85, 72, 53, 76, 76, 52, 85, 71, 71, 90, 85, 132], \"yaxis\": \"y\"}, {\"hovertemplate\": \"variable=North Korea<br>year=%{x}<br>value=%{y}<extra></extra>\", \"legendgroup\": \"North Korea\", \"line\": {\"color\": \"#FF6692\", \"dash\": \"solid\"}, \"mode\": \"lines\", \"name\": \"North Korea\", \"showlegend\": true, \"type\": \"scattergl\", \"x\": [\"1999\", \"2000\", \"2001\", \"2002\", \"2003\", \"2004\", \"2005\", \"2006\", \"2007\", \"2008\", \"2009\", \"2010\", \"2011\", \"2012\", \"2013\", \"2014\", \"2015\", \"2016\", \"2017\", \"2018\"], \"xaxis\": \"x\", \"y\": [0, 0, 0, 0, 2, 0, 0, 0, 0, 0, 0, 0, 0, 0, 0, 0, 0, 0, 0, 0], \"yaxis\": \"y\"}, {\"hovertemplate\": \"variable=South Korea<br>year=%{x}<br>value=%{y}<extra></extra>\", \"legendgroup\": \"South Korea\", \"line\": {\"color\": \"#B6E880\", \"dash\": \"solid\"}, \"mode\": \"lines\", \"name\": \"South Korea\", \"showlegend\": true, \"type\": \"scattergl\", \"x\": [\"1999\", \"2000\", \"2001\", \"2002\", \"2003\", \"2004\", \"2005\", \"2006\", \"2007\", \"2008\", \"2009\", \"2010\", \"2011\", \"2012\", \"2013\", \"2014\", \"2015\", \"2016\", \"2017\", \"2018\"], \"xaxis\": \"x\", \"y\": [444, 522, 631, 739, 879, 962, 1267, 1312, 1597, 2062, 2137, 2487, 2695, 3042, 3219, 3520, 3622, 3770, 3929, 4558], \"yaxis\": \"y\"}, {\"hovertemplate\": \"variable=Taiwan<br>year=%{x}<br>value=%{y}<extra></extra>\", \"legendgroup\": \"Taiwan\", \"line\": {\"color\": \"#FF97FF\", \"dash\": \"solid\"}, \"mode\": \"lines\", \"name\": \"Taiwan\", \"showlegend\": true, \"type\": \"scattergl\", \"x\": [\"1999\", \"2000\", \"2001\", \"2002\", \"2003\", \"2004\", \"2005\", \"2006\", \"2007\", \"2008\", \"2009\", \"2010\", \"2011\", \"2012\", \"2013\", \"2014\", \"2015\", \"2016\", \"2017\", \"2018\"], \"xaxis\": \"x\", \"y\": [169, 182, 173, 148, 195, 194, 367, 467, 578, 597, 850, 814, 820, 890, 801, 880, 980, 1002, 857, 1270], \"yaxis\": \"y\"}, {\"hovertemplate\": \"variable=Afghanistan<br>year=%{x}<br>value=%{y}<extra></extra>\", \"legendgroup\": \"Afghanistan\", \"line\": {\"color\": \"#FECB52\", \"dash\": \"solid\"}, \"mode\": \"lines\", \"name\": \"Afghanistan\", \"showlegend\": true, \"type\": \"scattergl\", \"x\": [\"1999\", \"2000\", \"2001\", \"2002\", \"2003\", \"2004\", \"2005\", \"2006\", \"2007\", \"2008\", \"2009\", \"2010\", \"2011\", \"2012\", \"2013\", \"2014\", \"2015\", \"2016\", \"2017\", \"2018\"], \"xaxis\": \"x\", \"y\": [0, 0, 1, 2, 0, 0, 0, 5, 1, 0, 22, 8, 1, 2, 2, 0, 2, 3, 1, 2], \"yaxis\": \"y\"}, {\"hovertemplate\": \"variable=Bangladesh<br>year=%{x}<br>value=%{y}<extra></extra>\", \"legendgroup\": \"Bangladesh\", \"line\": {\"color\": \"#636efa\", \"dash\": \"solid\"}, \"mode\": \"lines\", \"name\": \"Bangladesh\", \"showlegend\": true, \"type\": \"scattergl\", \"x\": [\"1999\", \"2000\", \"2001\", \"2002\", \"2003\", \"2004\", \"2005\", \"2006\", \"2007\", \"2008\", \"2009\", \"2010\", \"2011\", \"2012\", \"2013\", \"2014\", \"2015\", \"2016\", \"2017\", \"2018\"], \"xaxis\": \"x\", \"y\": [21, 49, 4, 21, 24, 34, 55, 36, 58, 84, 132, 158, 107, 140, 54, 81, 27, 25, 43, 45], \"yaxis\": \"y\"}, {\"hovertemplate\": \"variable=Bhutan<br>year=%{x}<br>value=%{y}<extra></extra>\", \"legendgroup\": \"Bhutan\", \"line\": {\"color\": \"#EF553B\", \"dash\": \"solid\"}, \"mode\": \"lines\", \"name\": \"Bhutan\", \"showlegend\": true, \"type\": \"scattergl\", \"x\": [\"1999\", \"2000\", \"2001\", \"2002\", \"2003\", \"2004\", \"2005\", \"2006\", \"2007\", \"2008\", \"2009\", \"2010\", \"2011\", \"2012\", \"2013\", \"2014\", \"2015\", \"2016\", \"2017\", \"2018\"], \"xaxis\": \"x\", \"y\": [1, 0, 13, 1, 11, 1, 38, 11, 22, 1, 22, 24, 28, 26, 38, 41, 114, 74, 104, 122], \"yaxis\": \"y\"}, {\"hovertemplate\": \"variable=India<br>year=%{x}<br>value=%{y}<extra></extra>\", \"legendgroup\": \"India\", \"line\": {\"color\": \"#00cc96\", \"dash\": \"solid\"}, \"mode\": \"lines\", \"name\": \"India\", \"showlegend\": true, \"type\": \"scattergl\", \"x\": [\"1999\", \"2000\", \"2001\", \"2002\", \"2003\", \"2004\", \"2005\", \"2006\", \"2007\", \"2008\", \"2009\", \"2010\", \"2011\", \"2012\", \"2013\", \"2014\", \"2015\", \"2016\", \"2017\", \"2018\"], \"xaxis\": \"x\", \"y\": [811, 750, 627, 703, 1157, 1767, 2115, 2627, 3146, 2690, 3884, 4345, 4593, 4377, 4583, 4438, 4181, 4704, 3986, 3366], \"yaxis\": \"y\"}, {\"hovertemplate\": \"variable=Kazakhstan<br>year=%{x}<br>value=%{y}<extra></extra>\", \"legendgroup\": \"Kazakhstan\", \"line\": {\"color\": \"#ab63fa\", \"dash\": \"solid\"}, \"mode\": \"lines\", \"name\": \"Kazakhstan\", \"showlegend\": true, \"type\": \"scattergl\", \"x\": [\"1999\", \"2000\", \"2001\", \"2002\", \"2003\", \"2004\", \"2005\", \"2006\", \"2007\", \"2008\", \"2009\", \"2010\", \"2011\", \"2012\", \"2013\", \"2014\", \"2015\", \"2016\", \"2017\", \"2018\"], \"xaxis\": \"x\", \"y\": [2, 2, 1, 2, 10, 9, 22, 12, 12, 22, 21, 54, 26, 17, 37, 55, 56, 76, 50, 49], \"yaxis\": \"y\"}, {\"hovertemplate\": \"variable=Kyrgyzstan<br>year=%{x}<br>value=%{y}<extra></extra>\", \"legendgroup\": \"Kyrgyzstan\", \"line\": {\"color\": \"#FFA15A\", \"dash\": \"solid\"}, \"mode\": \"lines\", \"name\": \"Kyrgyzstan\", \"showlegend\": true, \"type\": \"scattergl\", \"x\": [\"1999\", \"2000\", \"2001\", \"2002\", \"2003\", \"2004\", \"2005\", \"2006\", \"2007\", \"2008\", \"2009\", \"2010\", \"2011\", \"2012\", \"2013\", \"2014\", \"2015\", \"2016\", \"2017\", \"2018\"], \"xaxis\": \"x\", \"y\": [9, 0, 0, 2, 0, 0, 1, 2, 3, 4, 2, 9, 37, 18, 27, 30, 59, 29, 63, 71], \"yaxis\": \"y\"}, {\"hovertemplate\": \"variable=Maldives<br>year=%{x}<br>value=%{y}<extra></extra>\", \"legendgroup\": \"Maldives\", \"line\": {\"color\": \"#19d3f3\", \"dash\": \"solid\"}, \"mode\": \"lines\", \"name\": \"Maldives\", \"showlegend\": true, \"type\": \"scattergl\", \"x\": [\"1999\", \"2000\", \"2001\", \"2002\", \"2003\", \"2004\", \"2005\", \"2006\", \"2007\", \"2008\", \"2009\", \"2010\", \"2011\", \"2012\", \"2013\", \"2014\", \"2015\", \"2016\", \"2017\", \"2018\"], \"xaxis\": \"x\", \"y\": [0, 0, 0, 0, 0, 0, 1, 0, 2, 1, 3, 0, 1, 0, 1, 0, 0, 0, 0, 2], \"yaxis\": \"y\"}, {\"hovertemplate\": \"variable=Nepal<br>year=%{x}<br>value=%{y}<extra></extra>\", \"legendgroup\": \"Nepal\", \"line\": {\"color\": \"#FF6692\", \"dash\": \"solid\"}, \"mode\": \"lines\", \"name\": \"Nepal\", \"showlegend\": true, \"type\": \"scattergl\", \"x\": [\"1999\", \"2000\", \"2001\", \"2002\", \"2003\", \"2004\", \"2005\", \"2006\", \"2007\", \"2008\", \"2009\", \"2010\", \"2011\", \"2012\", \"2013\", \"2014\", \"2015\", \"2016\", \"2017\", \"2018\"], \"xaxis\": \"x\", \"y\": [389, 395, 214, 142, 98, 77, 41, 87, 187, 123, 145, 210, 257, 383, 460, 368, 370, 581, 566, 647], \"yaxis\": \"y\"}, {\"hovertemplate\": \"variable=Pakistan<br>year=%{x}<br>value=%{y}<extra></extra>\", \"legendgroup\": \"Pakistan\", \"line\": {\"color\": \"#B6E880\", \"dash\": \"solid\"}, \"mode\": \"lines\", \"name\": \"Pakistan\", \"showlegend\": true, \"type\": \"scattergl\", \"x\": [\"1999\", \"2000\", \"2001\", \"2002\", \"2003\", \"2004\", \"2005\", \"2006\", \"2007\", \"2008\", \"2009\", \"2010\", \"2011\", \"2012\", \"2013\", \"2014\", \"2015\", \"2016\", \"2017\", \"2018\"], \"xaxis\": \"x\", \"y\": [3, 3, 9, 9, 5, 3, 13, 5, 4, 5, 10, 14, 4, 11, 6, 10, 6, 6, 5, 7], \"yaxis\": \"y\"}, {\"hovertemplate\": \"variable=Sri Lanka<br>year=%{x}<br>value=%{y}<extra></extra>\", \"legendgroup\": \"Sri Lanka\", \"line\": {\"color\": \"#FF97FF\", \"dash\": \"solid\"}, \"mode\": \"lines\", \"name\": \"Sri Lanka\", \"showlegend\": true, \"type\": \"scattergl\", \"x\": [\"1999\", \"2000\", \"2001\", \"2002\", \"2003\", \"2004\", \"2005\", \"2006\", \"2007\", \"2008\", \"2009\", \"2010\", \"2011\", \"2012\", \"2013\", \"2014\", \"2015\", \"2016\", \"2017\", \"2018\"], \"xaxis\": \"x\", \"y\": [46, 59, 46, 72, 32, 67, 123, 28, 48, 22, 25, 69, 102, 87, 100, 121, 145, 157, 85, 67], \"yaxis\": \"y\"}, {\"hovertemplate\": \"variable=Tajikistan<br>year=%{x}<br>value=%{y}<extra></extra>\", \"legendgroup\": \"Tajikistan\", \"line\": {\"color\": \"#FECB52\", \"dash\": \"solid\"}, \"mode\": \"lines\", \"name\": \"Tajikistan\", \"showlegend\": true, \"type\": \"scattergl\", \"x\": [\"1999\", \"2000\", \"2001\", \"2002\", \"2003\", \"2004\", \"2005\", \"2006\", \"2007\", \"2008\", \"2009\", \"2010\", \"2011\", \"2012\", \"2013\", \"2014\", \"2015\", \"2016\", \"2017\", \"2018\"], \"xaxis\": \"x\", \"y\": [1, 0, 1, 1, 1, 0, 3, 3, 19, 10, 39, 20, 29, 9, 26, 18, 17, 16, 15, 7], \"yaxis\": \"y\"}, {\"hovertemplate\": \"variable=Turkmenistan<br>year=%{x}<br>value=%{y}<extra></extra>\", \"legendgroup\": \"Turkmenistan\", \"line\": {\"color\": \"#636efa\", \"dash\": \"solid\"}, \"mode\": \"lines\", \"name\": \"Turkmenistan\", \"showlegend\": true, \"type\": \"scattergl\", \"x\": [\"1999\", \"2000\", \"2001\", \"2002\", \"2003\", \"2004\", \"2005\", \"2006\", \"2007\", \"2008\", \"2009\", \"2010\", \"2011\", \"2012\", \"2013\", \"2014\", \"2015\", \"2016\", \"2017\", \"2018\"], \"xaxis\": \"x\", \"y\": [0, 0, 0, 0, 0, 1, 0, 0, 0, 2, 0, 0, 0, 0, 0, 0, 1, 0, 0, 0], \"yaxis\": \"y\"}, {\"hovertemplate\": \"variable=Uzbekistan<br>year=%{x}<br>value=%{y}<extra></extra>\", \"legendgroup\": \"Uzbekistan\", \"line\": {\"color\": \"#EF553B\", \"dash\": \"solid\"}, \"mode\": \"lines\", \"name\": \"Uzbekistan\", \"showlegend\": true, \"type\": \"scattergl\", \"x\": [\"1999\", \"2000\", \"2001\", \"2002\", \"2003\", \"2004\", \"2005\", \"2006\", \"2007\", \"2008\", \"2009\", \"2010\", \"2011\", \"2012\", \"2013\", \"2014\", \"2015\", \"2016\", \"2017\", \"2018\"], \"xaxis\": \"x\", \"y\": [2, 1, 0, 6, 11, 5, 5, 4, 2, 3, 12, 10, 12, 4, 3, 0, 2, 7, 1, 1], \"yaxis\": \"y\"}, {\"hovertemplate\": \"variable=Brunei<br>year=%{x}<br>value=%{y}<extra></extra>\", \"legendgroup\": \"Brunei\", \"line\": {\"color\": \"#00cc96\", \"dash\": \"solid\"}, \"mode\": \"lines\", \"name\": \"Brunei\", \"showlegend\": true, \"type\": \"scattergl\", \"x\": [\"1999\", \"2000\", \"2001\", \"2002\", \"2003\", \"2004\", \"2005\", \"2006\", \"2007\", \"2008\", \"2009\", \"2010\", \"2011\", \"2012\", \"2013\", \"2014\", \"2015\", \"2016\", \"2017\", \"2018\"], \"xaxis\": \"x\", \"y\": [0, 0, 0, 0, 0, 0, 1, 0, 0, 0, 1, 1, 2, 1, 0, 25, 11, 0, 0, 0], \"yaxis\": \"y\"}, {\"hovertemplate\": \"variable=Cambodia<br>year=%{x}<br>value=%{y}<extra></extra>\", \"legendgroup\": \"Cambodia\", \"line\": {\"color\": \"#ab63fa\", \"dash\": \"solid\"}, \"mode\": \"lines\", \"name\": \"Cambodia\", \"showlegend\": true, \"type\": \"scattergl\", \"x\": [\"1999\", \"2000\", \"2001\", \"2002\", \"2003\", \"2004\", \"2005\", \"2006\", \"2007\", \"2008\", \"2009\", \"2010\", \"2011\", \"2012\", \"2013\", \"2014\", \"2015\", \"2016\", \"2017\", \"2018\"], \"xaxis\": \"x\", \"y\": [12, 9, 10, 12, 43, 63, 79, 158, 221, 183, 320, 273, 303, 395, 381, 482, 594, 466, 415, 411], \"yaxis\": \"y\"}, {\"hovertemplate\": \"variable=Indonesia<br>year=%{x}<br>value=%{y}<extra></extra>\", \"legendgroup\": \"Indonesia\", \"line\": {\"color\": \"#FFA15A\", \"dash\": \"solid\"}, \"mode\": \"lines\", \"name\": \"Indonesia\", \"showlegend\": true, \"type\": \"scattergl\", \"x\": [\"1999\", \"2000\", \"2001\", \"2002\", \"2003\", \"2004\", \"2005\", \"2006\", \"2007\", \"2008\", \"2009\", \"2010\", \"2011\", \"2012\", \"2013\", \"2014\", \"2015\", \"2016\", \"2017\", \"2018\"], \"xaxis\": \"x\", \"y\": [189, 213, 52, 26, 24, 28, 57, 132, 74, 176, 221, 223, 369, 493, 508, 534, 597, 555, 825, 677], \"yaxis\": \"y\"}, {\"hovertemplate\": \"variable=Laos<br>year=%{x}<br>value=%{y}<extra></extra>\", \"legendgroup\": \"Laos\", \"line\": {\"color\": \"#19d3f3\", \"dash\": \"solid\"}, \"mode\": \"lines\", \"name\": \"Laos\", \"showlegend\": true, \"type\": \"scattergl\", \"x\": [\"1999\", \"2000\", \"2001\", \"2002\", \"2003\", \"2004\", \"2005\", \"2006\", \"2007\", \"2008\", \"2009\", \"2010\", \"2011\", \"2012\", \"2013\", \"2014\", \"2015\", \"2016\", \"2017\", \"2018\"], \"xaxis\": \"x\", \"y\": [1, 2, 1, 2, 1, 2, 22, 38, 14, 23, 20, 38, 6, 6, 5, 15, 12, 23, 10, 14], \"yaxis\": \"y\"}, {\"hovertemplate\": \"variable=Malaysia<br>year=%{x}<br>value=%{y}<extra></extra>\", \"legendgroup\": \"Malaysia\", \"line\": {\"color\": \"#FF6692\", \"dash\": \"solid\"}, \"mode\": \"lines\", \"name\": \"Malaysia\", \"showlegend\": true, \"type\": \"scattergl\", \"x\": [\"1999\", \"2000\", \"2001\", \"2002\", \"2003\", \"2004\", \"2005\", \"2006\", \"2007\", \"2008\", \"2009\", \"2010\", \"2011\", \"2012\", \"2013\", \"2014\", \"2015\", \"2016\", \"2017\", \"2018\"], \"xaxis\": \"x\", \"y\": [26, 77, 25, 47, 43, 77, 108, 121, 105, 137, 125, 167, 176, 237, 159, 152, 279, 310, 153, 241], \"yaxis\": \"y\"}, {\"hovertemplate\": \"variable=Myanmar<br>year=%{x}<br>value=%{y}<extra></extra>\", \"legendgroup\": \"Myanmar\", \"line\": {\"color\": \"#B6E880\", \"dash\": \"solid\"}, \"mode\": \"lines\", \"name\": \"Myanmar\", \"showlegend\": true, \"type\": \"scattergl\", \"x\": [\"1999\", \"2000\", \"2001\", \"2002\", \"2003\", \"2004\", \"2005\", \"2006\", \"2007\", \"2008\", \"2009\", \"2010\", \"2011\", \"2012\", \"2013\", \"2014\", \"2015\", \"2016\", \"2017\", \"2018\"], \"xaxis\": \"x\", \"y\": [1, 0, 0, 1, 2, 2, 26, 27, 4, 3, 18, 29, 3, 26, 61, 67, 55, 68, 29, 77], \"yaxis\": \"y\"}, {\"hovertemplate\": \"variable=Philippines<br>year=%{x}<br>value=%{y}<extra></extra>\", \"legendgroup\": \"Philippines\", \"line\": {\"color\": \"#FF97FF\", \"dash\": \"solid\"}, \"mode\": \"lines\", \"name\": \"Philippines\", \"showlegend\": true, \"type\": \"scattergl\", \"x\": [\"1999\", \"2000\", \"2001\", \"2002\", \"2003\", \"2004\", \"2005\", \"2006\", \"2007\", \"2008\", \"2009\", \"2010\", \"2011\", \"2012\", \"2013\", \"2014\", \"2015\", \"2016\", \"2017\", \"2018\"], \"xaxis\": \"x\", \"y\": [107, 108, 102, 124, 165, 119, 100, 130, 194, 158, 238, 263, 273, 273, 329, 353, 460, 464, 409, 381], \"yaxis\": \"y\"}, {\"hovertemplate\": \"variable=Singapore<br>year=%{x}<br>value=%{y}<extra></extra>\", \"legendgroup\": \"Singapore\", \"line\": {\"color\": \"#FECB52\", \"dash\": \"solid\"}, \"mode\": \"lines\", \"name\": \"Singapore\", \"showlegend\": true, \"type\": \"scattergl\", \"x\": [\"1999\", \"2000\", \"2001\", \"2002\", \"2003\", \"2004\", \"2005\", \"2006\", \"2007\", \"2008\", \"2009\", \"2010\", \"2011\", \"2012\", \"2013\", \"2014\", \"2015\", \"2016\", \"2017\", \"2018\"], \"xaxis\": \"x\", \"y\": [87, 117, 231, 176, 263, 377, 423, 437, 568, 612, 841, 715, 1130, 1181, 1124, 1080, 969, 1165, 1121, 1434], \"yaxis\": \"y\"}, {\"hovertemplate\": \"variable=Thailand<br>year=%{x}<br>value=%{y}<extra></extra>\", \"legendgroup\": \"Thailand\", \"line\": {\"color\": \"#636efa\", \"dash\": \"solid\"}, \"mode\": \"lines\", \"name\": \"Thailand\", \"showlegend\": true, \"type\": \"scattergl\", \"x\": [\"1999\", \"2000\", \"2001\", \"2002\", \"2003\", \"2004\", \"2005\", \"2006\", \"2007\", \"2008\", \"2009\", \"2010\", \"2011\", \"2012\", \"2013\", \"2014\", \"2015\", \"2016\", \"2017\", \"2018\"], \"xaxis\": \"x\", \"y\": [399, 496, 836, 794, 948, 1128, 1305, 1584, 1555, 1462, 1231, 1410, 1437, 1923, 1919, 2096, 2093, 2763, 2482, 2859], \"yaxis\": \"y\"}, {\"hovertemplate\": \"variable=Timor-Leste/East Timor<br>year=%{x}<br>value=%{y}<extra></extra>\", \"legendgroup\": \"Timor-Leste/East Timor\", \"line\": {\"color\": \"#EF553B\", \"dash\": \"solid\"}, \"mode\": \"lines\", \"name\": \"Timor-Leste/East Timor\", \"showlegend\": true, \"type\": \"scattergl\", \"x\": [\"1999\", \"2000\", \"2001\", \"2002\", \"2003\", \"2004\", \"2005\", \"2006\", \"2007\", \"2008\", \"2009\", \"2010\", \"2011\", \"2012\", \"2013\", \"2014\", \"2015\", \"2016\", \"2017\", \"2018\"], \"xaxis\": \"x\", \"y\": [0, 0, 1, 0, 17, 6, 1, 1, 2, 0, 4, 2, 3, 1, 7, 0, 9, 5, 3, 23], \"yaxis\": \"y\"}, {\"hovertemplate\": \"variable=Vietnam<br>year=%{x}<br>value=%{y}<extra></extra>\", \"legendgroup\": \"Vietnam\", \"line\": {\"color\": \"#00cc96\", \"dash\": \"solid\"}, \"mode\": \"lines\", \"name\": \"Vietnam\", \"showlegend\": true, \"type\": \"scattergl\", \"x\": [\"1999\", \"2000\", \"2001\", \"2002\", \"2003\", \"2004\", \"2005\", \"2006\", \"2007\", \"2008\", \"2009\", \"2010\", \"2011\", \"2012\", \"2013\", \"2014\", \"2015\", \"2016\", \"2017\", \"2018\"], \"xaxis\": \"x\", \"y\": [142, 188, 218, 286, 283, 346, 390, 550, 652, 672, 686, 881, 878, 683, 1000, 922, 1012, 1147, 1228, 1235], \"yaxis\": \"y\"}, {\"hovertemplate\": \"variable=Albania<br>year=%{x}<br>value=%{y}<extra></extra>\", \"legendgroup\": \"Albania\", \"line\": {\"color\": \"#ab63fa\", \"dash\": \"solid\"}, \"mode\": \"lines\", \"name\": \"Albania\", \"showlegend\": true, \"type\": \"scattergl\", \"x\": [\"1999\", \"2000\", \"2001\", \"2002\", \"2003\", \"2004\", \"2005\", \"2006\", \"2007\", \"2008\", \"2009\", \"2010\", \"2011\", \"2012\", \"2013\", \"2014\", \"2015\", \"2016\", \"2017\", \"2018\"], \"xaxis\": \"x\", \"y\": [42, 0, 0, 6, 3, 31, 36, 17, 14, 8, 24, 19, 17, 20, 17, 22, 29, 34, 28, 25], \"yaxis\": \"y\"}, {\"hovertemplate\": \"variable=Andorra<br>year=%{x}<br>value=%{y}<extra></extra>\", \"legendgroup\": \"Andorra\", \"line\": {\"color\": \"#FFA15A\", \"dash\": \"solid\"}, \"mode\": \"lines\", \"name\": \"Andorra\", \"showlegend\": true, \"type\": \"scattergl\", \"x\": [\"1999\", \"2000\", \"2001\", \"2002\", \"2003\", \"2004\", \"2005\", \"2006\", \"2007\", \"2008\", \"2009\", \"2010\", \"2011\", \"2012\", \"2013\", \"2014\", \"2015\", \"2016\", \"2017\", \"2018\"], \"xaxis\": \"x\", \"y\": [0, 0, 0, 0, 0, 0, 0, 2, 0, 0, 0, 0, 0, 0, 0, 0, 0, 0, 0, 0], \"yaxis\": \"y\"}, {\"hovertemplate\": \"variable=Armenia<br>year=%{x}<br>value=%{y}<extra></extra>\", \"legendgroup\": \"Armenia\", \"line\": {\"color\": \"#19d3f3\", \"dash\": \"solid\"}, \"mode\": \"lines\", \"name\": \"Armenia\", \"showlegend\": true, \"type\": \"scattergl\", \"x\": [\"1999\", \"2000\", \"2001\", \"2002\", \"2003\", \"2004\", \"2005\", \"2006\", \"2007\", \"2008\", \"2009\", \"2010\", \"2011\", \"2012\", \"2013\", \"2014\", \"2015\", \"2016\", \"2017\", \"2018\"], \"xaxis\": \"x\", \"y\": [0, 7, 1, 3, 5, 60, 61, 61, 24, 43, 51, 35, 20, 26, 39, 42, 43, 40, 24, 51], \"yaxis\": \"y\"}, {\"hovertemplate\": \"variable=Austria<br>year=%{x}<br>value=%{y}<extra></extra>\", \"legendgroup\": \"Austria\", \"line\": {\"color\": \"#FF6692\", \"dash\": \"solid\"}, \"mode\": \"lines\", \"name\": \"Austria\", \"showlegend\": true, \"type\": \"scattergl\", \"x\": [\"1999\", \"2000\", \"2001\", \"2002\", \"2003\", \"2004\", \"2005\", \"2006\", \"2007\", \"2008\", \"2009\", \"2010\", \"2011\", \"2012\", \"2013\", \"2014\", \"2015\", \"2016\", \"2017\", \"2018\"], \"xaxis\": \"x\", \"y\": [2246, 2396, 2180, 2798, 2444, 2757, 2792, 2810, 3356, 2836, 2701, 2736, 2657, 2673, 2744, 3211, 3216, 3308, 3161, 3039], \"yaxis\": \"y\"}, {\"hovertemplate\": \"variable=Azerbaijan<br>year=%{x}<br>value=%{y}<extra></extra>\", \"legendgroup\": \"Azerbaijan\", \"line\": {\"color\": \"#B6E880\", \"dash\": \"solid\"}, \"mode\": \"lines\", \"name\": \"Azerbaijan\", \"showlegend\": true, \"type\": \"scattergl\", \"x\": [\"1999\", \"2000\", \"2001\", \"2002\", \"2003\", \"2004\", \"2005\", \"2006\", \"2007\", \"2008\", \"2009\", \"2010\", \"2011\", \"2012\", \"2013\", \"2014\", \"2015\", \"2016\", \"2017\", \"2018\"], \"xaxis\": \"x\", \"y\": [1, 0, 1, 1, 0, 3, 9, 78, 1, 22, 27, 23, 5, 46, 16, 22, 23, 24, 16, 21], \"yaxis\": \"y\"}, {\"hovertemplate\": \"variable=Belarus<br>year=%{x}<br>value=%{y}<extra></extra>\", \"legendgroup\": \"Belarus\", \"line\": {\"color\": \"#FF97FF\", \"dash\": \"solid\"}, \"mode\": \"lines\", \"name\": \"Belarus\", \"showlegend\": true, \"type\": \"scattergl\", \"x\": [\"1999\", \"2000\", \"2001\", \"2002\", \"2003\", \"2004\", \"2005\", \"2006\", \"2007\", \"2008\", \"2009\", \"2010\", \"2011\", \"2012\", \"2013\", \"2014\", \"2015\", \"2016\", \"2017\", \"2018\"], \"xaxis\": \"x\", \"y\": [16, 0, 13, 12, 11, 4, 1, 1, 1, 0, 8, 12, 0, 7, 0, 0, 7, 0, 0, 11], \"yaxis\": \"y\"}, {\"hovertemplate\": \"variable=Belgium<br>year=%{x}<br>value=%{y}<extra></extra>\", \"legendgroup\": \"Belgium\", \"line\": {\"color\": \"#FECB52\", \"dash\": \"solid\"}, \"mode\": \"lines\", \"name\": \"Belgium\", \"showlegend\": true, \"type\": \"scattergl\", \"x\": [\"1999\", \"2000\", \"2001\", \"2002\", \"2003\", \"2004\", \"2005\", \"2006\", \"2007\", \"2008\", \"2009\", \"2010\", \"2011\", \"2012\", \"2013\", \"2014\", \"2015\", \"2016\", \"2017\", \"2018\"], \"xaxis\": \"x\", \"y\": [823, 670, 867, 890, 901, 876, 1126, 1171, 1173, 1447, 1244, 1374, 1300, 1297, 1458, 1477, 1285, 1158, 1256, 1210], \"yaxis\": \"y\"}, {\"hovertemplate\": \"variable=Bosnia and Herzegovina<br>year=%{x}<br>value=%{y}<extra></extra>\", \"legendgroup\": \"Bosnia and Herzegovina\", \"line\": {\"color\": \"#636efa\", \"dash\": \"solid\"}, \"mode\": \"lines\", \"name\": \"Bosnia and Herzegovina\", \"showlegend\": true, \"type\": \"scattergl\", \"x\": [\"1999\", \"2000\", \"2001\", \"2002\", \"2003\", \"2004\", \"2005\", \"2006\", \"2007\", \"2008\", \"2009\", \"2010\", \"2011\", \"2012\", \"2013\", \"2014\", \"2015\", \"2016\", \"2017\", \"2018\"], \"xaxis\": \"x\", \"y\": [4, 19, 2, 15, 20, 27, 48, 56, 62, 37, 54, 56, 82, 52, 111, 58, 72, 49, 130, 58], \"yaxis\": \"y\"}, {\"hovertemplate\": \"variable=Bulgaria<br>year=%{x}<br>value=%{y}<extra></extra>\", \"legendgroup\": \"Bulgaria\", \"line\": {\"color\": \"#EF553B\", \"dash\": \"solid\"}, \"mode\": \"lines\", \"name\": \"Bulgaria\", \"showlegend\": true, \"type\": \"scattergl\", \"x\": [\"1999\", \"2000\", \"2001\", \"2002\", \"2003\", \"2004\", \"2005\", \"2006\", \"2007\", \"2008\", \"2009\", \"2010\", \"2011\", \"2012\", \"2013\", \"2014\", \"2015\", \"2016\", \"2017\", \"2018\"], \"xaxis\": \"x\", \"y\": [15, 30, 12, 36, 28, 43, 97, 86, 164, 76, 55, 103, 120, 71, 117, 42, 85, 66, 119, 155], \"yaxis\": \"y\"}, {\"hovertemplate\": \"variable=Croatia<br>year=%{x}<br>value=%{y}<extra></extra>\", \"legendgroup\": \"Croatia\", \"line\": {\"color\": \"#00cc96\", \"dash\": \"solid\"}, \"mode\": \"lines\", \"name\": \"Croatia\", \"showlegend\": true, \"type\": \"scattergl\", \"x\": [\"1999\", \"2000\", \"2001\", \"2002\", \"2003\", \"2004\", \"2005\", \"2006\", \"2007\", \"2008\", \"2009\", \"2010\", \"2011\", \"2012\", \"2013\", \"2014\", \"2015\", \"2016\", \"2017\", \"2018\"], \"xaxis\": \"x\", \"y\": [94, 42, 45, 41, 68, 102, 177, 259, 226, 298, 270, 271, 190, 245, 330, 350, 406, 505, 733, 727], \"yaxis\": \"y\"}, {\"hovertemplate\": \"variable=Cyprus<br>year=%{x}<br>value=%{y}<extra></extra>\", \"legendgroup\": \"Cyprus\", \"line\": {\"color\": \"#ab63fa\", \"dash\": \"solid\"}, \"mode\": \"lines\", \"name\": \"Cyprus\", \"showlegend\": true, \"type\": \"scattergl\", \"x\": [\"1999\", \"2000\", \"2001\", \"2002\", \"2003\", \"2004\", \"2005\", \"2006\", \"2007\", \"2008\", \"2009\", \"2010\", \"2011\", \"2012\", \"2013\", \"2014\", \"2015\", \"2016\", \"2017\", \"2018\"], \"xaxis\": \"x\", \"y\": [15, 37, 77, 10, 38, 129, 125, 192, 203, 171, 174, 144, 162, 157, 229, 278, 125, 208, 319, 339], \"yaxis\": \"y\"}, {\"hovertemplate\": \"variable=Czechia/Czech Republic<br>year=%{x}<br>value=%{y}<extra></extra>\", \"legendgroup\": \"Czechia/Czech Republic\", \"line\": {\"color\": \"#FFA15A\", \"dash\": \"solid\"}, \"mode\": \"lines\", \"name\": \"Czechia/Czech Republic\", \"showlegend\": true, \"type\": \"scattergl\", \"x\": [\"1999\", \"2000\", \"2001\", \"2002\", \"2003\", \"2004\", \"2005\", \"2006\", \"2007\", \"2008\", \"2009\", \"2010\", \"2011\", \"2012\", \"2013\", \"2014\", \"2015\", \"2016\", \"2017\", \"2018\"], \"xaxis\": \"x\", \"y\": [1248, 1273, 1659, 1997, 2089, 2494, 2846, 3145, 3417, 3664, 3409, 3291, 3477, 3552, 3572, 4093, 4610, 4777, 5248, 5480], \"yaxis\": \"y\"}, {\"hovertemplate\": \"variable=Denmark<br>year=%{x}<br>value=%{y}<extra></extra>\", \"legendgroup\": \"Denmark\", \"line\": {\"color\": \"#19d3f3\", \"dash\": \"solid\"}, \"mode\": \"lines\", \"name\": \"Denmark\", \"showlegend\": true, \"type\": \"scattergl\", \"x\": [\"1999\", \"2000\", \"2001\", \"2002\", \"2003\", \"2004\", \"2005\", \"2006\", \"2007\", \"2008\", \"2009\", \"2010\", \"2011\", \"2012\", \"2013\", \"2014\", \"2015\", \"2016\", \"2017\", \"2018\"], \"xaxis\": \"x\", \"y\": [718, 817, 908, 1127, 1434, 1529, 1624, 1634, 1855, 2244, 2228, 2478, 2876, 3302, 3545, 4034, 4632, 4457, 4637, 4846], \"yaxis\": \"y\"}, {\"hovertemplate\": \"variable=Estonia<br>year=%{x}<br>value=%{y}<extra></extra>\", \"legendgroup\": \"Estonia\", \"line\": {\"color\": \"#FF6692\", \"dash\": \"solid\"}, \"mode\": \"lines\", \"name\": \"Estonia\", \"showlegend\": true, \"type\": \"scattergl\", \"x\": [\"1999\", \"2000\", \"2001\", \"2002\", \"2003\", \"2004\", \"2005\", \"2006\", \"2007\", \"2008\", \"2009\", \"2010\", \"2011\", \"2012\", \"2013\", \"2014\", \"2015\", \"2016\", \"2017\", \"2018\"], \"xaxis\": \"x\", \"y\": [11, 18, 9, 15, 33, 8, 20, 67, 112, 73, 52, 54, 63, 80, 145, 92, 151, 170, 110, 159], \"yaxis\": \"y\"}, {\"hovertemplate\": \"variable=Finland<br>year=%{x}<br>value=%{y}<extra></extra>\", \"legendgroup\": \"Finland\", \"line\": {\"color\": \"#B6E880\", \"dash\": \"solid\"}, \"mode\": \"lines\", \"name\": \"Finland\", \"showlegend\": true, \"type\": \"scattergl\", \"x\": [\"1999\", \"2000\", \"2001\", \"2002\", \"2003\", \"2004\", \"2005\", \"2006\", \"2007\", \"2008\", \"2009\", \"2010\", \"2011\", \"2012\", \"2013\", \"2014\", \"2015\", \"2016\", \"2017\", \"2018\"], \"xaxis\": \"x\", \"y\": [211, 182, 169, 272, 136, 260, 150, 278, 256, 335, 211, 312, 256, 294, 263, 330, 396, 458, 509, 490], \"yaxis\": \"y\"}, {\"hovertemplate\": \"variable=France<br>year=%{x}<br>value=%{y}<extra></extra>\", \"legendgroup\": \"France\", \"line\": {\"color\": \"#FF97FF\", \"dash\": \"solid\"}, \"mode\": \"lines\", \"name\": \"France\", \"showlegend\": true, \"type\": \"scattergl\", \"x\": [\"1999\", \"2000\", \"2001\", \"2002\", \"2003\", \"2004\", \"2005\", \"2006\", \"2007\", \"2008\", \"2009\", \"2010\", \"2011\", \"2012\", \"2013\", \"2014\", \"2015\", \"2016\", \"2017\", \"2018\"], \"xaxis\": \"x\", \"y\": [11924, 11905, 12274, 13080, 13718, 15374, 15602, 17233, 17336, 16910, 17161, 17019, 17168, 17210, 17597, 18198, 17214, 16462, 17185, 18465], \"yaxis\": \"y\"}, {\"hovertemplate\": \"variable=Georgia<br>year=%{x}<br>value=%{y}<extra></extra>\", \"legendgroup\": \"Georgia\", \"line\": {\"color\": \"#FECB52\", \"dash\": \"solid\"}, \"mode\": \"lines\", \"name\": \"Georgia\", \"showlegend\": true, \"type\": \"scattergl\", \"x\": [\"1999\", \"2000\", \"2001\", \"2002\", \"2003\", \"2004\", \"2005\", \"2006\", \"2007\", \"2008\", \"2009\", \"2010\", \"2011\", \"2012\", \"2013\", \"2014\", \"2015\", \"2016\", \"2017\", \"2018\"], \"xaxis\": \"x\", \"y\": [0, 1, 1, 4, 33, 26, 20, 69, 20, 5, 28, 52, 39, 75, 20, 94, 58, 56, 90, 85], \"yaxis\": \"y\"}, {\"hovertemplate\": \"variable=Germany<br>year=%{x}<br>value=%{y}<extra></extra>\", \"legendgroup\": \"Germany\", \"line\": {\"color\": \"#636efa\", \"dash\": \"solid\"}, \"mode\": \"lines\", \"name\": \"Germany\", \"showlegend\": true, \"type\": \"scattergl\", \"x\": [\"1999\", \"2000\", \"2001\", \"2002\", \"2003\", \"2004\", \"2005\", \"2006\", \"2007\", \"2008\", \"2009\", \"2010\", \"2011\", \"2012\", \"2013\", \"2014\", \"2015\", \"2016\", \"2017\", \"2018\"], \"xaxis\": \"x\", \"y\": [4744, 5116, 4856, 5587, 5985, 6557, 6858, 7355, 8253, 8330, 8551, 9018, 9370, 9544, 10377, 11010, 11900, 12585, 12250, 12029], \"yaxis\": \"y\"}, {\"hovertemplate\": \"variable=Gibraltar<br>year=%{x}<br>value=%{y}<extra></extra>\", \"legendgroup\": \"Gibraltar\", \"line\": {\"color\": \"#EF553B\", \"dash\": \"solid\"}, \"mode\": \"lines\", \"name\": \"Gibraltar\", \"showlegend\": true, \"type\": \"scattergl\", \"x\": [\"1999\", \"2000\", \"2001\", \"2002\", \"2003\", \"2004\", \"2005\", \"2006\", \"2007\", \"2008\", \"2009\", \"2010\", \"2011\", \"2012\", \"2013\", \"2014\", \"2015\", \"2016\", \"2017\", \"2018\"], \"xaxis\": \"x\", \"y\": [1, 0, 0, 0, 6, 15, 8, 2, 0, 2, 1, 0, 0, 1, 1, 0, 1, 0, 0, 1], \"yaxis\": \"y\"}, {\"hovertemplate\": \"variable=Greece<br>year=%{x}<br>value=%{y}<extra></extra>\", \"legendgroup\": \"Greece\", \"line\": {\"color\": \"#00cc96\", \"dash\": \"solid\"}, \"mode\": \"lines\", \"name\": \"Greece\", \"showlegend\": true, \"type\": \"scattergl\", \"x\": [\"1999\", \"2000\", \"2001\", \"2002\", \"2003\", \"2004\", \"2005\", \"2006\", \"2007\", \"2008\", \"2009\", \"2010\", \"2011\", \"2012\", \"2013\", \"2014\", \"2015\", \"2016\", \"2017\", \"2018\"], \"xaxis\": \"x\", \"y\": [1449, 1754, 1856, 2011, 2099, 2445, 3227, 3417, 3847, 3616, 3700, 3428, 2701, 2394, 3066, 3628, 3592, 4351, 5223, 5834], \"yaxis\": \"y\"}, {\"hovertemplate\": \"variable=Hungary<br>year=%{x}<br>value=%{y}<extra></extra>\", \"legendgroup\": \"Hungary\", \"line\": {\"color\": \"#ab63fa\", \"dash\": \"solid\"}, \"mode\": \"lines\", \"name\": \"Hungary\", \"showlegend\": true, \"type\": \"scattergl\", \"x\": [\"1999\", \"2000\", \"2001\", \"2002\", \"2003\", \"2004\", \"2005\", \"2006\", \"2007\", \"2008\", \"2009\", \"2010\", \"2011\", \"2012\", \"2013\", \"2014\", \"2015\", \"2016\", \"2017\", \"2018\"], \"xaxis\": \"x\", \"y\": [441, 439, 452, 562, 654, 645, 720, 857, 902, 897, 920, 749, 682, 938, 806, 899, 1086, 1291, 1161, 1231], \"yaxis\": \"y\"}, {\"hovertemplate\": \"variable=Iceland<br>year=%{x}<br>value=%{y}<extra></extra>\", \"legendgroup\": \"Iceland\", \"line\": {\"color\": \"#FFA15A\", \"dash\": \"solid\"}, \"mode\": \"lines\", \"name\": \"Iceland\", \"showlegend\": true, \"type\": \"scattergl\", \"x\": [\"1999\", \"2000\", \"2001\", \"2002\", \"2003\", \"2004\", \"2005\", \"2006\", \"2007\", \"2008\", \"2009\", \"2010\", \"2011\", \"2012\", \"2013\", \"2014\", \"2015\", \"2016\", \"2017\", \"2018\"], \"xaxis\": \"x\", \"y\": [75, 123, 164, 134, 117, 118, 82, 190, 276, 237, 266, 218, 254, 280, 485, 513, 688, 1052, 1129, 1286], \"yaxis\": \"y\"}, {\"hovertemplate\": \"variable=Ireland<br>year=%{x}<br>value=%{y}<extra></extra>\", \"legendgroup\": \"Ireland\", \"line\": {\"color\": \"#19d3f3\", \"dash\": \"solid\"}, \"mode\": \"lines\", \"name\": \"Ireland\", \"showlegend\": true, \"type\": \"scattergl\", \"x\": [\"1999\", \"2000\", \"2001\", \"2002\", \"2003\", \"2004\", \"2005\", \"2006\", \"2007\", \"2008\", \"2009\", \"2010\", \"2011\", \"2012\", \"2013\", \"2014\", \"2015\", \"2016\", \"2017\", \"2018\"], \"xaxis\": \"x\", \"y\": [3810, 3973, 4375, 4892, 5198, 5083, 5499, 5785, 6881, 6858, 6798, 7007, 7640, 8084, 8823, 10230, 11070, 11492, 11965, 11777], \"yaxis\": \"y\"}, {\"hovertemplate\": \"variable=Italy<br>year=%{x}<br>value=%{y}<extra></extra>\", \"legendgroup\": \"Italy\", \"line\": {\"color\": \"#FF6692\", \"dash\": \"solid\"}, \"mode\": \"lines\", \"name\": \"Italy\", \"showlegend\": true, \"type\": \"scattergl\", \"x\": [\"1999\", \"2000\", \"2001\", \"2002\", \"2003\", \"2004\", \"2005\", \"2006\", \"2007\", \"2008\", \"2009\", \"2010\", \"2011\", \"2012\", \"2013\", \"2014\", \"2015\", \"2016\", \"2017\", \"2018\"], \"xaxis\": \"x\", \"y\": [12930, 16127, 17169, 18936, 21922, 24858, 26078, 27831, 30670, 27362, 27940, 30361, 29645, 29848, 31166, 33768, 34894, 35366, 36945, 39043], \"yaxis\": \"y\"}, {\"hovertemplate\": \"variable=Kosovo<br>year=%{x}<br>value=%{y}<extra></extra>\", \"legendgroup\": \"Kosovo\", \"line\": {\"color\": \"#B6E880\", \"dash\": \"solid\"}, \"mode\": \"lines\", \"name\": \"Kosovo\", \"showlegend\": true, \"type\": \"scattergl\", \"x\": [\"1999\", \"2000\", \"2001\", \"2002\", \"2003\", \"2004\", \"2005\", \"2006\", \"2007\", \"2008\", \"2009\", \"2010\", \"2011\", \"2012\", \"2013\", \"2014\", \"2015\", \"2016\", \"2017\", \"2018\"], \"xaxis\": \"x\", \"y\": [0, 0, 0, 0, 0, 1, 0, 5, 15, 16, 22, 21, 16, 20, 31, 18, 29, 28, 43, 87], \"yaxis\": \"y\"}, {\"hovertemplate\": \"variable=Latvia<br>year=%{x}<br>value=%{y}<extra></extra>\", \"legendgroup\": \"Latvia\", \"line\": {\"color\": \"#FF97FF\", \"dash\": \"solid\"}, \"mode\": \"lines\", \"name\": \"Latvia\", \"showlegend\": true, \"type\": \"scattergl\", \"x\": [\"1999\", \"2000\", \"2001\", \"2002\", \"2003\", \"2004\", \"2005\", \"2006\", \"2007\", \"2008\", \"2009\", \"2010\", \"2011\", \"2012\", \"2013\", \"2014\", \"2015\", \"2016\", \"2017\", \"2018\"], \"xaxis\": \"x\", \"y\": [14, 14, 21, 4, 3, 20, 14, 10, 3, 14, 10, 7, 9, 4, 67, 75, 77, 53, 75, 62], \"yaxis\": \"y\"}, {\"hovertemplate\": \"variable=Liechtenstein<br>year=%{x}<br>value=%{y}<extra></extra>\", \"legendgroup\": \"Liechtenstein\", \"line\": {\"color\": \"#FECB52\", \"dash\": \"solid\"}, \"mode\": \"lines\", \"name\": \"Liechtenstein\", \"showlegend\": true, \"type\": \"scattergl\", \"x\": [\"1999\", \"2000\", \"2001\", \"2002\", \"2003\", \"2004\", \"2005\", \"2006\", \"2007\", \"2008\", \"2009\", \"2010\", \"2011\", \"2012\", \"2013\", \"2014\", \"2015\", \"2016\", \"2017\", \"2018\"], \"xaxis\": \"x\", \"y\": [1, 0, 2, 1, 0, 1, 0, 0, 15, 0, 1, 0, 0, 0, 0, 0, 0, 8, 1, 0], \"yaxis\": \"y\"}, {\"hovertemplate\": \"variable=Lithuania<br>year=%{x}<br>value=%{y}<extra></extra>\", \"legendgroup\": \"Lithuania\", \"line\": {\"color\": \"#636efa\", \"dash\": \"solid\"}, \"mode\": \"lines\", \"name\": \"Lithuania\", \"showlegend\": true, \"type\": \"scattergl\", \"x\": [\"1999\", \"2000\", \"2001\", \"2002\", \"2003\", \"2004\", \"2005\", \"2006\", \"2007\", \"2008\", \"2009\", \"2010\", \"2011\", \"2012\", \"2013\", \"2014\", \"2015\", \"2016\", \"2017\", \"2018\"], \"xaxis\": \"x\", \"y\": [23, 23, 53, 16, 27, 41, 97, 155, 84, 86, 88, 32, 66, 104, 152, 110, 154, 103, 182, 122], \"yaxis\": \"y\"}, {\"hovertemplate\": \"variable=Luxembourg<br>year=%{x}<br>value=%{y}<extra></extra>\", \"legendgroup\": \"Luxembourg\", \"line\": {\"color\": \"#EF553B\", \"dash\": \"solid\"}, \"mode\": \"lines\", \"name\": \"Luxembourg\", \"showlegend\": true, \"type\": \"scattergl\", \"x\": [\"1999\", \"2000\", \"2001\", \"2002\", \"2003\", \"2004\", \"2005\", \"2006\", \"2007\", \"2008\", \"2009\", \"2010\", \"2011\", \"2012\", \"2013\", \"2014\", \"2015\", \"2016\", \"2017\", \"2018\"], \"xaxis\": \"x\", \"y\": [462, 407, 359, 343, 420, 369, 424, 382, 316, 372, 389, 341, 369, 340, 357, 372, 334, 256, 284, 308], \"yaxis\": \"y\"}, {\"hovertemplate\": \"variable=North Macedonia/Macedonia<br>year=%{x}<br>value=%{y}<extra></extra>\", \"legendgroup\": \"North Macedonia/Macedonia\", \"line\": {\"color\": \"#00cc96\", \"dash\": \"solid\"}, \"mode\": \"lines\", \"name\": \"North Macedonia/Macedonia\", \"showlegend\": true, \"type\": \"scattergl\", \"x\": [\"1999\", \"2000\", \"2001\", \"2002\", \"2003\", \"2004\", \"2005\", \"2006\", \"2007\", \"2008\", \"2009\", \"2010\", \"2011\", \"2012\", \"2013\", \"2014\", \"2015\", \"2016\", \"2017\", \"2018\"], \"xaxis\": \"x\", \"y\": [4, 3, 0, 15, 1, 2, 14, 10, 23, 34, 35, 30, 9, 18, 7, 4, 3, 16, 9, 2], \"yaxis\": \"y\"}, {\"hovertemplate\": \"variable=Malta<br>year=%{x}<br>value=%{y}<extra></extra>\", \"legendgroup\": \"Malta\", \"line\": {\"color\": \"#ab63fa\", \"dash\": \"solid\"}, \"mode\": \"lines\", \"name\": \"Malta\", \"showlegend\": true, \"type\": \"scattergl\", \"x\": [\"1999\", \"2000\", \"2001\", \"2002\", \"2003\", \"2004\", \"2005\", \"2006\", \"2007\", \"2008\", \"2009\", \"2010\", \"2011\", \"2012\", \"2013\", \"2014\", \"2015\", \"2016\", \"2017\", \"2018\"], \"xaxis\": \"x\", \"y\": [72, 118, 101, 67, 86, 100, 133, 82, 129, 95, 105, 92, 133, 126, 128, 65, 144, 190, 198, 94], \"yaxis\": \"y\"}, {\"hovertemplate\": \"variable=Moldova<br>year=%{x}<br>value=%{y}<extra></extra>\", \"legendgroup\": \"Moldova\", \"line\": {\"color\": \"#FFA15A\", \"dash\": \"solid\"}, \"mode\": \"lines\", \"name\": \"Moldova\", \"showlegend\": true, \"type\": \"scattergl\", \"x\": [\"1999\", \"2000\", \"2001\", \"2002\", \"2003\", \"2004\", \"2005\", \"2006\", \"2007\", \"2008\", \"2009\", \"2010\", \"2011\", \"2012\", \"2013\", \"2014\", \"2015\", \"2016\", \"2017\", \"2018\"], \"xaxis\": \"x\", \"y\": [1, 0, 0, 4, 0, 0, 2, 1, 2, 10, 1, 11, 8, 9, 6, 10, 1, 7, 6, 9], \"yaxis\": \"y\"}, {\"hovertemplate\": \"variable=Monaco<br>year=%{x}<br>value=%{y}<extra></extra>\", \"legendgroup\": \"Monaco\", \"line\": {\"color\": \"#19d3f3\", \"dash\": \"solid\"}, \"mode\": \"lines\", \"name\": \"Monaco\", \"showlegend\": true, \"type\": \"scattergl\", \"x\": [\"1999\", \"2000\", \"2001\", \"2002\", \"2003\", \"2004\", \"2005\", \"2006\", \"2007\", \"2008\", \"2009\", \"2010\", \"2011\", \"2012\", \"2013\", \"2014\", \"2015\", \"2016\", \"2017\", \"2018\"], \"xaxis\": \"x\", \"y\": [13, 9, 0, 10, 29, 35, 12, 42, 26, 22, 16, 27, 4, 6, 1, 1, 3, 13, 0, 5], \"yaxis\": \"y\"}, {\"hovertemplate\": \"variable=Montenegro<br>year=%{x}<br>value=%{y}<extra></extra>\", \"legendgroup\": \"Montenegro\", \"line\": {\"color\": \"#FF6692\", \"dash\": \"solid\"}, \"mode\": \"lines\", \"name\": \"Montenegro\", \"showlegend\": true, \"type\": \"scattergl\", \"x\": [\"1999\", \"2000\", \"2001\", \"2002\", \"2003\", \"2004\", \"2005\", \"2006\", \"2007\", \"2008\", \"2009\", \"2010\", \"2011\", \"2012\", \"2013\", \"2014\", \"2015\", \"2016\", \"2017\", \"2018\"], \"xaxis\": \"x\", \"y\": [0, 0, 0, 0, 0, 0, 16, 0, 0, 0, 17, 21, 5, 1, 0, 5, 32, 13, 21, 34], \"yaxis\": \"y\"}, {\"hovertemplate\": \"variable=Netherlands<br>year=%{x}<br>value=%{y}<extra></extra>\", \"legendgroup\": \"Netherlands\", \"line\": {\"color\": \"#B6E880\", \"dash\": \"solid\"}, \"mode\": \"lines\", \"name\": \"Netherlands\", \"showlegend\": true, \"type\": \"scattergl\", \"x\": [\"1999\", \"2000\", \"2001\", \"2002\", \"2003\", \"2004\", \"2005\", \"2006\", \"2007\", \"2008\", \"2009\", \"2010\", \"2011\", \"2012\", \"2013\", \"2014\", \"2015\", \"2016\", \"2017\", \"2018\"], \"xaxis\": \"x\", \"y\": [1545, 1635, 1676, 1792, 1686, 1740, 1785, 2139, 2038, 2318, 2369, 2467, 2485, 2637, 2615, 2929, 3433, 3437, 3966, 4182], \"yaxis\": \"y\"}, {\"hovertemplate\": \"variable=Norway<br>year=%{x}<br>value=%{y}<extra></extra>\", \"legendgroup\": \"Norway\", \"line\": {\"color\": \"#FF97FF\", \"dash\": \"solid\"}, \"mode\": \"lines\", \"name\": \"Norway\", \"showlegend\": true, \"type\": \"scattergl\", \"x\": [\"1999\", \"2000\", \"2001\", \"2002\", \"2003\", \"2004\", \"2005\", \"2006\", \"2007\", \"2008\", \"2009\", \"2010\", \"2011\", \"2012\", \"2013\", \"2014\", \"2015\", \"2016\", \"2017\", \"2018\"], \"xaxis\": \"x\", \"y\": [277, 215, 244, 270, 243, 291, 311, 298, 379, 479, 440, 463, 400, 551, 606, 631, 583, 670, 764, 811], \"yaxis\": \"y\"}, {\"hovertemplate\": \"variable=Poland<br>year=%{x}<br>value=%{y}<extra></extra>\", \"legendgroup\": \"Poland\", \"line\": {\"color\": \"#FECB52\", \"dash\": \"solid\"}, \"mode\": \"lines\", \"name\": \"Poland\", \"showlegend\": true, \"type\": \"scattergl\", \"x\": [\"1999\", \"2000\", \"2001\", \"2002\", \"2003\", \"2004\", \"2005\", \"2006\", \"2007\", \"2008\", \"2009\", \"2010\", \"2011\", \"2012\", \"2013\", \"2014\", \"2015\", \"2016\", \"2017\", \"2018\"], \"xaxis\": \"x\", \"y\": [244, 273, 378, 426, 418, 511, 626, 532, 642, 595, 437, 561, 562, 520, 601, 730, 789, 834, 976, 899], \"yaxis\": \"y\"}, {\"hovertemplate\": \"variable=Portugal<br>year=%{x}<br>value=%{y}<extra></extra>\", \"legendgroup\": \"Portugal\", \"line\": {\"color\": \"#636efa\", \"dash\": \"solid\"}, \"mode\": \"lines\", \"name\": \"Portugal\", \"showlegend\": true, \"type\": \"scattergl\", \"x\": [\"1999\", \"2000\", \"2001\", \"2002\", \"2003\", \"2004\", \"2005\", \"2006\", \"2007\", \"2008\", \"2009\", \"2010\", \"2011\", \"2012\", \"2013\", \"2014\", \"2015\", \"2016\", \"2017\", \"2018\"], \"xaxis\": \"x\", \"y\": [60, 77, 115, 143, 80, 140, 101, 79, 149, 240, 198, 291, 211, 197, 319, 423, 523, 693, 857, 1096], \"yaxis\": \"y\"}, {\"hovertemplate\": \"variable=Romania<br>year=%{x}<br>value=%{y}<extra></extra>\", \"legendgroup\": \"Romania\", \"line\": {\"color\": \"#EF553B\", \"dash\": \"solid\"}, \"mode\": \"lines\", \"name\": \"Romania\", \"showlegend\": true, \"type\": \"scattergl\", \"x\": [\"1999\", \"2000\", \"2001\", \"2002\", \"2003\", \"2004\", \"2005\", \"2006\", \"2007\", \"2008\", \"2009\", \"2010\", \"2011\", \"2012\", \"2013\", \"2014\", \"2015\", \"2016\", \"2017\", \"2018\"], \"xaxis\": \"x\", \"y\": [75, 71, 57, 97, 136, 188, 206, 180, 129, 219, 140, 246, 204, 287, 270, 181, 275, 297, 358, 288], \"yaxis\": \"y\"}, {\"hovertemplate\": \"variable=Russia<br>year=%{x}<br>value=%{y}<extra></extra>\", \"legendgroup\": \"Russia\", \"line\": {\"color\": \"#00cc96\", \"dash\": \"solid\"}, \"mode\": \"lines\", \"name\": \"Russia\", \"showlegend\": true, \"type\": \"scattergl\", \"x\": [\"1999\", \"2000\", \"2001\", \"2002\", \"2003\", \"2004\", \"2005\", \"2006\", \"2007\", \"2008\", \"2009\", \"2010\", \"2011\", \"2012\", \"2013\", \"2014\", \"2015\", \"2016\", \"2017\", \"2018\"], \"xaxis\": \"x\", \"y\": [1103, 1152, 1269, 1521, 1797, 1743, 1923, 1716, 1857, 1798, 1828, 1827, 1777, 1562, 1527, 1187, 1319, 1499, 1321, 1305], \"yaxis\": \"y\"}, {\"hovertemplate\": \"variable=San Marino<br>year=%{x}<br>value=%{y}<extra></extra>\", \"legendgroup\": \"San Marino\", \"line\": {\"color\": \"#ab63fa\", \"dash\": \"solid\"}, \"mode\": \"lines\", \"name\": \"San Marino\", \"showlegend\": true, \"type\": \"scattergl\", \"x\": [\"1999\", \"2000\", \"2001\", \"2002\", \"2003\", \"2004\", \"2005\", \"2006\", \"2007\", \"2008\", \"2009\", \"2010\", \"2011\", \"2012\", \"2013\", \"2014\", \"2015\", \"2016\", \"2017\", \"2018\"], \"xaxis\": \"x\", \"y\": [0, 0, 0, 0, 0, 0, 0, 0, 0, 0, 0, 0, 0, 0, 0, 0, 0, 0, 0, 0], \"yaxis\": \"y\"}, {\"hovertemplate\": \"variable=Serbia<br>year=%{x}<br>value=%{y}<extra></extra>\", \"legendgroup\": \"Serbia\", \"line\": {\"color\": \"#FFA15A\", \"dash\": \"solid\"}, \"mode\": \"lines\", \"name\": \"Serbia\", \"showlegend\": true, \"type\": \"scattergl\", \"x\": [\"1999\", \"2000\", \"2001\", \"2002\", \"2003\", \"2004\", \"2005\", \"2006\", \"2007\", \"2008\", \"2009\", \"2010\", \"2011\", \"2012\", \"2013\", \"2014\", \"2015\", \"2016\", \"2017\", \"2018\"], \"xaxis\": \"x\", \"y\": [0, 0, 0, 0, 14, 8, 25, 45, 11, 23, 62, 63, 51, 86, 85, 76, 179, 116, 150, 90], \"yaxis\": \"y\"}, {\"hovertemplate\": \"variable=Slovakia<br>year=%{x}<br>value=%{y}<extra></extra>\", \"legendgroup\": \"Slovakia\", \"line\": {\"color\": \"#19d3f3\", \"dash\": \"solid\"}, \"mode\": \"lines\", \"name\": \"Slovakia\", \"showlegend\": true, \"type\": \"scattergl\", \"x\": [\"1999\", \"2000\", \"2001\", \"2002\", \"2003\", \"2004\", \"2005\", \"2006\", \"2007\", \"2008\", \"2009\", \"2010\", \"2011\", \"2012\", \"2013\", \"2014\", \"2015\", \"2016\", \"2017\", \"2018\"], \"xaxis\": \"x\", \"y\": [12, 26, 5, 29, 2, 16, 52, 76, 41, 27, 76, 49, 25, 28, 59, 70, 41, 36, 47, 80], \"yaxis\": \"y\"}, {\"hovertemplate\": \"variable=Slovenia<br>year=%{x}<br>value=%{y}<extra></extra>\", \"legendgroup\": \"Slovenia\", \"line\": {\"color\": \"#FF6692\", \"dash\": \"solid\"}, \"mode\": \"lines\", \"name\": \"Slovenia\", \"showlegend\": true, \"type\": \"scattergl\", \"x\": [\"1999\", \"2000\", \"2001\", \"2002\", \"2003\", \"2004\", \"2005\", \"2006\", \"2007\", \"2008\", \"2009\", \"2010\", \"2011\", \"2012\", \"2013\", \"2014\", \"2015\", \"2016\", \"2017\", \"2018\"], \"xaxis\": \"x\", \"y\": [34, 20, 29, 26, 18, 25, 19, 16, 28, 88, 7, 29, 48, 49, 75, 47, 49, 103, 105, 118], \"yaxis\": \"y\"}, {\"hovertemplate\": \"variable=Spain<br>year=%{x}<br>value=%{y}<extra></extra>\", \"legendgroup\": \"Spain\", \"line\": {\"color\": \"#B6E880\", \"dash\": \"solid\"}, \"mode\": \"lines\", \"name\": \"Spain\", \"showlegend\": true, \"type\": \"scattergl\", \"x\": [\"1999\", \"2000\", \"2001\", \"2002\", \"2003\", \"2004\", \"2005\", \"2006\", \"2007\", \"2008\", \"2009\", \"2010\", \"2011\", \"2012\", \"2013\", \"2014\", \"2015\", \"2016\", \"2017\", \"2018\"], \"xaxis\": \"x\", \"y\": [13974, 16016, 17176, 18865, 20080, 20806, 21881, 24005, 25212, 24169, 25411, 25965, 26480, 26281, 26949, 28325, 29975, 31230, 32411, 33849], \"yaxis\": \"y\"}, {\"hovertemplate\": \"variable=Sweden<br>year=%{x}<br>value=%{y}<extra></extra>\", \"legendgroup\": \"Sweden\", \"line\": {\"color\": \"#FF97FF\", \"dash\": \"solid\"}, \"mode\": \"lines\", \"name\": \"Sweden\", \"showlegend\": true, \"type\": \"scattergl\", \"x\": [\"1999\", \"2000\", \"2001\", \"2002\", \"2003\", \"2004\", \"2005\", \"2006\", \"2007\", \"2008\", \"2009\", \"2010\", \"2011\", \"2012\", \"2013\", \"2014\", \"2015\", \"2016\", \"2017\", \"2018\"], \"xaxis\": \"x\", \"y\": [538, 543, 598, 818, 830, 769, 856, 934, 919, 1150, 1002, 1003, 1083, 1238, 1224, 1404, 1441, 1661, 1830, 1896], \"yaxis\": \"y\"}, {\"hovertemplate\": \"variable=Switzerland<br>year=%{x}<br>value=%{y}<extra></extra>\", \"legendgroup\": \"Switzerland\", \"line\": {\"color\": \"#FECB52\", \"dash\": \"solid\"}, \"mode\": \"lines\", \"name\": \"Switzerland\", \"showlegend\": true, \"type\": \"scattergl\", \"x\": [\"1999\", \"2000\", \"2001\", \"2002\", \"2003\", \"2004\", \"2005\", \"2006\", \"2007\", \"2008\", \"2009\", \"2010\", \"2011\", \"2012\", \"2013\", \"2014\", \"2015\", \"2016\", \"2017\", \"2018\"], \"xaxis\": \"x\", \"y\": [845, 827, 1022, 1148, 1280, 1428, 1589, 1771, 1942, 2004, 1863, 2019, 1679, 1572, 1809, 1738, 2032, 2046, 2125, 2121], \"yaxis\": \"y\"}, {\"hovertemplate\": \"variable=Turkey<br>year=%{x}<br>value=%{y}<extra></extra>\", \"legendgroup\": \"Turkey\", \"line\": {\"color\": \"#636efa\", \"dash\": \"solid\"}, \"mode\": \"lines\", \"name\": \"Turkey\", \"showlegend\": true, \"type\": \"scattergl\", \"x\": [\"1999\", \"2000\", \"2001\", \"2002\", \"2003\", \"2004\", \"2005\", \"2006\", \"2007\", \"2008\", \"2009\", \"2010\", \"2011\", \"2012\", \"2013\", \"2014\", \"2015\", \"2016\", \"2017\", \"2018\"], \"xaxis\": \"x\", \"y\": [99, 234, 129, 228, 200, 454, 694, 924, 1172, 1261, 1522, 2042, 1987, 2037, 2163, 1889, 705, 46, 78, 143], \"yaxis\": \"y\"}, {\"hovertemplate\": \"variable=Ukraine<br>year=%{x}<br>value=%{y}<extra></extra>\", \"legendgroup\": \"Ukraine\", \"line\": {\"color\": \"#EF553B\", \"dash\": \"solid\"}, \"mode\": \"lines\", \"name\": \"Ukraine\", \"showlegend\": true, \"type\": \"scattergl\", \"x\": [\"1999\", \"2000\", \"2001\", \"2002\", \"2003\", \"2004\", \"2005\", \"2006\", \"2007\", \"2008\", \"2009\", \"2010\", \"2011\", \"2012\", \"2013\", \"2014\", \"2015\", \"2016\", \"2017\", \"2018\"], \"xaxis\": \"x\", \"y\": [77, 132, 53, 123, 135, 89, 172, 163, 140, 84, 198, 110, 131, 102, 38, 7, 34, 14, 83, 100], \"yaxis\": \"y\"}, {\"hovertemplate\": \"variable=United Kingdom<br>year=%{x}<br>value=%{y}<extra></extra>\", \"legendgroup\": \"United Kingdom\", \"line\": {\"color\": \"#00cc96\", \"dash\": \"solid\"}, \"mode\": \"lines\", \"name\": \"United Kingdom\", \"showlegend\": true, \"type\": \"scattergl\", \"x\": [\"1999\", \"2000\", \"2001\", \"2002\", \"2003\", \"2004\", \"2005\", \"2006\", \"2007\", \"2008\", \"2009\", \"2010\", \"2011\", \"2012\", \"2013\", \"2014\", \"2015\", \"2016\", \"2017\", \"2018\"], \"xaxis\": \"x\", \"y\": [29289, 30289, 30143, 31706, 32237, 32071, 32109, 32705, 33333, 31342, 32683, 33182, 34660, 36210, 38250, 38189, 39140, 39851, 39403, 39358], \"yaxis\": \"y\"}, {\"hovertemplate\": \"variable=Vatican City/Holy See<br>year=%{x}<br>value=%{y}<extra></extra>\", \"legendgroup\": \"Vatican City/Holy See\", \"line\": {\"color\": \"#ab63fa\", \"dash\": \"solid\"}, \"mode\": \"lines\", \"name\": \"Vatican City/Holy See\", \"showlegend\": true, \"type\": \"scattergl\", \"x\": [\"1999\", \"2000\", \"2001\", \"2002\", \"2003\", \"2004\", \"2005\", \"2006\", \"2007\", \"2008\", \"2009\", \"2010\", \"2011\", \"2012\", \"2013\", \"2014\", \"2015\", \"2016\", \"2017\", \"2018\"], \"xaxis\": \"x\", \"y\": [0, 0, 30, 0, 17, 0, 7, 5, 22, 38, 47, 4, 17, 1, 16, 2, 12, 16, 3, 1], \"yaxis\": \"y\"}, {\"hovertemplate\": \"variable=Anguilla<br>year=%{x}<br>value=%{y}<extra></extra>\", \"legendgroup\": \"Anguilla\", \"line\": {\"color\": \"#FFA15A\", \"dash\": \"solid\"}, \"mode\": \"lines\", \"name\": \"Anguilla\", \"showlegend\": true, \"type\": \"scattergl\", \"x\": [\"1999\", \"2000\", \"2001\", \"2002\", \"2003\", \"2004\", \"2005\", \"2006\", \"2007\", \"2008\", \"2009\", \"2010\", \"2011\", \"2012\", \"2013\", \"2014\", \"2015\", \"2016\", \"2017\", \"2018\"], \"xaxis\": \"x\", \"y\": [26, 23, 7, 13, 1, 39, 5, 8, 0, 0, 14, 1, 5, 11, 12, 0, 1, 0, 0, 1], \"yaxis\": \"y\"}, {\"hovertemplate\": \"variable=Antigua and Barbuda<br>year=%{x}<br>value=%{y}<extra></extra>\", \"legendgroup\": \"Antigua and Barbuda\", \"line\": {\"color\": \"#19d3f3\", \"dash\": \"solid\"}, \"mode\": \"lines\", \"name\": \"Antigua and Barbuda\", \"showlegend\": true, \"type\": \"scattergl\", \"x\": [\"1999\", \"2000\", \"2001\", \"2002\", \"2003\", \"2004\", \"2005\", \"2006\", \"2007\", \"2008\", \"2009\", \"2010\", \"2011\", \"2012\", \"2013\", \"2014\", \"2015\", \"2016\", \"2017\", \"2018\"], \"xaxis\": \"x\", \"y\": [4, 11, 0, 0, 11, 25, 0, 1, 2, 21, 0, 24, 38, 28, 52, 22, 18, 23, 2, 10], \"yaxis\": \"y\"}, {\"hovertemplate\": \"variable=Aruba<br>year=%{x}<br>value=%{y}<extra></extra>\", \"legendgroup\": \"Aruba\", \"line\": {\"color\": \"#FF6692\", \"dash\": \"solid\"}, \"mode\": \"lines\", \"name\": \"Aruba\", \"showlegend\": true, \"type\": \"scattergl\", \"x\": [\"1999\", \"2000\", \"2001\", \"2002\", \"2003\", \"2004\", \"2005\", \"2006\", \"2007\", \"2008\", \"2009\", \"2010\", \"2011\", \"2012\", \"2013\", \"2014\", \"2015\", \"2016\", \"2017\", \"2018\"], \"xaxis\": \"x\", \"y\": [0, 0, 1, 11, 0, 1, 5, 0, 1, 3, 0, 1, 0, 4, 1, 14, 3, 6, 3, 21], \"yaxis\": \"y\"}, {\"hovertemplate\": \"variable=Bahamas<br>year=%{x}<br>value=%{y}<extra></extra>\", \"legendgroup\": \"Bahamas\", \"line\": {\"color\": \"#B6E880\", \"dash\": \"solid\"}, \"mode\": \"lines\", \"name\": \"Bahamas\", \"showlegend\": true, \"type\": \"scattergl\", \"x\": [\"1999\", \"2000\", \"2001\", \"2002\", \"2003\", \"2004\", \"2005\", \"2006\", \"2007\", \"2008\", \"2009\", \"2010\", \"2011\", \"2012\", \"2013\", \"2014\", \"2015\", \"2016\", \"2017\", \"2018\"], \"xaxis\": \"x\", \"y\": [411, 515, 414, 535, 508, 417, 515, 657, 646, 726, 755, 947, 757, 901, 750, 900, 1137, 955, 746, 965], \"yaxis\": \"y\"}, {\"hovertemplate\": \"variable=Barbados<br>year=%{x}<br>value=%{y}<extra></extra>\", \"legendgroup\": \"Barbados\", \"line\": {\"color\": \"#FF97FF\", \"dash\": \"solid\"}, \"mode\": \"lines\", \"name\": \"Barbados\", \"showlegend\": true, \"type\": \"scattergl\", \"x\": [\"1999\", \"2000\", \"2001\", \"2002\", \"2003\", \"2004\", \"2005\", \"2006\", \"2007\", \"2008\", \"2009\", \"2010\", \"2011\", \"2012\", \"2013\", \"2014\", \"2015\", \"2016\", \"2017\", \"2018\"], \"xaxis\": \"x\", \"y\": [131, 147, 126, 162, 183, 202, 143, 187, 146, 160, 204, 248, 214, 272, 156, 169, 177, 157, 258, 227], \"yaxis\": \"y\"}, {\"hovertemplate\": \"variable=Bermuda<br>year=%{x}<br>value=%{y}<extra></extra>\", \"legendgroup\": \"Bermuda\", \"line\": {\"color\": \"#FECB52\", \"dash\": \"solid\"}, \"mode\": \"lines\", \"name\": \"Bermuda\", \"showlegend\": true, \"type\": \"scattergl\", \"x\": [\"1999\", \"2000\", \"2001\", \"2002\", \"2003\", \"2004\", \"2005\", \"2006\", \"2007\", \"2008\", \"2009\", \"2010\", \"2011\", \"2012\", \"2013\", \"2014\", \"2015\", \"2016\", \"2017\", \"2018\"], \"xaxis\": \"x\", \"y\": [67, 68, 71, 57, 58, 92, 79, 105, 76, 91, 149, 129, 148, 158, 163, 119, 131, 125, 138, 190], \"yaxis\": \"y\"}, {\"hovertemplate\": \"variable=British Virgin Islands<br>year=%{x}<br>value=%{y}<extra></extra>\", \"legendgroup\": \"British Virgin Islands\", \"line\": {\"color\": \"#636efa\", \"dash\": \"solid\"}, \"mode\": \"lines\", \"name\": \"British Virgin Islands\", \"showlegend\": true, \"type\": \"scattergl\", \"x\": [\"1999\", \"2000\", \"2001\", \"2002\", \"2003\", \"2004\", \"2005\", \"2006\", \"2007\", \"2008\", \"2009\", \"2010\", \"2011\", \"2012\", \"2013\", \"2014\", \"2015\", \"2016\", \"2017\", \"2018\"], \"xaxis\": \"x\", \"y\": [57, 97, 55, 119, 140, 110, 112, 75, 32, 44, 47, 114, 104, 102, 58, 140, 159, 141, 37, 46], \"yaxis\": \"y\"}, {\"hovertemplate\": \"variable=Cayman Islands<br>year=%{x}<br>value=%{y}<extra></extra>\", \"legendgroup\": \"Cayman Islands\", \"line\": {\"color\": \"#EF553B\", \"dash\": \"solid\"}, \"mode\": \"lines\", \"name\": \"Cayman Islands\", \"showlegend\": true, \"type\": \"scattergl\", \"x\": [\"1999\", \"2000\", \"2001\", \"2002\", \"2003\", \"2004\", \"2005\", \"2006\", \"2007\", \"2008\", \"2009\", \"2010\", \"2011\", \"2012\", \"2013\", \"2014\", \"2015\", \"2016\", \"2017\", \"2018\"], \"xaxis\": \"x\", \"y\": [39, 61, 35, 43, 15, 26, 19, 19, 65, 65, 120, 52, 156, 35, 92, 90, 91, 55, 148, 144], \"yaxis\": \"y\"}, {\"hovertemplate\": \"variable=Cuba<br>year=%{x}<br>value=%{y}<extra></extra>\", \"legendgroup\": \"Cuba\", \"line\": {\"color\": \"#00cc96\", \"dash\": \"solid\"}, \"mode\": \"lines\", \"name\": \"Cuba\", \"showlegend\": true, \"type\": \"scattergl\", \"x\": [\"1999\", \"2000\", \"2001\", \"2002\", \"2003\", \"2004\", \"2005\", \"2006\", \"2007\", \"2008\", \"2009\", \"2010\", \"2011\", \"2012\", \"2013\", \"2014\", \"2015\", \"2016\", \"2017\", \"2018\"], \"xaxis\": \"x\", \"y\": [553, 905, 1279, 1474, 2148, 169, 140, 220, 249, 251, 298, 375, 1454, 1633, 1845, 2384, 3781, 4607, 2464, 2414], \"yaxis\": \"y\"}, {\"hovertemplate\": \"variable=Curacao<br>year=%{x}<br>value=%{y}<extra></extra>\", \"legendgroup\": \"Curacao\", \"line\": {\"color\": \"#ab63fa\", \"dash\": \"solid\"}, \"mode\": \"lines\", \"name\": \"Curacao\", \"showlegend\": true, \"type\": \"scattergl\", \"x\": [\"1999\", \"2000\", \"2001\", \"2002\", \"2003\", \"2004\", \"2005\", \"2006\", \"2007\", \"2008\", \"2009\", \"2010\", \"2011\", \"2012\", \"2013\", \"2014\", \"2015\", \"2016\", \"2017\", \"2018\"], \"xaxis\": \"x\", \"y\": [0, 0, 0, 0, 0, 0, 0, 0, 0, 0, 0, 0, 0, 17, 46, 25, 17, 27, 73, 96], \"yaxis\": \"y\"}, {\"hovertemplate\": \"variable=Dominica<br>year=%{x}<br>value=%{y}<extra></extra>\", \"legendgroup\": \"Dominica\", \"line\": {\"color\": \"#FFA15A\", \"dash\": \"solid\"}, \"mode\": \"lines\", \"name\": \"Dominica\", \"showlegend\": true, \"type\": \"scattergl\", \"x\": [\"1999\", \"2000\", \"2001\", \"2002\", \"2003\", \"2004\", \"2005\", \"2006\", \"2007\", \"2008\", \"2009\", \"2010\", \"2011\", \"2012\", \"2013\", \"2014\", \"2015\", \"2016\", \"2017\", \"2018\"], \"xaxis\": \"x\", \"y\": [22, 12, 35, 0, 60, 82, 112, 192, 135, 112, 117, 72, 100, 108, 83, 147, 139, 102, 68, 102], \"yaxis\": \"y\"}, {\"hovertemplate\": \"variable=Dominican Republic<br>year=%{x}<br>value=%{y}<extra></extra>\", \"legendgroup\": \"Dominican Republic\", \"line\": {\"color\": \"#19d3f3\", \"dash\": \"solid\"}, \"mode\": \"lines\", \"name\": \"Dominican Republic\", \"showlegend\": true, \"type\": \"scattergl\", \"x\": [\"1999\", \"2000\", \"2001\", \"2002\", \"2003\", \"2004\", \"2005\", \"2006\", \"2007\", \"2008\", \"2009\", \"2010\", \"2011\", \"2012\", \"2013\", \"2014\", \"2015\", \"2016\", \"2017\", \"2018\"], \"xaxis\": \"x\", \"y\": [542, 527, 596, 651, 705, 724, 922, 948, 1205, 1448, 1324, 1343, 1554, 1639, 1698, 2146, 2001, 2197, 1992, 1889], \"yaxis\": \"y\"}, {\"hovertemplate\": \"variable=Grenada<br>year=%{x}<br>value=%{y}<extra></extra>\", \"legendgroup\": \"Grenada\", \"line\": {\"color\": \"#FF6692\", \"dash\": \"solid\"}, \"mode\": \"lines\", \"name\": \"Grenada\", \"showlegend\": true, \"type\": \"scattergl\", \"x\": [\"1999\", \"2000\", \"2001\", \"2002\", \"2003\", \"2004\", \"2005\", \"2006\", \"2007\", \"2008\", \"2009\", \"2010\", \"2011\", \"2012\", \"2013\", \"2014\", \"2015\", \"2016\", \"2017\", \"2018\"], \"xaxis\": \"x\", \"y\": [15, 14, 9, 0, 26, 42, 5, 25, 49, 36, 99, 94, 27, 42, 28, 32, 37, 128, 88, 66], \"yaxis\": \"y\"}, {\"hovertemplate\": \"variable=Guadeloupe<br>year=%{x}<br>value=%{y}<extra></extra>\", \"legendgroup\": \"Guadeloupe\", \"line\": {\"color\": \"#B6E880\", \"dash\": \"solid\"}, \"mode\": \"lines\", \"name\": \"Guadeloupe\", \"showlegend\": true, \"type\": \"scattergl\", \"x\": [\"1999\", \"2000\", \"2001\", \"2002\", \"2003\", \"2004\", \"2005\", \"2006\", \"2007\", \"2008\", \"2009\", \"2010\", \"2011\", \"2012\", \"2013\", \"2014\", \"2015\", \"2016\", \"2017\", \"2018\"], \"xaxis\": \"x\", \"y\": [36, 26, 49, 22, 41, 38, 0, 42, 10, 19, 2, 21, 6, 9, 10, 3, 7, 39, 28, 9], \"yaxis\": \"y\"}, {\"hovertemplate\": \"variable=Haiti<br>year=%{x}<br>value=%{y}<extra></extra>\", \"legendgroup\": \"Haiti\", \"line\": {\"color\": \"#FF97FF\", \"dash\": \"solid\"}, \"mode\": \"lines\", \"name\": \"Haiti\", \"showlegend\": true, \"type\": \"scattergl\", \"x\": [\"1999\", \"2000\", \"2001\", \"2002\", \"2003\", \"2004\", \"2005\", \"2006\", \"2007\", \"2008\", \"2009\", \"2010\", \"2011\", \"2012\", \"2013\", \"2014\", \"2015\", \"2016\", \"2017\", \"2018\"], \"xaxis\": \"x\", \"y\": [65, 58, 105, 92, 48, 19, 3, 39, 45, 78, 85, 213, 454, 501, 740, 532, 689, 754, 611, 254], \"yaxis\": \"y\"}, {\"hovertemplate\": \"variable=Jamaica<br>year=%{x}<br>value=%{y}<extra></extra>\", \"legendgroup\": \"Jamaica\", \"line\": {\"color\": \"#FECB52\", \"dash\": \"solid\"}, \"mode\": \"lines\", \"name\": \"Jamaica\", \"showlegend\": true, \"type\": \"scattergl\", \"x\": [\"1999\", \"2000\", \"2001\", \"2002\", \"2003\", \"2004\", \"2005\", \"2006\", \"2007\", \"2008\", \"2009\", \"2010\", \"2011\", \"2012\", \"2013\", \"2014\", \"2015\", \"2016\", \"2017\", \"2018\"], \"xaxis\": \"x\", \"y\": [548, 462, 405, 539, 435, 555, 727, 790, 712, 704, 614, 666, 868, 905, 975, 1047, 1153, 1171, 1140, 1040], \"yaxis\": \"y\"}, {\"hovertemplate\": \"variable=Martinique<br>year=%{x}<br>value=%{y}<extra></extra>\", \"legendgroup\": \"Martinique\", \"line\": {\"color\": \"#636efa\", \"dash\": \"solid\"}, \"mode\": \"lines\", \"name\": \"Martinique\", \"showlegend\": true, \"type\": \"scattergl\", \"x\": [\"1999\", \"2000\", \"2001\", \"2002\", \"2003\", \"2004\", \"2005\", \"2006\", \"2007\", \"2008\", \"2009\", \"2010\", \"2011\", \"2012\", \"2013\", \"2014\", \"2015\", \"2016\", \"2017\", \"2018\"], \"xaxis\": \"x\", \"y\": [81, 46, 82, 73, 89, 141, 82, 110, 49, 56, 70, 43, 24, 21, 42, 43, 85, 72, 121, 83], \"yaxis\": \"y\"}, {\"hovertemplate\": \"variable=Montserrat<br>year=%{x}<br>value=%{y}<extra></extra>\", \"legendgroup\": \"Montserrat\", \"line\": {\"color\": \"#EF553B\", \"dash\": \"solid\"}, \"mode\": \"lines\", \"name\": \"Montserrat\", \"showlegend\": true, \"type\": \"scattergl\", \"x\": [\"1999\", \"2000\", \"2001\", \"2002\", \"2003\", \"2004\", \"2005\", \"2006\", \"2007\", \"2008\", \"2009\", \"2010\", \"2011\", \"2012\", \"2013\", \"2014\", \"2015\", \"2016\", \"2017\", \"2018\"], \"xaxis\": \"x\", \"y\": [0, 0, 5, 0, 0, 17, 13, 1, 4, 0, 0, 1, 1, 0, 0, 0, 0, 0, 0, 0], \"yaxis\": \"y\"}, {\"hovertemplate\": \"variable=Netherlands Antilles<br>year=%{x}<br>value=%{y}<extra></extra>\", \"legendgroup\": \"Netherlands Antilles\", \"line\": {\"color\": \"#00cc96\", \"dash\": \"solid\"}, \"mode\": \"lines\", \"name\": \"Netherlands Antilles\", \"showlegend\": true, \"type\": \"scattergl\", \"x\": [\"1999\", \"2000\", \"2001\", \"2002\", \"2003\", \"2004\", \"2005\", \"2006\", \"2007\", \"2008\", \"2009\", \"2010\", \"2011\", \"2012\", \"2013\", \"2014\", \"2015\", \"2016\", \"2017\", \"2018\"], \"xaxis\": \"x\", \"y\": [16, 22, 20, 13, 34, 60, 81, 66, 94, 83, 124, 84, 94, 22, 0, 0, 0, 0, 0, 0], \"yaxis\": \"y\"}, {\"hovertemplate\": \"variable=St. Kitts and Nevis<br>year=%{x}<br>value=%{y}<extra></extra>\", \"legendgroup\": \"St. Kitts and Nevis\", \"line\": {\"color\": \"#ab63fa\", \"dash\": \"solid\"}, \"mode\": \"lines\", \"name\": \"St. Kitts and Nevis\", \"showlegend\": true, \"type\": \"scattergl\", \"x\": [\"1999\", \"2000\", \"2001\", \"2002\", \"2003\", \"2004\", \"2005\", \"2006\", \"2007\", \"2008\", \"2009\", \"2010\", \"2011\", \"2012\", \"2013\", \"2014\", \"2015\", \"2016\", \"2017\", \"2018\"], \"xaxis\": \"x\", \"y\": [35, 20, 7, 12, 14, 25, 24, 26, 19, 36, 50, 89, 33, 61, 52, 54, 66, 42, 39, 57], \"yaxis\": \"y\"}, {\"hovertemplate\": \"variable=St. Lucia<br>year=%{x}<br>value=%{y}<extra></extra>\", \"legendgroup\": \"St. Lucia\", \"line\": {\"color\": \"#FFA15A\", \"dash\": \"solid\"}, \"mode\": \"lines\", \"name\": \"St. Lucia\", \"showlegend\": true, \"type\": \"scattergl\", \"x\": [\"1999\", \"2000\", \"2001\", \"2002\", \"2003\", \"2004\", \"2005\", \"2006\", \"2007\", \"2008\", \"2009\", \"2010\", \"2011\", \"2012\", \"2013\", \"2014\", \"2015\", \"2016\", \"2017\", \"2018\"], \"xaxis\": \"x\", \"y\": [2, 10, 0, 0, 1, 21, 16, 30, 65, 61, 73, 71, 43, 28, 56, 54, 67, 52, 113, 30], \"yaxis\": \"y\"}, {\"hovertemplate\": \"variable=St. Vincent and the Grenadines<br>year=%{x}<br>value=%{y}<extra></extra>\", \"legendgroup\": \"St. Vincent and the Grenadines\", \"line\": {\"color\": \"#19d3f3\", \"dash\": \"solid\"}, \"mode\": \"lines\", \"name\": \"St. Vincent and the Grenadines\", \"showlegend\": true, \"type\": \"scattergl\", \"x\": [\"1999\", \"2000\", \"2001\", \"2002\", \"2003\", \"2004\", \"2005\", \"2006\", \"2007\", \"2008\", \"2009\", \"2010\", \"2011\", \"2012\", \"2013\", \"2014\", \"2015\", \"2016\", \"2017\", \"2018\"], \"xaxis\": \"x\", \"y\": [0, 2, 0, 6, 16, 3, 0, 0, 0, 0, 7, 11, 2, 1, 0, 15, 8, 13, 2, 4], \"yaxis\": \"y\"}, {\"hovertemplate\": \"variable=Sint Maarten<br>year=%{x}<br>value=%{y}<extra></extra>\", \"legendgroup\": \"Sint Maarten\", \"line\": {\"color\": \"#FF6692\", \"dash\": \"solid\"}, \"mode\": \"lines\", \"name\": \"Sint Maarten\", \"showlegend\": true, \"type\": \"scattergl\", \"x\": [\"1999\", \"2000\", \"2001\", \"2002\", \"2003\", \"2004\", \"2005\", \"2006\", \"2007\", \"2008\", \"2009\", \"2010\", \"2011\", \"2012\", \"2013\", \"2014\", \"2015\", \"2016\", \"2017\", \"2018\"], \"xaxis\": \"x\", \"y\": [0, 0, 0, 0, 0, 0, 0, 0, 0, 0, 0, 0, 0, 0, 4, 1, 12, 6, 6, 0], \"yaxis\": \"y\"}, {\"hovertemplate\": \"variable=Trinidad and Tobago<br>year=%{x}<br>value=%{y}<extra></extra>\", \"legendgroup\": \"Trinidad and Tobago\", \"line\": {\"color\": \"#B6E880\", \"dash\": \"solid\"}, \"mode\": \"lines\", \"name\": \"Trinidad and Tobago\", \"showlegend\": true, \"type\": \"scattergl\", \"x\": [\"1999\", \"2000\", \"2001\", \"2002\", \"2003\", \"2004\", \"2005\", \"2006\", \"2007\", \"2008\", \"2009\", \"2010\", \"2011\", \"2012\", \"2013\", \"2014\", \"2015\", \"2016\", \"2017\", \"2018\"], \"xaxis\": \"x\", \"y\": [121, 123, 175, 107, 161, 261, 144, 229, 222, 249, 217, 169, 265, 225, 349, 282, 356, 295, 277, 275], \"yaxis\": \"y\"}, {\"hovertemplate\": \"variable=Turks and Caicos<br>year=%{x}<br>value=%{y}<extra></extra>\", \"legendgroup\": \"Turks and Caicos\", \"line\": {\"color\": \"#FF97FF\", \"dash\": \"solid\"}, \"mode\": \"lines\", \"name\": \"Turks and Caicos\", \"showlegend\": true, \"type\": \"scattergl\", \"x\": [\"1999\", \"2000\", \"2001\", \"2002\", \"2003\", \"2004\", \"2005\", \"2006\", \"2007\", \"2008\", \"2009\", \"2010\", \"2011\", \"2012\", \"2013\", \"2014\", \"2015\", \"2016\", \"2017\", \"2018\"], \"xaxis\": \"x\", \"y\": [9, 9, 10, 19, 40, 144, 74, 48, 62, 70, 83, 101, 107, 93, 138, 125, 122, 101, 62, 130], \"yaxis\": \"y\"}, {\"hovertemplate\": \"variable=Belize<br>year=%{x}<br>value=%{y}<extra></extra>\", \"legendgroup\": \"Belize\", \"line\": {\"color\": \"#FECB52\", \"dash\": \"solid\"}, \"mode\": \"lines\", \"name\": \"Belize\", \"showlegend\": true, \"type\": \"scattergl\", \"x\": [\"1999\", \"2000\", \"2001\", \"2002\", \"2003\", \"2004\", \"2005\", \"2006\", \"2007\", \"2008\", \"2009\", \"2010\", \"2011\", \"2012\", \"2013\", \"2014\", \"2015\", \"2016\", \"2017\", \"2018\"], \"xaxis\": \"x\", \"y\": [568, 556, 681, 1363, 823, 941, 812, 1319, 1466, 1333, 1541, 1715, 2209, 2286, 2667, 2590, 2703, 2715, 2584, 2589], \"yaxis\": \"y\"}, {\"hovertemplate\": \"variable=Costa Rica<br>year=%{x}<br>value=%{y}<extra></extra>\", \"legendgroup\": \"Costa Rica\", \"line\": {\"color\": \"#636efa\", \"dash\": \"solid\"}, \"mode\": \"lines\", \"name\": \"Costa Rica\", \"showlegend\": true, \"type\": \"scattergl\", \"x\": [\"1999\", \"2000\", \"2001\", \"2002\", \"2003\", \"2004\", \"2005\", \"2006\", \"2007\", \"2008\", \"2009\", \"2010\", \"2011\", \"2012\", \"2013\", \"2014\", \"2015\", \"2016\", \"2017\", \"2018\"], \"xaxis\": \"x\", \"y\": [3421, 3641, 3781, 4296, 4510, 4887, 5518, 5383, 6096, 6363, 6262, 7230, 7900, 8497, 8578, 9305, 9233, 8322, 8681, 8333], \"yaxis\": \"y\"}, {\"hovertemplate\": \"variable=El Salvador<br>year=%{x}<br>value=%{y}<extra></extra>\", \"legendgroup\": \"El Salvador\", \"line\": {\"color\": \"#EF553B\", \"dash\": \"solid\"}, \"mode\": \"lines\", \"name\": \"El Salvador\", \"showlegend\": true, \"type\": \"scattergl\", \"x\": [\"1999\", \"2000\", \"2001\", \"2002\", \"2003\", \"2004\", \"2005\", \"2006\", \"2007\", \"2008\", \"2009\", \"2010\", \"2011\", \"2012\", \"2013\", \"2014\", \"2015\", \"2016\", \"2017\", \"2018\"], \"xaxis\": \"x\", \"y\": [77, 78, 145, 117, 232, 269, 261, 271, 444, 381, 385, 303, 364, 303, 242, 298, 120, 94, 62, 112], \"yaxis\": \"y\"}, {\"hovertemplate\": \"variable=Guatemala<br>year=%{x}<br>value=%{y}<extra></extra>\", \"legendgroup\": \"Guatemala\", \"line\": {\"color\": \"#00cc96\", \"dash\": \"solid\"}, \"mode\": \"lines\", \"name\": \"Guatemala\", \"showlegend\": true, \"type\": \"scattergl\", \"x\": [\"1999\", \"2000\", \"2001\", \"2002\", \"2003\", \"2004\", \"2005\", \"2006\", \"2007\", \"2008\", \"2009\", \"2010\", \"2011\", \"2012\", \"2013\", \"2014\", \"2015\", \"2016\", \"2017\", \"2018\"], \"xaxis\": \"x\", \"y\": [389, 473, 410, 446, 646, 702, 710, 1095, 1265, 1242, 1333, 1254, 1767, 1661, 2168, 2195, 2292, 2018, 2314, 1976], \"yaxis\": \"y\"}, {\"hovertemplate\": \"variable=Honduras<br>year=%{x}<br>value=%{y}<extra></extra>\", \"legendgroup\": \"Honduras\", \"line\": {\"color\": \"#ab63fa\", \"dash\": \"solid\"}, \"mode\": \"lines\", \"name\": \"Honduras\", \"showlegend\": true, \"type\": \"scattergl\", \"x\": [\"1999\", \"2000\", \"2001\", \"2002\", \"2003\", \"2004\", \"2005\", \"2006\", \"2007\", \"2008\", \"2009\", \"2010\", \"2011\", \"2012\", \"2013\", \"2014\", \"2015\", \"2016\", \"2017\", \"2018\"], \"xaxis\": \"x\", \"y\": [309, 311, 332, 462, 430, 399, 649, 499, 877, 773, 631, 1004, 812, 824, 757, 693, 859, 703, 731, 726], \"yaxis\": \"y\"}, {\"hovertemplate\": \"variable=Mexico<br>year=%{x}<br>value=%{y}<extra></extra>\", \"legendgroup\": \"Mexico\", \"line\": {\"color\": \"#FFA15A\", \"dash\": \"solid\"}, \"mode\": \"lines\", \"name\": \"Mexico\", \"showlegend\": true, \"type\": \"scattergl\", \"x\": [\"1999\", \"2000\", \"2001\", \"2002\", \"2003\", \"2004\", \"2005\", \"2006\", \"2007\", \"2008\", \"2009\", \"2010\", \"2011\", \"2012\", \"2013\", \"2014\", \"2015\", \"2016\", \"2017\", \"2018\"], \"xaxis\": \"x\", \"y\": [7374, 8360, 8078, 8775, 9293, 9244, 10022, 9461, 9928, 7320, 7157, 4167, 3815, 3730, 4445, 4712, 5178, 5736, 5963, 6340], \"yaxis\": \"y\"}, {\"hovertemplate\": \"variable=Nicaragua<br>year=%{x}<br>value=%{y}<extra></extra>\", \"legendgroup\": \"Nicaragua\", \"line\": {\"color\": \"#19d3f3\", \"dash\": \"solid\"}, \"mode\": \"lines\", \"name\": \"Nicaragua\", \"showlegend\": true, \"type\": \"scattergl\", \"x\": [\"1999\", \"2000\", \"2001\", \"2002\", \"2003\", \"2004\", \"2005\", \"2006\", \"2007\", \"2008\", \"2009\", \"2010\", \"2011\", \"2012\", \"2013\", \"2014\", \"2015\", \"2016\", \"2017\", \"2018\"], \"xaxis\": \"x\", \"y\": [201, 162, 251, 290, 343, 312, 463, 563, 791, 870, 1058, 1064, 1551, 1357, 1884, 1930, 2320, 1922, 1641, 202], \"yaxis\": \"y\"}, {\"hovertemplate\": \"variable=Panama<br>year=%{x}<br>value=%{y}<extra></extra>\", \"legendgroup\": \"Panama\", \"line\": {\"color\": \"#FF6692\", \"dash\": \"solid\"}, \"mode\": \"lines\", \"name\": \"Panama\", \"showlegend\": true, \"type\": \"scattergl\", \"x\": [\"1999\", \"2000\", \"2001\", \"2002\", \"2003\", \"2004\", \"2005\", \"2006\", \"2007\", \"2008\", \"2009\", \"2010\", \"2011\", \"2012\", \"2013\", \"2014\", \"2015\", \"2016\", \"2017\", \"2018\"], \"xaxis\": \"x\", \"y\": [75, 96, 344, 109, 195, 228, 651, 438, 581, 757, 691, 624, 730, 958, 1106, 1065, 1256, 1108, 1339, 1323], \"yaxis\": \"y\"}, {\"hovertemplate\": \"variable=Argentina<br>year=%{x}<br>value=%{y}<extra></extra>\", \"legendgroup\": \"Argentina\", \"line\": {\"color\": \"#B6E880\", \"dash\": \"solid\"}, \"mode\": \"lines\", \"name\": \"Argentina\", \"showlegend\": true, \"type\": \"scattergl\", \"x\": [\"1999\", \"2000\", \"2001\", \"2002\", \"2003\", \"2004\", \"2005\", \"2006\", \"2007\", \"2008\", \"2009\", \"2010\", \"2011\", \"2012\", \"2013\", \"2014\", \"2015\", \"2016\", \"2017\", \"2018\"], \"xaxis\": \"x\", \"y\": [985, 1258, 905, 868, 1315, 2013, 2865, 3617, 4109, 4705, 4835, 4589, 4763, 4549, 4301, 3708, 3846, 3422, 3805, 3317], \"yaxis\": \"y\"}, {\"hovertemplate\": \"variable=Bolivia<br>year=%{x}<br>value=%{y}<extra></extra>\", \"legendgroup\": \"Bolivia\", \"line\": {\"color\": \"#FF97FF\", \"dash\": \"solid\"}, \"mode\": \"lines\", \"name\": \"Bolivia\", \"showlegend\": true, \"type\": \"scattergl\", \"x\": [\"1999\", \"2000\", \"2001\", \"2002\", \"2003\", \"2004\", \"2005\", \"2006\", \"2007\", \"2008\", \"2009\", \"2010\", \"2011\", \"2012\", \"2013\", \"2014\", \"2015\", \"2016\", \"2017\", \"2018\"], \"xaxis\": \"x\", \"y\": [158, 177, 156, 159, 234, 187, 225, 215, 341, 196, 359, 306, 274, 345, 353, 320, 286, 362, 293, 371], \"yaxis\": \"y\"}, {\"hovertemplate\": \"variable=Brazil<br>year=%{x}<br>value=%{y}<extra></extra>\", \"legendgroup\": \"Brazil\", \"line\": {\"color\": \"#FECB52\", \"dash\": \"solid\"}, \"mode\": \"lines\", \"name\": \"Brazil\", \"showlegend\": true, \"type\": \"scattergl\", \"x\": [\"1999\", \"2000\", \"2001\", \"2002\", \"2003\", \"2004\", \"2005\", \"2006\", \"2007\", \"2008\", \"2009\", \"2010\", \"2011\", \"2012\", \"2013\", \"2014\", \"2015\", \"2016\", \"2017\", \"2018\"], \"xaxis\": \"x\", \"y\": [717, 760, 1064, 1345, 1554, 1994, 2328, 2524, 2723, 2777, 3099, 3485, 4060, 4223, 4226, 3836, 3400, 2078, 2699, 2269], \"yaxis\": \"y\"}, {\"hovertemplate\": \"variable=Chile<br>year=%{x}<br>value=%{y}<extra></extra>\", \"legendgroup\": \"Chile\", \"line\": {\"color\": \"#636efa\", \"dash\": \"solid\"}, \"mode\": \"lines\", \"name\": \"Chile\", \"showlegend\": true, \"type\": \"scattergl\", \"x\": [\"1999\", \"2000\", \"2001\", \"2002\", \"2003\", \"2004\", \"2005\", \"2006\", \"2007\", \"2008\", \"2009\", \"2010\", \"2011\", \"2012\", \"2013\", \"2014\", \"2015\", \"2016\", \"2017\", \"2018\"], \"xaxis\": \"x\", \"y\": [937, 1233, 1492, 1944, 2135, 2393, 2578, 2824, 2739, 3503, 3115, 3280, 3064, 2879, 3333, 3136, 2942, 3073, 3020, 3190], \"yaxis\": \"y\"}, {\"hovertemplate\": \"variable=Colombia<br>year=%{x}<br>value=%{y}<extra></extra>\", \"legendgroup\": \"Colombia\", \"line\": {\"color\": \"#EF553B\", \"dash\": \"solid\"}, \"mode\": \"lines\", \"name\": \"Colombia\", \"showlegend\": true, \"type\": \"scattergl\", \"x\": [\"1999\", \"2000\", \"2001\", \"2002\", \"2003\", \"2004\", \"2005\", \"2006\", \"2007\", \"2008\", \"2009\", \"2010\", \"2011\", \"2012\", \"2013\", \"2014\", \"2015\", \"2016\", \"2017\", \"2018\"], \"xaxis\": \"x\", \"y\": [44, 13, 26, 15, 20, 42, 37, 51, 68, 109, 180, 200, 294, 340, 439, 664, 828, 911, 905, 1030], \"yaxis\": \"y\"}, {\"hovertemplate\": \"variable=Ecuador<br>year=%{x}<br>value=%{y}<extra></extra>\", \"legendgroup\": \"Ecuador\", \"line\": {\"color\": \"#00cc96\", \"dash\": \"solid\"}, \"mode\": \"lines\", \"name\": \"Ecuador\", \"showlegend\": true, \"type\": \"scattergl\", \"x\": [\"1999\", \"2000\", \"2001\", \"2002\", \"2003\", \"2004\", \"2005\", \"2006\", \"2007\", \"2008\", \"2009\", \"2010\", \"2011\", \"2012\", \"2013\", \"2014\", \"2015\", \"2016\", \"2017\", \"2018\"], \"xaxis\": \"x\", \"y\": [1286, 1311, 1425, 1567, 1678, 1711, 2171, 2813, 2814, 2859, 2960, 3107, 3572, 3438, 3699, 3746, 3751, 4021, 4055, 3675], \"yaxis\": \"y\"}, {\"hovertemplate\": \"variable=Falkland Islands/Islas Malvinas<br>year=%{x}<br>value=%{y}<extra></extra>\", \"legendgroup\": \"Falkland Islands/Islas Malvinas\", \"line\": {\"color\": \"#ab63fa\", \"dash\": \"solid\"}, \"mode\": \"lines\", \"name\": \"Falkland Islands/Islas Malvinas\", \"showlegend\": true, \"type\": \"scattergl\", \"x\": [\"1999\", \"2000\", \"2001\", \"2002\", \"2003\", \"2004\", \"2005\", \"2006\", \"2007\", \"2008\", \"2009\", \"2010\", \"2011\", \"2012\", \"2013\", \"2014\", \"2015\", \"2016\", \"2017\", \"2018\"], \"xaxis\": \"x\", \"y\": [0, 0, 0, 0, 0, 0, 0, 1, 0, 18, 0, 0, 0, 0, 0, 0, 0, 0, 0, 0], \"yaxis\": \"y\"}, {\"hovertemplate\": \"variable=French Guiana<br>year=%{x}<br>value=%{y}<extra></extra>\", \"legendgroup\": \"French Guiana\", \"line\": {\"color\": \"#FFA15A\", \"dash\": \"solid\"}, \"mode\": \"lines\", \"name\": \"French Guiana\", \"showlegend\": true, \"type\": \"scattergl\", \"x\": [\"1999\", \"2000\", \"2001\", \"2002\", \"2003\", \"2004\", \"2005\", \"2006\", \"2007\", \"2008\", \"2009\", \"2010\", \"2011\", \"2012\", \"2013\", \"2014\", \"2015\", \"2016\", \"2017\", \"2018\"], \"xaxis\": \"x\", \"y\": [0, 0, 2, 0, 6, 22, 2, 1, 3, 38, 1, 0, 1, 0, 2, 0, 4, 0, 0, 37], \"yaxis\": \"y\"}, {\"hovertemplate\": \"variable=Guyana<br>year=%{x}<br>value=%{y}<extra></extra>\", \"legendgroup\": \"Guyana\", \"line\": {\"color\": \"#19d3f3\", \"dash\": \"solid\"}, \"mode\": \"lines\", \"name\": \"Guyana\", \"showlegend\": true, \"type\": \"scattergl\", \"x\": [\"1999\", \"2000\", \"2001\", \"2002\", \"2003\", \"2004\", \"2005\", \"2006\", \"2007\", \"2008\", \"2009\", \"2010\", \"2011\", \"2012\", \"2013\", \"2014\", \"2015\", \"2016\", \"2017\", \"2018\"], \"xaxis\": \"x\", \"y\": [17, 1, 9, 37, 41, 29, 29, 36, 81, 29, 51, 31, 67, 40, 114, 72, 37, 49, 97, 94], \"yaxis\": \"y\"}, {\"hovertemplate\": \"variable=Paraguay<br>year=%{x}<br>value=%{y}<extra></extra>\", \"legendgroup\": \"Paraguay\", \"line\": {\"color\": \"#FF6692\", \"dash\": \"solid\"}, \"mode\": \"lines\", \"name\": \"Paraguay\", \"showlegend\": true, \"type\": \"scattergl\", \"x\": [\"1999\", \"2000\", \"2001\", \"2002\", \"2003\", \"2004\", \"2005\", \"2006\", \"2007\", \"2008\", \"2009\", \"2010\", \"2011\", \"2012\", \"2013\", \"2014\", \"2015\", \"2016\", \"2017\", \"2018\"], \"xaxis\": \"x\", \"y\": [34, 47, 16, 59, 75, 56, 34, 39, 54, 53, 39, 36, 25, 40, 14, 48, 87, 102, 82, 57], \"yaxis\": \"y\"}, {\"hovertemplate\": \"variable=Peru<br>year=%{x}<br>value=%{y}<extra></extra>\", \"legendgroup\": \"Peru\", \"line\": {\"color\": \"#B6E880\", \"dash\": \"solid\"}, \"mode\": \"lines\", \"name\": \"Peru\", \"showlegend\": true, \"type\": \"scattergl\", \"x\": [\"1999\", \"2000\", \"2001\", \"2002\", \"2003\", \"2004\", \"2005\", \"2006\", \"2007\", \"2008\", \"2009\", \"2010\", \"2011\", \"2012\", \"2013\", \"2014\", \"2015\", \"2016\", \"2017\", \"2018\"], \"xaxis\": \"x\", \"y\": [349, 356, 522, 599, 624, 867, 1135, 1230, 1638, 2163, 2316, 2448, 2680, 2956, 3396, 3481, 3513, 3695, 3939, 4041], \"yaxis\": \"y\"}, {\"hovertemplate\": \"variable=Suriname<br>year=%{x}<br>value=%{y}<extra></extra>\", \"legendgroup\": \"Suriname\", \"line\": {\"color\": \"#FF97FF\", \"dash\": \"solid\"}, \"mode\": \"lines\", \"name\": \"Suriname\", \"showlegend\": true, \"type\": \"scattergl\", \"x\": [\"1999\", \"2000\", \"2001\", \"2002\", \"2003\", \"2004\", \"2005\", \"2006\", \"2007\", \"2008\", \"2009\", \"2010\", \"2011\", \"2012\", \"2013\", \"2014\", \"2015\", \"2016\", \"2017\", \"2018\"], \"xaxis\": \"x\", \"y\": [2, 0, 0, 0, 14, 9, 12, 0, 5, 0, 23, 38, 12, 12, 0, 13, 28, 6, 2, 6], \"yaxis\": \"y\"}, {\"hovertemplate\": \"variable=Uruguay<br>year=%{x}<br>value=%{y}<extra></extra>\", \"legendgroup\": \"Uruguay\", \"line\": {\"color\": \"#FECB52\", \"dash\": \"solid\"}, \"mode\": \"lines\", \"name\": \"Uruguay\", \"showlegend\": true, \"type\": \"scattergl\", \"x\": [\"1999\", \"2000\", \"2001\", \"2002\", \"2003\", \"2004\", \"2005\", \"2006\", \"2007\", \"2008\", \"2009\", \"2010\", \"2011\", \"2012\", \"2013\", \"2014\", \"2015\", \"2016\", \"2017\", \"2018\"], \"xaxis\": \"x\", \"y\": [9, 49, 52, 59, 108, 82, 91, 81, 172, 160, 168, 133, 142, 162, 201, 116, 142, 107, 169, 212], \"yaxis\": \"y\"}, {\"hovertemplate\": \"variable=Venezuela<br>year=%{x}<br>value=%{y}<extra></extra>\", \"legendgroup\": \"Venezuela\", \"line\": {\"color\": \"#636efa\", \"dash\": \"solid\"}, \"mode\": \"lines\", \"name\": \"Venezuela\", \"showlegend\": true, \"type\": \"scattergl\", \"x\": [\"1999\", \"2000\", \"2001\", \"2002\", \"2003\", \"2004\", \"2005\", \"2006\", \"2007\", \"2008\", \"2009\", \"2010\", \"2011\", \"2012\", \"2013\", \"2014\", \"2015\", \"2016\", \"2017\", \"2018\"], \"xaxis\": \"x\", \"y\": [339, 206, 97, 57, 81, 147, 145, 165, 173, 173, 142, 117, 121, 57, 37, 26, 23, 1, 10, 1], \"yaxis\": \"y\"}, {\"hovertemplate\": \"variable=Bahrain<br>year=%{x}<br>value=%{y}<extra></extra>\", \"legendgroup\": \"Bahrain\", \"line\": {\"color\": \"#EF553B\", \"dash\": \"solid\"}, \"mode\": \"lines\", \"name\": \"Bahrain\", \"showlegend\": true, \"type\": \"scattergl\", \"x\": [\"1999\", \"2000\", \"2001\", \"2002\", \"2003\", \"2004\", \"2005\", \"2006\", \"2007\", \"2008\", \"2009\", \"2010\", \"2011\", \"2012\", \"2013\", \"2014\", \"2015\", \"2016\", \"2017\", \"2018\"], \"xaxis\": \"x\", \"y\": [0, 2, 3, 0, 3, 3, 1, 33, 37, 26, 31, 16, 0, 5, 14, 16, 23, 27, 50, 26], \"yaxis\": \"y\"}, {\"hovertemplate\": \"variable=Iran<br>year=%{x}<br>value=%{y}<extra></extra>\", \"legendgroup\": \"Iran\", \"line\": {\"color\": \"#00cc96\", \"dash\": \"solid\"}, \"mode\": \"lines\", \"name\": \"Iran\", \"showlegend\": true, \"type\": \"scattergl\", \"x\": [\"1999\", \"2000\", \"2001\", \"2002\", \"2003\", \"2004\", \"2005\", \"2006\", \"2007\", \"2008\", \"2009\", \"2010\", \"2011\", \"2012\", \"2013\", \"2014\", \"2015\", \"2016\", \"2017\", \"2018\"], \"xaxis\": \"x\", \"y\": [0, 1, 2, 1, 1, 2, 7, 2, 1, 3, 2, 1, 1, 2, 15, 2, 3, 1, 2, 28], \"yaxis\": \"y\"}, {\"hovertemplate\": \"variable=Iraq<br>year=%{x}<br>value=%{y}<extra></extra>\", \"legendgroup\": \"Iraq\", \"line\": {\"color\": \"#ab63fa\", \"dash\": \"solid\"}, \"mode\": \"lines\", \"name\": \"Iraq\", \"showlegend\": true, \"type\": \"scattergl\", \"x\": [\"1999\", \"2000\", \"2001\", \"2002\", \"2003\", \"2004\", \"2005\", \"2006\", \"2007\", \"2008\", \"2009\", \"2010\", \"2011\", \"2012\", \"2013\", \"2014\", \"2015\", \"2016\", \"2017\", \"2018\"], \"xaxis\": \"x\", \"y\": [0, 0, 0, 0, 0, 1, 0, 0, 0, 0, 2, 1, 0, 9, 6, 0, 1, 2, 3, 4], \"yaxis\": \"y\"}, {\"hovertemplate\": \"variable=Israel<br>year=%{x}<br>value=%{y}<extra></extra>\", \"legendgroup\": \"Israel\", \"line\": {\"color\": \"#FFA15A\", \"dash\": \"solid\"}, \"mode\": \"lines\", \"name\": \"Israel\", \"showlegend\": true, \"type\": \"scattergl\", \"x\": [\"1999\", \"2000\", \"2001\", \"2002\", \"2003\", \"2004\", \"2005\", \"2006\", \"2007\", \"2008\", \"2009\", \"2010\", \"2011\", \"2012\", \"2013\", \"2014\", \"2015\", \"2016\", \"2017\", \"2018\"], \"xaxis\": \"x\", \"y\": [3898, 1248, 1031, 340, 665, 1617, 1981, 2226, 2322, 1958, 3146, 3441, 3189, 2798, 2876, 3317, 2435, 2999, 3355, 3532], \"yaxis\": \"y\"}, {\"hovertemplate\": \"variable=Jordan<br>year=%{x}<br>value=%{y}<extra></extra>\", \"legendgroup\": \"Jordan\", \"line\": {\"color\": \"#19d3f3\", \"dash\": \"solid\"}, \"mode\": \"lines\", \"name\": \"Jordan\", \"showlegend\": true, \"type\": \"scattergl\", \"x\": [\"1999\", \"2000\", \"2001\", \"2002\", \"2003\", \"2004\", \"2005\", \"2006\", \"2007\", \"2008\", \"2009\", \"2010\", \"2011\", \"2012\", \"2013\", \"2014\", \"2015\", \"2016\", \"2017\", \"2018\"], \"xaxis\": \"x\", \"y\": [86, 83, 37, 29, 65, 171, 309, 231, 486, 483, 745, 731, 976, 935, 1085, 985, 969, 735, 1017, 1064], \"yaxis\": \"y\"}, {\"hovertemplate\": \"variable=Kuwait<br>year=%{x}<br>value=%{y}<extra></extra>\", \"legendgroup\": \"Kuwait\", \"line\": {\"color\": \"#FF6692\", \"dash\": \"solid\"}, \"mode\": \"lines\", \"name\": \"Kuwait\", \"showlegend\": true, \"type\": \"scattergl\", \"x\": [\"1999\", \"2000\", \"2001\", \"2002\", \"2003\", \"2004\", \"2005\", \"2006\", \"2007\", \"2008\", \"2009\", \"2010\", \"2011\", \"2012\", \"2013\", \"2014\", \"2015\", \"2016\", \"2017\", \"2018\"], \"xaxis\": \"x\", \"y\": [2, 3, 4, 6, 3, 2, 1, 2, 35, 25, 30, 30, 26, 30, 28, 28, 23, 13, 0, 5], \"yaxis\": \"y\"}, {\"hovertemplate\": \"variable=Lebanon<br>year=%{x}<br>value=%{y}<extra></extra>\", \"legendgroup\": \"Lebanon\", \"line\": {\"color\": \"#B6E880\", \"dash\": \"solid\"}, \"mode\": \"lines\", \"name\": \"Lebanon\", \"showlegend\": true, \"type\": \"scattergl\", \"x\": [\"1999\", \"2000\", \"2001\", \"2002\", \"2003\", \"2004\", \"2005\", \"2006\", \"2007\", \"2008\", \"2009\", \"2010\", \"2011\", \"2012\", \"2013\", \"2014\", \"2015\", \"2016\", \"2017\", \"2018\"], \"xaxis\": \"x\", \"y\": [13, 19, 16, 14, 23, 43, 46, 14, 31, 44, 86, 117, 85, 39, 26, 37, 29, 56, 64, 82], \"yaxis\": \"y\"}, {\"hovertemplate\": \"variable=Oman<br>year=%{x}<br>value=%{y}<extra></extra>\", \"legendgroup\": \"Oman\", \"line\": {\"color\": \"#FF97FF\", \"dash\": \"solid\"}, \"mode\": \"lines\", \"name\": \"Oman\", \"showlegend\": true, \"type\": \"scattergl\", \"x\": [\"1999\", \"2000\", \"2001\", \"2002\", \"2003\", \"2004\", \"2005\", \"2006\", \"2007\", \"2008\", \"2009\", \"2010\", \"2011\", \"2012\", \"2013\", \"2014\", \"2015\", \"2016\", \"2017\", \"2018\"], \"xaxis\": \"x\", \"y\": [0, 0, 1, 0, 1, 2, 23, 21, 33, 27, 48, 36, 51, 33, 71, 92, 143, 102, 96, 149], \"yaxis\": \"y\"}, {\"hovertemplate\": \"variable=Palestinian Territories<br>year=%{x}<br>value=%{y}<extra></extra>\", \"legendgroup\": \"Palestinian Territories\", \"line\": {\"color\": \"#FECB52\", \"dash\": \"solid\"}, \"mode\": \"lines\", \"name\": \"Palestinian Territories\", \"showlegend\": true, \"type\": \"scattergl\", \"x\": [\"1999\", \"2000\", \"2001\", \"2002\", \"2003\", \"2004\", \"2005\", \"2006\", \"2007\", \"2008\", \"2009\", \"2010\", \"2011\", \"2012\", \"2013\", \"2014\", \"2015\", \"2016\", \"2017\", \"2018\"], \"xaxis\": \"x\", \"y\": [1, 1, 0, 0, 1, 23, 25, 7, 4, 8, 27, 15, 14, 35, 22, 30, 15, 17, 27, 14], \"yaxis\": \"y\"}, {\"hovertemplate\": \"variable=Qatar<br>year=%{x}<br>value=%{y}<extra></extra>\", \"legendgroup\": \"Qatar\", \"line\": {\"color\": \"#636efa\", \"dash\": \"solid\"}, \"mode\": \"lines\", \"name\": \"Qatar\", \"showlegend\": true, \"type\": \"scattergl\", \"x\": [\"1999\", \"2000\", \"2001\", \"2002\", \"2003\", \"2004\", \"2005\", \"2006\", \"2007\", \"2008\", \"2009\", \"2010\", \"2011\", \"2012\", \"2013\", \"2014\", \"2015\", \"2016\", \"2017\", \"2018\"], \"xaxis\": \"x\", \"y\": [0, 0, 0, 0, 2, 7, 2, 2, 24, 70, 84, 67, 151, 88, 99, 138, 122, 108, 96, 62], \"yaxis\": \"y\"}, {\"hovertemplate\": \"variable=Saudi Arabia<br>year=%{x}<br>value=%{y}<extra></extra>\", \"legendgroup\": \"Saudi Arabia\", \"line\": {\"color\": \"#EF553B\", \"dash\": \"solid\"}, \"mode\": \"lines\", \"name\": \"Saudi Arabia\", \"showlegend\": true, \"type\": \"scattergl\", \"x\": [\"1999\", \"2000\", \"2001\", \"2002\", \"2003\", \"2004\", \"2005\", \"2006\", \"2007\", \"2008\", \"2009\", \"2010\", \"2011\", \"2012\", \"2013\", \"2014\", \"2015\", \"2016\", \"2017\", \"2018\"], \"xaxis\": \"x\", \"y\": [2, 1, 1, 2, 2, 1, 1, 3, 2, 26, 14, 18, 25, 11, 25, 11, 16, 20, 8, 4], \"yaxis\": \"y\"}, {\"hovertemplate\": \"variable=Syria<br>year=%{x}<br>value=%{y}<extra></extra>\", \"legendgroup\": \"Syria\", \"line\": {\"color\": \"#00cc96\", \"dash\": \"solid\"}, \"mode\": \"lines\", \"name\": \"Syria\", \"showlegend\": true, \"type\": \"scattergl\", \"x\": [\"1999\", \"2000\", \"2001\", \"2002\", \"2003\", \"2004\", \"2005\", \"2006\", \"2007\", \"2008\", \"2009\", \"2010\", \"2011\", \"2012\", \"2013\", \"2014\", \"2015\", \"2016\", \"2017\", \"2018\"], \"xaxis\": \"x\", \"y\": [5, 3, 2, 4, 19, 19, 39, 21, 22, 35, 104, 50, 5, 16, 0, 1, 1, 0, 0, 0], \"yaxis\": \"y\"}, {\"hovertemplate\": \"variable=United Arab Emirates<br>year=%{x}<br>value=%{y}<extra></extra>\", \"legendgroup\": \"United Arab Emirates\", \"line\": {\"color\": \"#ab63fa\", \"dash\": \"solid\"}, \"mode\": \"lines\", \"name\": \"United Arab Emirates\", \"showlegend\": true, \"type\": \"scattergl\", \"x\": [\"1999\", \"2000\", \"2001\", \"2002\", \"2003\", \"2004\", \"2005\", \"2006\", \"2007\", \"2008\", \"2009\", \"2010\", \"2011\", \"2012\", \"2013\", \"2014\", \"2015\", \"2016\", \"2017\", \"2018\"], \"xaxis\": \"x\", \"y\": [5, 5, 7, 12, 20, 84, 146, 173, 345, 955, 634, 474, 661, 696, 735, 619, 718, 865, 939, 955], \"yaxis\": \"y\"}, {\"hovertemplate\": \"variable=Yemen<br>year=%{x}<br>value=%{y}<extra></extra>\", \"legendgroup\": \"Yemen\", \"line\": {\"color\": \"#FFA15A\", \"dash\": \"solid\"}, \"mode\": \"lines\", \"name\": \"Yemen\", \"showlegend\": true, \"type\": \"scattergl\", \"x\": [\"1999\", \"2000\", \"2001\", \"2002\", \"2003\", \"2004\", \"2005\", \"2006\", \"2007\", \"2008\", \"2009\", \"2010\", \"2011\", \"2012\", \"2013\", \"2014\", \"2015\", \"2016\", \"2017\", \"2018\"], \"xaxis\": \"x\", \"y\": [1, 3, 0, 1, 7, 2, 4, 24, 20, 10, 6, 0, 1, 2, 1, 0, 0, 0, 0, 0], \"yaxis\": \"y\"}, {\"hovertemplate\": \"variable=Algeria<br>year=%{x}<br>value=%{y}<extra></extra>\", \"legendgroup\": \"Algeria\", \"line\": {\"color\": \"#19d3f3\", \"dash\": \"solid\"}, \"mode\": \"lines\", \"name\": \"Algeria\", \"showlegend\": true, \"type\": \"scattergl\", \"x\": [\"1999\", \"2000\", \"2001\", \"2002\", \"2003\", \"2004\", \"2005\", \"2006\", \"2007\", \"2008\", \"2009\", \"2010\", \"2011\", \"2012\", \"2013\", \"2014\", \"2015\", \"2016\", \"2017\", \"2018\"], \"xaxis\": \"x\", \"y\": [0, 0, 0, 0, 0, 0, 1, 0, 0, 0, 1, 1, 1, 0, 2, 0, 0, 1, 1, 5], \"yaxis\": \"y\"}, {\"hovertemplate\": \"variable=Egypt<br>year=%{x}<br>value=%{y}<extra></extra>\", \"legendgroup\": \"Egypt\", \"line\": {\"color\": \"#FF6692\", \"dash\": \"solid\"}, \"mode\": \"lines\", \"name\": \"Egypt\", \"showlegend\": true, \"type\": \"scattergl\", \"x\": [\"1999\", \"2000\", \"2001\", \"2002\", \"2003\", \"2004\", \"2005\", \"2006\", \"2007\", \"2008\", \"2009\", \"2010\", \"2011\", \"2012\", \"2013\", \"2014\", \"2015\", \"2016\", \"2017\", \"2018\"], \"xaxis\": \"x\", \"y\": [388, 436, 241, 303, 573, 807, 983, 1100, 1466, 1781, 1923, 1096, 701, 486, 37, 109, 124, 174, 123, 248], \"yaxis\": \"y\"}, {\"hovertemplate\": \"variable=Libya<br>year=%{x}<br>value=%{y}<extra></extra>\", \"legendgroup\": \"Libya\", \"line\": {\"color\": \"#B6E880\", \"dash\": \"solid\"}, \"mode\": \"lines\", \"name\": \"Libya\", \"showlegend\": true, \"type\": \"scattergl\", \"x\": [\"1999\", \"2000\", \"2001\", \"2002\", \"2003\", \"2004\", \"2005\", \"2006\", \"2007\", \"2008\", \"2009\", \"2010\", \"2011\", \"2012\", \"2013\", \"2014\", \"2015\", \"2016\", \"2017\", \"2018\"], \"xaxis\": \"x\", \"y\": [0, 0, 0, 0, 0, 0, 0, 0, 2, 0, 0, 0, 0, 1, 2, 0, 0, 0, 0, 0], \"yaxis\": \"y\"}, {\"hovertemplate\": \"variable=Morocco<br>year=%{x}<br>value=%{y}<extra></extra>\", \"legendgroup\": \"Morocco\", \"line\": {\"color\": \"#FF97FF\", \"dash\": \"solid\"}, \"mode\": \"lines\", \"name\": \"Morocco\", \"showlegend\": true, \"type\": \"scattergl\", \"x\": [\"1999\", \"2000\", \"2001\", \"2002\", \"2003\", \"2004\", \"2005\", \"2006\", \"2007\", \"2008\", \"2009\", \"2010\", \"2011\", \"2012\", \"2013\", \"2014\", \"2015\", \"2016\", \"2017\", \"2018\"], \"xaxis\": \"x\", \"y\": [132, 245, 170, 191, 298, 339, 370, 491, 719, 865, 1257, 1038, 957, 1182, 1255, 1413, 1403, 1770, 1411, 1749], \"yaxis\": \"y\"}, {\"hovertemplate\": \"variable=Tunisia<br>year=%{x}<br>value=%{y}<extra></extra>\", \"legendgroup\": \"Tunisia\", \"line\": {\"color\": \"#FECB52\", \"dash\": \"solid\"}, \"mode\": \"lines\", \"name\": \"Tunisia\", \"showlegend\": true, \"type\": \"scattergl\", \"x\": [\"1999\", \"2000\", \"2001\", \"2002\", \"2003\", \"2004\", \"2005\", \"2006\", \"2007\", \"2008\", \"2009\", \"2010\", \"2011\", \"2012\", \"2013\", \"2014\", \"2015\", \"2016\", \"2017\", \"2018\"], \"xaxis\": \"x\", \"y\": [59, 69, 20, 0, 11, 29, 54, 63, 173, 130, 141, 74, 103, 47, 50, 46, 19, 11, 15, 38], \"yaxis\": \"y\"}, {\"hovertemplate\": \"variable=Canada<br>year=%{x}<br>value=%{y}<extra></extra>\", \"legendgroup\": \"Canada\", \"line\": {\"color\": \"#636efa\", \"dash\": \"solid\"}, \"mode\": \"lines\", \"name\": \"Canada\", \"showlegend\": true, \"type\": \"scattergl\", \"x\": [\"1999\", \"2000\", \"2001\", \"2002\", \"2003\", \"2004\", \"2005\", \"2006\", \"2007\", \"2008\", \"2009\", \"2010\", \"2011\", \"2012\", \"2013\", \"2014\", \"2015\", \"2016\", \"2017\", \"2018\"], \"xaxis\": \"x\", \"y\": [1275, 1040, 1180, 1194, 1054, 1029, 1015, 1222, 1083, 1264, 1750, 1426, 1639, 1380, 1470, 1569, 1716, 1639, 1786, 2107], \"yaxis\": \"y\"}, {\"hovertemplate\": \"variable=Australia<br>year=%{x}<br>value=%{y}<extra></extra>\", \"legendgroup\": \"Australia\", \"line\": {\"color\": \"#EF553B\", \"dash\": \"solid\"}, \"mode\": \"lines\", \"name\": \"Australia\", \"showlegend\": true, \"type\": \"scattergl\", \"x\": [\"1999\", \"2000\", \"2001\", \"2002\", \"2003\", \"2004\", \"2005\", \"2006\", \"2007\", \"2008\", \"2009\", \"2010\", \"2011\", \"2012\", \"2013\", \"2014\", \"2015\", \"2016\", \"2017\", \"2018\"], \"xaxis\": \"x\", \"y\": [6329, 8066, 9456, 10691, 11418, 10813, 10980, 10747, 11042, 11140, 9962, 9736, 9324, 8320, 8369, 8810, 9536, 10400, 10332, 10665], \"yaxis\": \"y\"}, {\"hovertemplate\": \"variable=Cook Islands<br>year=%{x}<br>value=%{y}<extra></extra>\", \"legendgroup\": \"Cook Islands\", \"line\": {\"color\": \"#00cc96\", \"dash\": \"solid\"}, \"mode\": \"lines\", \"name\": \"Cook Islands\", \"showlegend\": true, \"type\": \"scattergl\", \"x\": [\"1999\", \"2000\", \"2001\", \"2002\", \"2003\", \"2004\", \"2005\", \"2006\", \"2007\", \"2008\", \"2009\", \"2010\", \"2011\", \"2012\", \"2013\", \"2014\", \"2015\", \"2016\", \"2017\", \"2018\"], \"xaxis\": \"x\", \"y\": [1, 1, 3, 1, 2, 24, 2, 1, 1, 1, 6, 2, 1, 1, 1, 1, 5, 1, 1, 2], \"yaxis\": \"y\"}, {\"hovertemplate\": \"variable=Fiji<br>year=%{x}<br>value=%{y}<extra></extra>\", \"legendgroup\": \"Fiji\", \"line\": {\"color\": \"#ab63fa\", \"dash\": \"solid\"}, \"mode\": \"lines\", \"name\": \"Fiji\", \"showlegend\": true, \"type\": \"scattergl\", \"x\": [\"1999\", \"2000\", \"2001\", \"2002\", \"2003\", \"2004\", \"2005\", \"2006\", \"2007\", \"2008\", \"2009\", \"2010\", \"2011\", \"2012\", \"2013\", \"2014\", \"2015\", \"2016\", \"2017\", \"2018\"], \"xaxis\": \"x\", \"y\": [34, 8, 45, 66, 132, 143, 314, 180, 180, 220, 239, 259, 211, 233, 260, 249, 266, 218, 216, 245], \"yaxis\": \"y\"}, {\"hovertemplate\": \"variable=French Polynesia<br>year=%{x}<br>value=%{y}<extra></extra>\", \"legendgroup\": \"French Polynesia\", \"line\": {\"color\": \"#FFA15A\", \"dash\": \"solid\"}, \"mode\": \"lines\", \"name\": \"French Polynesia\", \"showlegend\": true, \"type\": \"scattergl\", \"x\": [\"1999\", \"2000\", \"2001\", \"2002\", \"2003\", \"2004\", \"2005\", \"2006\", \"2007\", \"2008\", \"2009\", \"2010\", \"2011\", \"2012\", \"2013\", \"2014\", \"2015\", \"2016\", \"2017\", \"2018\"], \"xaxis\": \"x\", \"y\": [20, 24, 40, 7, 100, 83, 72, 62, 60, 33, 153, 79, 75, 77, 110, 64, 107, 81, 95, 73], \"yaxis\": \"y\"}, {\"hovertemplate\": \"variable=Kiribati<br>year=%{x}<br>value=%{y}<extra></extra>\", \"legendgroup\": \"Kiribati\", \"line\": {\"color\": \"#19d3f3\", \"dash\": \"solid\"}, \"mode\": \"lines\", \"name\": \"Kiribati\", \"showlegend\": true, \"type\": \"scattergl\", \"x\": [\"1999\", \"2000\", \"2001\", \"2002\", \"2003\", \"2004\", \"2005\", \"2006\", \"2007\", \"2008\", \"2009\", \"2010\", \"2011\", \"2012\", \"2013\", \"2014\", \"2015\", \"2016\", \"2017\", \"2018\"], \"xaxis\": \"x\", \"y\": [0, 0, 0, 0, 0, 0, 0, 3, 0, 0, 1, 4, 9, 2, 1, 0, 0, 2, 3, 4], \"yaxis\": \"y\"}, {\"hovertemplate\": \"variable=Marshall Islands<br>year=%{x}<br>value=%{y}<extra></extra>\", \"legendgroup\": \"Marshall Islands\", \"line\": {\"color\": \"#FF6692\", \"dash\": \"solid\"}, \"mode\": \"lines\", \"name\": \"Marshall Islands\", \"showlegend\": true, \"type\": \"scattergl\", \"x\": [\"1999\", \"2000\", \"2001\", \"2002\", \"2003\", \"2004\", \"2005\", \"2006\", \"2007\", \"2008\", \"2009\", \"2010\", \"2011\", \"2012\", \"2013\", \"2014\", \"2015\", \"2016\", \"2017\", \"2018\"], \"xaxis\": \"x\", \"y\": [0, 7, 2, 8, 6, 3, 4, 4, 3, 4, 25, 0, 3, 0, 2, 3, 5, 4, 8, 0], \"yaxis\": \"y\"}, {\"hovertemplate\": \"variable=Micronesia<br>year=%{x}<br>value=%{y}<extra></extra>\", \"legendgroup\": \"Micronesia\", \"line\": {\"color\": \"#B6E880\", \"dash\": \"solid\"}, \"mode\": \"lines\", \"name\": \"Micronesia\", \"showlegend\": true, \"type\": \"scattergl\", \"x\": [\"1999\", \"2000\", \"2001\", \"2002\", \"2003\", \"2004\", \"2005\", \"2006\", \"2007\", \"2008\", \"2009\", \"2010\", \"2011\", \"2012\", \"2013\", \"2014\", \"2015\", \"2016\", \"2017\", \"2018\"], \"xaxis\": \"x\", \"y\": [2, 1, 22, 16, 15, 17, 24, 15, 53, 1, 3, 58, 27, 24, 56, 18, 0, 33, 0, 20], \"yaxis\": \"y\"}, {\"hovertemplate\": \"variable=Nauru<br>year=%{x}<br>value=%{y}<extra></extra>\", \"legendgroup\": \"Nauru\", \"line\": {\"color\": \"#FF97FF\", \"dash\": \"solid\"}, \"mode\": \"lines\", \"name\": \"Nauru\", \"showlegend\": true, \"type\": \"scattergl\", \"x\": [\"1999\", \"2000\", \"2001\", \"2002\", \"2003\", \"2004\", \"2005\", \"2006\", \"2007\", \"2008\", \"2009\", \"2010\", \"2011\", \"2012\", \"2013\", \"2014\", \"2015\", \"2016\", \"2017\", \"2018\"], \"xaxis\": \"x\", \"y\": [0, 0, 0, 0, 0, 0, 0, 0, 0, 1, 0, 0, 0, 0, 0, 0, 0, 0, 0, 0], \"yaxis\": \"y\"}, {\"hovertemplate\": \"variable=New Caledonia<br>year=%{x}<br>value=%{y}<extra></extra>\", \"legendgroup\": \"New Caledonia\", \"line\": {\"color\": \"#FECB52\", \"dash\": \"solid\"}, \"mode\": \"lines\", \"name\": \"New Caledonia\", \"showlegend\": true, \"type\": \"scattergl\", \"x\": [\"1999\", \"2000\", \"2001\", \"2002\", \"2003\", \"2004\", \"2005\", \"2006\", \"2007\", \"2008\", \"2009\", \"2010\", \"2011\", \"2012\", \"2013\", \"2014\", \"2015\", \"2016\", \"2017\", \"2018\"], \"xaxis\": \"x\", \"y\": [0, 0, 0, 0, 0, 4, 0, 3, 0, 0, 1, 1, 0, 0, 0, 0, 0, 2, 0, 1], \"yaxis\": \"y\"}, {\"hovertemplate\": \"variable=New Zealand<br>year=%{x}<br>value=%{y}<extra></extra>\", \"legendgroup\": \"New Zealand\", \"line\": {\"color\": \"#636efa\", \"dash\": \"solid\"}, \"mode\": \"lines\", \"name\": \"New Zealand\", \"showlegend\": true, \"type\": \"scattergl\", \"x\": [\"1999\", \"2000\", \"2001\", \"2002\", \"2003\", \"2004\", \"2005\", \"2006\", \"2007\", \"2008\", \"2009\", \"2010\", \"2011\", \"2012\", \"2013\", \"2014\", \"2015\", \"2016\", \"2017\", \"2018\"], \"xaxis\": \"x\", \"y\": [799, 1120, 1326, 1917, 2369, 2657, 2542, 2718, 2629, 2769, 3113, 2900, 2969, 2793, 3021, 3325, 3806, 3777, 3885, 4233], \"yaxis\": \"y\"}, {\"hovertemplate\": \"variable=Niue<br>year=%{x}<br>value=%{y}<extra></extra>\", \"legendgroup\": \"Niue\", \"line\": {\"color\": \"#EF553B\", \"dash\": \"solid\"}, \"mode\": \"lines\", \"name\": \"Niue\", \"showlegend\": true, \"type\": \"scattergl\", \"x\": [\"1999\", \"2000\", \"2001\", \"2002\", \"2003\", \"2004\", \"2005\", \"2006\", \"2007\", \"2008\", \"2009\", \"2010\", \"2011\", \"2012\", \"2013\", \"2014\", \"2015\", \"2016\", \"2017\", \"2018\"], \"xaxis\": \"x\", \"y\": [0, 0, 0, 0, 0, 0, 5, 0, 0, 0, 0, 0, 0, 0, 0, 0, 0, 0, 0, 3], \"yaxis\": \"y\"}, {\"hovertemplate\": \"variable=Norfolk Island<br>year=%{x}<br>value=%{y}<extra></extra>\", \"legendgroup\": \"Norfolk Island\", \"line\": {\"color\": \"#00cc96\", \"dash\": \"solid\"}, \"mode\": \"lines\", \"name\": \"Norfolk Island\", \"showlegend\": true, \"type\": \"scattergl\", \"x\": [\"1999\", \"2000\", \"2001\", \"2002\", \"2003\", \"2004\", \"2005\", \"2006\", \"2007\", \"2008\", \"2009\", \"2010\", \"2011\", \"2012\", \"2013\", \"2014\", \"2015\", \"2016\", \"2017\", \"2018\"], \"xaxis\": \"x\", \"y\": [0, 0, 0, 0, 0, 0, 1, 0, 0, 0, 0, 0, 0, 0, 0, 0, 0, 0, 0, 1], \"yaxis\": \"y\"}, {\"hovertemplate\": \"variable=Palau<br>year=%{x}<br>value=%{y}<extra></extra>\", \"legendgroup\": \"Palau\", \"line\": {\"color\": \"#ab63fa\", \"dash\": \"solid\"}, \"mode\": \"lines\", \"name\": \"Palau\", \"showlegend\": true, \"type\": \"scattergl\", \"x\": [\"1999\", \"2000\", \"2001\", \"2002\", \"2003\", \"2004\", \"2005\", \"2006\", \"2007\", \"2008\", \"2009\", \"2010\", \"2011\", \"2012\", \"2013\", \"2014\", \"2015\", \"2016\", \"2017\", \"2018\"], \"xaxis\": \"x\", \"y\": [0, 0, 7, 0, 0, 2, 11, 2, 14, 24, 12, 31, 68, 65, 37, 65, 34, 20, 34, 48], \"yaxis\": \"y\"}, {\"hovertemplate\": \"variable=Papua New Guinea<br>year=%{x}<br>value=%{y}<extra></extra>\", \"legendgroup\": \"Papua New Guinea\", \"line\": {\"color\": \"#FFA15A\", \"dash\": \"solid\"}, \"mode\": \"lines\", \"name\": \"Papua New Guinea\", \"showlegend\": true, \"type\": \"scattergl\", \"x\": [\"1999\", \"2000\", \"2001\", \"2002\", \"2003\", \"2004\", \"2005\", \"2006\", \"2007\", \"2008\", \"2009\", \"2010\", \"2011\", \"2012\", \"2013\", \"2014\", \"2015\", \"2016\", \"2017\", \"2018\"], \"xaxis\": \"x\", \"y\": [2, 10, 4, 0, 6, 11, 2, 10, 3, 15, 6, 2, 4, 13, 7, 6, 3, 4, 1, 15], \"yaxis\": \"y\"}, {\"hovertemplate\": \"variable=Samoa<br>year=%{x}<br>value=%{y}<extra></extra>\", \"legendgroup\": \"Samoa\", \"line\": {\"color\": \"#19d3f3\", \"dash\": \"solid\"}, \"mode\": \"lines\", \"name\": \"Samoa\", \"showlegend\": true, \"type\": \"scattergl\", \"x\": [\"1999\", \"2000\", \"2001\", \"2002\", \"2003\", \"2004\", \"2005\", \"2006\", \"2007\", \"2008\", \"2009\", \"2010\", \"2011\", \"2012\", \"2013\", \"2014\", \"2015\", \"2016\", \"2017\", \"2018\"], \"xaxis\": \"x\", \"y\": [26, 35, 26, 25, 36, 27, 62, 35, 30, 41, 8, 30, 40, 28, 43, 55, 37, 66, 79, 88], \"yaxis\": \"y\"}, {\"hovertemplate\": \"variable=Solomon Islands<br>year=%{x}<br>value=%{y}<extra></extra>\", \"legendgroup\": \"Solomon Islands\", \"line\": {\"color\": \"#FF6692\", \"dash\": \"solid\"}, \"mode\": \"lines\", \"name\": \"Solomon Islands\", \"showlegend\": true, \"type\": \"scattergl\", \"x\": [\"1999\", \"2000\", \"2001\", \"2002\", \"2003\", \"2004\", \"2005\", \"2006\", \"2007\", \"2008\", \"2009\", \"2010\", \"2011\", \"2012\", \"2013\", \"2014\", \"2015\", \"2016\", \"2017\", \"2018\"], \"xaxis\": \"x\", \"y\": [0, 0, 0, 0, 1, 0, 0, 0, 0, 11, 3, 0, 3, 11, 0, 3, 3, 10, 3, 15], \"yaxis\": \"y\"}, {\"hovertemplate\": \"variable=Tonga<br>year=%{x}<br>value=%{y}<extra></extra>\", \"legendgroup\": \"Tonga\", \"line\": {\"color\": \"#B6E880\", \"dash\": \"solid\"}, \"mode\": \"lines\", \"name\": \"Tonga\", \"showlegend\": true, \"type\": \"scattergl\", \"x\": [\"1999\", \"2000\", \"2001\", \"2002\", \"2003\", \"2004\", \"2005\", \"2006\", \"2007\", \"2008\", \"2009\", \"2010\", \"2011\", \"2012\", \"2013\", \"2014\", \"2015\", \"2016\", \"2017\", \"2018\"], \"xaxis\": \"x\", \"y\": [0, 5, 10, 0, 26, 3, 12, 39, 12, 0, 34, 47, 20, 17, 14, 15, 11, 21, 21, 18], \"yaxis\": \"y\"}, {\"hovertemplate\": \"variable=Tuvalu<br>year=%{x}<br>value=%{y}<extra></extra>\", \"legendgroup\": \"Tuvalu\", \"line\": {\"color\": \"#FF97FF\", \"dash\": \"solid\"}, \"mode\": \"lines\", \"name\": \"Tuvalu\", \"showlegend\": true, \"type\": \"scattergl\", \"x\": [\"1999\", \"2000\", \"2001\", \"2002\", \"2003\", \"2004\", \"2005\", \"2006\", \"2007\", \"2008\", \"2009\", \"2010\", \"2011\", \"2012\", \"2013\", \"2014\", \"2015\", \"2016\", \"2017\", \"2018\"], \"xaxis\": \"x\", \"y\": [0, 0, 0, 0, 0, 0, 1, 0, 1, 0, 0, 0, 0, 0, 0, 0, 0, 0, 0, 0], \"yaxis\": \"y\"}, {\"hovertemplate\": \"variable=Vanuatu<br>year=%{x}<br>value=%{y}<extra></extra>\", \"legendgroup\": \"Vanuatu\", \"line\": {\"color\": \"#FECB52\", \"dash\": \"solid\"}, \"mode\": \"lines\", \"name\": \"Vanuatu\", \"showlegend\": true, \"type\": \"scattergl\", \"x\": [\"1999\", \"2000\", \"2001\", \"2002\", \"2003\", \"2004\", \"2005\", \"2006\", \"2007\", \"2008\", \"2009\", \"2010\", \"2011\", \"2012\", \"2013\", \"2014\", \"2015\", \"2016\", \"2017\", \"2018\"], \"xaxis\": \"x\", \"y\": [0, 2, 0, 4, 2, 0, 1, 1, 0, 1, 0, 7, 1, 0, 2, 0, 2, 0, 14, 3], \"yaxis\": \"y\"}, {\"hovertemplate\": \"variable=Wallis and Futuna<br>year=%{x}<br>value=%{y}<extra></extra>\", \"legendgroup\": \"Wallis and Futuna\", \"line\": {\"color\": \"#636efa\", \"dash\": \"solid\"}, \"mode\": \"lines\", \"name\": \"Wallis and Futuna\", \"showlegend\": true, \"type\": \"scattergl\", \"x\": [\"1999\", \"2000\", \"2001\", \"2002\", \"2003\", \"2004\", \"2005\", \"2006\", \"2007\", \"2008\", \"2009\", \"2010\", \"2011\", \"2012\", \"2013\", \"2014\", \"2015\", \"2016\", \"2017\", \"2018\"], \"xaxis\": \"x\", \"y\": [0, 0, 0, 0, 0, 0, 0, 0, 0, 0, 0, 0, 0, 0, 0, 0, 0, 0, 0, 0], \"yaxis\": \"y\"}, {\"hovertemplate\": \"variable=ANTARCTICA<br>year=%{x}<br>value=%{y}<extra></extra>\", \"legendgroup\": \"ANTARCTICA\", \"line\": {\"color\": \"#EF553B\", \"dash\": \"solid\"}, \"mode\": \"lines\", \"name\": \"ANTARCTICA\", \"showlegend\": true, \"type\": \"scattergl\", \"x\": [\"1999\", \"2000\", \"2001\", \"2002\", \"2003\", \"2004\", \"2005\", \"2006\", \"2007\", \"2008\", \"2009\", \"2010\", \"2011\", \"2012\", \"2013\", \"2014\", \"2015\", \"2016\", \"2017\", \"2018\"], \"xaxis\": \"x\", \"y\": [0, 0, 0, 18, 24, 0, 57, 62, 78, 60, 65, 37, 42, 41, 15, 64, 87, 46, 10, 86], \"yaxis\": \"y\"}],                        {\"legend\": {\"title\": {\"text\": \"variable\"}, \"tracegroupgap\": 0}, \"margin\": {\"t\": 60}, \"template\": {\"data\": {\"bar\": [{\"error_x\": {\"color\": \"#2a3f5f\"}, \"error_y\": {\"color\": \"#2a3f5f\"}, \"marker\": {\"line\": {\"color\": \"#E5ECF6\", \"width\": 0.5}}, \"type\": \"bar\"}], \"barpolar\": [{\"marker\": {\"line\": {\"color\": \"#E5ECF6\", \"width\": 0.5}}, \"type\": \"barpolar\"}], \"carpet\": [{\"aaxis\": {\"endlinecolor\": \"#2a3f5f\", \"gridcolor\": \"white\", \"linecolor\": \"white\", \"minorgridcolor\": \"white\", \"startlinecolor\": \"#2a3f5f\"}, \"baxis\": {\"endlinecolor\": \"#2a3f5f\", \"gridcolor\": \"white\", \"linecolor\": \"white\", \"minorgridcolor\": \"white\", \"startlinecolor\": \"#2a3f5f\"}, \"type\": \"carpet\"}], \"choropleth\": [{\"colorbar\": {\"outlinewidth\": 0, \"ticks\": \"\"}, \"type\": \"choropleth\"}], \"contour\": [{\"colorbar\": {\"outlinewidth\": 0, \"ticks\": \"\"}, \"colorscale\": [[0.0, \"#0d0887\"], [0.1111111111111111, \"#46039f\"], [0.2222222222222222, \"#7201a8\"], [0.3333333333333333, \"#9c179e\"], [0.4444444444444444, \"#bd3786\"], [0.5555555555555556, \"#d8576b\"], [0.6666666666666666, \"#ed7953\"], [0.7777777777777778, \"#fb9f3a\"], [0.8888888888888888, \"#fdca26\"], [1.0, \"#f0f921\"]], \"type\": \"contour\"}], \"contourcarpet\": [{\"colorbar\": {\"outlinewidth\": 0, \"ticks\": \"\"}, \"type\": \"contourcarpet\"}], \"heatmap\": [{\"colorbar\": {\"outlinewidth\": 0, \"ticks\": \"\"}, \"colorscale\": [[0.0, \"#0d0887\"], [0.1111111111111111, \"#46039f\"], [0.2222222222222222, \"#7201a8\"], [0.3333333333333333, \"#9c179e\"], [0.4444444444444444, \"#bd3786\"], [0.5555555555555556, \"#d8576b\"], [0.6666666666666666, \"#ed7953\"], [0.7777777777777778, \"#fb9f3a\"], [0.8888888888888888, \"#fdca26\"], [1.0, \"#f0f921\"]], \"type\": \"heatmap\"}], \"heatmapgl\": [{\"colorbar\": {\"outlinewidth\": 0, \"ticks\": \"\"}, \"colorscale\": [[0.0, \"#0d0887\"], [0.1111111111111111, \"#46039f\"], [0.2222222222222222, \"#7201a8\"], [0.3333333333333333, \"#9c179e\"], [0.4444444444444444, \"#bd3786\"], [0.5555555555555556, \"#d8576b\"], [0.6666666666666666, \"#ed7953\"], [0.7777777777777778, \"#fb9f3a\"], [0.8888888888888888, \"#fdca26\"], [1.0, \"#f0f921\"]], \"type\": \"heatmapgl\"}], \"histogram\": [{\"marker\": {\"colorbar\": {\"outlinewidth\": 0, \"ticks\": \"\"}}, \"type\": \"histogram\"}], \"histogram2d\": [{\"colorbar\": {\"outlinewidth\": 0, \"ticks\": \"\"}, \"colorscale\": [[0.0, \"#0d0887\"], [0.1111111111111111, \"#46039f\"], [0.2222222222222222, \"#7201a8\"], [0.3333333333333333, \"#9c179e\"], [0.4444444444444444, \"#bd3786\"], [0.5555555555555556, \"#d8576b\"], [0.6666666666666666, \"#ed7953\"], [0.7777777777777778, \"#fb9f3a\"], [0.8888888888888888, \"#fdca26\"], [1.0, \"#f0f921\"]], \"type\": \"histogram2d\"}], \"histogram2dcontour\": [{\"colorbar\": {\"outlinewidth\": 0, \"ticks\": \"\"}, \"colorscale\": [[0.0, \"#0d0887\"], [0.1111111111111111, \"#46039f\"], [0.2222222222222222, \"#7201a8\"], [0.3333333333333333, \"#9c179e\"], [0.4444444444444444, \"#bd3786\"], [0.5555555555555556, \"#d8576b\"], [0.6666666666666666, \"#ed7953\"], [0.7777777777777778, \"#fb9f3a\"], [0.8888888888888888, \"#fdca26\"], [1.0, \"#f0f921\"]], \"type\": \"histogram2dcontour\"}], \"mesh3d\": [{\"colorbar\": {\"outlinewidth\": 0, \"ticks\": \"\"}, \"type\": \"mesh3d\"}], \"parcoords\": [{\"line\": {\"colorbar\": {\"outlinewidth\": 0, \"ticks\": \"\"}}, \"type\": \"parcoords\"}], \"pie\": [{\"automargin\": true, \"type\": \"pie\"}], \"scatter\": [{\"marker\": {\"colorbar\": {\"outlinewidth\": 0, \"ticks\": \"\"}}, \"type\": \"scatter\"}], \"scatter3d\": [{\"line\": {\"colorbar\": {\"outlinewidth\": 0, \"ticks\": \"\"}}, \"marker\": {\"colorbar\": {\"outlinewidth\": 0, \"ticks\": \"\"}}, \"type\": \"scatter3d\"}], \"scattercarpet\": [{\"marker\": {\"colorbar\": {\"outlinewidth\": 0, \"ticks\": \"\"}}, \"type\": \"scattercarpet\"}], \"scattergeo\": [{\"marker\": {\"colorbar\": {\"outlinewidth\": 0, \"ticks\": \"\"}}, \"type\": \"scattergeo\"}], \"scattergl\": [{\"marker\": {\"colorbar\": {\"outlinewidth\": 0, \"ticks\": \"\"}}, \"type\": \"scattergl\"}], \"scattermapbox\": [{\"marker\": {\"colorbar\": {\"outlinewidth\": 0, \"ticks\": \"\"}}, \"type\": \"scattermapbox\"}], \"scatterpolar\": [{\"marker\": {\"colorbar\": {\"outlinewidth\": 0, \"ticks\": \"\"}}, \"type\": \"scatterpolar\"}], \"scatterpolargl\": [{\"marker\": {\"colorbar\": {\"outlinewidth\": 0, \"ticks\": \"\"}}, \"type\": \"scatterpolargl\"}], \"scatterternary\": [{\"marker\": {\"colorbar\": {\"outlinewidth\": 0, \"ticks\": \"\"}}, \"type\": \"scatterternary\"}], \"surface\": [{\"colorbar\": {\"outlinewidth\": 0, \"ticks\": \"\"}, \"colorscale\": [[0.0, \"#0d0887\"], [0.1111111111111111, \"#46039f\"], [0.2222222222222222, \"#7201a8\"], [0.3333333333333333, \"#9c179e\"], [0.4444444444444444, \"#bd3786\"], [0.5555555555555556, \"#d8576b\"], [0.6666666666666666, \"#ed7953\"], [0.7777777777777778, \"#fb9f3a\"], [0.8888888888888888, \"#fdca26\"], [1.0, \"#f0f921\"]], \"type\": \"surface\"}], \"table\": [{\"cells\": {\"fill\": {\"color\": \"#EBF0F8\"}, \"line\": {\"color\": \"white\"}}, \"header\": {\"fill\": {\"color\": \"#C8D4E3\"}, \"line\": {\"color\": \"white\"}}, \"type\": \"table\"}]}, \"layout\": {\"annotationdefaults\": {\"arrowcolor\": \"#2a3f5f\", \"arrowhead\": 0, \"arrowwidth\": 1}, \"autotypenumbers\": \"strict\", \"coloraxis\": {\"colorbar\": {\"outlinewidth\": 0, \"ticks\": \"\"}}, \"colorscale\": {\"diverging\": [[0, \"#8e0152\"], [0.1, \"#c51b7d\"], [0.2, \"#de77ae\"], [0.3, \"#f1b6da\"], [0.4, \"#fde0ef\"], [0.5, \"#f7f7f7\"], [0.6, \"#e6f5d0\"], [0.7, \"#b8e186\"], [0.8, \"#7fbc41\"], [0.9, \"#4d9221\"], [1, \"#276419\"]], \"sequential\": [[0.0, \"#0d0887\"], [0.1111111111111111, \"#46039f\"], [0.2222222222222222, \"#7201a8\"], [0.3333333333333333, \"#9c179e\"], [0.4444444444444444, \"#bd3786\"], [0.5555555555555556, \"#d8576b\"], [0.6666666666666666, \"#ed7953\"], [0.7777777777777778, \"#fb9f3a\"], [0.8888888888888888, \"#fdca26\"], [1.0, \"#f0f921\"]], \"sequentialminus\": [[0.0, \"#0d0887\"], [0.1111111111111111, \"#46039f\"], [0.2222222222222222, \"#7201a8\"], [0.3333333333333333, \"#9c179e\"], [0.4444444444444444, \"#bd3786\"], [0.5555555555555556, \"#d8576b\"], [0.6666666666666666, \"#ed7953\"], [0.7777777777777778, \"#fb9f3a\"], [0.8888888888888888, \"#fdca26\"], [1.0, \"#f0f921\"]]}, \"colorway\": [\"#636efa\", \"#EF553B\", \"#00cc96\", \"#ab63fa\", \"#FFA15A\", \"#19d3f3\", \"#FF6692\", \"#B6E880\", \"#FF97FF\", \"#FECB52\"], \"font\": {\"color\": \"#2a3f5f\"}, \"geo\": {\"bgcolor\": \"white\", \"lakecolor\": \"white\", \"landcolor\": \"#E5ECF6\", \"showlakes\": true, \"showland\": true, \"subunitcolor\": \"white\"}, \"hoverlabel\": {\"align\": \"left\"}, \"hovermode\": \"closest\", \"mapbox\": {\"style\": \"light\"}, \"paper_bgcolor\": \"white\", \"plot_bgcolor\": \"#E5ECF6\", \"polar\": {\"angularaxis\": {\"gridcolor\": \"white\", \"linecolor\": \"white\", \"ticks\": \"\"}, \"bgcolor\": \"#E5ECF6\", \"radialaxis\": {\"gridcolor\": \"white\", \"linecolor\": \"white\", \"ticks\": \"\"}}, \"scene\": {\"xaxis\": {\"backgroundcolor\": \"#E5ECF6\", \"gridcolor\": \"white\", \"gridwidth\": 2, \"linecolor\": \"white\", \"showbackground\": true, \"ticks\": \"\", \"zerolinecolor\": \"white\"}, \"yaxis\": {\"backgroundcolor\": \"#E5ECF6\", \"gridcolor\": \"white\", \"gridwidth\": 2, \"linecolor\": \"white\", \"showbackground\": true, \"ticks\": \"\", \"zerolinecolor\": \"white\"}, \"zaxis\": {\"backgroundcolor\": \"#E5ECF6\", \"gridcolor\": \"white\", \"gridwidth\": 2, \"linecolor\": \"white\", \"showbackground\": true, \"ticks\": \"\", \"zerolinecolor\": \"white\"}}, \"shapedefaults\": {\"line\": {\"color\": \"#2a3f5f\"}}, \"ternary\": {\"aaxis\": {\"gridcolor\": \"white\", \"linecolor\": \"white\", \"ticks\": \"\"}, \"baxis\": {\"gridcolor\": \"white\", \"linecolor\": \"white\", \"ticks\": \"\"}, \"bgcolor\": \"#E5ECF6\", \"caxis\": {\"gridcolor\": \"white\", \"linecolor\": \"white\", \"ticks\": \"\"}}, \"title\": {\"x\": 0.05}, \"xaxis\": {\"automargin\": true, \"gridcolor\": \"white\", \"linecolor\": \"white\", \"ticks\": \"\", \"title\": {\"standoff\": 15}, \"zerolinecolor\": \"white\", \"zerolinewidth\": 2}, \"yaxis\": {\"automargin\": true, \"gridcolor\": \"white\", \"linecolor\": \"white\", \"ticks\": \"\", \"title\": {\"standoff\": 15}, \"zerolinecolor\": \"white\", \"zerolinewidth\": 2}}}, \"xaxis\": {\"anchor\": \"y\", \"domain\": [0.0, 1.0], \"title\": {\"text\": \"year\"}}, \"yaxis\": {\"anchor\": \"x\", \"domain\": [0.0, 1.0], \"title\": {\"text\": \"value\"}}},                        {\"responsive\": true}                    ).then(function(){\n                            \nvar gd = document.getElementById('c61d732b-30f2-4330-9dce-e95a6bffafc1');\nvar x = new MutationObserver(function (mutations, observer) {{\n        var display = window.getComputedStyle(gd).display;\n        if (!display || display === 'none') {{\n            console.log([gd, 'removed!']);\n            Plotly.purge(gd);\n            observer.disconnect();\n        }}\n}});\n\n// Listen for the removal of the full notebook cells\nvar notebookContainer = gd.closest('#notebook-container');\nif (notebookContainer) {{\n    x.observe(notebookContainer, {childList: true});\n}}\n\n// Listen for the clearing of the current output cell\nvar outputEl = gd.closest('.output');\nif (outputEl) {{\n    x.observe(outputEl, {childList: true});\n}}\n\n                        })                };                            </script>        </div>\n</body>\n</html>"
          },
          "metadata": {},
          "output_type": "display_data"
        }
      ]
    },
    {
      "cell_type": "markdown",
      "source": "## Map for 1 country, incoming vs outgoing students, over time",
      "metadata": {
        "tags": [],
        "cell_id": "00015-5da473cf-c599-495e-abc1-3ab22090b352",
        "deepnote_cell_type": "markdown"
      }
    },
    {
      "cell_type": "code",
      "metadata": {
        "tags": [],
        "cell_id": "00015-7705e408-a74e-44d5-ae59-94af08341381",
        "deepnote_to_be_reexecuted": false,
        "source_hash": "57ebf312",
        "execution_millis": 45,
        "execution_start": 1618092877165,
        "deepnote_cell_type": "code"
      },
      "source": "c = 'Canada'\ncombine_i = table_i[[c,'year']].set_index('year')\ncombine_i.drop([2019], inplace=True)\ncombine_i = combine_i.rename(columns={c:'incoming'})\n# combine_i.tail()\n\ncombine_o = dat_vz_outoing[[c, 'year']]\ncombine_o['year'] = pd.to_numeric(combine_o['year'])\ncombine_o = combine_o.set_index('year')\ncombine_o.drop([1999], inplace=True)\ncombine_o = combine_o.rename(columns={c:'outgoing'})\n# combine_o.head()\n\ncombine = pd.concat([combine_i,combine_o], axis=1).reset_index()\n# print(combine)\n\nfig = px.line(combine,x='year', y=combine.columns[:], title='Students from '+c+' studying in the US vs students from the US studying in '+c)\nfig.show()\n",
      "execution_count": null,
      "outputs": [
        {
          "name": "stderr",
          "text": "/shared-libs/python3.7/py-core/lib/python3.7/site-packages/ipykernel_launcher.py:8: SettingWithCopyWarning:\n\n\nA value is trying to be set on a copy of a slice from a DataFrame.\nTry using .loc[row_indexer,col_indexer] = value instead\n\nSee the caveats in the documentation: https://pandas.pydata.org/pandas-docs/stable/user_guide/indexing.html#returning-a-view-versus-a-copy\n\n",
          "output_type": "stream"
        },
        {
          "data": {
            "text/html": "<html>\n<head><meta charset=\"utf-8\" /></head>\n<body>\n    <div>            <script src=\"https://cdnjs.cloudflare.com/ajax/libs/mathjax/2.7.5/MathJax.js?config=TeX-AMS-MML_SVG\"></script><script type=\"text/javascript\">if (window.MathJax) {MathJax.Hub.Config({SVG: {font: \"STIX-Web\"}});}</script>                <script type=\"text/javascript\">window.PlotlyConfig = {MathJaxConfig: 'local'};</script>\n        <script src=\"https://cdn.plot.ly/plotly-latest.min.js\"></script>                <div id=\"0c55e00a-cc48-4f8d-9b5e-bc71be82d2be\" class=\"plotly-graph-div\" style=\"height:525px; width:100%;\"></div>            <script type=\"text/javascript\">                                    window.PLOTLYENV=window.PLOTLYENV || {};                                    if (document.getElementById(\"0c55e00a-cc48-4f8d-9b5e-bc71be82d2be\")) {                    Plotly.newPlot(                        \"0c55e00a-cc48-4f8d-9b5e-bc71be82d2be\",                        [{\"hovertemplate\": \"variable=incoming<br>year=%{x}<br>value=%{y}<extra></extra>\", \"legendgroup\": \"incoming\", \"line\": {\"color\": \"#636efa\", \"dash\": \"solid\"}, \"mode\": \"lines\", \"name\": \"incoming\", \"orientation\": \"v\", \"showlegend\": true, \"type\": \"scatter\", \"x\": [2000, 2001, 2002, 2003, 2004, 2005, 2006, 2007, 2008, 2009, 2010, 2011, 2012, 2013, 2014, 2015, 2016, 2017, 2018], \"xaxis\": \"x\", \"y\": [25279.0, 26514.0, 26513.0, 27017.0, 28140.0, 28202.0, 28280.0, 29051.0, 29697.0, 28145.0, 27546.0, 26821.0, 27357.0, 28304.0, 27240.0, 26973.0, 27065.0, 25909.0, 26122.0], \"yaxis\": \"y\"}, {\"hovertemplate\": \"variable=outgoing<br>year=%{x}<br>value=%{y}<extra></extra>\", \"legendgroup\": \"outgoing\", \"line\": {\"color\": \"#EF553B\", \"dash\": \"solid\"}, \"mode\": \"lines\", \"name\": \"outgoing\", \"orientation\": \"v\", \"showlegend\": true, \"type\": \"scatter\", \"x\": [2000, 2001, 2002, 2003, 2004, 2005, 2006, 2007, 2008, 2009, 2010, 2011, 2012, 2013, 2014, 2015, 2016, 2017, 2018], \"xaxis\": \"x\", \"y\": [1040.0, 1180.0, 1194.0, 1054.0, 1029.0, 1015.0, 1222.0, 1083.0, 1264.0, 1750.0, 1426.0, 1639.0, 1380.0, 1470.0, 1569.0, 1716.0, 1639.0, 1786.0, 2107.0], \"yaxis\": \"y\"}],                        {\"legend\": {\"title\": {\"text\": \"variable\"}, \"tracegroupgap\": 0}, \"template\": {\"data\": {\"bar\": [{\"error_x\": {\"color\": \"#2a3f5f\"}, \"error_y\": {\"color\": \"#2a3f5f\"}, \"marker\": {\"line\": {\"color\": \"#E5ECF6\", \"width\": 0.5}}, \"type\": \"bar\"}], \"barpolar\": [{\"marker\": {\"line\": {\"color\": \"#E5ECF6\", \"width\": 0.5}}, \"type\": \"barpolar\"}], \"carpet\": [{\"aaxis\": {\"endlinecolor\": \"#2a3f5f\", \"gridcolor\": \"white\", \"linecolor\": \"white\", \"minorgridcolor\": \"white\", \"startlinecolor\": \"#2a3f5f\"}, \"baxis\": {\"endlinecolor\": \"#2a3f5f\", \"gridcolor\": \"white\", \"linecolor\": \"white\", \"minorgridcolor\": \"white\", \"startlinecolor\": \"#2a3f5f\"}, \"type\": \"carpet\"}], \"choropleth\": [{\"colorbar\": {\"outlinewidth\": 0, \"ticks\": \"\"}, \"type\": \"choropleth\"}], \"contour\": [{\"colorbar\": {\"outlinewidth\": 0, \"ticks\": \"\"}, \"colorscale\": [[0.0, \"#0d0887\"], [0.1111111111111111, \"#46039f\"], [0.2222222222222222, \"#7201a8\"], [0.3333333333333333, \"#9c179e\"], [0.4444444444444444, \"#bd3786\"], [0.5555555555555556, \"#d8576b\"], [0.6666666666666666, \"#ed7953\"], [0.7777777777777778, \"#fb9f3a\"], [0.8888888888888888, \"#fdca26\"], [1.0, \"#f0f921\"]], \"type\": \"contour\"}], \"contourcarpet\": [{\"colorbar\": {\"outlinewidth\": 0, \"ticks\": \"\"}, \"type\": \"contourcarpet\"}], \"heatmap\": [{\"colorbar\": {\"outlinewidth\": 0, \"ticks\": \"\"}, \"colorscale\": [[0.0, \"#0d0887\"], [0.1111111111111111, \"#46039f\"], [0.2222222222222222, \"#7201a8\"], [0.3333333333333333, \"#9c179e\"], [0.4444444444444444, \"#bd3786\"], [0.5555555555555556, \"#d8576b\"], [0.6666666666666666, \"#ed7953\"], [0.7777777777777778, \"#fb9f3a\"], [0.8888888888888888, \"#fdca26\"], [1.0, \"#f0f921\"]], \"type\": \"heatmap\"}], \"heatmapgl\": [{\"colorbar\": {\"outlinewidth\": 0, \"ticks\": \"\"}, \"colorscale\": [[0.0, \"#0d0887\"], [0.1111111111111111, \"#46039f\"], [0.2222222222222222, \"#7201a8\"], [0.3333333333333333, \"#9c179e\"], [0.4444444444444444, \"#bd3786\"], [0.5555555555555556, \"#d8576b\"], [0.6666666666666666, \"#ed7953\"], [0.7777777777777778, \"#fb9f3a\"], [0.8888888888888888, \"#fdca26\"], [1.0, \"#f0f921\"]], \"type\": \"heatmapgl\"}], \"histogram\": [{\"marker\": {\"colorbar\": {\"outlinewidth\": 0, \"ticks\": \"\"}}, \"type\": \"histogram\"}], \"histogram2d\": [{\"colorbar\": {\"outlinewidth\": 0, \"ticks\": \"\"}, \"colorscale\": [[0.0, \"#0d0887\"], [0.1111111111111111, \"#46039f\"], [0.2222222222222222, \"#7201a8\"], [0.3333333333333333, \"#9c179e\"], [0.4444444444444444, \"#bd3786\"], [0.5555555555555556, \"#d8576b\"], [0.6666666666666666, \"#ed7953\"], [0.7777777777777778, \"#fb9f3a\"], [0.8888888888888888, \"#fdca26\"], [1.0, \"#f0f921\"]], \"type\": \"histogram2d\"}], \"histogram2dcontour\": [{\"colorbar\": {\"outlinewidth\": 0, \"ticks\": \"\"}, \"colorscale\": [[0.0, \"#0d0887\"], [0.1111111111111111, \"#46039f\"], [0.2222222222222222, \"#7201a8\"], [0.3333333333333333, \"#9c179e\"], [0.4444444444444444, \"#bd3786\"], [0.5555555555555556, \"#d8576b\"], [0.6666666666666666, \"#ed7953\"], [0.7777777777777778, \"#fb9f3a\"], [0.8888888888888888, \"#fdca26\"], [1.0, \"#f0f921\"]], \"type\": \"histogram2dcontour\"}], \"mesh3d\": [{\"colorbar\": {\"outlinewidth\": 0, \"ticks\": \"\"}, \"type\": \"mesh3d\"}], \"parcoords\": [{\"line\": {\"colorbar\": {\"outlinewidth\": 0, \"ticks\": \"\"}}, \"type\": \"parcoords\"}], \"pie\": [{\"automargin\": true, \"type\": \"pie\"}], \"scatter\": [{\"marker\": {\"colorbar\": {\"outlinewidth\": 0, \"ticks\": \"\"}}, \"type\": \"scatter\"}], \"scatter3d\": [{\"line\": {\"colorbar\": {\"outlinewidth\": 0, \"ticks\": \"\"}}, \"marker\": {\"colorbar\": {\"outlinewidth\": 0, \"ticks\": \"\"}}, \"type\": \"scatter3d\"}], \"scattercarpet\": [{\"marker\": {\"colorbar\": {\"outlinewidth\": 0, \"ticks\": \"\"}}, \"type\": \"scattercarpet\"}], \"scattergeo\": [{\"marker\": {\"colorbar\": {\"outlinewidth\": 0, \"ticks\": \"\"}}, \"type\": \"scattergeo\"}], \"scattergl\": [{\"marker\": {\"colorbar\": {\"outlinewidth\": 0, \"ticks\": \"\"}}, \"type\": \"scattergl\"}], \"scattermapbox\": [{\"marker\": {\"colorbar\": {\"outlinewidth\": 0, \"ticks\": \"\"}}, \"type\": \"scattermapbox\"}], \"scatterpolar\": [{\"marker\": {\"colorbar\": {\"outlinewidth\": 0, \"ticks\": \"\"}}, \"type\": \"scatterpolar\"}], \"scatterpolargl\": [{\"marker\": {\"colorbar\": {\"outlinewidth\": 0, \"ticks\": \"\"}}, \"type\": \"scatterpolargl\"}], \"scatterternary\": [{\"marker\": {\"colorbar\": {\"outlinewidth\": 0, \"ticks\": \"\"}}, \"type\": \"scatterternary\"}], \"surface\": [{\"colorbar\": {\"outlinewidth\": 0, \"ticks\": \"\"}, \"colorscale\": [[0.0, \"#0d0887\"], [0.1111111111111111, \"#46039f\"], [0.2222222222222222, \"#7201a8\"], [0.3333333333333333, \"#9c179e\"], [0.4444444444444444, \"#bd3786\"], [0.5555555555555556, \"#d8576b\"], [0.6666666666666666, \"#ed7953\"], [0.7777777777777778, \"#fb9f3a\"], [0.8888888888888888, \"#fdca26\"], [1.0, \"#f0f921\"]], \"type\": \"surface\"}], \"table\": [{\"cells\": {\"fill\": {\"color\": \"#EBF0F8\"}, \"line\": {\"color\": \"white\"}}, \"header\": {\"fill\": {\"color\": \"#C8D4E3\"}, \"line\": {\"color\": \"white\"}}, \"type\": \"table\"}]}, \"layout\": {\"annotationdefaults\": {\"arrowcolor\": \"#2a3f5f\", \"arrowhead\": 0, \"arrowwidth\": 1}, \"autotypenumbers\": \"strict\", \"coloraxis\": {\"colorbar\": {\"outlinewidth\": 0, \"ticks\": \"\"}}, \"colorscale\": {\"diverging\": [[0, \"#8e0152\"], [0.1, \"#c51b7d\"], [0.2, \"#de77ae\"], [0.3, \"#f1b6da\"], [0.4, \"#fde0ef\"], [0.5, \"#f7f7f7\"], [0.6, \"#e6f5d0\"], [0.7, \"#b8e186\"], [0.8, \"#7fbc41\"], [0.9, \"#4d9221\"], [1, \"#276419\"]], \"sequential\": [[0.0, \"#0d0887\"], [0.1111111111111111, \"#46039f\"], [0.2222222222222222, \"#7201a8\"], [0.3333333333333333, \"#9c179e\"], [0.4444444444444444, \"#bd3786\"], [0.5555555555555556, \"#d8576b\"], [0.6666666666666666, \"#ed7953\"], [0.7777777777777778, \"#fb9f3a\"], [0.8888888888888888, \"#fdca26\"], [1.0, \"#f0f921\"]], \"sequentialminus\": [[0.0, \"#0d0887\"], [0.1111111111111111, \"#46039f\"], [0.2222222222222222, \"#7201a8\"], [0.3333333333333333, \"#9c179e\"], [0.4444444444444444, \"#bd3786\"], [0.5555555555555556, \"#d8576b\"], [0.6666666666666666, \"#ed7953\"], [0.7777777777777778, \"#fb9f3a\"], [0.8888888888888888, \"#fdca26\"], [1.0, \"#f0f921\"]]}, \"colorway\": [\"#636efa\", \"#EF553B\", \"#00cc96\", \"#ab63fa\", \"#FFA15A\", \"#19d3f3\", \"#FF6692\", \"#B6E880\", \"#FF97FF\", \"#FECB52\"], \"font\": {\"color\": \"#2a3f5f\"}, \"geo\": {\"bgcolor\": \"white\", \"lakecolor\": \"white\", \"landcolor\": \"#E5ECF6\", \"showlakes\": true, \"showland\": true, \"subunitcolor\": \"white\"}, \"hoverlabel\": {\"align\": \"left\"}, \"hovermode\": \"closest\", \"mapbox\": {\"style\": \"light\"}, \"paper_bgcolor\": \"white\", \"plot_bgcolor\": \"#E5ECF6\", \"polar\": {\"angularaxis\": {\"gridcolor\": \"white\", \"linecolor\": \"white\", \"ticks\": \"\"}, \"bgcolor\": \"#E5ECF6\", \"radialaxis\": {\"gridcolor\": \"white\", \"linecolor\": \"white\", \"ticks\": \"\"}}, \"scene\": {\"xaxis\": {\"backgroundcolor\": \"#E5ECF6\", \"gridcolor\": \"white\", \"gridwidth\": 2, \"linecolor\": \"white\", \"showbackground\": true, \"ticks\": \"\", \"zerolinecolor\": \"white\"}, \"yaxis\": {\"backgroundcolor\": \"#E5ECF6\", \"gridcolor\": \"white\", \"gridwidth\": 2, \"linecolor\": \"white\", \"showbackground\": true, \"ticks\": \"\", \"zerolinecolor\": \"white\"}, \"zaxis\": {\"backgroundcolor\": \"#E5ECF6\", \"gridcolor\": \"white\", \"gridwidth\": 2, \"linecolor\": \"white\", \"showbackground\": true, \"ticks\": \"\", \"zerolinecolor\": \"white\"}}, \"shapedefaults\": {\"line\": {\"color\": \"#2a3f5f\"}}, \"ternary\": {\"aaxis\": {\"gridcolor\": \"white\", \"linecolor\": \"white\", \"ticks\": \"\"}, \"baxis\": {\"gridcolor\": \"white\", \"linecolor\": \"white\", \"ticks\": \"\"}, \"bgcolor\": \"#E5ECF6\", \"caxis\": {\"gridcolor\": \"white\", \"linecolor\": \"white\", \"ticks\": \"\"}}, \"title\": {\"x\": 0.05}, \"xaxis\": {\"automargin\": true, \"gridcolor\": \"white\", \"linecolor\": \"white\", \"ticks\": \"\", \"title\": {\"standoff\": 15}, \"zerolinecolor\": \"white\", \"zerolinewidth\": 2}, \"yaxis\": {\"automargin\": true, \"gridcolor\": \"white\", \"linecolor\": \"white\", \"ticks\": \"\", \"title\": {\"standoff\": 15}, \"zerolinecolor\": \"white\", \"zerolinewidth\": 2}}}, \"title\": {\"text\": \"Students from Canada studying in the US vs students from the US studying in Canada\"}, \"xaxis\": {\"anchor\": \"y\", \"domain\": [0.0, 1.0], \"title\": {\"text\": \"year\"}}, \"yaxis\": {\"anchor\": \"x\", \"domain\": [0.0, 1.0], \"title\": {\"text\": \"value\"}}},                        {\"responsive\": true}                    ).then(function(){\n                            \nvar gd = document.getElementById('0c55e00a-cc48-4f8d-9b5e-bc71be82d2be');\nvar x = new MutationObserver(function (mutations, observer) {{\n        var display = window.getComputedStyle(gd).display;\n        if (!display || display === 'none') {{\n            console.log([gd, 'removed!']);\n            Plotly.purge(gd);\n            observer.disconnect();\n        }}\n}});\n\n// Listen for the removal of the full notebook cells\nvar notebookContainer = gd.closest('#notebook-container');\nif (notebookContainer) {{\n    x.observe(notebookContainer, {childList: true});\n}}\n\n// Listen for the clearing of the current output cell\nvar outputEl = gd.closest('.output');\nif (outputEl) {{\n    x.observe(outputEl, {childList: true});\n}}\n\n                        })                };                            </script>        </div>\n</body>\n</html>"
          },
          "metadata": {},
          "output_type": "display_data"
        }
      ]
    },
    {
      "cell_type": "markdown",
      "source": "## 25 Countries on worldmap, ratio of incoming:outgoing students",
      "metadata": {
        "tags": [],
        "cell_id": "00017-83d478b9-1b78-4e89-adcd-6138c7bd04f8",
        "deepnote_cell_type": "markdown"
      }
    },
    {
      "cell_type": "code",
      "metadata": {
        "tags": [],
        "cell_id": "00016-9a0c03ae-95ef-430c-b585-f46da07f2ed8",
        "deepnote_to_be_reexecuted": false,
        "source_hash": "6df4e847",
        "execution_millis": 42,
        "execution_start": 1618106225253,
        "deepnote_cell_type": "code"
      },
      "source": "# dataframe for countries, last available year: incoming | outgoing | ratio\ndata_out_2 = data_out_1.set_index('country').transpose().reset_index()\ndata_out_2 = data_out_2.rename(columns={'index':'year'})\n# data_out_2.info()\n\nlast_year_in = int(data_in_1['year'].max())\nlast_year_out = int(data_out_2['year'].max())\npick_year = min(last_year_in, last_year_out)\nprint(\"latest data for incoming students: \",last_year_in)\nprint(\"latest data for outgoing students: \",last_year_out)\nprint(\"pick: \", pick_year)\n\nlast_year = data_in_1.query('year == 2018')[['country','intStdnts',]]\nlast_year = last_year.set_index('country')\nlast_year = last_year.rename(columns={'intStdnts':'incoming'})\n\n# # .query('intStdnts >= 1000')\n\nfor index, row in last_year.iterrows():\n  try: \n    last_year.at[index,'outgoing']= data_out_1.set_index('country')['2018'][index]\n    last_year.at[index,'ratioIn2Out'] = last_year.at[index,'incoming'] / last_year.at[index,'outgoing']\n  except Exception as e:\n    last_year.at[index,'outgoing'] = 0\n    last_year.at[index,'ratioIn2Out'] = 0\n\nc = 'China'\n# print(\"Data for \", c, \" is \",data_out_1.set_index('country')['2018'][c])\n# data_out_1.head()\nlast_year.head()",
      "execution_count": 153,
      "outputs": [
        {
          "name": "stdout",
          "text": "latest data for incoming students:  2019\nlatest data for outgoing students:  2018\npick:  2018\n",
          "output_type": "stream"
        },
        {
          "output_type": "execute_result",
          "execution_count": 153,
          "data": {
            "application/vnd.deepnote.dataframe.v2+json": {
              "row_count": 5,
              "column_count": 3,
              "columns": [
                {
                  "name": "incoming",
                  "dtype": "float64",
                  "stats": {
                    "unique_count": 5,
                    "nan_count": 0,
                    "min": 26122,
                    "max": 369548,
                    "histogram": [
                      {
                        "bin_start": 26122,
                        "bin_end": 60464.6,
                        "count": 3
                      },
                      {
                        "bin_start": 60464.6,
                        "bin_end": 94807.2,
                        "count": 0
                      },
                      {
                        "bin_start": 94807.2,
                        "bin_end": 129149.79999999999,
                        "count": 0
                      },
                      {
                        "bin_start": 129149.79999999999,
                        "bin_end": 163492.4,
                        "count": 0
                      },
                      {
                        "bin_start": 163492.4,
                        "bin_end": 197835,
                        "count": 0
                      },
                      {
                        "bin_start": 197835,
                        "bin_end": 232177.59999999998,
                        "count": 1
                      },
                      {
                        "bin_start": 232177.59999999998,
                        "bin_end": 266520.19999999995,
                        "count": 0
                      },
                      {
                        "bin_start": 266520.19999999995,
                        "bin_end": 300862.8,
                        "count": 0
                      },
                      {
                        "bin_start": 300862.8,
                        "bin_end": 335205.39999999997,
                        "count": 0
                      },
                      {
                        "bin_start": 335205.39999999997,
                        "bin_end": 369548,
                        "count": 1
                      }
                    ]
                  }
                },
                {
                  "name": "outgoing",
                  "dtype": "float64",
                  "stats": {
                    "unique_count": 5,
                    "nan_count": 0,
                    "min": 4,
                    "max": 11639,
                    "histogram": [
                      {
                        "bin_start": 4,
                        "bin_end": 1167.5,
                        "count": 1
                      },
                      {
                        "bin_start": 1167.5,
                        "bin_end": 2331,
                        "count": 1
                      },
                      {
                        "bin_start": 2331,
                        "bin_end": 3494.5,
                        "count": 1
                      },
                      {
                        "bin_start": 3494.5,
                        "bin_end": 4658,
                        "count": 1
                      },
                      {
                        "bin_start": 4658,
                        "bin_end": 5821.5,
                        "count": 0
                      },
                      {
                        "bin_start": 5821.5,
                        "bin_end": 6985,
                        "count": 0
                      },
                      {
                        "bin_start": 6985,
                        "bin_end": 8148.5,
                        "count": 0
                      },
                      {
                        "bin_start": 8148.5,
                        "bin_end": 9312,
                        "count": 0
                      },
                      {
                        "bin_start": 9312,
                        "bin_end": 10475.5,
                        "count": 0
                      },
                      {
                        "bin_start": 10475.5,
                        "bin_end": 11639,
                        "count": 1
                      }
                    ]
                  }
                },
                {
                  "name": "ratioIn2Out",
                  "dtype": "float64",
                  "stats": {
                    "unique_count": 5,
                    "nan_count": 0,
                    "min": 11.463361123299693,
                    "max": 9270,
                    "histogram": [
                      {
                        "bin_start": 11.463361123299693,
                        "bin_end": 937.3170250109697,
                        "count": 4
                      },
                      {
                        "bin_start": 937.3170250109697,
                        "bin_end": 1863.1706888986396,
                        "count": 0
                      },
                      {
                        "bin_start": 1863.1706888986396,
                        "bin_end": 2789.02435278631,
                        "count": 0
                      },
                      {
                        "bin_start": 2789.02435278631,
                        "bin_end": 3714.87801667398,
                        "count": 0
                      },
                      {
                        "bin_start": 3714.87801667398,
                        "bin_end": 4640.731680561649,
                        "count": 0
                      },
                      {
                        "bin_start": 4640.731680561649,
                        "bin_end": 5566.58534444932,
                        "count": 0
                      },
                      {
                        "bin_start": 5566.58534444932,
                        "bin_end": 6492.439008336989,
                        "count": 0
                      },
                      {
                        "bin_start": 6492.439008336989,
                        "bin_end": 7418.292672224659,
                        "count": 0
                      },
                      {
                        "bin_start": 7418.292672224659,
                        "bin_end": 8344.14633611233,
                        "count": 0
                      },
                      {
                        "bin_start": 8344.14633611233,
                        "bin_end": 9270,
                        "count": 1
                      }
                    ]
                  }
                },
                {
                  "name": "_deepnote_index_column",
                  "dtype": "object"
                }
              ],
              "rows_top": [
                {
                  "incoming": 369548,
                  "outgoing": 11639,
                  "ratioIn2Out": 31.750837700833404,
                  "_deepnote_index_column": "China"
                },
                {
                  "incoming": 202014,
                  "outgoing": 3366,
                  "ratioIn2Out": 60.01604278074866,
                  "_deepnote_index_column": "India"
                },
                {
                  "incoming": 52250,
                  "outgoing": 4558,
                  "ratioIn2Out": 11.463361123299693,
                  "_deepnote_index_column": "South Korea"
                },
                {
                  "incoming": 37080,
                  "outgoing": 4,
                  "ratioIn2Out": 9270,
                  "_deepnote_index_column": "Saudi Arabia"
                },
                {
                  "incoming": 26122,
                  "outgoing": 2107,
                  "ratioIn2Out": 12.397721879449454,
                  "_deepnote_index_column": "Canada"
                }
              ],
              "rows_bottom": null
            },
            "text/plain": "              incoming  outgoing  ratioIn2Out\ncountry                                      \nChina         369548.0   11639.0    31.750838\nIndia         202014.0    3366.0    60.016043\nSouth Korea    52250.0    4558.0    11.463361\nSaudi Arabia   37080.0       4.0  9270.000000\nCanada         26122.0    2107.0    12.397722",
            "text/html": "<div>\n<style scoped>\n    .dataframe tbody tr th:only-of-type {\n        vertical-align: middle;\n    }\n\n    .dataframe tbody tr th {\n        vertical-align: top;\n    }\n\n    .dataframe thead th {\n        text-align: right;\n    }\n</style>\n<table border=\"1\" class=\"dataframe\">\n  <thead>\n    <tr style=\"text-align: right;\">\n      <th></th>\n      <th>incoming</th>\n      <th>outgoing</th>\n      <th>ratioIn2Out</th>\n    </tr>\n    <tr>\n      <th>country</th>\n      <th></th>\n      <th></th>\n      <th></th>\n    </tr>\n  </thead>\n  <tbody>\n    <tr>\n      <th>China</th>\n      <td>369548.0</td>\n      <td>11639.0</td>\n      <td>31.750838</td>\n    </tr>\n    <tr>\n      <th>India</th>\n      <td>202014.0</td>\n      <td>3366.0</td>\n      <td>60.016043</td>\n    </tr>\n    <tr>\n      <th>South Korea</th>\n      <td>52250.0</td>\n      <td>4558.0</td>\n      <td>11.463361</td>\n    </tr>\n    <tr>\n      <th>Saudi Arabia</th>\n      <td>37080.0</td>\n      <td>4.0</td>\n      <td>9270.000000</td>\n    </tr>\n    <tr>\n      <th>Canada</th>\n      <td>26122.0</td>\n      <td>2107.0</td>\n      <td>12.397722</td>\n    </tr>\n  </tbody>\n</table>\n</div>"
          },
          "metadata": {}
        }
      ]
    },
    {
      "cell_type": "code",
      "metadata": {
        "tags": [],
        "cell_id": "00018-becd6cb5-250d-49d8-8d34-c117b2613f54",
        "deepnote_to_be_reexecuted": false,
        "source_hash": "f7ea3512",
        "execution_millis": 52,
        "execution_start": 1618109254017,
        "deepnote_cell_type": "code"
      },
      "source": "# PLOTLY MAP Choropleth Maps  https://plotly.com/python/choropleth-maps/ \nmap_data = last_year.reset_index()\n# map_data = map_data.drop(['overlayTxt'], axis=1)\n\n\nfor index, row in map_data.iterrows():\n  try: \n    map_data.at[index,'overlayTxt'] = '%s <br><br>incoming: %d<br>outgoing: %d<br>ratio: %3.2f' % (map_data.at[index,'country'],map_data.at[index,'incoming'],map_data.at[index,'outgoing'],map_data.at[index,'ratioIn2Out'])\n    # map_data.at[index,'overlayTxt'] = '%s <br>incoming: %d<br>outgoing: %d<br>ratio: %d' % (map_data.at[index,'country'], map_data.at[index,'incoming'], map_data.at[index,'outoing'], map_data.at[index,'ratioIn2Out'])\n  except Exception as e:\n    print('error', map_data.at[index,'country'])\n    # last_year.at[index,'overlayTxt'] = map_data.at[index,'country']\n# map_data.head()\n\nmap_data = map_data.reset_index()\n# print(map_data['country'].tolist())\n\nmax_ratio = int(map_data['ratioIn2Out'].max())\nprint(max_ratio)\n\nvalues = [i for i in range(-1,5)]\nticks = [10**i for i in values]\n\ndata = dict (\n    type = 'choropleth',\n    locations = map_data['country'],\n    locationmode='country names',\n    # colorscale = ['Viridis'],\n    text = map_data['overlayTxt'],\n    hoverinfo=\"text\",\n    colorscale = 'bluyl',\n    marker_line_color='darkgray',\n    marker_line_width=0.1,\n    colorbar = {'title' : 'Ratio incoming/outgoing', 'tickvals':values, 'ticktext':ticks },\n    z=np.log10(map_data['ratioIn2Out']))\n\nmap = go.Figure(data=[data])\n\n\n\n# print(values)\n# print(ticks)\n\nmap.update_geos(\n    showcountries=False,\n    # projection_type=\"natural earth\"\n)\n\nmap.update_layout(\n    title_text='Ratio of incoming international vs outoing US students, Top 25 incoming Countries',\n    height=400,\n    margin={\"r\":0,\"t\":50,\"l\":0,\"b\":0}\n)\n\n# map.layout.template = None\n\nmap.show()",
      "execution_count": 307,
      "outputs": [
        {
          "name": "stdout",
          "text": "9270\n",
          "output_type": "stream"
        },
        {
          "data": {
            "text/html": "<html>\n<head><meta charset=\"utf-8\" /></head>\n<body>\n    <div>            <script src=\"https://cdnjs.cloudflare.com/ajax/libs/mathjax/2.7.5/MathJax.js?config=TeX-AMS-MML_SVG\"></script><script type=\"text/javascript\">if (window.MathJax) {MathJax.Hub.Config({SVG: {font: \"STIX-Web\"}});}</script>                <script type=\"text/javascript\">window.PlotlyConfig = {MathJaxConfig: 'local'};</script>\n        <script src=\"https://cdn.plot.ly/plotly-latest.min.js\"></script>                <div id=\"84353555-a286-4990-9403-9dab953166d4\" class=\"plotly-graph-div\" style=\"height:400px; width:100%;\"></div>            <script type=\"text/javascript\">                                    window.PLOTLYENV=window.PLOTLYENV || {};                                    if (document.getElementById(\"84353555-a286-4990-9403-9dab953166d4\")) {                    Plotly.newPlot(                        \"84353555-a286-4990-9403-9dab953166d4\",                        [{\"colorbar\": {\"ticktext\": [0.1, 1, 10, 100, 1000, 10000], \"tickvals\": [-1, 0, 1, 2, 3, 4], \"title\": {\"text\": \"Ratio incoming/outgoing\"}}, \"colorscale\": [[0.0, \"rgb(247, 254, 174)\"], [0.16666666666666666, \"rgb(183, 230, 165)\"], [0.3333333333333333, \"rgb(124, 203, 162)\"], [0.5, \"rgb(70, 174, 160)\"], [0.6666666666666666, \"rgb(8, 144, 153)\"], [0.8333333333333334, \"rgb(0, 113, 139)\"], [1.0, \"rgb(4, 82, 117)\"]], \"hoverinfo\": \"text\", \"locationmode\": \"country names\", \"locations\": [\"China\", \"India\", \"South Korea\", \"Saudi Arabia\", \"Canada\", \"Vietnam\", \"Taiwan\", \"Japan\", \"Brazil\", \"Mexico\", \"Nigeria\", \"Nepal\", \"Iran\", \"United Kingdom\", \"Turkey\", \"Kuwait\", \"Germany\", \"France\", \"Indonesia\", \"Bangladesh\", \"Colombia\", \"Pakistan\", \"Venezuela\", \"Malaysia\", \"Spain\"], \"marker\": {\"line\": {\"color\": \"darkgray\", \"width\": 0.1}}, \"text\": [\"China <br><br>incoming: 369548<br>outgoing: 11639<br>ratio: 31.75\", \"India <br><br>incoming: 202014<br>outgoing: 3366<br>ratio: 60.02\", \"South Korea <br><br>incoming: 52250<br>outgoing: 4558<br>ratio: 11.46\", \"Saudi Arabia <br><br>incoming: 37080<br>outgoing: 4<br>ratio: 9270.00\", \"Canada <br><br>incoming: 26122<br>outgoing: 2107<br>ratio: 12.40\", \"Vietnam <br><br>incoming: 24392<br>outgoing: 1235<br>ratio: 19.75\", \"Taiwan <br><br>incoming: 23369<br>outgoing: 1270<br>ratio: 18.40\", \"Japan <br><br>incoming: 18105<br>outgoing: 8928<br>ratio: 2.03\", \"Brazil <br><br>incoming: 16059<br>outgoing: 2269<br>ratio: 7.08\", \"Mexico <br><br>incoming: 15229<br>outgoing: 6340<br>ratio: 2.40\", \"Nigeria <br><br>incoming: 13423<br>outgoing: 38<br>ratio: 353.24\", \"Nepal <br><br>incoming: 13229<br>outgoing: 647<br>ratio: 20.45\", \"Iran <br><br>incoming: 12142<br>outgoing: 28<br>ratio: 433.64\", \"United Kingdom <br><br>incoming: 11146<br>outgoing: 39358<br>ratio: 0.28\", \"Turkey <br><br>incoming: 10159<br>outgoing: 143<br>ratio: 71.04\", \"Kuwait <br><br>incoming: 9195<br>outgoing: 5<br>ratio: 1839.00\", \"Germany <br><br>incoming: 9191<br>outgoing: 12029<br>ratio: 0.76\", \"France <br><br>incoming: 8716<br>outgoing: 18465<br>ratio: 0.47\", \"Indonesia <br><br>incoming: 8356<br>outgoing: 677<br>ratio: 12.34\", \"Bangladesh <br><br>incoming: 8249<br>outgoing: 45<br>ratio: 183.31\", \"Colombia <br><br>incoming: 8060<br>outgoing: 1030<br>ratio: 7.83\", \"Pakistan <br><br>incoming: 7957<br>outgoing: 7<br>ratio: 1136.71\", \"Venezuela <br><br>incoming: 7760<br>outgoing: 1<br>ratio: 7760.00\", \"Malaysia <br><br>incoming: 7709<br>outgoing: 241<br>ratio: 31.99\", \"Spain <br><br>incoming: 7262<br>outgoing: 33849<br>ratio: 0.21\"], \"type\": \"choropleth\", \"z\": [1.5017551880232731, 1.7782673563813685, 1.0593119739387349, 3.967079734144497, 1.0933418895106986, 1.2955804537616398, 1.2648364076205285, 0.3070443475595269, 0.8498840022181581, 0.3805821287937459, 2.548065993570828, 1.3106227357866784, 2.637132197194711, -0.5479139826693977, 1.85151492285921, 3.2645817292380777, -0.11686675878113095, -0.32603209041277953, 1.0914097626231267, 2.263188789828532, 0.8934978170999184, 3.0556513180468228, 3.8898617212581885, 1.504981003096231, -0.6684895982848504]}],                        {\"geo\": {\"showcountries\": false}, \"height\": 400, \"margin\": {\"b\": 0, \"l\": 0, \"r\": 0, \"t\": 50}, \"template\": {\"data\": {\"bar\": [{\"error_x\": {\"color\": \"#2a3f5f\"}, \"error_y\": {\"color\": \"#2a3f5f\"}, \"marker\": {\"line\": {\"color\": \"#E5ECF6\", \"width\": 0.5}}, \"type\": \"bar\"}], \"barpolar\": [{\"marker\": {\"line\": {\"color\": \"#E5ECF6\", \"width\": 0.5}}, \"type\": \"barpolar\"}], \"carpet\": [{\"aaxis\": {\"endlinecolor\": \"#2a3f5f\", \"gridcolor\": \"white\", \"linecolor\": \"white\", \"minorgridcolor\": \"white\", \"startlinecolor\": \"#2a3f5f\"}, \"baxis\": {\"endlinecolor\": \"#2a3f5f\", \"gridcolor\": \"white\", \"linecolor\": \"white\", \"minorgridcolor\": \"white\", \"startlinecolor\": \"#2a3f5f\"}, \"type\": \"carpet\"}], \"choropleth\": [{\"colorbar\": {\"outlinewidth\": 0, \"ticks\": \"\"}, \"type\": \"choropleth\"}], \"contour\": [{\"colorbar\": {\"outlinewidth\": 0, \"ticks\": \"\"}, \"colorscale\": [[0.0, \"#0d0887\"], [0.1111111111111111, \"#46039f\"], [0.2222222222222222, \"#7201a8\"], [0.3333333333333333, \"#9c179e\"], [0.4444444444444444, \"#bd3786\"], [0.5555555555555556, \"#d8576b\"], [0.6666666666666666, \"#ed7953\"], [0.7777777777777778, \"#fb9f3a\"], [0.8888888888888888, \"#fdca26\"], [1.0, \"#f0f921\"]], \"type\": \"contour\"}], \"contourcarpet\": [{\"colorbar\": {\"outlinewidth\": 0, \"ticks\": \"\"}, \"type\": \"contourcarpet\"}], \"heatmap\": [{\"colorbar\": {\"outlinewidth\": 0, \"ticks\": \"\"}, \"colorscale\": [[0.0, \"#0d0887\"], [0.1111111111111111, \"#46039f\"], [0.2222222222222222, \"#7201a8\"], [0.3333333333333333, \"#9c179e\"], [0.4444444444444444, \"#bd3786\"], [0.5555555555555556, \"#d8576b\"], [0.6666666666666666, \"#ed7953\"], [0.7777777777777778, \"#fb9f3a\"], [0.8888888888888888, \"#fdca26\"], [1.0, \"#f0f921\"]], \"type\": \"heatmap\"}], \"heatmapgl\": [{\"colorbar\": {\"outlinewidth\": 0, \"ticks\": \"\"}, \"colorscale\": [[0.0, \"#0d0887\"], [0.1111111111111111, \"#46039f\"], [0.2222222222222222, \"#7201a8\"], [0.3333333333333333, \"#9c179e\"], [0.4444444444444444, \"#bd3786\"], [0.5555555555555556, \"#d8576b\"], [0.6666666666666666, \"#ed7953\"], [0.7777777777777778, \"#fb9f3a\"], [0.8888888888888888, \"#fdca26\"], [1.0, \"#f0f921\"]], \"type\": \"heatmapgl\"}], \"histogram\": [{\"marker\": {\"colorbar\": {\"outlinewidth\": 0, \"ticks\": \"\"}}, \"type\": \"histogram\"}], \"histogram2d\": [{\"colorbar\": {\"outlinewidth\": 0, \"ticks\": \"\"}, \"colorscale\": [[0.0, \"#0d0887\"], [0.1111111111111111, \"#46039f\"], [0.2222222222222222, \"#7201a8\"], [0.3333333333333333, \"#9c179e\"], [0.4444444444444444, \"#bd3786\"], [0.5555555555555556, \"#d8576b\"], [0.6666666666666666, \"#ed7953\"], [0.7777777777777778, \"#fb9f3a\"], [0.8888888888888888, \"#fdca26\"], [1.0, \"#f0f921\"]], \"type\": \"histogram2d\"}], \"histogram2dcontour\": [{\"colorbar\": {\"outlinewidth\": 0, \"ticks\": \"\"}, \"colorscale\": [[0.0, \"#0d0887\"], [0.1111111111111111, \"#46039f\"], [0.2222222222222222, \"#7201a8\"], [0.3333333333333333, \"#9c179e\"], [0.4444444444444444, \"#bd3786\"], [0.5555555555555556, \"#d8576b\"], [0.6666666666666666, \"#ed7953\"], [0.7777777777777778, \"#fb9f3a\"], [0.8888888888888888, \"#fdca26\"], [1.0, \"#f0f921\"]], \"type\": \"histogram2dcontour\"}], \"mesh3d\": [{\"colorbar\": {\"outlinewidth\": 0, \"ticks\": \"\"}, \"type\": \"mesh3d\"}], \"parcoords\": [{\"line\": {\"colorbar\": {\"outlinewidth\": 0, \"ticks\": \"\"}}, \"type\": \"parcoords\"}], \"pie\": [{\"automargin\": true, \"type\": \"pie\"}], \"scatter\": [{\"marker\": {\"colorbar\": {\"outlinewidth\": 0, \"ticks\": \"\"}}, \"type\": \"scatter\"}], \"scatter3d\": [{\"line\": {\"colorbar\": {\"outlinewidth\": 0, \"ticks\": \"\"}}, \"marker\": {\"colorbar\": {\"outlinewidth\": 0, \"ticks\": \"\"}}, \"type\": \"scatter3d\"}], \"scattercarpet\": [{\"marker\": {\"colorbar\": {\"outlinewidth\": 0, \"ticks\": \"\"}}, \"type\": \"scattercarpet\"}], \"scattergeo\": [{\"marker\": {\"colorbar\": {\"outlinewidth\": 0, \"ticks\": \"\"}}, \"type\": \"scattergeo\"}], \"scattergl\": [{\"marker\": {\"colorbar\": {\"outlinewidth\": 0, \"ticks\": \"\"}}, \"type\": \"scattergl\"}], \"scattermapbox\": [{\"marker\": {\"colorbar\": {\"outlinewidth\": 0, \"ticks\": \"\"}}, \"type\": \"scattermapbox\"}], \"scatterpolar\": [{\"marker\": {\"colorbar\": {\"outlinewidth\": 0, \"ticks\": \"\"}}, \"type\": \"scatterpolar\"}], \"scatterpolargl\": [{\"marker\": {\"colorbar\": {\"outlinewidth\": 0, \"ticks\": \"\"}}, \"type\": \"scatterpolargl\"}], \"scatterternary\": [{\"marker\": {\"colorbar\": {\"outlinewidth\": 0, \"ticks\": \"\"}}, \"type\": \"scatterternary\"}], \"surface\": [{\"colorbar\": {\"outlinewidth\": 0, \"ticks\": \"\"}, \"colorscale\": [[0.0, \"#0d0887\"], [0.1111111111111111, \"#46039f\"], [0.2222222222222222, \"#7201a8\"], [0.3333333333333333, \"#9c179e\"], [0.4444444444444444, \"#bd3786\"], [0.5555555555555556, \"#d8576b\"], [0.6666666666666666, \"#ed7953\"], [0.7777777777777778, \"#fb9f3a\"], [0.8888888888888888, \"#fdca26\"], [1.0, \"#f0f921\"]], \"type\": \"surface\"}], \"table\": [{\"cells\": {\"fill\": {\"color\": \"#EBF0F8\"}, \"line\": {\"color\": \"white\"}}, \"header\": {\"fill\": {\"color\": \"#C8D4E3\"}, \"line\": {\"color\": \"white\"}}, \"type\": \"table\"}]}, \"layout\": {\"annotationdefaults\": {\"arrowcolor\": \"#2a3f5f\", \"arrowhead\": 0, \"arrowwidth\": 1}, \"autotypenumbers\": \"strict\", \"coloraxis\": {\"colorbar\": {\"outlinewidth\": 0, \"ticks\": \"\"}}, \"colorscale\": {\"diverging\": [[0, \"#8e0152\"], [0.1, \"#c51b7d\"], [0.2, \"#de77ae\"], [0.3, \"#f1b6da\"], [0.4, \"#fde0ef\"], [0.5, \"#f7f7f7\"], [0.6, \"#e6f5d0\"], [0.7, \"#b8e186\"], [0.8, \"#7fbc41\"], [0.9, \"#4d9221\"], [1, \"#276419\"]], \"sequential\": [[0.0, \"#0d0887\"], [0.1111111111111111, \"#46039f\"], [0.2222222222222222, \"#7201a8\"], [0.3333333333333333, \"#9c179e\"], [0.4444444444444444, \"#bd3786\"], [0.5555555555555556, \"#d8576b\"], [0.6666666666666666, \"#ed7953\"], [0.7777777777777778, \"#fb9f3a\"], [0.8888888888888888, \"#fdca26\"], [1.0, \"#f0f921\"]], \"sequentialminus\": [[0.0, \"#0d0887\"], [0.1111111111111111, \"#46039f\"], [0.2222222222222222, \"#7201a8\"], [0.3333333333333333, \"#9c179e\"], [0.4444444444444444, \"#bd3786\"], [0.5555555555555556, \"#d8576b\"], [0.6666666666666666, \"#ed7953\"], [0.7777777777777778, \"#fb9f3a\"], [0.8888888888888888, \"#fdca26\"], [1.0, \"#f0f921\"]]}, \"colorway\": [\"#636efa\", \"#EF553B\", \"#00cc96\", \"#ab63fa\", \"#FFA15A\", \"#19d3f3\", \"#FF6692\", \"#B6E880\", \"#FF97FF\", \"#FECB52\"], \"font\": {\"color\": \"#2a3f5f\"}, \"geo\": {\"bgcolor\": \"white\", \"lakecolor\": \"white\", \"landcolor\": \"#E5ECF6\", \"showlakes\": true, \"showland\": true, \"subunitcolor\": \"white\"}, \"hoverlabel\": {\"align\": \"left\"}, \"hovermode\": \"closest\", \"mapbox\": {\"style\": \"light\"}, \"paper_bgcolor\": \"white\", \"plot_bgcolor\": \"#E5ECF6\", \"polar\": {\"angularaxis\": {\"gridcolor\": \"white\", \"linecolor\": \"white\", \"ticks\": \"\"}, \"bgcolor\": \"#E5ECF6\", \"radialaxis\": {\"gridcolor\": \"white\", \"linecolor\": \"white\", \"ticks\": \"\"}}, \"scene\": {\"xaxis\": {\"backgroundcolor\": \"#E5ECF6\", \"gridcolor\": \"white\", \"gridwidth\": 2, \"linecolor\": \"white\", \"showbackground\": true, \"ticks\": \"\", \"zerolinecolor\": \"white\"}, \"yaxis\": {\"backgroundcolor\": \"#E5ECF6\", \"gridcolor\": \"white\", \"gridwidth\": 2, \"linecolor\": \"white\", \"showbackground\": true, \"ticks\": \"\", \"zerolinecolor\": \"white\"}, \"zaxis\": {\"backgroundcolor\": \"#E5ECF6\", \"gridcolor\": \"white\", \"gridwidth\": 2, \"linecolor\": \"white\", \"showbackground\": true, \"ticks\": \"\", \"zerolinecolor\": \"white\"}}, \"shapedefaults\": {\"line\": {\"color\": \"#2a3f5f\"}}, \"ternary\": {\"aaxis\": {\"gridcolor\": \"white\", \"linecolor\": \"white\", \"ticks\": \"\"}, \"baxis\": {\"gridcolor\": \"white\", \"linecolor\": \"white\", \"ticks\": \"\"}, \"bgcolor\": \"#E5ECF6\", \"caxis\": {\"gridcolor\": \"white\", \"linecolor\": \"white\", \"ticks\": \"\"}}, \"title\": {\"x\": 0.05}, \"xaxis\": {\"automargin\": true, \"gridcolor\": \"white\", \"linecolor\": \"white\", \"ticks\": \"\", \"title\": {\"standoff\": 15}, \"zerolinecolor\": \"white\", \"zerolinewidth\": 2}, \"yaxis\": {\"automargin\": true, \"gridcolor\": \"white\", \"linecolor\": \"white\", \"ticks\": \"\", \"title\": {\"standoff\": 15}, \"zerolinecolor\": \"white\", \"zerolinewidth\": 2}}}, \"title\": {\"text\": \"Ratio of incoming international vs outoing US students, Top 25 incoming Countries\"}},                        {\"responsive\": true}                    ).then(function(){\n                            \nvar gd = document.getElementById('84353555-a286-4990-9403-9dab953166d4');\nvar x = new MutationObserver(function (mutations, observer) {{\n        var display = window.getComputedStyle(gd).display;\n        if (!display || display === 'none') {{\n            console.log([gd, 'removed!']);\n            Plotly.purge(gd);\n            observer.disconnect();\n        }}\n}});\n\n// Listen for the removal of the full notebook cells\nvar notebookContainer = gd.closest('#notebook-container');\nif (notebookContainer) {{\n    x.observe(notebookContainer, {childList: true});\n}}\n\n// Listen for the clearing of the current output cell\nvar outputEl = gd.closest('.output');\nif (outputEl) {{\n    x.observe(outputEl, {childList: true});\n}}\n\n                        })                };                            </script>        </div>\n</body>\n</html>"
          },
          "metadata": {},
          "output_type": "display_data"
        }
      ]
    },
    {
      "cell_type": "markdown",
      "source": "# DJW",
      "metadata": {
        "tags": [],
        "cell_id": "00019-8c34b079-eb4b-4163-a1bc-3100bc7dc550",
        "deepnote_cell_type": "markdown"
      }
    },
    {
      "cell_type": "markdown",
      "source": "## Plot Inflow/Outflow",
      "metadata": {
        "tags": [],
        "cell_id": "00020-cdca72aa-ed63-4e1d-b82b-840851f95978",
        "deepnote_cell_type": "markdown"
      }
    },
    {
      "cell_type": "code",
      "metadata": {
        "tags": [],
        "cell_id": "00023-f1fc42cd-3393-422d-bfd5-7537a69054f2",
        "deepnote_to_be_reexecuted": false,
        "source_hash": "18514692",
        "execution_millis": 1,
        "execution_start": 1618145813566,
        "deepnote_cell_type": "code"
      },
      "source": "dw_in = data_in_1.copy(deep=True)",
      "execution_count": 323,
      "outputs": []
    },
    {
      "cell_type": "code",
      "metadata": {
        "tags": [],
        "cell_id": "00022-af8da7ad-605b-4b77-86a2-e2aadbc11f07",
        "deepnote_to_be_reexecuted": false,
        "source_hash": "8c2728f2",
        "execution_millis": 2,
        "execution_start": 1618145815569,
        "deepnote_cell_type": "code"
      },
      "source": "dw_out = data_out_1.copy(deep=True)",
      "execution_count": 324,
      "outputs": []
    },
    {
      "cell_type": "code",
      "metadata": {
        "tags": [],
        "cell_id": "00023-f0025755-e8a3-4197-9a06-3747eeb882f3",
        "deepnote_to_be_reexecuted": false,
        "source_hash": "58dd9682",
        "execution_millis": 109,
        "execution_start": 1618145819105,
        "deepnote_cell_type": "code"
      },
      "source": "dw_in['direction'] = 'incoming'\ndw_in['students'] = dw_in.intStdnts\ndw_in.head()",
      "execution_count": 325,
      "outputs": [
        {
          "output_type": "execute_result",
          "execution_count": 325,
          "data": {
            "application/vnd.deepnote.dataframe.v2+json": {
              "row_count": 5,
              "column_count": 6,
              "columns": [
                {
                  "name": "country",
                  "dtype": "object",
                  "stats": {
                    "unique_count": 5,
                    "nan_count": 0,
                    "categories": [
                      {
                        "name": "China",
                        "count": 1
                      },
                      {
                        "name": "India",
                        "count": 1
                      },
                      {
                        "name": "3 others",
                        "count": 3
                      }
                    ]
                  }
                },
                {
                  "name": "intStdnts",
                  "dtype": "float64",
                  "stats": {
                    "unique_count": 5,
                    "nan_count": 0,
                    "min": 28566,
                    "max": 59939,
                    "histogram": [
                      {
                        "bin_start": 28566,
                        "bin_end": 31703.3,
                        "count": 1
                      },
                      {
                        "bin_start": 31703.3,
                        "bin_end": 34840.6,
                        "count": 0
                      },
                      {
                        "bin_start": 34840.6,
                        "bin_end": 37977.9,
                        "count": 0
                      },
                      {
                        "bin_start": 37977.9,
                        "bin_end": 41115.2,
                        "count": 0
                      },
                      {
                        "bin_start": 41115.2,
                        "bin_end": 44252.5,
                        "count": 0
                      },
                      {
                        "bin_start": 44252.5,
                        "bin_end": 47389.8,
                        "count": 2
                      },
                      {
                        "bin_start": 47389.8,
                        "bin_end": 50527.100000000006,
                        "count": 0
                      },
                      {
                        "bin_start": 50527.100000000006,
                        "bin_end": 53664.4,
                        "count": 0
                      },
                      {
                        "bin_start": 53664.4,
                        "bin_end": 56801.7,
                        "count": 1
                      },
                      {
                        "bin_start": 56801.7,
                        "bin_end": 59939,
                        "count": 1
                      }
                    ]
                  }
                },
                {
                  "name": "percTotal",
                  "dtype": "float64",
                  "stats": {
                    "unique_count": 5,
                    "nan_count": 0,
                    "min": 0.052000000000000005,
                    "max": 0.109,
                    "histogram": [
                      {
                        "bin_start": 0.052000000000000005,
                        "bin_end": 0.0577,
                        "count": 1
                      },
                      {
                        "bin_start": 0.0577,
                        "bin_end": 0.0634,
                        "count": 0
                      },
                      {
                        "bin_start": 0.0634,
                        "bin_end": 0.0691,
                        "count": 0
                      },
                      {
                        "bin_start": 0.0691,
                        "bin_end": 0.0748,
                        "count": 0
                      },
                      {
                        "bin_start": 0.0748,
                        "bin_end": 0.0805,
                        "count": 0
                      },
                      {
                        "bin_start": 0.0805,
                        "bin_end": 0.0862,
                        "count": 2
                      },
                      {
                        "bin_start": 0.0862,
                        "bin_end": 0.09190000000000001,
                        "count": 0
                      },
                      {
                        "bin_start": 0.09190000000000001,
                        "bin_end": 0.09759999999999999,
                        "count": 0
                      },
                      {
                        "bin_start": 0.09759999999999999,
                        "bin_end": 0.1033,
                        "count": 1
                      },
                      {
                        "bin_start": 0.1033,
                        "bin_end": 0.109,
                        "count": 1
                      }
                    ]
                  }
                },
                {
                  "name": "year",
                  "dtype": "int64",
                  "stats": {
                    "unique_count": 1,
                    "nan_count": 0,
                    "min": 2000,
                    "max": 2000,
                    "histogram": [
                      {
                        "bin_start": 1999.5,
                        "bin_end": 1999.6,
                        "count": 0
                      },
                      {
                        "bin_start": 1999.6,
                        "bin_end": 1999.7,
                        "count": 0
                      },
                      {
                        "bin_start": 1999.7,
                        "bin_end": 1999.8,
                        "count": 0
                      },
                      {
                        "bin_start": 1999.8,
                        "bin_end": 1999.9,
                        "count": 0
                      },
                      {
                        "bin_start": 1999.9,
                        "bin_end": 2000,
                        "count": 0
                      },
                      {
                        "bin_start": 2000,
                        "bin_end": 2000.1,
                        "count": 5
                      },
                      {
                        "bin_start": 2000.1,
                        "bin_end": 2000.2,
                        "count": 0
                      },
                      {
                        "bin_start": 2000.2,
                        "bin_end": 2000.3,
                        "count": 0
                      },
                      {
                        "bin_start": 2000.3,
                        "bin_end": 2000.4,
                        "count": 0
                      },
                      {
                        "bin_start": 2000.4,
                        "bin_end": 2000.5,
                        "count": 0
                      }
                    ]
                  }
                },
                {
                  "name": "direction",
                  "dtype": "object",
                  "stats": {
                    "unique_count": 1,
                    "nan_count": 0,
                    "categories": [
                      {
                        "name": "incoming",
                        "count": 5
                      }
                    ]
                  }
                },
                {
                  "name": "students",
                  "dtype": "float64",
                  "stats": {
                    "unique_count": 5,
                    "nan_count": 0,
                    "min": 28566,
                    "max": 59939,
                    "histogram": [
                      {
                        "bin_start": 28566,
                        "bin_end": 31703.3,
                        "count": 1
                      },
                      {
                        "bin_start": 31703.3,
                        "bin_end": 34840.6,
                        "count": 0
                      },
                      {
                        "bin_start": 34840.6,
                        "bin_end": 37977.9,
                        "count": 0
                      },
                      {
                        "bin_start": 37977.9,
                        "bin_end": 41115.2,
                        "count": 0
                      },
                      {
                        "bin_start": 41115.2,
                        "bin_end": 44252.5,
                        "count": 0
                      },
                      {
                        "bin_start": 44252.5,
                        "bin_end": 47389.8,
                        "count": 2
                      },
                      {
                        "bin_start": 47389.8,
                        "bin_end": 50527.100000000006,
                        "count": 0
                      },
                      {
                        "bin_start": 50527.100000000006,
                        "bin_end": 53664.4,
                        "count": 0
                      },
                      {
                        "bin_start": 53664.4,
                        "bin_end": 56801.7,
                        "count": 1
                      },
                      {
                        "bin_start": 56801.7,
                        "bin_end": 59939,
                        "count": 1
                      }
                    ]
                  }
                },
                {
                  "name": "_deepnote_index_column",
                  "dtype": "int64"
                }
              ],
              "rows_top": [
                {
                  "country": "China",
                  "intStdnts": 59939,
                  "percTotal": 0.109,
                  "year": 2000,
                  "direction": "incoming",
                  "students": 59939,
                  "_deepnote_index_column": 0
                },
                {
                  "country": "India",
                  "intStdnts": 54664,
                  "percTotal": 0.1,
                  "year": 2000,
                  "direction": "incoming",
                  "students": 54664,
                  "_deepnote_index_column": 1
                },
                {
                  "country": "Japan",
                  "intStdnts": 46497,
                  "percTotal": 0.085,
                  "year": 2000,
                  "direction": "incoming",
                  "students": 46497,
                  "_deepnote_index_column": 2
                },
                {
                  "country": "South Korea",
                  "intStdnts": 45685,
                  "percTotal": 0.083,
                  "year": 2000,
                  "direction": "incoming",
                  "students": 45685,
                  "_deepnote_index_column": 3
                },
                {
                  "country": "Taiwan",
                  "intStdnts": 28566,
                  "percTotal": 0.052000000000000005,
                  "year": 2000,
                  "direction": "incoming",
                  "students": 28566,
                  "_deepnote_index_column": 4
                }
              ],
              "rows_bottom": null
            },
            "text/plain": "       country  intStdnts  percTotal  year direction  students\n0        China    59939.0      0.109  2000  incoming   59939.0\n1        India    54664.0      0.100  2000  incoming   54664.0\n2        Japan    46497.0      0.085  2000  incoming   46497.0\n3  South Korea    45685.0      0.083  2000  incoming   45685.0\n4       Taiwan    28566.0      0.052  2000  incoming   28566.0",
            "text/html": "<div>\n<style scoped>\n    .dataframe tbody tr th:only-of-type {\n        vertical-align: middle;\n    }\n\n    .dataframe tbody tr th {\n        vertical-align: top;\n    }\n\n    .dataframe thead th {\n        text-align: right;\n    }\n</style>\n<table border=\"1\" class=\"dataframe\">\n  <thead>\n    <tr style=\"text-align: right;\">\n      <th></th>\n      <th>country</th>\n      <th>intStdnts</th>\n      <th>percTotal</th>\n      <th>year</th>\n      <th>direction</th>\n      <th>students</th>\n    </tr>\n  </thead>\n  <tbody>\n    <tr>\n      <th>0</th>\n      <td>China</td>\n      <td>59939.0</td>\n      <td>0.109</td>\n      <td>2000</td>\n      <td>incoming</td>\n      <td>59939.0</td>\n    </tr>\n    <tr>\n      <th>1</th>\n      <td>India</td>\n      <td>54664.0</td>\n      <td>0.100</td>\n      <td>2000</td>\n      <td>incoming</td>\n      <td>54664.0</td>\n    </tr>\n    <tr>\n      <th>2</th>\n      <td>Japan</td>\n      <td>46497.0</td>\n      <td>0.085</td>\n      <td>2000</td>\n      <td>incoming</td>\n      <td>46497.0</td>\n    </tr>\n    <tr>\n      <th>3</th>\n      <td>South Korea</td>\n      <td>45685.0</td>\n      <td>0.083</td>\n      <td>2000</td>\n      <td>incoming</td>\n      <td>45685.0</td>\n    </tr>\n    <tr>\n      <th>4</th>\n      <td>Taiwan</td>\n      <td>28566.0</td>\n      <td>0.052</td>\n      <td>2000</td>\n      <td>incoming</td>\n      <td>28566.0</td>\n    </tr>\n  </tbody>\n</table>\n</div>"
          },
          "metadata": {}
        }
      ]
    },
    {
      "cell_type": "code",
      "metadata": {
        "tags": [],
        "cell_id": "00024-9cc06388-a09f-4c23-b5aa-fe12e8d53d33",
        "deepnote_to_be_reexecuted": false,
        "source_hash": "8eea31fa",
        "execution_millis": 4,
        "execution_start": 1618145823849,
        "deepnote_cell_type": "code"
      },
      "source": "# convert out df from wide to long\ndw_out = dw_out.melt(id_vars='country', var_name='year', value_name='students')\n",
      "execution_count": 326,
      "outputs": []
    },
    {
      "cell_type": "code",
      "metadata": {
        "tags": [],
        "cell_id": "00027-3b92b016-efd3-41b2-b8fc-a4d8980f3846",
        "deepnote_to_be_reexecuted": false,
        "source_hash": "291c67aa",
        "execution_millis": 3,
        "execution_start": 1618145825467,
        "deepnote_cell_type": "code"
      },
      "source": "# add outgoing label\ndw_out['direction'] = 'outgoing'",
      "execution_count": 327,
      "outputs": []
    },
    {
      "cell_type": "code",
      "metadata": {
        "tags": [],
        "cell_id": "00027-ae609d73-8ffd-4608-9c00-8cf250355ed5",
        "deepnote_to_be_reexecuted": false,
        "source_hash": "4d3965f7",
        "execution_millis": 37,
        "execution_start": 1618145826479,
        "deepnote_cell_type": "code"
      },
      "source": "dw_out.head()",
      "execution_count": 328,
      "outputs": [
        {
          "output_type": "execute_result",
          "execution_count": 328,
          "data": {
            "application/vnd.deepnote.dataframe.v2+json": {
              "row_count": 5,
              "column_count": 4,
              "columns": [
                {
                  "name": "country",
                  "dtype": "object",
                  "stats": {
                    "unique_count": 5,
                    "nan_count": 0,
                    "categories": [
                      {
                        "name": "Burundi",
                        "count": 1
                      },
                      {
                        "name": "Djibouti",
                        "count": 1
                      },
                      {
                        "name": "3 others",
                        "count": 3
                      }
                    ]
                  }
                },
                {
                  "name": "year",
                  "dtype": "object",
                  "stats": {
                    "unique_count": 1,
                    "nan_count": 0,
                    "categories": [
                      {
                        "name": "1999",
                        "count": 5
                      }
                    ]
                  }
                },
                {
                  "name": "students",
                  "dtype": "int64",
                  "stats": {
                    "unique_count": 2,
                    "nan_count": 0,
                    "min": 0,
                    "max": 695,
                    "histogram": [
                      {
                        "bin_start": 0,
                        "bin_end": 69.5,
                        "count": 4
                      },
                      {
                        "bin_start": 69.5,
                        "bin_end": 139,
                        "count": 0
                      },
                      {
                        "bin_start": 139,
                        "bin_end": 208.5,
                        "count": 0
                      },
                      {
                        "bin_start": 208.5,
                        "bin_end": 278,
                        "count": 0
                      },
                      {
                        "bin_start": 278,
                        "bin_end": 347.5,
                        "count": 0
                      },
                      {
                        "bin_start": 347.5,
                        "bin_end": 417,
                        "count": 0
                      },
                      {
                        "bin_start": 417,
                        "bin_end": 486.5,
                        "count": 0
                      },
                      {
                        "bin_start": 486.5,
                        "bin_end": 556,
                        "count": 0
                      },
                      {
                        "bin_start": 556,
                        "bin_end": 625.5,
                        "count": 0
                      },
                      {
                        "bin_start": 625.5,
                        "bin_end": 695,
                        "count": 1
                      }
                    ]
                  }
                },
                {
                  "name": "direction",
                  "dtype": "object",
                  "stats": {
                    "unique_count": 1,
                    "nan_count": 0,
                    "categories": [
                      {
                        "name": "outgoing",
                        "count": 5
                      }
                    ]
                  }
                },
                {
                  "name": "_deepnote_index_column",
                  "dtype": "int64"
                }
              ],
              "rows_top": [
                {
                  "country": "Burundi",
                  "year": "1999",
                  "students": 0,
                  "direction": "outgoing",
                  "_deepnote_index_column": 0
                },
                {
                  "country": "Djibouti",
                  "year": "1999",
                  "students": 0,
                  "direction": "outgoing",
                  "_deepnote_index_column": 1
                },
                {
                  "country": "Eritrea",
                  "year": "1999",
                  "students": 0,
                  "direction": "outgoing",
                  "_deepnote_index_column": 2
                },
                {
                  "country": "Ethiopia",
                  "year": "1999",
                  "students": 0,
                  "direction": "outgoing",
                  "_deepnote_index_column": 3
                },
                {
                  "country": "Kenya",
                  "year": "1999",
                  "students": 695,
                  "direction": "outgoing",
                  "_deepnote_index_column": 4
                }
              ],
              "rows_bottom": null
            },
            "text/plain": "    country  year  students direction\n0   Burundi  1999         0  outgoing\n1  Djibouti  1999         0  outgoing\n2   Eritrea  1999         0  outgoing\n3  Ethiopia  1999         0  outgoing\n4     Kenya  1999       695  outgoing",
            "text/html": "<div>\n<style scoped>\n    .dataframe tbody tr th:only-of-type {\n        vertical-align: middle;\n    }\n\n    .dataframe tbody tr th {\n        vertical-align: top;\n    }\n\n    .dataframe thead th {\n        text-align: right;\n    }\n</style>\n<table border=\"1\" class=\"dataframe\">\n  <thead>\n    <tr style=\"text-align: right;\">\n      <th></th>\n      <th>country</th>\n      <th>year</th>\n      <th>students</th>\n      <th>direction</th>\n    </tr>\n  </thead>\n  <tbody>\n    <tr>\n      <th>0</th>\n      <td>Burundi</td>\n      <td>1999</td>\n      <td>0</td>\n      <td>outgoing</td>\n    </tr>\n    <tr>\n      <th>1</th>\n      <td>Djibouti</td>\n      <td>1999</td>\n      <td>0</td>\n      <td>outgoing</td>\n    </tr>\n    <tr>\n      <th>2</th>\n      <td>Eritrea</td>\n      <td>1999</td>\n      <td>0</td>\n      <td>outgoing</td>\n    </tr>\n    <tr>\n      <th>3</th>\n      <td>Ethiopia</td>\n      <td>1999</td>\n      <td>0</td>\n      <td>outgoing</td>\n    </tr>\n    <tr>\n      <th>4</th>\n      <td>Kenya</td>\n      <td>1999</td>\n      <td>695</td>\n      <td>outgoing</td>\n    </tr>\n  </tbody>\n</table>\n</div>"
          },
          "metadata": {}
        }
      ]
    },
    {
      "cell_type": "code",
      "metadata": {
        "tags": [],
        "cell_id": "00027-841d739c-bf17-49b2-8f60-ae67b46bcfb0",
        "deepnote_to_be_reexecuted": false,
        "source_hash": "b0a69c29",
        "execution_millis": 12,
        "execution_start": 1618145830409,
        "deepnote_cell_type": "code"
      },
      "source": "# 32 countries in\ncountries_in = np.unique(dw_in.country)\nprint(f'{len(np.unique(countries_in))} incoming countries...')\n# 222 countries out\ncountries_out = np.unique(dw_out.country)\nprint(f'{len(np.unique(countries_out))} outgoing countries...')\n# overlap?\nprint('\\nCountries in both sets:')\nprint(countries_in[np.in1d(countries_in,countries_out)])\nprint(f'\\n{len(countries_in[np.in1d(countries_in,countries_out)])} countries in both...')\n",
      "execution_count": 329,
      "outputs": [
        {
          "name": "stdout",
          "text": "32 incoming countries...\n222 outgoing countries...\n\nCountries in both sets:\n['Bangladesh' 'Brazil' 'Canada' 'China' 'Colombia' 'France' 'Germany'\n 'Hong Kong' 'India' 'Indonesia' 'Iran' 'Jamaica' 'Japan' 'Kenya' 'Kuwait'\n 'Malaysia' 'Mexico' 'Nepal' 'Nigeria' 'Pakistan' 'Russia' 'Saudi Arabia'\n 'Singapore' 'South Korea' 'Spain' 'Sweden' 'Taiwan' 'Thailand' 'Turkey'\n 'United Kingdom' 'Venezuela' 'Vietnam']\n\n32 countries in both...\n",
          "output_type": "stream"
        }
      ]
    },
    {
      "cell_type": "code",
      "metadata": {
        "tags": [],
        "cell_id": "00028-a207183e-9f2d-4b2c-b866-c2d9da8496d2",
        "deepnote_to_be_reexecuted": false,
        "source_hash": "531ff06a",
        "execution_millis": 36,
        "execution_start": 1618145834643,
        "deepnote_cell_type": "code"
      },
      "source": "# make out same as in countries\ncountries = countries_in[np.in1d(countries_in,countries_out)]\ndw_out = dw_out.loc[dw_out.country.isin(countries),:].reset_index(drop=True)\ndw_out",
      "execution_count": 330,
      "outputs": [
        {
          "output_type": "execute_result",
          "execution_count": 330,
          "data": {
            "application/vnd.deepnote.dataframe.v2+json": {
              "row_count": 640,
              "column_count": 4,
              "columns": [
                {
                  "name": "country",
                  "dtype": "object",
                  "stats": {
                    "unique_count": 32,
                    "nan_count": 0,
                    "categories": [
                      {
                        "name": "Kenya",
                        "count": 20
                      },
                      {
                        "name": "Nigeria",
                        "count": 20
                      },
                      {
                        "name": "30 others",
                        "count": 600
                      }
                    ]
                  }
                },
                {
                  "name": "year",
                  "dtype": "object",
                  "stats": {
                    "unique_count": 20,
                    "nan_count": 0,
                    "categories": [
                      {
                        "name": "1999",
                        "count": 32
                      },
                      {
                        "name": "2000",
                        "count": 32
                      },
                      {
                        "name": "18 others",
                        "count": 576
                      }
                    ]
                  }
                },
                {
                  "name": "students",
                  "dtype": "int64",
                  "stats": {
                    "unique_count": 517,
                    "nan_count": 0,
                    "min": 0,
                    "max": 39851,
                    "histogram": [
                      {
                        "bin_start": 0,
                        "bin_end": 3985.1,
                        "count": 499
                      },
                      {
                        "bin_start": 3985.1,
                        "bin_end": 7970.2,
                        "count": 45
                      },
                      {
                        "bin_start": 7970.2,
                        "bin_end": 11955.3,
                        "count": 27
                      },
                      {
                        "bin_start": 11955.3,
                        "bin_end": 15940.4,
                        "count": 17
                      },
                      {
                        "bin_start": 15940.4,
                        "bin_end": 19925.5,
                        "count": 16
                      },
                      {
                        "bin_start": 19925.5,
                        "bin_end": 23910.6,
                        "count": 3
                      },
                      {
                        "bin_start": 23910.6,
                        "bin_end": 27895.7,
                        "count": 8
                      },
                      {
                        "bin_start": 27895.7,
                        "bin_end": 31880.8,
                        "count": 8
                      },
                      {
                        "bin_start": 31880.8,
                        "bin_end": 35865.9,
                        "count": 10
                      },
                      {
                        "bin_start": 35865.9,
                        "bin_end": 39851,
                        "count": 7
                      }
                    ]
                  }
                },
                {
                  "name": "direction",
                  "dtype": "object",
                  "stats": {
                    "unique_count": 1,
                    "nan_count": 0,
                    "categories": [
                      {
                        "name": "outgoing",
                        "count": 640
                      }
                    ]
                  }
                },
                {
                  "name": "_deepnote_index_column",
                  "dtype": "int64"
                }
              ],
              "rows_top": [
                {
                  "country": "Kenya",
                  "year": "1999",
                  "students": 695,
                  "direction": "outgoing",
                  "_deepnote_index_column": 0
                },
                {
                  "country": "Nigeria",
                  "year": "1999",
                  "students": 26,
                  "direction": "outgoing",
                  "_deepnote_index_column": 1
                },
                {
                  "country": "China",
                  "year": "1999",
                  "students": 2949,
                  "direction": "outgoing",
                  "_deepnote_index_column": 2
                },
                {
                  "country": "Hong Kong",
                  "year": "1999",
                  "students": 342,
                  "direction": "outgoing",
                  "_deepnote_index_column": 3
                },
                {
                  "country": "Japan",
                  "year": "1999",
                  "students": 2679,
                  "direction": "outgoing",
                  "_deepnote_index_column": 4
                },
                {
                  "country": "South Korea",
                  "year": "1999",
                  "students": 444,
                  "direction": "outgoing",
                  "_deepnote_index_column": 5
                },
                {
                  "country": "Taiwan",
                  "year": "1999",
                  "students": 169,
                  "direction": "outgoing",
                  "_deepnote_index_column": 6
                },
                {
                  "country": "Bangladesh",
                  "year": "1999",
                  "students": 21,
                  "direction": "outgoing",
                  "_deepnote_index_column": 7
                },
                {
                  "country": "India",
                  "year": "1999",
                  "students": 811,
                  "direction": "outgoing",
                  "_deepnote_index_column": 8
                },
                {
                  "country": "Nepal",
                  "year": "1999",
                  "students": 389,
                  "direction": "outgoing",
                  "_deepnote_index_column": 9
                },
                {
                  "country": "Pakistan",
                  "year": "1999",
                  "students": 3,
                  "direction": "outgoing",
                  "_deepnote_index_column": 10
                },
                {
                  "country": "Indonesia",
                  "year": "1999",
                  "students": 189,
                  "direction": "outgoing",
                  "_deepnote_index_column": 11
                },
                {
                  "country": "Malaysia",
                  "year": "1999",
                  "students": 26,
                  "direction": "outgoing",
                  "_deepnote_index_column": 12
                },
                {
                  "country": "Singapore",
                  "year": "1999",
                  "students": 87,
                  "direction": "outgoing",
                  "_deepnote_index_column": 13
                },
                {
                  "country": "Thailand",
                  "year": "1999",
                  "students": 399,
                  "direction": "outgoing",
                  "_deepnote_index_column": 14
                },
                {
                  "country": "Vietnam",
                  "year": "1999",
                  "students": 142,
                  "direction": "outgoing",
                  "_deepnote_index_column": 15
                },
                {
                  "country": "France",
                  "year": "1999",
                  "students": 11924,
                  "direction": "outgoing",
                  "_deepnote_index_column": 16
                },
                {
                  "country": "Germany",
                  "year": "1999",
                  "students": 4744,
                  "direction": "outgoing",
                  "_deepnote_index_column": 17
                },
                {
                  "country": "Russia",
                  "year": "1999",
                  "students": 1103,
                  "direction": "outgoing",
                  "_deepnote_index_column": 18
                },
                {
                  "country": "Spain",
                  "year": "1999",
                  "students": 13974,
                  "direction": "outgoing",
                  "_deepnote_index_column": 19
                },
                {
                  "country": "Sweden",
                  "year": "1999",
                  "students": 538,
                  "direction": "outgoing",
                  "_deepnote_index_column": 20
                },
                {
                  "country": "Turkey",
                  "year": "1999",
                  "students": 99,
                  "direction": "outgoing",
                  "_deepnote_index_column": 21
                },
                {
                  "country": "United Kingdom",
                  "year": "1999",
                  "students": 29289,
                  "direction": "outgoing",
                  "_deepnote_index_column": 22
                },
                {
                  "country": "Jamaica",
                  "year": "1999",
                  "students": 548,
                  "direction": "outgoing",
                  "_deepnote_index_column": 23
                },
                {
                  "country": "Mexico",
                  "year": "1999",
                  "students": 7374,
                  "direction": "outgoing",
                  "_deepnote_index_column": 24
                },
                {
                  "country": "Brazil",
                  "year": "1999",
                  "students": 717,
                  "direction": "outgoing",
                  "_deepnote_index_column": 25
                },
                {
                  "country": "Colombia",
                  "year": "1999",
                  "students": 44,
                  "direction": "outgoing",
                  "_deepnote_index_column": 26
                },
                {
                  "country": "Venezuela",
                  "year": "1999",
                  "students": 339,
                  "direction": "outgoing",
                  "_deepnote_index_column": 27
                },
                {
                  "country": "Iran",
                  "year": "1999",
                  "students": 0,
                  "direction": "outgoing",
                  "_deepnote_index_column": 28
                },
                {
                  "country": "Kuwait",
                  "year": "1999",
                  "students": 2,
                  "direction": "outgoing",
                  "_deepnote_index_column": 29
                },
                {
                  "country": "Saudi Arabia",
                  "year": "1999",
                  "students": 2,
                  "direction": "outgoing",
                  "_deepnote_index_column": 30
                },
                {
                  "country": "Canada",
                  "year": "1999",
                  "students": 1275,
                  "direction": "outgoing",
                  "_deepnote_index_column": 31
                },
                {
                  "country": "Kenya",
                  "year": "2000",
                  "students": 846,
                  "direction": "outgoing",
                  "_deepnote_index_column": 32
                },
                {
                  "country": "Nigeria",
                  "year": "2000",
                  "students": 5,
                  "direction": "outgoing",
                  "_deepnote_index_column": 33
                },
                {
                  "country": "China",
                  "year": "2000",
                  "students": 2942,
                  "direction": "outgoing",
                  "_deepnote_index_column": 34
                },
                {
                  "country": "Hong Kong",
                  "year": "2000",
                  "students": 470,
                  "direction": "outgoing",
                  "_deepnote_index_column": 35
                },
                {
                  "country": "Japan",
                  "year": "2000",
                  "students": 2618,
                  "direction": "outgoing",
                  "_deepnote_index_column": 36
                },
                {
                  "country": "South Korea",
                  "year": "2000",
                  "students": 522,
                  "direction": "outgoing",
                  "_deepnote_index_column": 37
                },
                {
                  "country": "Taiwan",
                  "year": "2000",
                  "students": 182,
                  "direction": "outgoing",
                  "_deepnote_index_column": 38
                },
                {
                  "country": "Bangladesh",
                  "year": "2000",
                  "students": 49,
                  "direction": "outgoing",
                  "_deepnote_index_column": 39
                },
                {
                  "country": "India",
                  "year": "2000",
                  "students": 750,
                  "direction": "outgoing",
                  "_deepnote_index_column": 40
                },
                {
                  "country": "Nepal",
                  "year": "2000",
                  "students": 395,
                  "direction": "outgoing",
                  "_deepnote_index_column": 41
                },
                {
                  "country": "Pakistan",
                  "year": "2000",
                  "students": 3,
                  "direction": "outgoing",
                  "_deepnote_index_column": 42
                },
                {
                  "country": "Indonesia",
                  "year": "2000",
                  "students": 213,
                  "direction": "outgoing",
                  "_deepnote_index_column": 43
                },
                {
                  "country": "Malaysia",
                  "year": "2000",
                  "students": 77,
                  "direction": "outgoing",
                  "_deepnote_index_column": 44
                },
                {
                  "country": "Singapore",
                  "year": "2000",
                  "students": 117,
                  "direction": "outgoing",
                  "_deepnote_index_column": 45
                },
                {
                  "country": "Thailand",
                  "year": "2000",
                  "students": 496,
                  "direction": "outgoing",
                  "_deepnote_index_column": 46
                },
                {
                  "country": "Vietnam",
                  "year": "2000",
                  "students": 188,
                  "direction": "outgoing",
                  "_deepnote_index_column": 47
                },
                {
                  "country": "France",
                  "year": "2000",
                  "students": 11905,
                  "direction": "outgoing",
                  "_deepnote_index_column": 48
                },
                {
                  "country": "Germany",
                  "year": "2000",
                  "students": 5116,
                  "direction": "outgoing",
                  "_deepnote_index_column": 49
                },
                {
                  "country": "Russia",
                  "year": "2000",
                  "students": 1152,
                  "direction": "outgoing",
                  "_deepnote_index_column": 50
                },
                {
                  "country": "Spain",
                  "year": "2000",
                  "students": 16016,
                  "direction": "outgoing",
                  "_deepnote_index_column": 51
                },
                {
                  "country": "Sweden",
                  "year": "2000",
                  "students": 543,
                  "direction": "outgoing",
                  "_deepnote_index_column": 52
                },
                {
                  "country": "Turkey",
                  "year": "2000",
                  "students": 234,
                  "direction": "outgoing",
                  "_deepnote_index_column": 53
                },
                {
                  "country": "United Kingdom",
                  "year": "2000",
                  "students": 30289,
                  "direction": "outgoing",
                  "_deepnote_index_column": 54
                },
                {
                  "country": "Jamaica",
                  "year": "2000",
                  "students": 462,
                  "direction": "outgoing",
                  "_deepnote_index_column": 55
                },
                {
                  "country": "Mexico",
                  "year": "2000",
                  "students": 8360,
                  "direction": "outgoing",
                  "_deepnote_index_column": 56
                },
                {
                  "country": "Brazil",
                  "year": "2000",
                  "students": 760,
                  "direction": "outgoing",
                  "_deepnote_index_column": 57
                },
                {
                  "country": "Colombia",
                  "year": "2000",
                  "students": 13,
                  "direction": "outgoing",
                  "_deepnote_index_column": 58
                },
                {
                  "country": "Venezuela",
                  "year": "2000",
                  "students": 206,
                  "direction": "outgoing",
                  "_deepnote_index_column": 59
                },
                {
                  "country": "Iran",
                  "year": "2000",
                  "students": 1,
                  "direction": "outgoing",
                  "_deepnote_index_column": 60
                },
                {
                  "country": "Kuwait",
                  "year": "2000",
                  "students": 3,
                  "direction": "outgoing",
                  "_deepnote_index_column": 61
                },
                {
                  "country": "Saudi Arabia",
                  "year": "2000",
                  "students": 1,
                  "direction": "outgoing",
                  "_deepnote_index_column": 62
                },
                {
                  "country": "Canada",
                  "year": "2000",
                  "students": 1040,
                  "direction": "outgoing",
                  "_deepnote_index_column": 63
                },
                {
                  "country": "Kenya",
                  "year": "2001",
                  "students": 720,
                  "direction": "outgoing",
                  "_deepnote_index_column": 64
                },
                {
                  "country": "Nigeria",
                  "year": "2001",
                  "students": 10,
                  "direction": "outgoing",
                  "_deepnote_index_column": 65
                },
                {
                  "country": "China",
                  "year": "2001",
                  "students": 3911,
                  "direction": "outgoing",
                  "_deepnote_index_column": 66
                },
                {
                  "country": "Hong Kong",
                  "year": "2001",
                  "students": 501,
                  "direction": "outgoing",
                  "_deepnote_index_column": 67
                },
                {
                  "country": "Japan",
                  "year": "2001",
                  "students": 3168,
                  "direction": "outgoing",
                  "_deepnote_index_column": 68
                },
                {
                  "country": "South Korea",
                  "year": "2001",
                  "students": 631,
                  "direction": "outgoing",
                  "_deepnote_index_column": 69
                },
                {
                  "country": "Taiwan",
                  "year": "2001",
                  "students": 173,
                  "direction": "outgoing",
                  "_deepnote_index_column": 70
                },
                {
                  "country": "Bangladesh",
                  "year": "2001",
                  "students": 4,
                  "direction": "outgoing",
                  "_deepnote_index_column": 71
                },
                {
                  "country": "India",
                  "year": "2001",
                  "students": 627,
                  "direction": "outgoing",
                  "_deepnote_index_column": 72
                },
                {
                  "country": "Nepal",
                  "year": "2001",
                  "students": 214,
                  "direction": "outgoing",
                  "_deepnote_index_column": 73
                },
                {
                  "country": "Pakistan",
                  "year": "2001",
                  "students": 9,
                  "direction": "outgoing",
                  "_deepnote_index_column": 74
                },
                {
                  "country": "Indonesia",
                  "year": "2001",
                  "students": 52,
                  "direction": "outgoing",
                  "_deepnote_index_column": 75
                },
                {
                  "country": "Malaysia",
                  "year": "2001",
                  "students": 25,
                  "direction": "outgoing",
                  "_deepnote_index_column": 76
                },
                {
                  "country": "Singapore",
                  "year": "2001",
                  "students": 231,
                  "direction": "outgoing",
                  "_deepnote_index_column": 77
                },
                {
                  "country": "Thailand",
                  "year": "2001",
                  "students": 836,
                  "direction": "outgoing",
                  "_deepnote_index_column": 78
                },
                {
                  "country": "Vietnam",
                  "year": "2001",
                  "students": 218,
                  "direction": "outgoing",
                  "_deepnote_index_column": 79
                },
                {
                  "country": "France",
                  "year": "2001",
                  "students": 12274,
                  "direction": "outgoing",
                  "_deepnote_index_column": 80
                },
                {
                  "country": "Germany",
                  "year": "2001",
                  "students": 4856,
                  "direction": "outgoing",
                  "_deepnote_index_column": 81
                },
                {
                  "country": "Russia",
                  "year": "2001",
                  "students": 1269,
                  "direction": "outgoing",
                  "_deepnote_index_column": 82
                },
                {
                  "country": "Spain",
                  "year": "2001",
                  "students": 17176,
                  "direction": "outgoing",
                  "_deepnote_index_column": 83
                },
                {
                  "country": "Sweden",
                  "year": "2001",
                  "students": 598,
                  "direction": "outgoing",
                  "_deepnote_index_column": 84
                },
                {
                  "country": "Turkey",
                  "year": "2001",
                  "students": 129,
                  "direction": "outgoing",
                  "_deepnote_index_column": 85
                },
                {
                  "country": "United Kingdom",
                  "year": "2001",
                  "students": 30143,
                  "direction": "outgoing",
                  "_deepnote_index_column": 86
                },
                {
                  "country": "Jamaica",
                  "year": "2001",
                  "students": 405,
                  "direction": "outgoing",
                  "_deepnote_index_column": 87
                },
                {
                  "country": "Mexico",
                  "year": "2001",
                  "students": 8078,
                  "direction": "outgoing",
                  "_deepnote_index_column": 88
                },
                {
                  "country": "Brazil",
                  "year": "2001",
                  "students": 1064,
                  "direction": "outgoing",
                  "_deepnote_index_column": 89
                },
                {
                  "country": "Colombia",
                  "year": "2001",
                  "students": 26,
                  "direction": "outgoing",
                  "_deepnote_index_column": 90
                },
                {
                  "country": "Venezuela",
                  "year": "2001",
                  "students": 97,
                  "direction": "outgoing",
                  "_deepnote_index_column": 91
                },
                {
                  "country": "Iran",
                  "year": "2001",
                  "students": 2,
                  "direction": "outgoing",
                  "_deepnote_index_column": 92
                },
                {
                  "country": "Kuwait",
                  "year": "2001",
                  "students": 4,
                  "direction": "outgoing",
                  "_deepnote_index_column": 93
                },
                {
                  "country": "Saudi Arabia",
                  "year": "2001",
                  "students": 1,
                  "direction": "outgoing",
                  "_deepnote_index_column": 94
                },
                {
                  "country": "Canada",
                  "year": "2001",
                  "students": 1180,
                  "direction": "outgoing",
                  "_deepnote_index_column": 95
                },
                {
                  "country": "Kenya",
                  "year": "2002",
                  "students": 625,
                  "direction": "outgoing",
                  "_deepnote_index_column": 96
                },
                {
                  "country": "Nigeria",
                  "year": "2002",
                  "students": 24,
                  "direction": "outgoing",
                  "_deepnote_index_column": 97
                },
                {
                  "country": "China",
                  "year": "2002",
                  "students": 2493,
                  "direction": "outgoing",
                  "_deepnote_index_column": 98
                },
                {
                  "country": "Hong Kong",
                  "year": "2002",
                  "students": 458,
                  "direction": "outgoing",
                  "_deepnote_index_column": 99
                },
                {
                  "country": "Japan",
                  "year": "2002",
                  "students": 3457,
                  "direction": "outgoing",
                  "_deepnote_index_column": 100
                },
                {
                  "country": "South Korea",
                  "year": "2002",
                  "students": 739,
                  "direction": "outgoing",
                  "_deepnote_index_column": 101
                },
                {
                  "country": "Taiwan",
                  "year": "2002",
                  "students": 148,
                  "direction": "outgoing",
                  "_deepnote_index_column": 102
                },
                {
                  "country": "Bangladesh",
                  "year": "2002",
                  "students": 21,
                  "direction": "outgoing",
                  "_deepnote_index_column": 103
                },
                {
                  "country": "India",
                  "year": "2002",
                  "students": 703,
                  "direction": "outgoing",
                  "_deepnote_index_column": 104
                },
                {
                  "country": "Nepal",
                  "year": "2002",
                  "students": 142,
                  "direction": "outgoing",
                  "_deepnote_index_column": 105
                },
                {
                  "country": "Pakistan",
                  "year": "2002",
                  "students": 9,
                  "direction": "outgoing",
                  "_deepnote_index_column": 106
                },
                {
                  "country": "Indonesia",
                  "year": "2002",
                  "students": 26,
                  "direction": "outgoing",
                  "_deepnote_index_column": 107
                },
                {
                  "country": "Malaysia",
                  "year": "2002",
                  "students": 47,
                  "direction": "outgoing",
                  "_deepnote_index_column": 108
                },
                {
                  "country": "Singapore",
                  "year": "2002",
                  "students": 176,
                  "direction": "outgoing",
                  "_deepnote_index_column": 109
                },
                {
                  "country": "Thailand",
                  "year": "2002",
                  "students": 794,
                  "direction": "outgoing",
                  "_deepnote_index_column": 110
                },
                {
                  "country": "Vietnam",
                  "year": "2002",
                  "students": 286,
                  "direction": "outgoing",
                  "_deepnote_index_column": 111
                },
                {
                  "country": "France",
                  "year": "2002",
                  "students": 13080,
                  "direction": "outgoing",
                  "_deepnote_index_column": 112
                },
                {
                  "country": "Germany",
                  "year": "2002",
                  "students": 5587,
                  "direction": "outgoing",
                  "_deepnote_index_column": 113
                },
                {
                  "country": "Russia",
                  "year": "2002",
                  "students": 1521,
                  "direction": "outgoing",
                  "_deepnote_index_column": 114
                },
                {
                  "country": "Spain",
                  "year": "2002",
                  "students": 18865,
                  "direction": "outgoing",
                  "_deepnote_index_column": 115
                },
                {
                  "country": "Sweden",
                  "year": "2002",
                  "students": 818,
                  "direction": "outgoing",
                  "_deepnote_index_column": 116
                },
                {
                  "country": "Turkey",
                  "year": "2002",
                  "students": 228,
                  "direction": "outgoing",
                  "_deepnote_index_column": 117
                },
                {
                  "country": "United Kingdom",
                  "year": "2002",
                  "students": 31706,
                  "direction": "outgoing",
                  "_deepnote_index_column": 118
                },
                {
                  "country": "Jamaica",
                  "year": "2002",
                  "students": 539,
                  "direction": "outgoing",
                  "_deepnote_index_column": 119
                },
                {
                  "country": "Mexico",
                  "year": "2002",
                  "students": 8775,
                  "direction": "outgoing",
                  "_deepnote_index_column": 120
                },
                {
                  "country": "Brazil",
                  "year": "2002",
                  "students": 1345,
                  "direction": "outgoing",
                  "_deepnote_index_column": 121
                },
                {
                  "country": "Colombia",
                  "year": "2002",
                  "students": 15,
                  "direction": "outgoing",
                  "_deepnote_index_column": 122
                },
                {
                  "country": "Venezuela",
                  "year": "2002",
                  "students": 57,
                  "direction": "outgoing",
                  "_deepnote_index_column": 123
                },
                {
                  "country": "Iran",
                  "year": "2002",
                  "students": 1,
                  "direction": "outgoing",
                  "_deepnote_index_column": 124
                }
              ],
              "rows_bottom": [
                {
                  "country": "Hong Kong",
                  "year": "2015",
                  "students": 1612,
                  "direction": "outgoing",
                  "_deepnote_index_column": 515
                },
                {
                  "country": "Japan",
                  "year": "2015",
                  "students": 7145,
                  "direction": "outgoing",
                  "_deepnote_index_column": 516
                },
                {
                  "country": "South Korea",
                  "year": "2015",
                  "students": 3622,
                  "direction": "outgoing",
                  "_deepnote_index_column": 517
                },
                {
                  "country": "Taiwan",
                  "year": "2015",
                  "students": 980,
                  "direction": "outgoing",
                  "_deepnote_index_column": 518
                },
                {
                  "country": "Bangladesh",
                  "year": "2015",
                  "students": 27,
                  "direction": "outgoing",
                  "_deepnote_index_column": 519
                },
                {
                  "country": "India",
                  "year": "2015",
                  "students": 4181,
                  "direction": "outgoing",
                  "_deepnote_index_column": 520
                },
                {
                  "country": "Nepal",
                  "year": "2015",
                  "students": 370,
                  "direction": "outgoing",
                  "_deepnote_index_column": 521
                },
                {
                  "country": "Pakistan",
                  "year": "2015",
                  "students": 6,
                  "direction": "outgoing",
                  "_deepnote_index_column": 522
                },
                {
                  "country": "Indonesia",
                  "year": "2015",
                  "students": 597,
                  "direction": "outgoing",
                  "_deepnote_index_column": 523
                },
                {
                  "country": "Malaysia",
                  "year": "2015",
                  "students": 279,
                  "direction": "outgoing",
                  "_deepnote_index_column": 524
                },
                {
                  "country": "Singapore",
                  "year": "2015",
                  "students": 969,
                  "direction": "outgoing",
                  "_deepnote_index_column": 525
                },
                {
                  "country": "Thailand",
                  "year": "2015",
                  "students": 2093,
                  "direction": "outgoing",
                  "_deepnote_index_column": 526
                },
                {
                  "country": "Vietnam",
                  "year": "2015",
                  "students": 1012,
                  "direction": "outgoing",
                  "_deepnote_index_column": 527
                },
                {
                  "country": "France",
                  "year": "2015",
                  "students": 17214,
                  "direction": "outgoing",
                  "_deepnote_index_column": 528
                },
                {
                  "country": "Germany",
                  "year": "2015",
                  "students": 11900,
                  "direction": "outgoing",
                  "_deepnote_index_column": 529
                },
                {
                  "country": "Russia",
                  "year": "2015",
                  "students": 1319,
                  "direction": "outgoing",
                  "_deepnote_index_column": 530
                },
                {
                  "country": "Spain",
                  "year": "2015",
                  "students": 29975,
                  "direction": "outgoing",
                  "_deepnote_index_column": 531
                },
                {
                  "country": "Sweden",
                  "year": "2015",
                  "students": 1441,
                  "direction": "outgoing",
                  "_deepnote_index_column": 532
                },
                {
                  "country": "Turkey",
                  "year": "2015",
                  "students": 705,
                  "direction": "outgoing",
                  "_deepnote_index_column": 533
                },
                {
                  "country": "United Kingdom",
                  "year": "2015",
                  "students": 39140,
                  "direction": "outgoing",
                  "_deepnote_index_column": 534
                },
                {
                  "country": "Jamaica",
                  "year": "2015",
                  "students": 1153,
                  "direction": "outgoing",
                  "_deepnote_index_column": 535
                },
                {
                  "country": "Mexico",
                  "year": "2015",
                  "students": 5178,
                  "direction": "outgoing",
                  "_deepnote_index_column": 536
                },
                {
                  "country": "Brazil",
                  "year": "2015",
                  "students": 3400,
                  "direction": "outgoing",
                  "_deepnote_index_column": 537
                },
                {
                  "country": "Colombia",
                  "year": "2015",
                  "students": 828,
                  "direction": "outgoing",
                  "_deepnote_index_column": 538
                },
                {
                  "country": "Venezuela",
                  "year": "2015",
                  "students": 23,
                  "direction": "outgoing",
                  "_deepnote_index_column": 539
                },
                {
                  "country": "Iran",
                  "year": "2015",
                  "students": 3,
                  "direction": "outgoing",
                  "_deepnote_index_column": 540
                },
                {
                  "country": "Kuwait",
                  "year": "2015",
                  "students": 23,
                  "direction": "outgoing",
                  "_deepnote_index_column": 541
                },
                {
                  "country": "Saudi Arabia",
                  "year": "2015",
                  "students": 16,
                  "direction": "outgoing",
                  "_deepnote_index_column": 542
                },
                {
                  "country": "Canada",
                  "year": "2015",
                  "students": 1716,
                  "direction": "outgoing",
                  "_deepnote_index_column": 543
                },
                {
                  "country": "Kenya",
                  "year": "2016",
                  "students": 778,
                  "direction": "outgoing",
                  "_deepnote_index_column": 544
                },
                {
                  "country": "Nigeria",
                  "year": "2016",
                  "students": 42,
                  "direction": "outgoing",
                  "_deepnote_index_column": 545
                },
                {
                  "country": "China",
                  "year": "2016",
                  "students": 11910,
                  "direction": "outgoing",
                  "_deepnote_index_column": 546
                },
                {
                  "country": "Hong Kong",
                  "year": "2016",
                  "students": 1641,
                  "direction": "outgoing",
                  "_deepnote_index_column": 547
                },
                {
                  "country": "Japan",
                  "year": "2016",
                  "students": 7531,
                  "direction": "outgoing",
                  "_deepnote_index_column": 548
                },
                {
                  "country": "South Korea",
                  "year": "2016",
                  "students": 3770,
                  "direction": "outgoing",
                  "_deepnote_index_column": 549
                },
                {
                  "country": "Taiwan",
                  "year": "2016",
                  "students": 1002,
                  "direction": "outgoing",
                  "_deepnote_index_column": 550
                },
                {
                  "country": "Bangladesh",
                  "year": "2016",
                  "students": 25,
                  "direction": "outgoing",
                  "_deepnote_index_column": 551
                },
                {
                  "country": "India",
                  "year": "2016",
                  "students": 4704,
                  "direction": "outgoing",
                  "_deepnote_index_column": 552
                },
                {
                  "country": "Nepal",
                  "year": "2016",
                  "students": 581,
                  "direction": "outgoing",
                  "_deepnote_index_column": 553
                },
                {
                  "country": "Pakistan",
                  "year": "2016",
                  "students": 6,
                  "direction": "outgoing",
                  "_deepnote_index_column": 554
                },
                {
                  "country": "Indonesia",
                  "year": "2016",
                  "students": 555,
                  "direction": "outgoing",
                  "_deepnote_index_column": 555
                },
                {
                  "country": "Malaysia",
                  "year": "2016",
                  "students": 310,
                  "direction": "outgoing",
                  "_deepnote_index_column": 556
                },
                {
                  "country": "Singapore",
                  "year": "2016",
                  "students": 1165,
                  "direction": "outgoing",
                  "_deepnote_index_column": 557
                },
                {
                  "country": "Thailand",
                  "year": "2016",
                  "students": 2763,
                  "direction": "outgoing",
                  "_deepnote_index_column": 558
                },
                {
                  "country": "Vietnam",
                  "year": "2016",
                  "students": 1147,
                  "direction": "outgoing",
                  "_deepnote_index_column": 559
                },
                {
                  "country": "France",
                  "year": "2016",
                  "students": 16462,
                  "direction": "outgoing",
                  "_deepnote_index_column": 560
                },
                {
                  "country": "Germany",
                  "year": "2016",
                  "students": 12585,
                  "direction": "outgoing",
                  "_deepnote_index_column": 561
                },
                {
                  "country": "Russia",
                  "year": "2016",
                  "students": 1499,
                  "direction": "outgoing",
                  "_deepnote_index_column": 562
                },
                {
                  "country": "Spain",
                  "year": "2016",
                  "students": 31230,
                  "direction": "outgoing",
                  "_deepnote_index_column": 563
                },
                {
                  "country": "Sweden",
                  "year": "2016",
                  "students": 1661,
                  "direction": "outgoing",
                  "_deepnote_index_column": 564
                },
                {
                  "country": "Turkey",
                  "year": "2016",
                  "students": 46,
                  "direction": "outgoing",
                  "_deepnote_index_column": 565
                },
                {
                  "country": "United Kingdom",
                  "year": "2016",
                  "students": 39851,
                  "direction": "outgoing",
                  "_deepnote_index_column": 566
                },
                {
                  "country": "Jamaica",
                  "year": "2016",
                  "students": 1171,
                  "direction": "outgoing",
                  "_deepnote_index_column": 567
                },
                {
                  "country": "Mexico",
                  "year": "2016",
                  "students": 5736,
                  "direction": "outgoing",
                  "_deepnote_index_column": 568
                },
                {
                  "country": "Brazil",
                  "year": "2016",
                  "students": 2078,
                  "direction": "outgoing",
                  "_deepnote_index_column": 569
                },
                {
                  "country": "Colombia",
                  "year": "2016",
                  "students": 911,
                  "direction": "outgoing",
                  "_deepnote_index_column": 570
                },
                {
                  "country": "Venezuela",
                  "year": "2016",
                  "students": 1,
                  "direction": "outgoing",
                  "_deepnote_index_column": 571
                },
                {
                  "country": "Iran",
                  "year": "2016",
                  "students": 1,
                  "direction": "outgoing",
                  "_deepnote_index_column": 572
                },
                {
                  "country": "Kuwait",
                  "year": "2016",
                  "students": 13,
                  "direction": "outgoing",
                  "_deepnote_index_column": 573
                },
                {
                  "country": "Saudi Arabia",
                  "year": "2016",
                  "students": 20,
                  "direction": "outgoing",
                  "_deepnote_index_column": 574
                },
                {
                  "country": "Canada",
                  "year": "2016",
                  "students": 1639,
                  "direction": "outgoing",
                  "_deepnote_index_column": 575
                },
                {
                  "country": "Kenya",
                  "year": "2017",
                  "students": 927,
                  "direction": "outgoing",
                  "_deepnote_index_column": 576
                },
                {
                  "country": "Nigeria",
                  "year": "2017",
                  "students": 34,
                  "direction": "outgoing",
                  "_deepnote_index_column": 577
                },
                {
                  "country": "China",
                  "year": "2017",
                  "students": 11613,
                  "direction": "outgoing",
                  "_deepnote_index_column": 578
                },
                {
                  "country": "Hong Kong",
                  "year": "2017",
                  "students": 1859,
                  "direction": "outgoing",
                  "_deepnote_index_column": 579
                },
                {
                  "country": "Japan",
                  "year": "2017",
                  "students": 8467,
                  "direction": "outgoing",
                  "_deepnote_index_column": 580
                },
                {
                  "country": "South Korea",
                  "year": "2017",
                  "students": 3929,
                  "direction": "outgoing",
                  "_deepnote_index_column": 581
                },
                {
                  "country": "Taiwan",
                  "year": "2017",
                  "students": 857,
                  "direction": "outgoing",
                  "_deepnote_index_column": 582
                },
                {
                  "country": "Bangladesh",
                  "year": "2017",
                  "students": 43,
                  "direction": "outgoing",
                  "_deepnote_index_column": 583
                },
                {
                  "country": "India",
                  "year": "2017",
                  "students": 3986,
                  "direction": "outgoing",
                  "_deepnote_index_column": 584
                },
                {
                  "country": "Nepal",
                  "year": "2017",
                  "students": 566,
                  "direction": "outgoing",
                  "_deepnote_index_column": 585
                },
                {
                  "country": "Pakistan",
                  "year": "2017",
                  "students": 5,
                  "direction": "outgoing",
                  "_deepnote_index_column": 586
                },
                {
                  "country": "Indonesia",
                  "year": "2017",
                  "students": 825,
                  "direction": "outgoing",
                  "_deepnote_index_column": 587
                },
                {
                  "country": "Malaysia",
                  "year": "2017",
                  "students": 153,
                  "direction": "outgoing",
                  "_deepnote_index_column": 588
                },
                {
                  "country": "Singapore",
                  "year": "2017",
                  "students": 1121,
                  "direction": "outgoing",
                  "_deepnote_index_column": 589
                },
                {
                  "country": "Thailand",
                  "year": "2017",
                  "students": 2482,
                  "direction": "outgoing",
                  "_deepnote_index_column": 590
                },
                {
                  "country": "Vietnam",
                  "year": "2017",
                  "students": 1228,
                  "direction": "outgoing",
                  "_deepnote_index_column": 591
                },
                {
                  "country": "France",
                  "year": "2017",
                  "students": 17185,
                  "direction": "outgoing",
                  "_deepnote_index_column": 592
                },
                {
                  "country": "Germany",
                  "year": "2017",
                  "students": 12250,
                  "direction": "outgoing",
                  "_deepnote_index_column": 593
                },
                {
                  "country": "Russia",
                  "year": "2017",
                  "students": 1321,
                  "direction": "outgoing",
                  "_deepnote_index_column": 594
                },
                {
                  "country": "Spain",
                  "year": "2017",
                  "students": 32411,
                  "direction": "outgoing",
                  "_deepnote_index_column": 595
                },
                {
                  "country": "Sweden",
                  "year": "2017",
                  "students": 1830,
                  "direction": "outgoing",
                  "_deepnote_index_column": 596
                },
                {
                  "country": "Turkey",
                  "year": "2017",
                  "students": 78,
                  "direction": "outgoing",
                  "_deepnote_index_column": 597
                },
                {
                  "country": "United Kingdom",
                  "year": "2017",
                  "students": 39403,
                  "direction": "outgoing",
                  "_deepnote_index_column": 598
                },
                {
                  "country": "Jamaica",
                  "year": "2017",
                  "students": 1140,
                  "direction": "outgoing",
                  "_deepnote_index_column": 599
                },
                {
                  "country": "Mexico",
                  "year": "2017",
                  "students": 5963,
                  "direction": "outgoing",
                  "_deepnote_index_column": 600
                },
                {
                  "country": "Brazil",
                  "year": "2017",
                  "students": 2699,
                  "direction": "outgoing",
                  "_deepnote_index_column": 601
                },
                {
                  "country": "Colombia",
                  "year": "2017",
                  "students": 905,
                  "direction": "outgoing",
                  "_deepnote_index_column": 602
                },
                {
                  "country": "Venezuela",
                  "year": "2017",
                  "students": 10,
                  "direction": "outgoing",
                  "_deepnote_index_column": 603
                },
                {
                  "country": "Iran",
                  "year": "2017",
                  "students": 2,
                  "direction": "outgoing",
                  "_deepnote_index_column": 604
                },
                {
                  "country": "Kuwait",
                  "year": "2017",
                  "students": 0,
                  "direction": "outgoing",
                  "_deepnote_index_column": 605
                },
                {
                  "country": "Saudi Arabia",
                  "year": "2017",
                  "students": 8,
                  "direction": "outgoing",
                  "_deepnote_index_column": 606
                },
                {
                  "country": "Canada",
                  "year": "2017",
                  "students": 1786,
                  "direction": "outgoing",
                  "_deepnote_index_column": 607
                },
                {
                  "country": "Kenya",
                  "year": "2018",
                  "students": 926,
                  "direction": "outgoing",
                  "_deepnote_index_column": 608
                },
                {
                  "country": "Nigeria",
                  "year": "2018",
                  "students": 38,
                  "direction": "outgoing",
                  "_deepnote_index_column": 609
                },
                {
                  "country": "China",
                  "year": "2018",
                  "students": 11639,
                  "direction": "outgoing",
                  "_deepnote_index_column": 610
                },
                {
                  "country": "Hong Kong",
                  "year": "2018",
                  "students": 2314,
                  "direction": "outgoing",
                  "_deepnote_index_column": 611
                },
                {
                  "country": "Japan",
                  "year": "2018",
                  "students": 8928,
                  "direction": "outgoing",
                  "_deepnote_index_column": 612
                },
                {
                  "country": "South Korea",
                  "year": "2018",
                  "students": 4558,
                  "direction": "outgoing",
                  "_deepnote_index_column": 613
                },
                {
                  "country": "Taiwan",
                  "year": "2018",
                  "students": 1270,
                  "direction": "outgoing",
                  "_deepnote_index_column": 614
                },
                {
                  "country": "Bangladesh",
                  "year": "2018",
                  "students": 45,
                  "direction": "outgoing",
                  "_deepnote_index_column": 615
                },
                {
                  "country": "India",
                  "year": "2018",
                  "students": 3366,
                  "direction": "outgoing",
                  "_deepnote_index_column": 616
                },
                {
                  "country": "Nepal",
                  "year": "2018",
                  "students": 647,
                  "direction": "outgoing",
                  "_deepnote_index_column": 617
                },
                {
                  "country": "Pakistan",
                  "year": "2018",
                  "students": 7,
                  "direction": "outgoing",
                  "_deepnote_index_column": 618
                },
                {
                  "country": "Indonesia",
                  "year": "2018",
                  "students": 677,
                  "direction": "outgoing",
                  "_deepnote_index_column": 619
                },
                {
                  "country": "Malaysia",
                  "year": "2018",
                  "students": 241,
                  "direction": "outgoing",
                  "_deepnote_index_column": 620
                },
                {
                  "country": "Singapore",
                  "year": "2018",
                  "students": 1434,
                  "direction": "outgoing",
                  "_deepnote_index_column": 621
                },
                {
                  "country": "Thailand",
                  "year": "2018",
                  "students": 2859,
                  "direction": "outgoing",
                  "_deepnote_index_column": 622
                },
                {
                  "country": "Vietnam",
                  "year": "2018",
                  "students": 1235,
                  "direction": "outgoing",
                  "_deepnote_index_column": 623
                },
                {
                  "country": "France",
                  "year": "2018",
                  "students": 18465,
                  "direction": "outgoing",
                  "_deepnote_index_column": 624
                },
                {
                  "country": "Germany",
                  "year": "2018",
                  "students": 12029,
                  "direction": "outgoing",
                  "_deepnote_index_column": 625
                },
                {
                  "country": "Russia",
                  "year": "2018",
                  "students": 1305,
                  "direction": "outgoing",
                  "_deepnote_index_column": 626
                },
                {
                  "country": "Spain",
                  "year": "2018",
                  "students": 33849,
                  "direction": "outgoing",
                  "_deepnote_index_column": 627
                },
                {
                  "country": "Sweden",
                  "year": "2018",
                  "students": 1896,
                  "direction": "outgoing",
                  "_deepnote_index_column": 628
                },
                {
                  "country": "Turkey",
                  "year": "2018",
                  "students": 143,
                  "direction": "outgoing",
                  "_deepnote_index_column": 629
                },
                {
                  "country": "United Kingdom",
                  "year": "2018",
                  "students": 39358,
                  "direction": "outgoing",
                  "_deepnote_index_column": 630
                },
                {
                  "country": "Jamaica",
                  "year": "2018",
                  "students": 1040,
                  "direction": "outgoing",
                  "_deepnote_index_column": 631
                },
                {
                  "country": "Mexico",
                  "year": "2018",
                  "students": 6340,
                  "direction": "outgoing",
                  "_deepnote_index_column": 632
                },
                {
                  "country": "Brazil",
                  "year": "2018",
                  "students": 2269,
                  "direction": "outgoing",
                  "_deepnote_index_column": 633
                },
                {
                  "country": "Colombia",
                  "year": "2018",
                  "students": 1030,
                  "direction": "outgoing",
                  "_deepnote_index_column": 634
                },
                {
                  "country": "Venezuela",
                  "year": "2018",
                  "students": 1,
                  "direction": "outgoing",
                  "_deepnote_index_column": 635
                },
                {
                  "country": "Iran",
                  "year": "2018",
                  "students": 28,
                  "direction": "outgoing",
                  "_deepnote_index_column": 636
                },
                {
                  "country": "Kuwait",
                  "year": "2018",
                  "students": 5,
                  "direction": "outgoing",
                  "_deepnote_index_column": 637
                },
                {
                  "country": "Saudi Arabia",
                  "year": "2018",
                  "students": 4,
                  "direction": "outgoing",
                  "_deepnote_index_column": 638
                },
                {
                  "country": "Canada",
                  "year": "2018",
                  "students": 2107,
                  "direction": "outgoing",
                  "_deepnote_index_column": 639
                }
              ]
            },
            "text/plain": "          country  year  students direction\n0           Kenya  1999       695  outgoing\n1         Nigeria  1999        26  outgoing\n2           China  1999      2949  outgoing\n3       Hong Kong  1999       342  outgoing\n4           Japan  1999      2679  outgoing\n..            ...   ...       ...       ...\n635     Venezuela  2018         1  outgoing\n636          Iran  2018        28  outgoing\n637        Kuwait  2018         5  outgoing\n638  Saudi Arabia  2018         4  outgoing\n639        Canada  2018      2107  outgoing\n\n[640 rows x 4 columns]",
            "text/html": "<div>\n<style scoped>\n    .dataframe tbody tr th:only-of-type {\n        vertical-align: middle;\n    }\n\n    .dataframe tbody tr th {\n        vertical-align: top;\n    }\n\n    .dataframe thead th {\n        text-align: right;\n    }\n</style>\n<table border=\"1\" class=\"dataframe\">\n  <thead>\n    <tr style=\"text-align: right;\">\n      <th></th>\n      <th>country</th>\n      <th>year</th>\n      <th>students</th>\n      <th>direction</th>\n    </tr>\n  </thead>\n  <tbody>\n    <tr>\n      <th>0</th>\n      <td>Kenya</td>\n      <td>1999</td>\n      <td>695</td>\n      <td>outgoing</td>\n    </tr>\n    <tr>\n      <th>1</th>\n      <td>Nigeria</td>\n      <td>1999</td>\n      <td>26</td>\n      <td>outgoing</td>\n    </tr>\n    <tr>\n      <th>2</th>\n      <td>China</td>\n      <td>1999</td>\n      <td>2949</td>\n      <td>outgoing</td>\n    </tr>\n    <tr>\n      <th>3</th>\n      <td>Hong Kong</td>\n      <td>1999</td>\n      <td>342</td>\n      <td>outgoing</td>\n    </tr>\n    <tr>\n      <th>4</th>\n      <td>Japan</td>\n      <td>1999</td>\n      <td>2679</td>\n      <td>outgoing</td>\n    </tr>\n    <tr>\n      <th>...</th>\n      <td>...</td>\n      <td>...</td>\n      <td>...</td>\n      <td>...</td>\n    </tr>\n    <tr>\n      <th>635</th>\n      <td>Venezuela</td>\n      <td>2018</td>\n      <td>1</td>\n      <td>outgoing</td>\n    </tr>\n    <tr>\n      <th>636</th>\n      <td>Iran</td>\n      <td>2018</td>\n      <td>28</td>\n      <td>outgoing</td>\n    </tr>\n    <tr>\n      <th>637</th>\n      <td>Kuwait</td>\n      <td>2018</td>\n      <td>5</td>\n      <td>outgoing</td>\n    </tr>\n    <tr>\n      <th>638</th>\n      <td>Saudi Arabia</td>\n      <td>2018</td>\n      <td>4</td>\n      <td>outgoing</td>\n    </tr>\n    <tr>\n      <th>639</th>\n      <td>Canada</td>\n      <td>2018</td>\n      <td>2107</td>\n      <td>outgoing</td>\n    </tr>\n  </tbody>\n</table>\n<p>640 rows × 4 columns</p>\n</div>"
          },
          "metadata": {}
        }
      ]
    },
    {
      "cell_type": "code",
      "metadata": {
        "tags": [],
        "cell_id": "00029-a7c0c66d-4066-441f-aff4-ebc5dbb188ef",
        "deepnote_to_be_reexecuted": false,
        "source_hash": "c85c0cf2",
        "execution_millis": 0,
        "execution_start": 1618145837662,
        "deepnote_cell_type": "code"
      },
      "source": "# merge the 32 countries for both\ndw_in_out = pd.concat([dw_in, dw_out], ignore_index=True, sort=False)",
      "execution_count": 331,
      "outputs": []
    },
    {
      "cell_type": "code",
      "metadata": {
        "tags": [],
        "cell_id": "00030-4ab687b1-af89-4296-b8a9-f2ede8696520",
        "deepnote_to_be_reexecuted": false,
        "source_hash": "af609c1f",
        "execution_start": 1618106124663,
        "execution_millis": 75,
        "deepnote_cell_type": "code"
      },
      "source": "dw_in_out",
      "execution_count": 145,
      "outputs": [
        {
          "output_type": "execute_result",
          "execution_count": 145,
          "data": {
            "application/vnd.deepnote.dataframe.v2+json": {
              "row_count": 1140,
              "column_count": 6,
              "columns": [
                {
                  "name": "country",
                  "dtype": "object",
                  "stats": {
                    "unique_count": 32,
                    "nan_count": 0,
                    "categories": [
                      {
                        "name": "Colombia",
                        "count": 41
                      },
                      {
                        "name": "China",
                        "count": 40
                      },
                      {
                        "name": "30 others",
                        "count": 1059
                      }
                    ]
                  }
                },
                {
                  "name": "intStdnts",
                  "dtype": "float64",
                  "stats": {
                    "unique_count": 495,
                    "nan_count": 640,
                    "min": 3769,
                    "max": 372532,
                    "histogram": [
                      {
                        "bin_start": 3769,
                        "bin_end": 40645.3,
                        "count": 429
                      },
                      {
                        "bin_start": 40645.3,
                        "bin_end": 77521.6,
                        "count": 42
                      },
                      {
                        "bin_start": 77521.6,
                        "bin_end": 114397.90000000001,
                        "count": 12
                      },
                      {
                        "bin_start": 114397.90000000001,
                        "bin_end": 151274.2,
                        "count": 2
                      },
                      {
                        "bin_start": 151274.2,
                        "bin_end": 188150.5,
                        "count": 3
                      },
                      {
                        "bin_start": 188150.5,
                        "bin_end": 225026.80000000002,
                        "count": 4
                      },
                      {
                        "bin_start": 225026.80000000002,
                        "bin_end": 261903.10000000003,
                        "count": 1
                      },
                      {
                        "bin_start": 261903.10000000003,
                        "bin_end": 298779.4,
                        "count": 1
                      },
                      {
                        "bin_start": 298779.4,
                        "bin_end": 335655.7,
                        "count": 2
                      },
                      {
                        "bin_start": 335655.7,
                        "bin_end": 372532,
                        "count": 4
                      }
                    ]
                  }
                },
                {
                  "name": "percTotal",
                  "dtype": "float64",
                  "stats": {
                    "unique_count": 102,
                    "nan_count": 640,
                    "min": 0.006,
                    "max": 0.34600000000000003,
                    "histogram": [
                      {
                        "bin_start": 0.006,
                        "bin_end": 0.04,
                        "count": 405
                      },
                      {
                        "bin_start": 0.04,
                        "bin_end": 0.07400000000000001,
                        "count": 37
                      },
                      {
                        "bin_start": 0.07400000000000001,
                        "bin_end": 0.10800000000000001,
                        "count": 17
                      },
                      {
                        "bin_start": 0.10800000000000001,
                        "bin_end": 0.14200000000000002,
                        "count": 19
                      },
                      {
                        "bin_start": 0.14200000000000002,
                        "bin_end": 0.17600000000000002,
                        "count": 8
                      },
                      {
                        "bin_start": 0.17600000000000002,
                        "bin_end": 0.21000000000000002,
                        "count": 4
                      },
                      {
                        "bin_start": 0.21000000000000002,
                        "bin_end": 0.24400000000000002,
                        "count": 1
                      },
                      {
                        "bin_start": 0.24400000000000002,
                        "bin_end": 0.278,
                        "count": 1
                      },
                      {
                        "bin_start": 0.278,
                        "bin_end": 0.31200000000000006,
                        "count": 3
                      },
                      {
                        "bin_start": 0.31200000000000006,
                        "bin_end": 0.34600000000000003,
                        "count": 5
                      }
                    ]
                  }
                },
                {
                  "name": "year",
                  "dtype": "object",
                  "stats": {
                    "unique_count": 40,
                    "nan_count": 0,
                    "categories": [
                      {
                        "name": "2000",
                        "count": 57
                      },
                      {
                        "name": "2001",
                        "count": 57
                      },
                      {
                        "name": "19 others",
                        "count": 1026
                      }
                    ]
                  }
                },
                {
                  "name": "direction",
                  "dtype": "object",
                  "stats": {
                    "unique_count": 2,
                    "nan_count": 0,
                    "categories": [
                      {
                        "name": "outgoing",
                        "count": 640
                      },
                      {
                        "name": "incoming",
                        "count": 500
                      }
                    ]
                  }
                },
                {
                  "name": "students",
                  "dtype": "float64",
                  "stats": {
                    "unique_count": 1011,
                    "nan_count": 0,
                    "min": 0,
                    "max": 372532,
                    "histogram": [
                      {
                        "bin_start": 0,
                        "bin_end": 37253.2,
                        "count": 1062
                      },
                      {
                        "bin_start": 37253.2,
                        "bin_end": 74506.4,
                        "count": 46
                      },
                      {
                        "bin_start": 74506.4,
                        "bin_end": 111759.59999999999,
                        "count": 15
                      },
                      {
                        "bin_start": 111759.59999999999,
                        "bin_end": 149012.8,
                        "count": 2
                      },
                      {
                        "bin_start": 149012.8,
                        "bin_end": 186266,
                        "count": 2
                      },
                      {
                        "bin_start": 186266,
                        "bin_end": 223519.19999999998,
                        "count": 5
                      },
                      {
                        "bin_start": 223519.19999999998,
                        "bin_end": 260772.39999999997,
                        "count": 1
                      },
                      {
                        "bin_start": 260772.39999999997,
                        "bin_end": 298025.6,
                        "count": 1
                      },
                      {
                        "bin_start": 298025.6,
                        "bin_end": 335278.8,
                        "count": 2
                      },
                      {
                        "bin_start": 335278.8,
                        "bin_end": 372532,
                        "count": 4
                      }
                    ]
                  }
                },
                {
                  "name": "_deepnote_index_column",
                  "dtype": "int64"
                }
              ],
              "rows_top": [
                {
                  "country": "China",
                  "intStdnts": 59939,
                  "percTotal": 0.109,
                  "year": 2000,
                  "direction": "incoming",
                  "students": 59939,
                  "_deepnote_index_column": 0
                },
                {
                  "country": "India",
                  "intStdnts": 54664,
                  "percTotal": 0.1,
                  "year": 2000,
                  "direction": "incoming",
                  "students": 54664,
                  "_deepnote_index_column": 1
                },
                {
                  "country": "Japan",
                  "intStdnts": 46497,
                  "percTotal": 0.085,
                  "year": 2000,
                  "direction": "incoming",
                  "students": 46497,
                  "_deepnote_index_column": 2
                },
                {
                  "country": "South Korea",
                  "intStdnts": 45685,
                  "percTotal": 0.083,
                  "year": 2000,
                  "direction": "incoming",
                  "students": 45685,
                  "_deepnote_index_column": 3
                },
                {
                  "country": "Taiwan",
                  "intStdnts": 28566,
                  "percTotal": 0.052000000000000005,
                  "year": 2000,
                  "direction": "incoming",
                  "students": 28566,
                  "_deepnote_index_column": 4
                },
                {
                  "country": "Canada",
                  "intStdnts": 25279,
                  "percTotal": 0.046,
                  "year": 2000,
                  "direction": "incoming",
                  "students": 25279,
                  "_deepnote_index_column": 5
                },
                {
                  "country": "Indonesia",
                  "intStdnts": 11625,
                  "percTotal": 0.021,
                  "year": 2000,
                  "direction": "incoming",
                  "students": 11625,
                  "_deepnote_index_column": 6
                },
                {
                  "country": "Thailand",
                  "intStdnts": 11187,
                  "percTotal": 0.02,
                  "year": 2000,
                  "direction": "incoming",
                  "students": 11187,
                  "_deepnote_index_column": 7
                },
                {
                  "country": "Turkey",
                  "intStdnts": 10983,
                  "percTotal": 0.02,
                  "year": 2000,
                  "direction": "incoming",
                  "students": 10983,
                  "_deepnote_index_column": 8
                },
                {
                  "country": "Mexico",
                  "intStdnts": 10670,
                  "percTotal": 0.019,
                  "year": 2000,
                  "direction": "incoming",
                  "students": 10670,
                  "_deepnote_index_column": 9
                },
                {
                  "country": "Germany",
                  "intStdnts": 10128,
                  "percTotal": 0.018000000000000002,
                  "year": 2000,
                  "direction": "incoming",
                  "students": 10128,
                  "_deepnote_index_column": 10
                },
                {
                  "country": "Brazil",
                  "intStdnts": 8846,
                  "percTotal": 0.016,
                  "year": 2000,
                  "direction": "incoming",
                  "students": 8846,
                  "_deepnote_index_column": 11
                },
                {
                  "country": "United Kingdom",
                  "intStdnts": 8139,
                  "percTotal": 0.015,
                  "year": 2000,
                  "direction": "incoming",
                  "students": 8139,
                  "_deepnote_index_column": 12
                },
                {
                  "country": "Malaysia",
                  "intStdnts": 7795,
                  "percTotal": 0.013999999999999999,
                  "year": 2000,
                  "direction": "incoming",
                  "students": 7795,
                  "_deepnote_index_column": 13
                },
                {
                  "country": "Hong Kong",
                  "intStdnts": 7627,
                  "percTotal": 0.013999999999999999,
                  "year": 2000,
                  "direction": "incoming",
                  "students": 7627,
                  "_deepnote_index_column": 14
                },
                {
                  "country": "France",
                  "intStdnts": 7273,
                  "percTotal": 0.013000000000000001,
                  "year": 2000,
                  "direction": "incoming",
                  "students": 7273,
                  "_deepnote_index_column": 15
                },
                {
                  "country": "Pakistan",
                  "intStdnts": 6948,
                  "percTotal": 0.013000000000000001,
                  "year": 2000,
                  "direction": "incoming",
                  "students": 6948,
                  "_deepnote_index_column": 16
                },
                {
                  "country": "Russia",
                  "intStdnts": 6858,
                  "percTotal": 0.013000000000000001,
                  "year": 2000,
                  "direction": "incoming",
                  "students": 6858,
                  "_deepnote_index_column": 17
                },
                {
                  "country": "Colombia",
                  "intStdnts": 6765,
                  "percTotal": 0.012,
                  "year": 2000,
                  "direction": "incoming",
                  "students": 6765,
                  "_deepnote_index_column": 18
                },
                {
                  "country": "Kenya",
                  "intStdnts": 6229,
                  "percTotal": 0.011000000000000001,
                  "year": 2000,
                  "direction": "incoming",
                  "students": 6229,
                  "_deepnote_index_column": 19
                },
                {
                  "country": "Saudi Arabia",
                  "intStdnts": 5273,
                  "percTotal": 0.01,
                  "year": 2000,
                  "direction": "incoming",
                  "students": 5273,
                  "_deepnote_index_column": 20
                },
                {
                  "country": "Venezuela",
                  "intStdnts": 5217,
                  "percTotal": 0.01,
                  "year": 2000,
                  "direction": "incoming",
                  "students": 5217,
                  "_deepnote_index_column": 21
                },
                {
                  "country": "Sweden",
                  "intStdnts": 4598,
                  "percTotal": 0.008,
                  "year": 2000,
                  "direction": "incoming",
                  "students": 4598,
                  "_deepnote_index_column": 22
                },
                {
                  "country": "Jamaica",
                  "intStdnts": 4225,
                  "percTotal": 0.008,
                  "year": 2000,
                  "direction": "incoming",
                  "students": 4225,
                  "_deepnote_index_column": 23
                },
                {
                  "country": "Singapore",
                  "intStdnts": 4166,
                  "percTotal": 0.008,
                  "year": 2000,
                  "direction": "incoming",
                  "students": 4166,
                  "_deepnote_index_column": 24
                },
                {
                  "country": "India",
                  "intStdnts": 66836,
                  "percTotal": 0.115,
                  "year": 2001,
                  "direction": "incoming",
                  "students": 66836,
                  "_deepnote_index_column": 25
                },
                {
                  "country": "China",
                  "intStdnts": 63211,
                  "percTotal": 0.10800000000000001,
                  "year": 2001,
                  "direction": "incoming",
                  "students": 63211,
                  "_deepnote_index_column": 26
                },
                {
                  "country": "South Korea",
                  "intStdnts": 49046,
                  "percTotal": 0.084,
                  "year": 2001,
                  "direction": "incoming",
                  "students": 49046,
                  "_deepnote_index_column": 27
                },
                {
                  "country": "Japan",
                  "intStdnts": 46810,
                  "percTotal": 0.08,
                  "year": 2001,
                  "direction": "incoming",
                  "students": 46810,
                  "_deepnote_index_column": 28
                },
                {
                  "country": "Taiwan",
                  "intStdnts": 28930,
                  "percTotal": 0.05,
                  "year": 2001,
                  "direction": "incoming",
                  "students": 28930,
                  "_deepnote_index_column": 29
                },
                {
                  "country": "Canada",
                  "intStdnts": 26514,
                  "percTotal": 0.045,
                  "year": 2001,
                  "direction": "incoming",
                  "students": 26514,
                  "_deepnote_index_column": 30
                },
                {
                  "country": "Mexico",
                  "intStdnts": 12518,
                  "percTotal": 0.021,
                  "year": 2001,
                  "direction": "incoming",
                  "students": 12518,
                  "_deepnote_index_column": 31
                },
                {
                  "country": "Turkey",
                  "intStdnts": 12091,
                  "percTotal": 0.021,
                  "year": 2001,
                  "direction": "incoming",
                  "students": 12091,
                  "_deepnote_index_column": 32
                },
                {
                  "country": "Indonesia",
                  "intStdnts": 11614,
                  "percTotal": 0.02,
                  "year": 2001,
                  "direction": "incoming",
                  "students": 11614,
                  "_deepnote_index_column": 33
                },
                {
                  "country": "Thailand",
                  "intStdnts": 11606,
                  "percTotal": 0.02,
                  "year": 2001,
                  "direction": "incoming",
                  "students": 11606,
                  "_deepnote_index_column": 34
                },
                {
                  "country": "Germany",
                  "intStdnts": 9613,
                  "percTotal": 0.016,
                  "year": 2001,
                  "direction": "incoming",
                  "students": 9613,
                  "_deepnote_index_column": 35
                },
                {
                  "country": "Brazil",
                  "intStdnts": 8972,
                  "percTotal": 0.015,
                  "year": 2001,
                  "direction": "incoming",
                  "students": 8972,
                  "_deepnote_index_column": 36
                },
                {
                  "country": "Pakistan",
                  "intStdnts": 8644,
                  "percTotal": 0.015,
                  "year": 2001,
                  "direction": "incoming",
                  "students": 8644,
                  "_deepnote_index_column": 37
                },
                {
                  "country": "United Kingdom",
                  "intStdnts": 8414,
                  "percTotal": 0.013999999999999999,
                  "year": 2001,
                  "direction": "incoming",
                  "students": 8414,
                  "_deepnote_index_column": 38
                },
                {
                  "country": "Colombia",
                  "intStdnts": 8068,
                  "percTotal": 0.013999999999999999,
                  "year": 2001,
                  "direction": "incoming",
                  "students": 8068,
                  "_deepnote_index_column": 39
                },
                {
                  "country": "Colombia",
                  "intStdnts": 8068,
                  "percTotal": 0.013999999999999999,
                  "year": 2001,
                  "direction": "incoming",
                  "students": 8068,
                  "_deepnote_index_column": 40
                },
                {
                  "country": "Hong Kong",
                  "intStdnts": 7757,
                  "percTotal": 0.013000000000000001,
                  "year": 2001,
                  "direction": "incoming",
                  "students": 7757,
                  "_deepnote_index_column": 41
                },
                {
                  "country": "France",
                  "intStdnts": 7401,
                  "percTotal": 0.013000000000000001,
                  "year": 2001,
                  "direction": "incoming",
                  "students": 7401,
                  "_deepnote_index_column": 42
                },
                {
                  "country": "Malaysia",
                  "intStdnts": 7395,
                  "percTotal": 0.013000000000000001,
                  "year": 2001,
                  "direction": "incoming",
                  "students": 7395,
                  "_deepnote_index_column": 43
                },
                {
                  "country": "Kenya",
                  "intStdnts": 7097,
                  "percTotal": 0.012,
                  "year": 2001,
                  "direction": "incoming",
                  "students": 7097,
                  "_deepnote_index_column": 44
                },
                {
                  "country": "Russia",
                  "intStdnts": 6643,
                  "percTotal": 0.011000000000000001,
                  "year": 2001,
                  "direction": "incoming",
                  "students": 6643,
                  "_deepnote_index_column": 45
                },
                {
                  "country": "Venezuela",
                  "intStdnts": 5627,
                  "percTotal": 0.01,
                  "year": 2001,
                  "direction": "incoming",
                  "students": 5627,
                  "_deepnote_index_column": 46
                },
                {
                  "country": "Saudi Arabia",
                  "intStdnts": 5579,
                  "percTotal": 0.01,
                  "year": 2001,
                  "direction": "incoming",
                  "students": 5579,
                  "_deepnote_index_column": 47
                },
                {
                  "country": "Nigeria",
                  "intStdnts": 4499,
                  "percTotal": 0.008,
                  "year": 2001,
                  "direction": "incoming",
                  "students": 4499,
                  "_deepnote_index_column": 48
                },
                {
                  "country": "Jamaica",
                  "intStdnts": 4286,
                  "percTotal": 0.006999999999999999,
                  "year": 2001,
                  "direction": "incoming",
                  "students": 4286,
                  "_deepnote_index_column": 49
                },
                {
                  "country": "India",
                  "intStdnts": 74603,
                  "percTotal": 0.127,
                  "year": 2002,
                  "direction": "incoming",
                  "students": 74603,
                  "_deepnote_index_column": 50
                },
                {
                  "country": "China",
                  "intStdnts": 64757,
                  "percTotal": 0.11,
                  "year": 2002,
                  "direction": "incoming",
                  "students": 64757,
                  "_deepnote_index_column": 51
                },
                {
                  "country": "South Korea",
                  "intStdnts": 51519,
                  "percTotal": 0.08800000000000001,
                  "year": 2002,
                  "direction": "incoming",
                  "students": 51519,
                  "_deepnote_index_column": 52
                },
                {
                  "country": "Japan",
                  "intStdnts": 45960,
                  "percTotal": 0.078,
                  "year": 2002,
                  "direction": "incoming",
                  "students": 45960,
                  "_deepnote_index_column": 53
                },
                {
                  "country": "Taiwan",
                  "intStdnts": 28017,
                  "percTotal": 0.048,
                  "year": 2002,
                  "direction": "incoming",
                  "students": 28017,
                  "_deepnote_index_column": 54
                },
                {
                  "country": "Canada",
                  "intStdnts": 26513,
                  "percTotal": 0.045,
                  "year": 2002,
                  "direction": "incoming",
                  "students": 26513,
                  "_deepnote_index_column": 55
                },
                {
                  "country": "Mexico",
                  "intStdnts": 12801,
                  "percTotal": 0.022000000000000002,
                  "year": 2002,
                  "direction": "incoming",
                  "students": 12801,
                  "_deepnote_index_column": 56
                },
                {
                  "country": "Turkey",
                  "intStdnts": 11601,
                  "percTotal": 0.02,
                  "year": 2002,
                  "direction": "incoming",
                  "students": 11601,
                  "_deepnote_index_column": 57
                },
                {
                  "country": "Indonesia",
                  "intStdnts": 10432,
                  "percTotal": 0.018000000000000002,
                  "year": 2002,
                  "direction": "incoming",
                  "students": 10432,
                  "_deepnote_index_column": 58
                },
                {
                  "country": "Thailand",
                  "intStdnts": 9982,
                  "percTotal": 0.017,
                  "year": 2002,
                  "direction": "incoming",
                  "students": 9982,
                  "_deepnote_index_column": 59
                },
                {
                  "country": "Germany",
                  "intStdnts": 9302,
                  "percTotal": 0.016,
                  "year": 2002,
                  "direction": "incoming",
                  "students": 9302,
                  "_deepnote_index_column": 60
                },
                {
                  "country": "Brazil",
                  "intStdnts": 8388,
                  "percTotal": 0.013999999999999999,
                  "year": 2002,
                  "direction": "incoming",
                  "students": 8388,
                  "_deepnote_index_column": 61
                },
                {
                  "country": "United Kingdom",
                  "intStdnts": 8326,
                  "percTotal": 0.013999999999999999,
                  "year": 2002,
                  "direction": "incoming",
                  "students": 8326,
                  "_deepnote_index_column": 62
                },
                {
                  "country": "Pakistan",
                  "intStdnts": 8123,
                  "percTotal": 0.013999999999999999,
                  "year": 2002,
                  "direction": "incoming",
                  "students": 8123,
                  "_deepnote_index_column": 63
                },
                {
                  "country": "Hong Kong",
                  "intStdnts": 8076,
                  "percTotal": 0.013999999999999999,
                  "year": 2002,
                  "direction": "incoming",
                  "students": 8076,
                  "_deepnote_index_column": 64
                },
                {
                  "country": "Kenya",
                  "intStdnts": 7862,
                  "percTotal": 0.013000000000000001,
                  "year": 2002,
                  "direction": "incoming",
                  "students": 7862,
                  "_deepnote_index_column": 65
                },
                {
                  "country": "Colombia",
                  "intStdnts": 7771,
                  "percTotal": 0.013000000000000001,
                  "year": 2002,
                  "direction": "incoming",
                  "students": 7771,
                  "_deepnote_index_column": 66
                },
                {
                  "country": "France",
                  "intStdnts": 7223,
                  "percTotal": 0.012,
                  "year": 2002,
                  "direction": "incoming",
                  "students": 7223,
                  "_deepnote_index_column": 67
                },
                {
                  "country": "Malaysia",
                  "intStdnts": 6595,
                  "percTotal": 0.011000000000000001,
                  "year": 2002,
                  "direction": "incoming",
                  "students": 6595,
                  "_deepnote_index_column": 68
                },
                {
                  "country": "Russia",
                  "intStdnts": 6238,
                  "percTotal": 0.011000000000000001,
                  "year": 2002,
                  "direction": "incoming",
                  "students": 6238,
                  "_deepnote_index_column": 69
                },
                {
                  "country": "Nigeria",
                  "intStdnts": 5816,
                  "percTotal": 0.01,
                  "year": 2002,
                  "direction": "incoming",
                  "students": 5816,
                  "_deepnote_index_column": 70
                },
                {
                  "country": "Venezuela",
                  "intStdnts": 5333,
                  "percTotal": 0.009000000000000001,
                  "year": 2002,
                  "direction": "incoming",
                  "students": 5333,
                  "_deepnote_index_column": 71
                },
                {
                  "country": "Jamaica",
                  "intStdnts": 4723,
                  "percTotal": 0.008,
                  "year": 2002,
                  "direction": "incoming",
                  "students": 4723,
                  "_deepnote_index_column": 72
                },
                {
                  "country": "Singapore",
                  "intStdnts": 4189,
                  "percTotal": 0.006999999999999999,
                  "year": 2002,
                  "direction": "incoming",
                  "students": 4189,
                  "_deepnote_index_column": 73
                },
                {
                  "country": "Saudi Arabia",
                  "intStdnts": 4175,
                  "percTotal": 0.006999999999999999,
                  "year": 2002,
                  "direction": "incoming",
                  "students": 4175,
                  "_deepnote_index_column": 74
                },
                {
                  "country": "India",
                  "intStdnts": 79736,
                  "percTotal": 0.139,
                  "year": 2003,
                  "direction": "incoming",
                  "students": 79736,
                  "_deepnote_index_column": 75
                },
                {
                  "country": "China",
                  "intStdnts": 61765,
                  "percTotal": 0.10800000000000001,
                  "year": 2003,
                  "direction": "incoming",
                  "students": 61765,
                  "_deepnote_index_column": 76
                },
                {
                  "country": "South Korea",
                  "intStdnts": 52484,
                  "percTotal": 0.092,
                  "year": 2003,
                  "direction": "incoming",
                  "students": 52484,
                  "_deepnote_index_column": 77
                },
                {
                  "country": "Japan",
                  "intStdnts": 40835,
                  "percTotal": 0.071,
                  "year": 2003,
                  "direction": "incoming",
                  "students": 40835,
                  "_deepnote_index_column": 78
                },
                {
                  "country": "Canada",
                  "intStdnts": 27017,
                  "percTotal": 0.047,
                  "year": 2003,
                  "direction": "incoming",
                  "students": 27017,
                  "_deepnote_index_column": 79
                },
                {
                  "country": "Taiwan",
                  "intStdnts": 26178,
                  "percTotal": 0.046,
                  "year": 2003,
                  "direction": "incoming",
                  "students": 26178,
                  "_deepnote_index_column": 80
                },
                {
                  "country": "Mexico",
                  "intStdnts": 13329,
                  "percTotal": 0.023,
                  "year": 2003,
                  "direction": "incoming",
                  "students": 13329,
                  "_deepnote_index_column": 81
                },
                {
                  "country": "Turkey",
                  "intStdnts": 11398,
                  "percTotal": 0.02,
                  "year": 2003,
                  "direction": "incoming",
                  "students": 11398,
                  "_deepnote_index_column": 82
                }
              ],
              "rows_bottom": [
                {
                  "country": "Singapore",
                  "intStdnts": "nan",
                  "percTotal": "nan",
                  "year": "2016",
                  "direction": "outgoing",
                  "students": 1165,
                  "_deepnote_index_column": 1057
                },
                {
                  "country": "Thailand",
                  "intStdnts": "nan",
                  "percTotal": "nan",
                  "year": "2016",
                  "direction": "outgoing",
                  "students": 2763,
                  "_deepnote_index_column": 1058
                },
                {
                  "country": "Vietnam",
                  "intStdnts": "nan",
                  "percTotal": "nan",
                  "year": "2016",
                  "direction": "outgoing",
                  "students": 1147,
                  "_deepnote_index_column": 1059
                },
                {
                  "country": "France",
                  "intStdnts": "nan",
                  "percTotal": "nan",
                  "year": "2016",
                  "direction": "outgoing",
                  "students": 16462,
                  "_deepnote_index_column": 1060
                },
                {
                  "country": "Germany",
                  "intStdnts": "nan",
                  "percTotal": "nan",
                  "year": "2016",
                  "direction": "outgoing",
                  "students": 12585,
                  "_deepnote_index_column": 1061
                },
                {
                  "country": "Russia",
                  "intStdnts": "nan",
                  "percTotal": "nan",
                  "year": "2016",
                  "direction": "outgoing",
                  "students": 1499,
                  "_deepnote_index_column": 1062
                },
                {
                  "country": "Spain",
                  "intStdnts": "nan",
                  "percTotal": "nan",
                  "year": "2016",
                  "direction": "outgoing",
                  "students": 31230,
                  "_deepnote_index_column": 1063
                },
                {
                  "country": "Sweden",
                  "intStdnts": "nan",
                  "percTotal": "nan",
                  "year": "2016",
                  "direction": "outgoing",
                  "students": 1661,
                  "_deepnote_index_column": 1064
                },
                {
                  "country": "Turkey",
                  "intStdnts": "nan",
                  "percTotal": "nan",
                  "year": "2016",
                  "direction": "outgoing",
                  "students": 46,
                  "_deepnote_index_column": 1065
                },
                {
                  "country": "United Kingdom",
                  "intStdnts": "nan",
                  "percTotal": "nan",
                  "year": "2016",
                  "direction": "outgoing",
                  "students": 39851,
                  "_deepnote_index_column": 1066
                },
                {
                  "country": "Jamaica",
                  "intStdnts": "nan",
                  "percTotal": "nan",
                  "year": "2016",
                  "direction": "outgoing",
                  "students": 1171,
                  "_deepnote_index_column": 1067
                },
                {
                  "country": "Mexico",
                  "intStdnts": "nan",
                  "percTotal": "nan",
                  "year": "2016",
                  "direction": "outgoing",
                  "students": 5736,
                  "_deepnote_index_column": 1068
                },
                {
                  "country": "Brazil",
                  "intStdnts": "nan",
                  "percTotal": "nan",
                  "year": "2016",
                  "direction": "outgoing",
                  "students": 2078,
                  "_deepnote_index_column": 1069
                },
                {
                  "country": "Colombia",
                  "intStdnts": "nan",
                  "percTotal": "nan",
                  "year": "2016",
                  "direction": "outgoing",
                  "students": 911,
                  "_deepnote_index_column": 1070
                },
                {
                  "country": "Venezuela",
                  "intStdnts": "nan",
                  "percTotal": "nan",
                  "year": "2016",
                  "direction": "outgoing",
                  "students": 1,
                  "_deepnote_index_column": 1071
                },
                {
                  "country": "Iran",
                  "intStdnts": "nan",
                  "percTotal": "nan",
                  "year": "2016",
                  "direction": "outgoing",
                  "students": 1,
                  "_deepnote_index_column": 1072
                },
                {
                  "country": "Kuwait",
                  "intStdnts": "nan",
                  "percTotal": "nan",
                  "year": "2016",
                  "direction": "outgoing",
                  "students": 13,
                  "_deepnote_index_column": 1073
                },
                {
                  "country": "Saudi Arabia",
                  "intStdnts": "nan",
                  "percTotal": "nan",
                  "year": "2016",
                  "direction": "outgoing",
                  "students": 20,
                  "_deepnote_index_column": 1074
                },
                {
                  "country": "Canada",
                  "intStdnts": "nan",
                  "percTotal": "nan",
                  "year": "2016",
                  "direction": "outgoing",
                  "students": 1639,
                  "_deepnote_index_column": 1075
                },
                {
                  "country": "Kenya",
                  "intStdnts": "nan",
                  "percTotal": "nan",
                  "year": "2017",
                  "direction": "outgoing",
                  "students": 927,
                  "_deepnote_index_column": 1076
                },
                {
                  "country": "Nigeria",
                  "intStdnts": "nan",
                  "percTotal": "nan",
                  "year": "2017",
                  "direction": "outgoing",
                  "students": 34,
                  "_deepnote_index_column": 1077
                },
                {
                  "country": "China",
                  "intStdnts": "nan",
                  "percTotal": "nan",
                  "year": "2017",
                  "direction": "outgoing",
                  "students": 11613,
                  "_deepnote_index_column": 1078
                },
                {
                  "country": "Hong Kong",
                  "intStdnts": "nan",
                  "percTotal": "nan",
                  "year": "2017",
                  "direction": "outgoing",
                  "students": 1859,
                  "_deepnote_index_column": 1079
                },
                {
                  "country": "Japan",
                  "intStdnts": "nan",
                  "percTotal": "nan",
                  "year": "2017",
                  "direction": "outgoing",
                  "students": 8467,
                  "_deepnote_index_column": 1080
                },
                {
                  "country": "South Korea",
                  "intStdnts": "nan",
                  "percTotal": "nan",
                  "year": "2017",
                  "direction": "outgoing",
                  "students": 3929,
                  "_deepnote_index_column": 1081
                },
                {
                  "country": "Taiwan",
                  "intStdnts": "nan",
                  "percTotal": "nan",
                  "year": "2017",
                  "direction": "outgoing",
                  "students": 857,
                  "_deepnote_index_column": 1082
                },
                {
                  "country": "Bangladesh",
                  "intStdnts": "nan",
                  "percTotal": "nan",
                  "year": "2017",
                  "direction": "outgoing",
                  "students": 43,
                  "_deepnote_index_column": 1083
                },
                {
                  "country": "India",
                  "intStdnts": "nan",
                  "percTotal": "nan",
                  "year": "2017",
                  "direction": "outgoing",
                  "students": 3986,
                  "_deepnote_index_column": 1084
                },
                {
                  "country": "Nepal",
                  "intStdnts": "nan",
                  "percTotal": "nan",
                  "year": "2017",
                  "direction": "outgoing",
                  "students": 566,
                  "_deepnote_index_column": 1085
                },
                {
                  "country": "Pakistan",
                  "intStdnts": "nan",
                  "percTotal": "nan",
                  "year": "2017",
                  "direction": "outgoing",
                  "students": 5,
                  "_deepnote_index_column": 1086
                },
                {
                  "country": "Indonesia",
                  "intStdnts": "nan",
                  "percTotal": "nan",
                  "year": "2017",
                  "direction": "outgoing",
                  "students": 825,
                  "_deepnote_index_column": 1087
                },
                {
                  "country": "Malaysia",
                  "intStdnts": "nan",
                  "percTotal": "nan",
                  "year": "2017",
                  "direction": "outgoing",
                  "students": 153,
                  "_deepnote_index_column": 1088
                },
                {
                  "country": "Singapore",
                  "intStdnts": "nan",
                  "percTotal": "nan",
                  "year": "2017",
                  "direction": "outgoing",
                  "students": 1121,
                  "_deepnote_index_column": 1089
                },
                {
                  "country": "Thailand",
                  "intStdnts": "nan",
                  "percTotal": "nan",
                  "year": "2017",
                  "direction": "outgoing",
                  "students": 2482,
                  "_deepnote_index_column": 1090
                },
                {
                  "country": "Vietnam",
                  "intStdnts": "nan",
                  "percTotal": "nan",
                  "year": "2017",
                  "direction": "outgoing",
                  "students": 1228,
                  "_deepnote_index_column": 1091
                },
                {
                  "country": "France",
                  "intStdnts": "nan",
                  "percTotal": "nan",
                  "year": "2017",
                  "direction": "outgoing",
                  "students": 17185,
                  "_deepnote_index_column": 1092
                },
                {
                  "country": "Germany",
                  "intStdnts": "nan",
                  "percTotal": "nan",
                  "year": "2017",
                  "direction": "outgoing",
                  "students": 12250,
                  "_deepnote_index_column": 1093
                },
                {
                  "country": "Russia",
                  "intStdnts": "nan",
                  "percTotal": "nan",
                  "year": "2017",
                  "direction": "outgoing",
                  "students": 1321,
                  "_deepnote_index_column": 1094
                },
                {
                  "country": "Spain",
                  "intStdnts": "nan",
                  "percTotal": "nan",
                  "year": "2017",
                  "direction": "outgoing",
                  "students": 32411,
                  "_deepnote_index_column": 1095
                },
                {
                  "country": "Sweden",
                  "intStdnts": "nan",
                  "percTotal": "nan",
                  "year": "2017",
                  "direction": "outgoing",
                  "students": 1830,
                  "_deepnote_index_column": 1096
                },
                {
                  "country": "Turkey",
                  "intStdnts": "nan",
                  "percTotal": "nan",
                  "year": "2017",
                  "direction": "outgoing",
                  "students": 78,
                  "_deepnote_index_column": 1097
                },
                {
                  "country": "United Kingdom",
                  "intStdnts": "nan",
                  "percTotal": "nan",
                  "year": "2017",
                  "direction": "outgoing",
                  "students": 39403,
                  "_deepnote_index_column": 1098
                },
                {
                  "country": "Jamaica",
                  "intStdnts": "nan",
                  "percTotal": "nan",
                  "year": "2017",
                  "direction": "outgoing",
                  "students": 1140,
                  "_deepnote_index_column": 1099
                },
                {
                  "country": "Mexico",
                  "intStdnts": "nan",
                  "percTotal": "nan",
                  "year": "2017",
                  "direction": "outgoing",
                  "students": 5963,
                  "_deepnote_index_column": 1100
                },
                {
                  "country": "Brazil",
                  "intStdnts": "nan",
                  "percTotal": "nan",
                  "year": "2017",
                  "direction": "outgoing",
                  "students": 2699,
                  "_deepnote_index_column": 1101
                },
                {
                  "country": "Colombia",
                  "intStdnts": "nan",
                  "percTotal": "nan",
                  "year": "2017",
                  "direction": "outgoing",
                  "students": 905,
                  "_deepnote_index_column": 1102
                },
                {
                  "country": "Venezuela",
                  "intStdnts": "nan",
                  "percTotal": "nan",
                  "year": "2017",
                  "direction": "outgoing",
                  "students": 10,
                  "_deepnote_index_column": 1103
                },
                {
                  "country": "Iran",
                  "intStdnts": "nan",
                  "percTotal": "nan",
                  "year": "2017",
                  "direction": "outgoing",
                  "students": 2,
                  "_deepnote_index_column": 1104
                },
                {
                  "country": "Kuwait",
                  "intStdnts": "nan",
                  "percTotal": "nan",
                  "year": "2017",
                  "direction": "outgoing",
                  "students": 0,
                  "_deepnote_index_column": 1105
                },
                {
                  "country": "Saudi Arabia",
                  "intStdnts": "nan",
                  "percTotal": "nan",
                  "year": "2017",
                  "direction": "outgoing",
                  "students": 8,
                  "_deepnote_index_column": 1106
                },
                {
                  "country": "Canada",
                  "intStdnts": "nan",
                  "percTotal": "nan",
                  "year": "2017",
                  "direction": "outgoing",
                  "students": 1786,
                  "_deepnote_index_column": 1107
                },
                {
                  "country": "Kenya",
                  "intStdnts": "nan",
                  "percTotal": "nan",
                  "year": "2018",
                  "direction": "outgoing",
                  "students": 926,
                  "_deepnote_index_column": 1108
                },
                {
                  "country": "Nigeria",
                  "intStdnts": "nan",
                  "percTotal": "nan",
                  "year": "2018",
                  "direction": "outgoing",
                  "students": 38,
                  "_deepnote_index_column": 1109
                },
                {
                  "country": "China",
                  "intStdnts": "nan",
                  "percTotal": "nan",
                  "year": "2018",
                  "direction": "outgoing",
                  "students": 11639,
                  "_deepnote_index_column": 1110
                },
                {
                  "country": "Hong Kong",
                  "intStdnts": "nan",
                  "percTotal": "nan",
                  "year": "2018",
                  "direction": "outgoing",
                  "students": 2314,
                  "_deepnote_index_column": 1111
                },
                {
                  "country": "Japan",
                  "intStdnts": "nan",
                  "percTotal": "nan",
                  "year": "2018",
                  "direction": "outgoing",
                  "students": 8928,
                  "_deepnote_index_column": 1112
                },
                {
                  "country": "South Korea",
                  "intStdnts": "nan",
                  "percTotal": "nan",
                  "year": "2018",
                  "direction": "outgoing",
                  "students": 4558,
                  "_deepnote_index_column": 1113
                },
                {
                  "country": "Taiwan",
                  "intStdnts": "nan",
                  "percTotal": "nan",
                  "year": "2018",
                  "direction": "outgoing",
                  "students": 1270,
                  "_deepnote_index_column": 1114
                },
                {
                  "country": "Bangladesh",
                  "intStdnts": "nan",
                  "percTotal": "nan",
                  "year": "2018",
                  "direction": "outgoing",
                  "students": 45,
                  "_deepnote_index_column": 1115
                },
                {
                  "country": "India",
                  "intStdnts": "nan",
                  "percTotal": "nan",
                  "year": "2018",
                  "direction": "outgoing",
                  "students": 3366,
                  "_deepnote_index_column": 1116
                },
                {
                  "country": "Nepal",
                  "intStdnts": "nan",
                  "percTotal": "nan",
                  "year": "2018",
                  "direction": "outgoing",
                  "students": 647,
                  "_deepnote_index_column": 1117
                },
                {
                  "country": "Pakistan",
                  "intStdnts": "nan",
                  "percTotal": "nan",
                  "year": "2018",
                  "direction": "outgoing",
                  "students": 7,
                  "_deepnote_index_column": 1118
                },
                {
                  "country": "Indonesia",
                  "intStdnts": "nan",
                  "percTotal": "nan",
                  "year": "2018",
                  "direction": "outgoing",
                  "students": 677,
                  "_deepnote_index_column": 1119
                },
                {
                  "country": "Malaysia",
                  "intStdnts": "nan",
                  "percTotal": "nan",
                  "year": "2018",
                  "direction": "outgoing",
                  "students": 241,
                  "_deepnote_index_column": 1120
                },
                {
                  "country": "Singapore",
                  "intStdnts": "nan",
                  "percTotal": "nan",
                  "year": "2018",
                  "direction": "outgoing",
                  "students": 1434,
                  "_deepnote_index_column": 1121
                },
                {
                  "country": "Thailand",
                  "intStdnts": "nan",
                  "percTotal": "nan",
                  "year": "2018",
                  "direction": "outgoing",
                  "students": 2859,
                  "_deepnote_index_column": 1122
                },
                {
                  "country": "Vietnam",
                  "intStdnts": "nan",
                  "percTotal": "nan",
                  "year": "2018",
                  "direction": "outgoing",
                  "students": 1235,
                  "_deepnote_index_column": 1123
                },
                {
                  "country": "France",
                  "intStdnts": "nan",
                  "percTotal": "nan",
                  "year": "2018",
                  "direction": "outgoing",
                  "students": 18465,
                  "_deepnote_index_column": 1124
                },
                {
                  "country": "Germany",
                  "intStdnts": "nan",
                  "percTotal": "nan",
                  "year": "2018",
                  "direction": "outgoing",
                  "students": 12029,
                  "_deepnote_index_column": 1125
                },
                {
                  "country": "Russia",
                  "intStdnts": "nan",
                  "percTotal": "nan",
                  "year": "2018",
                  "direction": "outgoing",
                  "students": 1305,
                  "_deepnote_index_column": 1126
                },
                {
                  "country": "Spain",
                  "intStdnts": "nan",
                  "percTotal": "nan",
                  "year": "2018",
                  "direction": "outgoing",
                  "students": 33849,
                  "_deepnote_index_column": 1127
                },
                {
                  "country": "Sweden",
                  "intStdnts": "nan",
                  "percTotal": "nan",
                  "year": "2018",
                  "direction": "outgoing",
                  "students": 1896,
                  "_deepnote_index_column": 1128
                },
                {
                  "country": "Turkey",
                  "intStdnts": "nan",
                  "percTotal": "nan",
                  "year": "2018",
                  "direction": "outgoing",
                  "students": 143,
                  "_deepnote_index_column": 1129
                },
                {
                  "country": "United Kingdom",
                  "intStdnts": "nan",
                  "percTotal": "nan",
                  "year": "2018",
                  "direction": "outgoing",
                  "students": 39358,
                  "_deepnote_index_column": 1130
                },
                {
                  "country": "Jamaica",
                  "intStdnts": "nan",
                  "percTotal": "nan",
                  "year": "2018",
                  "direction": "outgoing",
                  "students": 1040,
                  "_deepnote_index_column": 1131
                },
                {
                  "country": "Mexico",
                  "intStdnts": "nan",
                  "percTotal": "nan",
                  "year": "2018",
                  "direction": "outgoing",
                  "students": 6340,
                  "_deepnote_index_column": 1132
                },
                {
                  "country": "Brazil",
                  "intStdnts": "nan",
                  "percTotal": "nan",
                  "year": "2018",
                  "direction": "outgoing",
                  "students": 2269,
                  "_deepnote_index_column": 1133
                },
                {
                  "country": "Colombia",
                  "intStdnts": "nan",
                  "percTotal": "nan",
                  "year": "2018",
                  "direction": "outgoing",
                  "students": 1030,
                  "_deepnote_index_column": 1134
                },
                {
                  "country": "Venezuela",
                  "intStdnts": "nan",
                  "percTotal": "nan",
                  "year": "2018",
                  "direction": "outgoing",
                  "students": 1,
                  "_deepnote_index_column": 1135
                },
                {
                  "country": "Iran",
                  "intStdnts": "nan",
                  "percTotal": "nan",
                  "year": "2018",
                  "direction": "outgoing",
                  "students": 28,
                  "_deepnote_index_column": 1136
                },
                {
                  "country": "Kuwait",
                  "intStdnts": "nan",
                  "percTotal": "nan",
                  "year": "2018",
                  "direction": "outgoing",
                  "students": 5,
                  "_deepnote_index_column": 1137
                },
                {
                  "country": "Saudi Arabia",
                  "intStdnts": "nan",
                  "percTotal": "nan",
                  "year": "2018",
                  "direction": "outgoing",
                  "students": 4,
                  "_deepnote_index_column": 1138
                },
                {
                  "country": "Canada",
                  "intStdnts": "nan",
                  "percTotal": "nan",
                  "year": "2018",
                  "direction": "outgoing",
                  "students": 2107,
                  "_deepnote_index_column": 1139
                }
              ]
            },
            "text/plain": "           country  intStdnts  percTotal  year direction  students\n0            China    59939.0      0.109  2000  incoming   59939.0\n1            India    54664.0      0.100  2000  incoming   54664.0\n2            Japan    46497.0      0.085  2000  incoming   46497.0\n3      South Korea    45685.0      0.083  2000  incoming   45685.0\n4           Taiwan    28566.0      0.052  2000  incoming   28566.0\n...            ...        ...        ...   ...       ...       ...\n1135     Venezuela        NaN        NaN  2018  outgoing       1.0\n1136          Iran        NaN        NaN  2018  outgoing      28.0\n1137        Kuwait        NaN        NaN  2018  outgoing       5.0\n1138  Saudi Arabia        NaN        NaN  2018  outgoing       4.0\n1139        Canada        NaN        NaN  2018  outgoing    2107.0\n\n[1140 rows x 6 columns]",
            "text/html": "<div>\n<style scoped>\n    .dataframe tbody tr th:only-of-type {\n        vertical-align: middle;\n    }\n\n    .dataframe tbody tr th {\n        vertical-align: top;\n    }\n\n    .dataframe thead th {\n        text-align: right;\n    }\n</style>\n<table border=\"1\" class=\"dataframe\">\n  <thead>\n    <tr style=\"text-align: right;\">\n      <th></th>\n      <th>country</th>\n      <th>intStdnts</th>\n      <th>percTotal</th>\n      <th>year</th>\n      <th>direction</th>\n      <th>students</th>\n    </tr>\n  </thead>\n  <tbody>\n    <tr>\n      <th>0</th>\n      <td>China</td>\n      <td>59939.0</td>\n      <td>0.109</td>\n      <td>2000</td>\n      <td>incoming</td>\n      <td>59939.0</td>\n    </tr>\n    <tr>\n      <th>1</th>\n      <td>India</td>\n      <td>54664.0</td>\n      <td>0.100</td>\n      <td>2000</td>\n      <td>incoming</td>\n      <td>54664.0</td>\n    </tr>\n    <tr>\n      <th>2</th>\n      <td>Japan</td>\n      <td>46497.0</td>\n      <td>0.085</td>\n      <td>2000</td>\n      <td>incoming</td>\n      <td>46497.0</td>\n    </tr>\n    <tr>\n      <th>3</th>\n      <td>South Korea</td>\n      <td>45685.0</td>\n      <td>0.083</td>\n      <td>2000</td>\n      <td>incoming</td>\n      <td>45685.0</td>\n    </tr>\n    <tr>\n      <th>4</th>\n      <td>Taiwan</td>\n      <td>28566.0</td>\n      <td>0.052</td>\n      <td>2000</td>\n      <td>incoming</td>\n      <td>28566.0</td>\n    </tr>\n    <tr>\n      <th>...</th>\n      <td>...</td>\n      <td>...</td>\n      <td>...</td>\n      <td>...</td>\n      <td>...</td>\n      <td>...</td>\n    </tr>\n    <tr>\n      <th>1135</th>\n      <td>Venezuela</td>\n      <td>NaN</td>\n      <td>NaN</td>\n      <td>2018</td>\n      <td>outgoing</td>\n      <td>1.0</td>\n    </tr>\n    <tr>\n      <th>1136</th>\n      <td>Iran</td>\n      <td>NaN</td>\n      <td>NaN</td>\n      <td>2018</td>\n      <td>outgoing</td>\n      <td>28.0</td>\n    </tr>\n    <tr>\n      <th>1137</th>\n      <td>Kuwait</td>\n      <td>NaN</td>\n      <td>NaN</td>\n      <td>2018</td>\n      <td>outgoing</td>\n      <td>5.0</td>\n    </tr>\n    <tr>\n      <th>1138</th>\n      <td>Saudi Arabia</td>\n      <td>NaN</td>\n      <td>NaN</td>\n      <td>2018</td>\n      <td>outgoing</td>\n      <td>4.0</td>\n    </tr>\n    <tr>\n      <th>1139</th>\n      <td>Canada</td>\n      <td>NaN</td>\n      <td>NaN</td>\n      <td>2018</td>\n      <td>outgoing</td>\n      <td>2107.0</td>\n    </tr>\n  </tbody>\n</table>\n<p>1140 rows × 6 columns</p>\n</div>"
          },
          "metadata": {}
        }
      ]
    },
    {
      "cell_type": "markdown",
      "source": "### Stacked Bar",
      "metadata": {
        "tags": [],
        "cell_id": "00031-ff8b1e20-67fc-4f53-a4a0-5a4ee522a4e9",
        "deepnote_cell_type": "markdown"
      }
    },
    {
      "cell_type": "code",
      "metadata": {
        "tags": [],
        "cell_id": "00032-cab0ea24-c4f9-4970-b77c-b2c3aa144bc6",
        "deepnote_to_be_reexecuted": false,
        "source_hash": "ea53f762",
        "execution_millis": 6,
        "execution_start": 1618145933770,
        "deepnote_cell_type": "code"
      },
      "source": "dw_group = pd.DataFrame(dw_in_out.groupby(['country', 'direction'])['students'].mean()).reset_index()\ndw_group = dw_group.sort_values(by=\"students\", ascending=False)",
      "execution_count": 334,
      "outputs": []
    },
    {
      "cell_type": "code",
      "metadata": {
        "tags": [],
        "cell_id": "00032-903a5121-70b2-473c-821c-7428462fe83e",
        "deepnote_to_be_reexecuted": false,
        "source_hash": "e5b8be9b",
        "execution_millis": 78,
        "execution_start": 1618145937761,
        "deepnote_cell_type": "code"
      },
      "source": "fig = px.bar(dw_group, x=\"country\", y=\"students\", color=\"direction\", title=\"Inflows/Outflows\")\nfig.show()",
      "execution_count": 335,
      "outputs": [
        {
          "data": {
            "text/html": "<html>\n<head><meta charset=\"utf-8\" /></head>\n<body>\n    <div>            <script src=\"https://cdnjs.cloudflare.com/ajax/libs/mathjax/2.7.5/MathJax.js?config=TeX-AMS-MML_SVG\"></script><script type=\"text/javascript\">if (window.MathJax) {MathJax.Hub.Config({SVG: {font: \"STIX-Web\"}});}</script>                <script type=\"text/javascript\">window.PlotlyConfig = {MathJaxConfig: 'local'};</script>\n        <script src=\"https://cdn.plot.ly/plotly-latest.min.js\"></script>                <div id=\"fceab078-e4bd-44ad-a599-18d7c9c35e79\" class=\"plotly-graph-div\" style=\"height:525px; width:100%;\"></div>            <script type=\"text/javascript\">                                    window.PLOTLYENV=window.PLOTLYENV || {};                                    if (document.getElementById(\"fceab078-e4bd-44ad-a599-18d7c9c35e79\")) {                    Plotly.newPlot(                        \"fceab078-e4bd-44ad-a599-18d7c9c35e79\",                        [{\"alignmentgroup\": \"True\", \"hovertemplate\": \"direction=incoming<br>country=%{x}<br>students=%{y}<extra></extra>\", \"legendgroup\": \"incoming\", \"marker\": {\"color\": \"#636efa\"}, \"name\": \"incoming\", \"offsetgroup\": \"incoming\", \"orientation\": \"v\", \"showlegend\": true, \"textposition\": \"auto\", \"type\": \"bar\", \"x\": [\"China\", \"India\", \"South Korea\", \"Saudi Arabia\", \"Japan\", \"Canada\", \"Taiwan\", \"Vietnam\", \"Mexico\", \"Turkey\", \"Brazil\", \"Iran\", \"Germany\", \"United Kingdom\", \"Nepal\", \"Thailand\", \"Kuwait\", \"Indonesia\", \"Nigeria\", \"Bangladesh\", \"Hong Kong\", \"France\", \"Colombia\", \"Malaysia\", \"Pakistan\", \"Kenya\", \"Spain\", \"Venezuela\", \"Russia\", \"Sweden\", \"Jamaica\", \"Singapore\"], \"xaxis\": \"x\", \"y\": [184993.8, 114971.75, 60708.1, 29582.176470588234, 28793.25, 27308.35, 25135.5, 16235.4, 14276.2, 11333.35, 11297.95, 10417.2, 9490.65, 9458.95, 9439.0, 8694.875, 8599.25, 8401.4, 8165.263157894737, 7931.5, 7881.941176470588, 7802.0, 7280.238095238095, 6802.95, 6631.357142857143, 6530.4, 6439.888888888889, 6153.15, 5336.166666666667, 4598.0, 4460.333333333333, 4019.75], \"yaxis\": \"y\"}, {\"alignmentgroup\": \"True\", \"hovertemplate\": \"direction=outgoing<br>country=%{x}<br>students=%{y}<extra></extra>\", \"legendgroup\": \"outgoing\", \"marker\": {\"color\": \"#EF553B\"}, \"name\": \"outgoing\", \"offsetgroup\": \"outgoing\", \"orientation\": \"v\", \"showlegend\": true, \"textposition\": \"auto\", \"type\": \"bar\", \"x\": [\"United Kingdom\", \"Spain\", \"France\", \"China\", \"Germany\", \"Mexico\", \"Japan\", \"India\", \"Brazil\", \"South Korea\", \"Russia\", \"Thailand\", \"Canada\", \"Hong Kong\", \"Sweden\", \"Turkey\", \"Kenya\", \"Jamaica\", \"Singapore\", \"Vietnam\", \"Taiwan\", \"Colombia\", \"Indonesia\", \"Nepal\", \"Malaysia\", \"Venezuela\", \"Bangladesh\", \"Nigeria\", \"Kuwait\", \"Saudi Arabia\", \"Pakistan\", \"Iran\"], \"xaxis\": \"x\", \"y\": [34307.5, 24453.0, 15951.75, 10068.15, 8513.75, 6954.9, 5304.45, 2942.5, 2558.05, 2169.7, 1551.55, 1536.0, 1391.9, 1143.1, 1086.85, 900.35, 838.9, 772.8, 702.55, 669.95, 611.7, 310.8, 298.65, 287.0, 138.25, 105.9, 59.9, 25.25, 14.8, 9.65, 6.9, 3.85], \"yaxis\": \"y\"}],                        {\"barmode\": \"relative\", \"legend\": {\"title\": {\"text\": \"direction\"}, \"tracegroupgap\": 0}, \"template\": {\"data\": {\"bar\": [{\"error_x\": {\"color\": \"#2a3f5f\"}, \"error_y\": {\"color\": \"#2a3f5f\"}, \"marker\": {\"line\": {\"color\": \"#E5ECF6\", \"width\": 0.5}}, \"type\": \"bar\"}], \"barpolar\": [{\"marker\": {\"line\": {\"color\": \"#E5ECF6\", \"width\": 0.5}}, \"type\": \"barpolar\"}], \"carpet\": [{\"aaxis\": {\"endlinecolor\": \"#2a3f5f\", \"gridcolor\": \"white\", \"linecolor\": \"white\", \"minorgridcolor\": \"white\", \"startlinecolor\": \"#2a3f5f\"}, \"baxis\": {\"endlinecolor\": \"#2a3f5f\", \"gridcolor\": \"white\", \"linecolor\": \"white\", \"minorgridcolor\": \"white\", \"startlinecolor\": \"#2a3f5f\"}, \"type\": \"carpet\"}], \"choropleth\": [{\"colorbar\": {\"outlinewidth\": 0, \"ticks\": \"\"}, \"type\": \"choropleth\"}], \"contour\": [{\"colorbar\": {\"outlinewidth\": 0, \"ticks\": \"\"}, \"colorscale\": [[0.0, \"#0d0887\"], [0.1111111111111111, \"#46039f\"], [0.2222222222222222, \"#7201a8\"], [0.3333333333333333, \"#9c179e\"], [0.4444444444444444, \"#bd3786\"], [0.5555555555555556, \"#d8576b\"], [0.6666666666666666, \"#ed7953\"], [0.7777777777777778, \"#fb9f3a\"], [0.8888888888888888, \"#fdca26\"], [1.0, \"#f0f921\"]], \"type\": \"contour\"}], \"contourcarpet\": [{\"colorbar\": {\"outlinewidth\": 0, \"ticks\": \"\"}, \"type\": \"contourcarpet\"}], \"heatmap\": [{\"colorbar\": {\"outlinewidth\": 0, \"ticks\": \"\"}, \"colorscale\": [[0.0, \"#0d0887\"], [0.1111111111111111, \"#46039f\"], [0.2222222222222222, \"#7201a8\"], [0.3333333333333333, \"#9c179e\"], [0.4444444444444444, \"#bd3786\"], [0.5555555555555556, \"#d8576b\"], [0.6666666666666666, \"#ed7953\"], [0.7777777777777778, \"#fb9f3a\"], [0.8888888888888888, \"#fdca26\"], [1.0, \"#f0f921\"]], \"type\": \"heatmap\"}], \"heatmapgl\": [{\"colorbar\": {\"outlinewidth\": 0, \"ticks\": \"\"}, \"colorscale\": [[0.0, \"#0d0887\"], [0.1111111111111111, \"#46039f\"], [0.2222222222222222, \"#7201a8\"], [0.3333333333333333, \"#9c179e\"], [0.4444444444444444, \"#bd3786\"], [0.5555555555555556, \"#d8576b\"], [0.6666666666666666, \"#ed7953\"], [0.7777777777777778, \"#fb9f3a\"], [0.8888888888888888, \"#fdca26\"], [1.0, \"#f0f921\"]], \"type\": \"heatmapgl\"}], \"histogram\": [{\"marker\": {\"colorbar\": {\"outlinewidth\": 0, \"ticks\": \"\"}}, \"type\": \"histogram\"}], \"histogram2d\": [{\"colorbar\": {\"outlinewidth\": 0, \"ticks\": \"\"}, \"colorscale\": [[0.0, \"#0d0887\"], [0.1111111111111111, \"#46039f\"], [0.2222222222222222, \"#7201a8\"], [0.3333333333333333, \"#9c179e\"], [0.4444444444444444, \"#bd3786\"], [0.5555555555555556, \"#d8576b\"], [0.6666666666666666, \"#ed7953\"], [0.7777777777777778, \"#fb9f3a\"], [0.8888888888888888, \"#fdca26\"], [1.0, \"#f0f921\"]], \"type\": \"histogram2d\"}], \"histogram2dcontour\": [{\"colorbar\": {\"outlinewidth\": 0, \"ticks\": \"\"}, \"colorscale\": [[0.0, \"#0d0887\"], [0.1111111111111111, \"#46039f\"], [0.2222222222222222, \"#7201a8\"], [0.3333333333333333, \"#9c179e\"], [0.4444444444444444, \"#bd3786\"], [0.5555555555555556, \"#d8576b\"], [0.6666666666666666, \"#ed7953\"], [0.7777777777777778, \"#fb9f3a\"], [0.8888888888888888, \"#fdca26\"], [1.0, \"#f0f921\"]], \"type\": \"histogram2dcontour\"}], \"mesh3d\": [{\"colorbar\": {\"outlinewidth\": 0, \"ticks\": \"\"}, \"type\": \"mesh3d\"}], \"parcoords\": [{\"line\": {\"colorbar\": {\"outlinewidth\": 0, \"ticks\": \"\"}}, \"type\": \"parcoords\"}], \"pie\": [{\"automargin\": true, \"type\": \"pie\"}], \"scatter\": [{\"marker\": {\"colorbar\": {\"outlinewidth\": 0, \"ticks\": \"\"}}, \"type\": \"scatter\"}], \"scatter3d\": [{\"line\": {\"colorbar\": {\"outlinewidth\": 0, \"ticks\": \"\"}}, \"marker\": {\"colorbar\": {\"outlinewidth\": 0, \"ticks\": \"\"}}, \"type\": \"scatter3d\"}], \"scattercarpet\": [{\"marker\": {\"colorbar\": {\"outlinewidth\": 0, \"ticks\": \"\"}}, \"type\": \"scattercarpet\"}], \"scattergeo\": [{\"marker\": {\"colorbar\": {\"outlinewidth\": 0, \"ticks\": \"\"}}, \"type\": \"scattergeo\"}], \"scattergl\": [{\"marker\": {\"colorbar\": {\"outlinewidth\": 0, \"ticks\": \"\"}}, \"type\": \"scattergl\"}], \"scattermapbox\": [{\"marker\": {\"colorbar\": {\"outlinewidth\": 0, \"ticks\": \"\"}}, \"type\": \"scattermapbox\"}], \"scatterpolar\": [{\"marker\": {\"colorbar\": {\"outlinewidth\": 0, \"ticks\": \"\"}}, \"type\": \"scatterpolar\"}], \"scatterpolargl\": [{\"marker\": {\"colorbar\": {\"outlinewidth\": 0, \"ticks\": \"\"}}, \"type\": \"scatterpolargl\"}], \"scatterternary\": [{\"marker\": {\"colorbar\": {\"outlinewidth\": 0, \"ticks\": \"\"}}, \"type\": \"scatterternary\"}], \"surface\": [{\"colorbar\": {\"outlinewidth\": 0, \"ticks\": \"\"}, \"colorscale\": [[0.0, \"#0d0887\"], [0.1111111111111111, \"#46039f\"], [0.2222222222222222, \"#7201a8\"], [0.3333333333333333, \"#9c179e\"], [0.4444444444444444, \"#bd3786\"], [0.5555555555555556, \"#d8576b\"], [0.6666666666666666, \"#ed7953\"], [0.7777777777777778, \"#fb9f3a\"], [0.8888888888888888, \"#fdca26\"], [1.0, \"#f0f921\"]], \"type\": \"surface\"}], \"table\": [{\"cells\": {\"fill\": {\"color\": \"#EBF0F8\"}, \"line\": {\"color\": \"white\"}}, \"header\": {\"fill\": {\"color\": \"#C8D4E3\"}, \"line\": {\"color\": \"white\"}}, \"type\": \"table\"}]}, \"layout\": {\"annotationdefaults\": {\"arrowcolor\": \"#2a3f5f\", \"arrowhead\": 0, \"arrowwidth\": 1}, \"autotypenumbers\": \"strict\", \"coloraxis\": {\"colorbar\": {\"outlinewidth\": 0, \"ticks\": \"\"}}, \"colorscale\": {\"diverging\": [[0, \"#8e0152\"], [0.1, \"#c51b7d\"], [0.2, \"#de77ae\"], [0.3, \"#f1b6da\"], [0.4, \"#fde0ef\"], [0.5, \"#f7f7f7\"], [0.6, \"#e6f5d0\"], [0.7, \"#b8e186\"], [0.8, \"#7fbc41\"], [0.9, \"#4d9221\"], [1, \"#276419\"]], \"sequential\": [[0.0, \"#0d0887\"], [0.1111111111111111, \"#46039f\"], [0.2222222222222222, \"#7201a8\"], [0.3333333333333333, \"#9c179e\"], [0.4444444444444444, \"#bd3786\"], [0.5555555555555556, \"#d8576b\"], [0.6666666666666666, \"#ed7953\"], [0.7777777777777778, \"#fb9f3a\"], [0.8888888888888888, \"#fdca26\"], [1.0, \"#f0f921\"]], \"sequentialminus\": [[0.0, \"#0d0887\"], [0.1111111111111111, \"#46039f\"], [0.2222222222222222, \"#7201a8\"], [0.3333333333333333, \"#9c179e\"], [0.4444444444444444, \"#bd3786\"], [0.5555555555555556, \"#d8576b\"], [0.6666666666666666, \"#ed7953\"], [0.7777777777777778, \"#fb9f3a\"], [0.8888888888888888, \"#fdca26\"], [1.0, \"#f0f921\"]]}, \"colorway\": [\"#636efa\", \"#EF553B\", \"#00cc96\", \"#ab63fa\", \"#FFA15A\", \"#19d3f3\", \"#FF6692\", \"#B6E880\", \"#FF97FF\", \"#FECB52\"], \"font\": {\"color\": \"#2a3f5f\"}, \"geo\": {\"bgcolor\": \"white\", \"lakecolor\": \"white\", \"landcolor\": \"#E5ECF6\", \"showlakes\": true, \"showland\": true, \"subunitcolor\": \"white\"}, \"hoverlabel\": {\"align\": \"left\"}, \"hovermode\": \"closest\", \"mapbox\": {\"style\": \"light\"}, \"paper_bgcolor\": \"white\", \"plot_bgcolor\": \"#E5ECF6\", \"polar\": {\"angularaxis\": {\"gridcolor\": \"white\", \"linecolor\": \"white\", \"ticks\": \"\"}, \"bgcolor\": \"#E5ECF6\", \"radialaxis\": {\"gridcolor\": \"white\", \"linecolor\": \"white\", \"ticks\": \"\"}}, \"scene\": {\"xaxis\": {\"backgroundcolor\": \"#E5ECF6\", \"gridcolor\": \"white\", \"gridwidth\": 2, \"linecolor\": \"white\", \"showbackground\": true, \"ticks\": \"\", \"zerolinecolor\": \"white\"}, \"yaxis\": {\"backgroundcolor\": \"#E5ECF6\", \"gridcolor\": \"white\", \"gridwidth\": 2, \"linecolor\": \"white\", \"showbackground\": true, \"ticks\": \"\", \"zerolinecolor\": \"white\"}, \"zaxis\": {\"backgroundcolor\": \"#E5ECF6\", \"gridcolor\": \"white\", \"gridwidth\": 2, \"linecolor\": \"white\", \"showbackground\": true, \"ticks\": \"\", \"zerolinecolor\": \"white\"}}, \"shapedefaults\": {\"line\": {\"color\": \"#2a3f5f\"}}, \"ternary\": {\"aaxis\": {\"gridcolor\": \"white\", \"linecolor\": \"white\", \"ticks\": \"\"}, \"baxis\": {\"gridcolor\": \"white\", \"linecolor\": \"white\", \"ticks\": \"\"}, \"bgcolor\": \"#E5ECF6\", \"caxis\": {\"gridcolor\": \"white\", \"linecolor\": \"white\", \"ticks\": \"\"}}, \"title\": {\"x\": 0.05}, \"xaxis\": {\"automargin\": true, \"gridcolor\": \"white\", \"linecolor\": \"white\", \"ticks\": \"\", \"title\": {\"standoff\": 15}, \"zerolinecolor\": \"white\", \"zerolinewidth\": 2}, \"yaxis\": {\"automargin\": true, \"gridcolor\": \"white\", \"linecolor\": \"white\", \"ticks\": \"\", \"title\": {\"standoff\": 15}, \"zerolinecolor\": \"white\", \"zerolinewidth\": 2}}}, \"title\": {\"text\": \"Inflows/Outflows\"}, \"xaxis\": {\"anchor\": \"y\", \"domain\": [0.0, 1.0], \"title\": {\"text\": \"country\"}}, \"yaxis\": {\"anchor\": \"x\", \"domain\": [0.0, 1.0], \"title\": {\"text\": \"students\"}}},                        {\"responsive\": true}                    ).then(function(){\n                            \nvar gd = document.getElementById('fceab078-e4bd-44ad-a599-18d7c9c35e79');\nvar x = new MutationObserver(function (mutations, observer) {{\n        var display = window.getComputedStyle(gd).display;\n        if (!display || display === 'none') {{\n            console.log([gd, 'removed!']);\n            Plotly.purge(gd);\n            observer.disconnect();\n        }}\n}});\n\n// Listen for the removal of the full notebook cells\nvar notebookContainer = gd.closest('#notebook-container');\nif (notebookContainer) {{\n    x.observe(notebookContainer, {childList: true});\n}}\n\n// Listen for the clearing of the current output cell\nvar outputEl = gd.closest('.output');\nif (outputEl) {{\n    x.observe(outputEl, {childList: true});\n}}\n\n                        })                };                            </script>        </div>\n</body>\n</html>"
          },
          "metadata": {},
          "output_type": "display_data"
        }
      ]
    },
    {
      "cell_type": "code",
      "metadata": {
        "tags": [],
        "cell_id": "00034-52446295-aac0-45c5-a80a-638fb63f9512",
        "deepnote_to_be_reexecuted": false,
        "source_hash": "f62b5a26",
        "execution_start": 1618149742098,
        "execution_millis": 35,
        "deepnote_cell_type": "code"
      },
      "source": "fig = px.bar(dw_group, x=\"country\", y=\"students\", color=\"direction\", title=\"Inflows/Outflows\")\nfig.show()",
      "execution_count": 394,
      "outputs": [
        {
          "output_type": "error",
          "ename": "ValueError",
          "evalue": "Value of 'y' is not the name of a column in 'data_frame'. Expected one of ['country', 'students_out', 'students_in', 'total_flow', 'prop_in', 'prop_out', 'prop_total'] but received: students",
          "traceback": [
            "\u001b[0;31m---------------------------------------------------------------------------\u001b[0m",
            "\u001b[0;31mValueError\u001b[0m                                Traceback (most recent call last)",
            "\u001b[0;32m<ipython-input-394-dc80722e50c5>\u001b[0m in \u001b[0;36m<module>\u001b[0;34m\u001b[0m\n\u001b[0;32m----> 1\u001b[0;31m \u001b[0mfig\u001b[0m \u001b[0;34m=\u001b[0m \u001b[0mpx\u001b[0m\u001b[0;34m.\u001b[0m\u001b[0mbar\u001b[0m\u001b[0;34m(\u001b[0m\u001b[0mdw_mean15\u001b[0m\u001b[0;34m,\u001b[0m \u001b[0mx\u001b[0m\u001b[0;34m=\u001b[0m\u001b[0;34m\"country\"\u001b[0m\u001b[0;34m,\u001b[0m \u001b[0my\u001b[0m\u001b[0;34m=\u001b[0m\u001b[0;34m\"students\"\u001b[0m\u001b[0;34m,\u001b[0m \u001b[0mcolor\u001b[0m\u001b[0;34m=\u001b[0m\u001b[0;34m\"direction\"\u001b[0m\u001b[0;34m,\u001b[0m \u001b[0mtitle\u001b[0m\u001b[0;34m=\u001b[0m\u001b[0;34m\"Inflows/Outflows\"\u001b[0m\u001b[0;34m)\u001b[0m\u001b[0;34m\u001b[0m\u001b[0;34m\u001b[0m\u001b[0m\n\u001b[0m\u001b[1;32m      2\u001b[0m \u001b[0mfig\u001b[0m\u001b[0;34m.\u001b[0m\u001b[0mshow\u001b[0m\u001b[0;34m(\u001b[0m\u001b[0;34m)\u001b[0m\u001b[0;34m\u001b[0m\u001b[0;34m\u001b[0m\u001b[0m\n",
            "\u001b[0;32m/shared-libs/python3.7/py/lib/python3.7/site-packages/plotly/express/_chart_types.py\u001b[0m in \u001b[0;36mbar\u001b[0;34m(data_frame, x, y, color, facet_row, facet_col, facet_col_wrap, facet_row_spacing, facet_col_spacing, hover_name, hover_data, custom_data, text, base, error_x, error_x_minus, error_y, error_y_minus, animation_frame, animation_group, category_orders, labels, color_discrete_sequence, color_discrete_map, color_continuous_scale, range_color, color_continuous_midpoint, opacity, orientation, barmode, log_x, log_y, range_x, range_y, title, template, width, height)\u001b[0m\n\u001b[1;32m    352\u001b[0m         \u001b[0mconstructor\u001b[0m\u001b[0;34m=\u001b[0m\u001b[0mgo\u001b[0m\u001b[0;34m.\u001b[0m\u001b[0mBar\u001b[0m\u001b[0;34m,\u001b[0m\u001b[0;34m\u001b[0m\u001b[0;34m\u001b[0m\u001b[0m\n\u001b[1;32m    353\u001b[0m         \u001b[0mtrace_patch\u001b[0m\u001b[0;34m=\u001b[0m\u001b[0mdict\u001b[0m\u001b[0;34m(\u001b[0m\u001b[0mtextposition\u001b[0m\u001b[0;34m=\u001b[0m\u001b[0;34m\"auto\"\u001b[0m\u001b[0;34m)\u001b[0m\u001b[0;34m,\u001b[0m\u001b[0;34m\u001b[0m\u001b[0;34m\u001b[0m\u001b[0m\n\u001b[0;32m--> 354\u001b[0;31m         \u001b[0mlayout_patch\u001b[0m\u001b[0;34m=\u001b[0m\u001b[0mdict\u001b[0m\u001b[0;34m(\u001b[0m\u001b[0mbarmode\u001b[0m\u001b[0;34m=\u001b[0m\u001b[0mbarmode\u001b[0m\u001b[0;34m)\u001b[0m\u001b[0;34m,\u001b[0m\u001b[0;34m\u001b[0m\u001b[0;34m\u001b[0m\u001b[0m\n\u001b[0m\u001b[1;32m    355\u001b[0m     )\n\u001b[1;32m    356\u001b[0m \u001b[0;34m\u001b[0m\u001b[0m\n",
            "\u001b[0;32m/shared-libs/python3.7/py/lib/python3.7/site-packages/plotly/express/_core.py\u001b[0m in \u001b[0;36mmake_figure\u001b[0;34m(args, constructor, trace_patch, layout_patch)\u001b[0m\n\u001b[1;32m   1859\u001b[0m     \u001b[0mapply_default_cascade\u001b[0m\u001b[0;34m(\u001b[0m\u001b[0margs\u001b[0m\u001b[0;34m)\u001b[0m\u001b[0;34m\u001b[0m\u001b[0;34m\u001b[0m\u001b[0m\n\u001b[1;32m   1860\u001b[0m \u001b[0;34m\u001b[0m\u001b[0m\n\u001b[0;32m-> 1861\u001b[0;31m     \u001b[0margs\u001b[0m \u001b[0;34m=\u001b[0m \u001b[0mbuild_dataframe\u001b[0m\u001b[0;34m(\u001b[0m\u001b[0margs\u001b[0m\u001b[0;34m,\u001b[0m \u001b[0mconstructor\u001b[0m\u001b[0;34m)\u001b[0m\u001b[0;34m\u001b[0m\u001b[0;34m\u001b[0m\u001b[0m\n\u001b[0m\u001b[1;32m   1862\u001b[0m     \u001b[0;32mif\u001b[0m \u001b[0mconstructor\u001b[0m \u001b[0;32min\u001b[0m \u001b[0;34m[\u001b[0m\u001b[0mgo\u001b[0m\u001b[0;34m.\u001b[0m\u001b[0mTreemap\u001b[0m\u001b[0;34m,\u001b[0m \u001b[0mgo\u001b[0m\u001b[0;34m.\u001b[0m\u001b[0mSunburst\u001b[0m\u001b[0;34m]\u001b[0m \u001b[0;32mand\u001b[0m \u001b[0margs\u001b[0m\u001b[0;34m[\u001b[0m\u001b[0;34m\"path\"\u001b[0m\u001b[0;34m]\u001b[0m \u001b[0;32mis\u001b[0m \u001b[0;32mnot\u001b[0m \u001b[0;32mNone\u001b[0m\u001b[0;34m:\u001b[0m\u001b[0;34m\u001b[0m\u001b[0;34m\u001b[0m\u001b[0m\n\u001b[1;32m   1863\u001b[0m         \u001b[0margs\u001b[0m \u001b[0;34m=\u001b[0m \u001b[0mprocess_dataframe_hierarchy\u001b[0m\u001b[0;34m(\u001b[0m\u001b[0margs\u001b[0m\u001b[0;34m)\u001b[0m\u001b[0;34m\u001b[0m\u001b[0;34m\u001b[0m\u001b[0m\n",
            "\u001b[0;32m/shared-libs/python3.7/py/lib/python3.7/site-packages/plotly/express/_core.py\u001b[0m in \u001b[0;36mbuild_dataframe\u001b[0;34m(args, constructor)\u001b[0m\n\u001b[1;32m   1376\u001b[0m \u001b[0;34m\u001b[0m\u001b[0m\n\u001b[1;32m   1377\u001b[0m     df_output, wide_id_vars = process_args_into_dataframe(\n\u001b[0;32m-> 1378\u001b[0;31m         \u001b[0margs\u001b[0m\u001b[0;34m,\u001b[0m \u001b[0mwide_mode\u001b[0m\u001b[0;34m,\u001b[0m \u001b[0mvar_name\u001b[0m\u001b[0;34m,\u001b[0m \u001b[0mvalue_name\u001b[0m\u001b[0;34m\u001b[0m\u001b[0;34m\u001b[0m\u001b[0m\n\u001b[0m\u001b[1;32m   1379\u001b[0m     )\n\u001b[1;32m   1380\u001b[0m \u001b[0;34m\u001b[0m\u001b[0m\n",
            "\u001b[0;32m/shared-libs/python3.7/py/lib/python3.7/site-packages/plotly/express/_core.py\u001b[0m in \u001b[0;36mprocess_args_into_dataframe\u001b[0;34m(args, wide_mode, var_name, value_name)\u001b[0m\n\u001b[1;32m   1181\u001b[0m                         \u001b[0;32mif\u001b[0m \u001b[0margument\u001b[0m \u001b[0;34m==\u001b[0m \u001b[0;34m\"index\"\u001b[0m\u001b[0;34m:\u001b[0m\u001b[0;34m\u001b[0m\u001b[0;34m\u001b[0m\u001b[0m\n\u001b[1;32m   1182\u001b[0m                             \u001b[0merr_msg\u001b[0m \u001b[0;34m+=\u001b[0m \u001b[0;34m\"\\n To use the index, pass it in directly as `df.index`.\"\u001b[0m\u001b[0;34m\u001b[0m\u001b[0;34m\u001b[0m\u001b[0m\n\u001b[0;32m-> 1183\u001b[0;31m                         \u001b[0;32mraise\u001b[0m \u001b[0mValueError\u001b[0m\u001b[0;34m(\u001b[0m\u001b[0merr_msg\u001b[0m\u001b[0;34m)\u001b[0m\u001b[0;34m\u001b[0m\u001b[0;34m\u001b[0m\u001b[0m\n\u001b[0m\u001b[1;32m   1184\u001b[0m                 \u001b[0;32melif\u001b[0m \u001b[0mlength\u001b[0m \u001b[0;32mand\u001b[0m \u001b[0mlen\u001b[0m\u001b[0;34m(\u001b[0m\u001b[0mdf_input\u001b[0m\u001b[0;34m[\u001b[0m\u001b[0margument\u001b[0m\u001b[0;34m]\u001b[0m\u001b[0;34m)\u001b[0m \u001b[0;34m!=\u001b[0m \u001b[0mlength\u001b[0m\u001b[0;34m:\u001b[0m\u001b[0;34m\u001b[0m\u001b[0;34m\u001b[0m\u001b[0m\n\u001b[1;32m   1185\u001b[0m                     raise ValueError(\n",
            "\u001b[0;31mValueError\u001b[0m: Value of 'y' is not the name of a column in 'data_frame'. Expected one of ['country', 'students_out', 'students_in', 'total_flow', 'prop_in', 'prop_out', 'prop_total'] but received: students"
          ]
        }
      ]
    },
    {
      "cell_type": "markdown",
      "source": "### Marimekko",
      "metadata": {
        "tags": [],
        "cell_id": "00034-c234835d-6318-456b-80e3-ee285a47b9c8",
        "deepnote_cell_type": "markdown"
      }
    },
    {
      "cell_type": "code",
      "metadata": {
        "tags": [],
        "cell_id": "00036-3156ef3b-fdee-4b1e-b8f6-f17e97eecbf0",
        "deepnote_to_be_reexecuted": false,
        "source_hash": "5a88f028",
        "execution_millis": 6,
        "execution_start": 1618147263341,
        "deepnote_cell_type": "code"
      },
      "source": "# create top 15 out and extract incoming from mean grouped\n\nout_mean = dw_group.loc[dw_group.direction=='outgoing']\nout_mean.sort_values(by='students', ascending=False)\nout15_mean = out_mean[0:15]\nout15_mean = out15_mean.rename(columns={'students': 'students_out'}).drop(columns='direction')\n\nin_mean = dw_group.loc[dw_group.direction=='incoming']\nin_mean = in_mean.rename(columns={'students': 'students_in'}).drop(columns='direction')",
      "execution_count": 358,
      "outputs": []
    },
    {
      "cell_type": "code",
      "metadata": {
        "tags": [],
        "cell_id": "00037-18c581a2-435b-4f18-9d27-ea3efcc596e1",
        "deepnote_to_be_reexecuted": false,
        "source_hash": "aaf8e798",
        "execution_millis": 1,
        "execution_start": 1618147641969,
        "deepnote_cell_type": "code"
      },
      "source": "# combine in one df\ndw_mean15 = pd.merge(out15_mean, in_mean, on='country')",
      "execution_count": 362,
      "outputs": []
    },
    {
      "cell_type": "code",
      "metadata": {
        "tags": [],
        "cell_id": "00039-f76860f6-a9f6-481f-9505-91b2a45ef80e",
        "deepnote_to_be_reexecuted": false,
        "source_hash": "b5ff45b1",
        "execution_millis": 3,
        "execution_start": 1618148009790,
        "deepnote_cell_type": "code"
      },
      "source": "# calculations for marimekko\ndw_mean15['total_flow'] = dw_mean15.students_in + dw_mean15.students_out\ndw_mean15['prop_in'] = (dw_mean15.students_in/dw_mean15.total_flow)*100\ndw_mean15['prop_out'] = (dw_mean15.students_out/dw_mean15.total_flow)*100\ntotal_flow = dw_mean15.students_in.sum() + dw_mean15.students_out.sum()\ndw_mean15['prop_total'] = (dw_mean15.total_flow/total_flow)*100",
      "execution_count": 369,
      "outputs": []
    },
    {
      "cell_type": "code",
      "metadata": {
        "tags": [],
        "cell_id": "00038-806c480b-a16e-4907-a062-7636e449cbf3",
        "deepnote_to_be_reexecuted": false,
        "source_hash": "8280cb5d",
        "execution_millis": 5,
        "execution_start": 1618149063911,
        "deepnote_cell_type": "code"
      },
      "source": "# sort\ndw_mean15 = dw_mean15.sort_values(by='prop_out', ascending=False)",
      "execution_count": 387,
      "outputs": []
    },
    {
      "cell_type": "code",
      "metadata": {
        "tags": [],
        "cell_id": "00034-bc9bfb0a-9c96-45ce-9371-1945179ff09f",
        "deepnote_to_be_reexecuted": false,
        "source_hash": "bc36f0e2",
        "execution_millis": 51,
        "execution_start": 1618149607801,
        "deepnote_cell_type": "code"
      },
      "source": "labels = list(dw_mean15.country)\nwidths = np.array(dw_mean15.prop_total)\n\nstudents = {\n    \"Outgoing\": list(dw_mean15.students_out),\n    \"Incoming\": list(dw_mean15.students_in)\n}\n\ndata = {\n    \"Outgoing\": list(dw_mean15.prop_in),\n    \"Incoming\": list(dw_mean15.prop_out)\n}\n\nfig = go.Figure()\nfor key in data:\n    fig.add_trace(go.Bar(\n        name=key,\n        y=data[key],\n        x=np.cumsum(widths)-widths,\n        width=widths,\n        offset=0,\n        customdata=np.transpose([labels, widths*data[key]]),\n        #texttemplate=\"%{y} x %{width} =<br>%{customdata[1]}\",\n        #textposition=\"inside\",\n        #textangle=0,\n        #textfont_color=\"white\",\n        hovertemplate=\"<br>\".join([\n            \"%{customdata[0]}\",\n            \"% of total: %{width:.1f}\",\n            \"% of students: %{y:.1f}\",\n        ])\n    ))\n\nfig.update_xaxes( \n    tickvals=np.cumsum(widths)-widths/2, \n    ticktext= [\"%s\" % (l) for l in labels]\n)\n\nfig.update_xaxes(range=[0,100])\nfig.update_yaxes(range=[0,100])\n\nfig.update_layout(\n    title_text=\"United States Student Inflow/Outflow\",\n    barmode=\"stack\",\n    uniformtext=dict(mode=\"hide\", minsize=10),\n)",
      "execution_count": 393,
      "outputs": [
        {
          "data": {
            "text/html": "<html>\n<head><meta charset=\"utf-8\" /></head>\n<body>\n    <div>            <script src=\"https://cdnjs.cloudflare.com/ajax/libs/mathjax/2.7.5/MathJax.js?config=TeX-AMS-MML_SVG\"></script><script type=\"text/javascript\">if (window.MathJax) {MathJax.Hub.Config({SVG: {font: \"STIX-Web\"}});}</script>                <script type=\"text/javascript\">window.PlotlyConfig = {MathJaxConfig: 'local'};</script>\n        <script src=\"https://cdn.plot.ly/plotly-latest.min.js\"></script>                <div id=\"9cc022a0-ad7f-442c-87c3-7f106fda68b8\" class=\"plotly-graph-div\" style=\"height:525px; width:100%;\"></div>            <script type=\"text/javascript\">                                    window.PLOTLYENV=window.PLOTLYENV || {};                                    if (document.getElementById(\"9cc022a0-ad7f-442c-87c3-7f106fda68b8\")) {                    Plotly.newPlot(                        \"9cc022a0-ad7f-442c-87c3-7f106fda68b8\",                        [{\"customdata\": [[\"Spain\", \"103.53768441169036\"], [\"United Kingdom\", \"152.07681325926305\"], [\"France\", \"125.43710422919777\"], [\"Germany\", \"152.58647183450856\"], [\"Mexico\", \"229.52642750536702\"], [\"Russia\", \"85.79252683299637\"], [\"Sweden\", \"73.9246097469689\"], [\"Brazil\", \"181.64344164653485\"], [\"Japan\", \"462.9251347535694\"], [\"Thailand\", \"139.79235345230018\"], [\"Hong Kong\", \"126.72236309681452\"], [\"China\", \"2974.248471206788\"], [\"Canada\", \"439.05156950492346\"], [\"South Korea\", \"976.0379732448811\"], [\"India\", \"1848.4649305515595\"]], \"hovertemplate\": \"%{customdata[0]}<br>% of total: %{width:.1f}<br>% of students: %{y:.1f}<br>incoming: %{labels}<br>area: %{customdata[1]}\", \"name\": \"Outgoing\", \"offset\": 0, \"type\": \"bar\", \"width\": [4.966821998842068, 7.036576198913064, 3.819022833355943, 2.8946677767036255, 3.413442327096284, 1.1073766129426421, 0.9139850320140412, 2.227706378107875, 5.482077350520273, 1.6448748189321887, 1.451006191650529, 31.361197325430094, 4.614299218987481, 10.109214499234366, 18.957731437269523], \"x\": [0.0, 4.966821998842068, 12.003398197755132, 15.822421031111075, 18.7170888078147, 22.130531134910985, 23.237907747853626, 24.151892779867666, 26.37959915797554, 31.861676508495812, 33.506551327428, 34.95755751907852, 66.31875484450862, 70.9330540634961, 81.04226856273047], \"y\": [20.845861686975788, 21.612330906436323, 32.845340209440614, 52.71294794605762, 67.24192340481653, 77.47366689009179, 80.88164155606567, 81.5383227482679, 84.44337887892732, 84.98662137891432, 87.33412981006443, 94.83848592716313, 95.15021646152908, 96.5493385582829, 97.50454249592394]}, {\"customdata\": [[\"Spain\", \"393.1445154725165\"], [\"United Kingdom\", \"551.5808066320434\"], [\"France\", \"256.46517910639653\"], [\"Germany\", \"136.88030583585393\"], [\"Mexico\", \"111.81780520426142\"], [\"Russia\", \"24.945134461267855\"], [\"Sweden\", \"17.473893454435217\"], [\"Brazil\", \"41.12719616425267\"], [\"Japan\", \"85.28260029845785\"], [\"Thailand\", \"24.695128440918708\"], [\"Hong Kong\", \"18.378256068238397\"], [\"China\", \"161.87126133622115\"], [\"Canada\", \"22.37835239382471\"], [\"South Korea\", \"34.883476678555546\"], [\"India\", \"47.30821317539278\"]], \"hovertemplate\": \"%{customdata[0]}<br>% of total: %{width:.1f}<br>% of students: %{y:.1f}<br>incoming: %{labels}<br>area: %{customdata[1]}\", \"name\": \"Incoming\", \"offset\": 0, \"type\": \"bar\", \"width\": [4.966821998842068, 7.036576198913064, 3.819022833355943, 2.8946677767036255, 3.413442327096284, 1.1073766129426421, 0.9139850320140412, 2.227706378107875, 5.482077350520273, 1.6448748189321887, 1.451006191650529, 31.361197325430094, 4.614299218987481, 10.109214499234366, 18.957731437269523], \"x\": [0.0, 4.966821998842068, 12.003398197755132, 15.822421031111075, 18.7170888078147, 22.130531134910985, 23.237907747853626, 24.151892779867666, 26.37959915797554, 31.861676508495812, 33.506551327428, 34.95755751907852, 66.31875484450862, 70.9330540634961, 81.04226856273047], \"y\": [79.15413831302422, 78.38766909356369, 67.15465979055939, 47.28705205394236, 32.75807659518348, 22.52633310990822, 19.118358443934312, 18.4616772517321, 15.556621121072684, 15.013378621085685, 12.665870189935585, 5.1615140728368605, 4.84978353847092, 3.450661441717108, 2.4954575040760556]}],                        {\"barmode\": \"stack\", \"template\": {\"data\": {\"bar\": [{\"error_x\": {\"color\": \"#2a3f5f\"}, \"error_y\": {\"color\": \"#2a3f5f\"}, \"marker\": {\"line\": {\"color\": \"#E5ECF6\", \"width\": 0.5}}, \"type\": \"bar\"}], \"barpolar\": [{\"marker\": {\"line\": {\"color\": \"#E5ECF6\", \"width\": 0.5}}, \"type\": \"barpolar\"}], \"carpet\": [{\"aaxis\": {\"endlinecolor\": \"#2a3f5f\", \"gridcolor\": \"white\", \"linecolor\": \"white\", \"minorgridcolor\": \"white\", \"startlinecolor\": \"#2a3f5f\"}, \"baxis\": {\"endlinecolor\": \"#2a3f5f\", \"gridcolor\": \"white\", \"linecolor\": \"white\", \"minorgridcolor\": \"white\", \"startlinecolor\": \"#2a3f5f\"}, \"type\": \"carpet\"}], \"choropleth\": [{\"colorbar\": {\"outlinewidth\": 0, \"ticks\": \"\"}, \"type\": \"choropleth\"}], \"contour\": [{\"colorbar\": {\"outlinewidth\": 0, \"ticks\": \"\"}, \"colorscale\": [[0.0, \"#0d0887\"], [0.1111111111111111, \"#46039f\"], [0.2222222222222222, \"#7201a8\"], [0.3333333333333333, \"#9c179e\"], [0.4444444444444444, \"#bd3786\"], [0.5555555555555556, \"#d8576b\"], [0.6666666666666666, \"#ed7953\"], [0.7777777777777778, \"#fb9f3a\"], [0.8888888888888888, \"#fdca26\"], [1.0, \"#f0f921\"]], \"type\": \"contour\"}], \"contourcarpet\": [{\"colorbar\": {\"outlinewidth\": 0, \"ticks\": \"\"}, \"type\": \"contourcarpet\"}], \"heatmap\": [{\"colorbar\": {\"outlinewidth\": 0, \"ticks\": \"\"}, \"colorscale\": [[0.0, \"#0d0887\"], [0.1111111111111111, \"#46039f\"], [0.2222222222222222, \"#7201a8\"], [0.3333333333333333, \"#9c179e\"], [0.4444444444444444, \"#bd3786\"], [0.5555555555555556, \"#d8576b\"], [0.6666666666666666, \"#ed7953\"], [0.7777777777777778, \"#fb9f3a\"], [0.8888888888888888, \"#fdca26\"], [1.0, \"#f0f921\"]], \"type\": \"heatmap\"}], \"heatmapgl\": [{\"colorbar\": {\"outlinewidth\": 0, \"ticks\": \"\"}, \"colorscale\": [[0.0, \"#0d0887\"], [0.1111111111111111, \"#46039f\"], [0.2222222222222222, \"#7201a8\"], [0.3333333333333333, \"#9c179e\"], [0.4444444444444444, \"#bd3786\"], [0.5555555555555556, \"#d8576b\"], [0.6666666666666666, \"#ed7953\"], [0.7777777777777778, \"#fb9f3a\"], [0.8888888888888888, \"#fdca26\"], [1.0, \"#f0f921\"]], \"type\": \"heatmapgl\"}], \"histogram\": [{\"marker\": {\"colorbar\": {\"outlinewidth\": 0, \"ticks\": \"\"}}, \"type\": \"histogram\"}], \"histogram2d\": [{\"colorbar\": {\"outlinewidth\": 0, \"ticks\": \"\"}, \"colorscale\": [[0.0, \"#0d0887\"], [0.1111111111111111, \"#46039f\"], [0.2222222222222222, \"#7201a8\"], [0.3333333333333333, \"#9c179e\"], [0.4444444444444444, \"#bd3786\"], [0.5555555555555556, \"#d8576b\"], [0.6666666666666666, \"#ed7953\"], [0.7777777777777778, \"#fb9f3a\"], [0.8888888888888888, \"#fdca26\"], [1.0, \"#f0f921\"]], \"type\": \"histogram2d\"}], \"histogram2dcontour\": [{\"colorbar\": {\"outlinewidth\": 0, \"ticks\": \"\"}, \"colorscale\": [[0.0, \"#0d0887\"], [0.1111111111111111, \"#46039f\"], [0.2222222222222222, \"#7201a8\"], [0.3333333333333333, \"#9c179e\"], [0.4444444444444444, \"#bd3786\"], [0.5555555555555556, \"#d8576b\"], [0.6666666666666666, \"#ed7953\"], [0.7777777777777778, \"#fb9f3a\"], [0.8888888888888888, \"#fdca26\"], [1.0, \"#f0f921\"]], \"type\": \"histogram2dcontour\"}], \"mesh3d\": [{\"colorbar\": {\"outlinewidth\": 0, \"ticks\": \"\"}, \"type\": \"mesh3d\"}], \"parcoords\": [{\"line\": {\"colorbar\": {\"outlinewidth\": 0, \"ticks\": \"\"}}, \"type\": \"parcoords\"}], \"pie\": [{\"automargin\": true, \"type\": \"pie\"}], \"scatter\": [{\"marker\": {\"colorbar\": {\"outlinewidth\": 0, \"ticks\": \"\"}}, \"type\": \"scatter\"}], \"scatter3d\": [{\"line\": {\"colorbar\": {\"outlinewidth\": 0, \"ticks\": \"\"}}, \"marker\": {\"colorbar\": {\"outlinewidth\": 0, \"ticks\": \"\"}}, \"type\": \"scatter3d\"}], \"scattercarpet\": [{\"marker\": {\"colorbar\": {\"outlinewidth\": 0, \"ticks\": \"\"}}, \"type\": \"scattercarpet\"}], \"scattergeo\": [{\"marker\": {\"colorbar\": {\"outlinewidth\": 0, \"ticks\": \"\"}}, \"type\": \"scattergeo\"}], \"scattergl\": [{\"marker\": {\"colorbar\": {\"outlinewidth\": 0, \"ticks\": \"\"}}, \"type\": \"scattergl\"}], \"scattermapbox\": [{\"marker\": {\"colorbar\": {\"outlinewidth\": 0, \"ticks\": \"\"}}, \"type\": \"scattermapbox\"}], \"scatterpolar\": [{\"marker\": {\"colorbar\": {\"outlinewidth\": 0, \"ticks\": \"\"}}, \"type\": \"scatterpolar\"}], \"scatterpolargl\": [{\"marker\": {\"colorbar\": {\"outlinewidth\": 0, \"ticks\": \"\"}}, \"type\": \"scatterpolargl\"}], \"scatterternary\": [{\"marker\": {\"colorbar\": {\"outlinewidth\": 0, \"ticks\": \"\"}}, \"type\": \"scatterternary\"}], \"surface\": [{\"colorbar\": {\"outlinewidth\": 0, \"ticks\": \"\"}, \"colorscale\": [[0.0, \"#0d0887\"], [0.1111111111111111, \"#46039f\"], [0.2222222222222222, \"#7201a8\"], [0.3333333333333333, \"#9c179e\"], [0.4444444444444444, \"#bd3786\"], [0.5555555555555556, \"#d8576b\"], [0.6666666666666666, \"#ed7953\"], [0.7777777777777778, \"#fb9f3a\"], [0.8888888888888888, \"#fdca26\"], [1.0, \"#f0f921\"]], \"type\": \"surface\"}], \"table\": [{\"cells\": {\"fill\": {\"color\": \"#EBF0F8\"}, \"line\": {\"color\": \"white\"}}, \"header\": {\"fill\": {\"color\": \"#C8D4E3\"}, \"line\": {\"color\": \"white\"}}, \"type\": \"table\"}]}, \"layout\": {\"annotationdefaults\": {\"arrowcolor\": \"#2a3f5f\", \"arrowhead\": 0, \"arrowwidth\": 1}, \"autotypenumbers\": \"strict\", \"coloraxis\": {\"colorbar\": {\"outlinewidth\": 0, \"ticks\": \"\"}}, \"colorscale\": {\"diverging\": [[0, \"#8e0152\"], [0.1, \"#c51b7d\"], [0.2, \"#de77ae\"], [0.3, \"#f1b6da\"], [0.4, \"#fde0ef\"], [0.5, \"#f7f7f7\"], [0.6, \"#e6f5d0\"], [0.7, \"#b8e186\"], [0.8, \"#7fbc41\"], [0.9, \"#4d9221\"], [1, \"#276419\"]], \"sequential\": [[0.0, \"#0d0887\"], [0.1111111111111111, \"#46039f\"], [0.2222222222222222, \"#7201a8\"], [0.3333333333333333, \"#9c179e\"], [0.4444444444444444, \"#bd3786\"], [0.5555555555555556, \"#d8576b\"], [0.6666666666666666, \"#ed7953\"], [0.7777777777777778, \"#fb9f3a\"], [0.8888888888888888, \"#fdca26\"], [1.0, \"#f0f921\"]], \"sequentialminus\": [[0.0, \"#0d0887\"], [0.1111111111111111, \"#46039f\"], [0.2222222222222222, \"#7201a8\"], [0.3333333333333333, \"#9c179e\"], [0.4444444444444444, \"#bd3786\"], [0.5555555555555556, \"#d8576b\"], [0.6666666666666666, \"#ed7953\"], [0.7777777777777778, \"#fb9f3a\"], [0.8888888888888888, \"#fdca26\"], [1.0, \"#f0f921\"]]}, \"colorway\": [\"#636efa\", \"#EF553B\", \"#00cc96\", \"#ab63fa\", \"#FFA15A\", \"#19d3f3\", \"#FF6692\", \"#B6E880\", \"#FF97FF\", \"#FECB52\"], \"font\": {\"color\": \"#2a3f5f\"}, \"geo\": {\"bgcolor\": \"white\", \"lakecolor\": \"white\", \"landcolor\": \"#E5ECF6\", \"showlakes\": true, \"showland\": true, \"subunitcolor\": \"white\"}, \"hoverlabel\": {\"align\": \"left\"}, \"hovermode\": \"closest\", \"mapbox\": {\"style\": \"light\"}, \"paper_bgcolor\": \"white\", \"plot_bgcolor\": \"#E5ECF6\", \"polar\": {\"angularaxis\": {\"gridcolor\": \"white\", \"linecolor\": \"white\", \"ticks\": \"\"}, \"bgcolor\": \"#E5ECF6\", \"radialaxis\": {\"gridcolor\": \"white\", \"linecolor\": \"white\", \"ticks\": \"\"}}, \"scene\": {\"xaxis\": {\"backgroundcolor\": \"#E5ECF6\", \"gridcolor\": \"white\", \"gridwidth\": 2, \"linecolor\": \"white\", \"showbackground\": true, \"ticks\": \"\", \"zerolinecolor\": \"white\"}, \"yaxis\": {\"backgroundcolor\": \"#E5ECF6\", \"gridcolor\": \"white\", \"gridwidth\": 2, \"linecolor\": \"white\", \"showbackground\": true, \"ticks\": \"\", \"zerolinecolor\": \"white\"}, \"zaxis\": {\"backgroundcolor\": \"#E5ECF6\", \"gridcolor\": \"white\", \"gridwidth\": 2, \"linecolor\": \"white\", \"showbackground\": true, \"ticks\": \"\", \"zerolinecolor\": \"white\"}}, \"shapedefaults\": {\"line\": {\"color\": \"#2a3f5f\"}}, \"ternary\": {\"aaxis\": {\"gridcolor\": \"white\", \"linecolor\": \"white\", \"ticks\": \"\"}, \"baxis\": {\"gridcolor\": \"white\", \"linecolor\": \"white\", \"ticks\": \"\"}, \"bgcolor\": \"#E5ECF6\", \"caxis\": {\"gridcolor\": \"white\", \"linecolor\": \"white\", \"ticks\": \"\"}}, \"title\": {\"x\": 0.05}, \"xaxis\": {\"automargin\": true, \"gridcolor\": \"white\", \"linecolor\": \"white\", \"ticks\": \"\", \"title\": {\"standoff\": 15}, \"zerolinecolor\": \"white\", \"zerolinewidth\": 2}, \"yaxis\": {\"automargin\": true, \"gridcolor\": \"white\", \"linecolor\": \"white\", \"ticks\": \"\", \"title\": {\"standoff\": 15}, \"zerolinecolor\": \"white\", \"zerolinewidth\": 2}}}, \"title\": {\"text\": \"United States Student Inflow/Outflow\"}, \"uniformtext\": {\"minsize\": 10, \"mode\": \"hide\"}, \"xaxis\": {\"range\": [0, 100], \"ticktext\": [\"Spain\", \"United Kingdom\", \"France\", \"Germany\", \"Mexico\", \"Russia\", \"Sweden\", \"Brazil\", \"Japan\", \"Thailand\", \"Hong Kong\", \"China\", \"Canada\", \"South Korea\", \"India\"], \"tickvals\": [2.483410999421034, 8.4851100982986, 13.912909614433104, 17.269754919462887, 20.423809971362843, 22.684219441382304, 23.694900263860646, 25.265745968921603, 29.120637833235676, 32.6841139179619, 34.23205442325326, 50.63815618179357, 68.62590445400237, 75.98766131311329, 90.52113428136524]}, \"yaxis\": {\"range\": [0, 100]}},                        {\"responsive\": true}                    ).then(function(){\n                            \nvar gd = document.getElementById('9cc022a0-ad7f-442c-87c3-7f106fda68b8');\nvar x = new MutationObserver(function (mutations, observer) {{\n        var display = window.getComputedStyle(gd).display;\n        if (!display || display === 'none') {{\n            console.log([gd, 'removed!']);\n            Plotly.purge(gd);\n            observer.disconnect();\n        }}\n}});\n\n// Listen for the removal of the full notebook cells\nvar notebookContainer = gd.closest('#notebook-container');\nif (notebookContainer) {{\n    x.observe(notebookContainer, {childList: true});\n}}\n\n// Listen for the clearing of the current output cell\nvar outputEl = gd.closest('.output');\nif (outputEl) {{\n    x.observe(outputEl, {childList: true});\n}}\n\n                        })                };                            </script>        </div>\n</body>\n</html>"
          },
          "metadata": {},
          "output_type": "display_data"
        }
      ]
    },
    {
      "cell_type": "markdown",
      "source": "### Sankey",
      "metadata": {
        "tags": [],
        "cell_id": "00034-6cc1825a-beaf-49bc-baa1-d90bc5de7b5c",
        "deepnote_cell_type": "markdown"
      }
    },
    {
      "cell_type": "code",
      "metadata": {
        "tags": [],
        "cell_id": "00032-ef47ca09-6c97-4442-8b81-32d7ed776d29",
        "deepnote_cell_type": "code"
      },
      "source": "# from_country -> source\n# to_country -> target",
      "execution_count": null,
      "outputs": []
    },
    {
      "cell_type": "code",
      "metadata": {
        "tags": [],
        "cell_id": "00033-97289d55-b308-471a-8130-49d4141c4618",
        "deepnote_to_be_reexecuted": false,
        "source_hash": "21a5169c",
        "execution_millis": 1,
        "execution_start": 1618107470775,
        "deepnote_cell_type": "code"
      },
      "source": "from floweaver import *\nimport plotly.graph_objects as go",
      "execution_count": 178,
      "outputs": []
    },
    {
      "cell_type": "code",
      "metadata": {
        "tags": [],
        "cell_id": "00034-e68e40a7-0fab-4982-a30f-43b4a62527cd",
        "deepnote_to_be_reexecuted": false,
        "source_hash": "769b664f",
        "execution_start": 1618107602427,
        "execution_millis": 2,
        "deepnote_cell_type": "code"
      },
      "source": "dw_in['source'] = 'United States'",
      "execution_count": 186,
      "outputs": []
    },
    {
      "cell_type": "code",
      "metadata": {
        "tags": [],
        "cell_id": "00035-d0093092-eb0c-4263-9d32-235382e9083e",
        "deepnote_to_be_reexecuted": false,
        "source_hash": "e17f3737",
        "execution_millis": 8,
        "execution_start": 1618108851575,
        "deepnote_cell_type": "code"
      },
      "source": "source = list(dw_in[dw_in.year==2018].source)\ntarget = list(dw_in[dw_in.year==2018].country)\nvalue = list(dw_in[dw_in.year==2018].students)\nvalue = [int(x) for x in value]",
      "execution_count": 288,
      "outputs": []
    },
    {
      "cell_type": "code",
      "metadata": {
        "tags": [],
        "cell_id": "00039-ccbb3ad4-3588-4f5a-b8ef-df5150f0950d",
        "deepnote_to_be_reexecuted": false,
        "source_hash": "382879a5",
        "execution_millis": 1,
        "execution_start": 1618109072493,
        "deepnote_cell_type": "code"
      },
      "source": "label = list(dw_in[dw_in.year==2018].country)\nlabel.insert(0,'United States')",
      "execution_count": 300,
      "outputs": []
    },
    {
      "cell_type": "code",
      "metadata": {
        "tags": [],
        "cell_id": "00037-4ac3082b-6f65-4faf-9277-13dd5e3126c5",
        "deepnote_to_be_reexecuted": false,
        "source_hash": "82ef483e",
        "execution_millis": 9,
        "execution_start": 1618109073263,
        "deepnote_cell_type": "code"
      },
      "source": "label",
      "execution_count": 301,
      "outputs": [
        {
          "output_type": "execute_result",
          "execution_count": 301,
          "data": {
            "text/plain": "['United States',\n 'China',\n 'India',\n 'South Korea',\n 'Saudi Arabia',\n 'Canada',\n 'Vietnam',\n 'Taiwan',\n 'Japan',\n 'Brazil',\n 'Mexico',\n 'Nigeria',\n 'Nepal',\n 'Iran',\n 'United Kingdom',\n 'Turkey',\n 'Kuwait',\n 'Germany',\n 'France',\n 'Indonesia',\n 'Bangladesh',\n 'Colombia',\n 'Pakistan',\n 'Venezuela',\n 'Malaysia',\n 'Spain']"
          },
          "metadata": {}
        }
      ]
    },
    {
      "cell_type": "code",
      "metadata": {
        "tags": [],
        "cell_id": "00038-2eaee634-52cc-4219-af0b-dfabd7332f73",
        "deepnote_to_be_reexecuted": false,
        "source_hash": "318fc177",
        "execution_millis": 13,
        "execution_start": 1618108918689,
        "deepnote_cell_type": "code"
      },
      "source": "# data\nlabel = label\nsource = source\ntarget = target\nvalue = value\n# data to dict, dict to sankey\nlink = dict(source = source, target = target, value = value)\nnode = dict(label = label, pad=5, thickness=2)\ndata = go.Sankey(link = link, node=node)\n# plot\nfig = go.Figure(data)\nfig.show()\n",
      "execution_count": 292,
      "outputs": [
        {
          "data": {
            "text/html": "<html>\n<head><meta charset=\"utf-8\" /></head>\n<body>\n    <div>            <script src=\"https://cdnjs.cloudflare.com/ajax/libs/mathjax/2.7.5/MathJax.js?config=TeX-AMS-MML_SVG\"></script><script type=\"text/javascript\">if (window.MathJax) {MathJax.Hub.Config({SVG: {font: \"STIX-Web\"}});}</script>                <script type=\"text/javascript\">window.PlotlyConfig = {MathJaxConfig: 'local'};</script>\n        <script src=\"https://cdn.plot.ly/plotly-latest.min.js\"></script>                <div id=\"901ae9b4-25b2-4907-b02d-cd59729cf2b6\" class=\"plotly-graph-div\" style=\"height:525px; width:100%;\"></div>            <script type=\"text/javascript\">                                    window.PLOTLYENV=window.PLOTLYENV || {};                                    if (document.getElementById(\"901ae9b4-25b2-4907-b02d-cd59729cf2b6\")) {                    Plotly.newPlot(                        \"901ae9b4-25b2-4907-b02d-cd59729cf2b6\",                        [{\"link\": {\"source\": [\"United States\", \"United States\", \"United States\", \"United States\", \"United States\", \"United States\", \"United States\", \"United States\", \"United States\", \"United States\", \"United States\", \"United States\", \"United States\", \"United States\", \"United States\", \"United States\", \"United States\", \"United States\", \"United States\", \"United States\", \"United States\", \"United States\", \"United States\", \"United States\", \"United States\"], \"target\": [\"China\", \"India\", \"South Korea\", \"Saudi Arabia\", \"Canada\", \"Vietnam\", \"Taiwan\", \"Japan\", \"Brazil\", \"Mexico\", \"Nigeria\", \"Nepal\", \"Iran\", \"United Kingdom\", \"Turkey\", \"Kuwait\", \"Germany\", \"France\", \"Indonesia\", \"Bangladesh\", \"Colombia\", \"Pakistan\", \"Venezuela\", \"Malaysia\", \"Spain\"], \"value\": [369548, 202014, 52250, 37080, 26122, 24392, 23369, 18105, 16059, 15229, 13423, 13229, 12142, 11146, 10159, 9195, 9191, 8716, 8356, 8249, 8060, 7957, 7760, 7709, 7262]}, \"node\": {\"label\": [\"United States\", \"China\", \"India\", \"South Korea\", \"Saudi Arabia\", \"Canada\", \"Vietnam\", \"Taiwan\", \"Japan\", \"Brazil\", \"Mexico\", \"Nigeria\", \"Nepal\", \"Iran\", \"United Kingdom\", \"Turkey\", \"Kuwait\", \"Germany\", \"France\", \"Indonesia\", \"Bangladesh\", \"Colombia\", \"Pakistan\", \"Venezuela\", \"Malaysia\", \"Spain\"], \"pad\": 5, \"thickness\": 2}, \"type\": \"sankey\"}],                        {\"template\": {\"data\": {\"bar\": [{\"error_x\": {\"color\": \"#2a3f5f\"}, \"error_y\": {\"color\": \"#2a3f5f\"}, \"marker\": {\"line\": {\"color\": \"#E5ECF6\", \"width\": 0.5}}, \"type\": \"bar\"}], \"barpolar\": [{\"marker\": {\"line\": {\"color\": \"#E5ECF6\", \"width\": 0.5}}, \"type\": \"barpolar\"}], \"carpet\": [{\"aaxis\": {\"endlinecolor\": \"#2a3f5f\", \"gridcolor\": \"white\", \"linecolor\": \"white\", \"minorgridcolor\": \"white\", \"startlinecolor\": \"#2a3f5f\"}, \"baxis\": {\"endlinecolor\": \"#2a3f5f\", \"gridcolor\": \"white\", \"linecolor\": \"white\", \"minorgridcolor\": \"white\", \"startlinecolor\": \"#2a3f5f\"}, \"type\": \"carpet\"}], \"choropleth\": [{\"colorbar\": {\"outlinewidth\": 0, \"ticks\": \"\"}, \"type\": \"choropleth\"}], \"contour\": [{\"colorbar\": {\"outlinewidth\": 0, \"ticks\": \"\"}, \"colorscale\": [[0.0, \"#0d0887\"], [0.1111111111111111, \"#46039f\"], [0.2222222222222222, \"#7201a8\"], [0.3333333333333333, \"#9c179e\"], [0.4444444444444444, \"#bd3786\"], [0.5555555555555556, \"#d8576b\"], [0.6666666666666666, \"#ed7953\"], [0.7777777777777778, \"#fb9f3a\"], [0.8888888888888888, \"#fdca26\"], [1.0, \"#f0f921\"]], \"type\": \"contour\"}], \"contourcarpet\": [{\"colorbar\": {\"outlinewidth\": 0, \"ticks\": \"\"}, \"type\": \"contourcarpet\"}], \"heatmap\": [{\"colorbar\": {\"outlinewidth\": 0, \"ticks\": \"\"}, \"colorscale\": [[0.0, \"#0d0887\"], [0.1111111111111111, \"#46039f\"], [0.2222222222222222, \"#7201a8\"], [0.3333333333333333, \"#9c179e\"], [0.4444444444444444, \"#bd3786\"], [0.5555555555555556, \"#d8576b\"], [0.6666666666666666, \"#ed7953\"], [0.7777777777777778, \"#fb9f3a\"], [0.8888888888888888, \"#fdca26\"], [1.0, \"#f0f921\"]], \"type\": \"heatmap\"}], \"heatmapgl\": [{\"colorbar\": {\"outlinewidth\": 0, \"ticks\": \"\"}, \"colorscale\": [[0.0, \"#0d0887\"], [0.1111111111111111, \"#46039f\"], [0.2222222222222222, \"#7201a8\"], [0.3333333333333333, \"#9c179e\"], [0.4444444444444444, \"#bd3786\"], [0.5555555555555556, \"#d8576b\"], [0.6666666666666666, \"#ed7953\"], [0.7777777777777778, \"#fb9f3a\"], [0.8888888888888888, \"#fdca26\"], [1.0, \"#f0f921\"]], \"type\": \"heatmapgl\"}], \"histogram\": [{\"marker\": {\"colorbar\": {\"outlinewidth\": 0, \"ticks\": \"\"}}, \"type\": \"histogram\"}], \"histogram2d\": [{\"colorbar\": {\"outlinewidth\": 0, \"ticks\": \"\"}, \"colorscale\": [[0.0, \"#0d0887\"], [0.1111111111111111, \"#46039f\"], [0.2222222222222222, \"#7201a8\"], [0.3333333333333333, \"#9c179e\"], [0.4444444444444444, \"#bd3786\"], [0.5555555555555556, \"#d8576b\"], [0.6666666666666666, \"#ed7953\"], [0.7777777777777778, \"#fb9f3a\"], [0.8888888888888888, \"#fdca26\"], [1.0, \"#f0f921\"]], \"type\": \"histogram2d\"}], \"histogram2dcontour\": [{\"colorbar\": {\"outlinewidth\": 0, \"ticks\": \"\"}, \"colorscale\": [[0.0, \"#0d0887\"], [0.1111111111111111, \"#46039f\"], [0.2222222222222222, \"#7201a8\"], [0.3333333333333333, \"#9c179e\"], [0.4444444444444444, \"#bd3786\"], [0.5555555555555556, \"#d8576b\"], [0.6666666666666666, \"#ed7953\"], [0.7777777777777778, \"#fb9f3a\"], [0.8888888888888888, \"#fdca26\"], [1.0, \"#f0f921\"]], \"type\": \"histogram2dcontour\"}], \"mesh3d\": [{\"colorbar\": {\"outlinewidth\": 0, \"ticks\": \"\"}, \"type\": \"mesh3d\"}], \"parcoords\": [{\"line\": {\"colorbar\": {\"outlinewidth\": 0, \"ticks\": \"\"}}, \"type\": \"parcoords\"}], \"pie\": [{\"automargin\": true, \"type\": \"pie\"}], \"scatter\": [{\"marker\": {\"colorbar\": {\"outlinewidth\": 0, \"ticks\": \"\"}}, \"type\": \"scatter\"}], \"scatter3d\": [{\"line\": {\"colorbar\": {\"outlinewidth\": 0, \"ticks\": \"\"}}, \"marker\": {\"colorbar\": {\"outlinewidth\": 0, \"ticks\": \"\"}}, \"type\": \"scatter3d\"}], \"scattercarpet\": [{\"marker\": {\"colorbar\": {\"outlinewidth\": 0, \"ticks\": \"\"}}, \"type\": \"scattercarpet\"}], \"scattergeo\": [{\"marker\": {\"colorbar\": {\"outlinewidth\": 0, \"ticks\": \"\"}}, \"type\": \"scattergeo\"}], \"scattergl\": [{\"marker\": {\"colorbar\": {\"outlinewidth\": 0, \"ticks\": \"\"}}, \"type\": \"scattergl\"}], \"scattermapbox\": [{\"marker\": {\"colorbar\": {\"outlinewidth\": 0, \"ticks\": \"\"}}, \"type\": \"scattermapbox\"}], \"scatterpolar\": [{\"marker\": {\"colorbar\": {\"outlinewidth\": 0, \"ticks\": \"\"}}, \"type\": \"scatterpolar\"}], \"scatterpolargl\": [{\"marker\": {\"colorbar\": {\"outlinewidth\": 0, \"ticks\": \"\"}}, \"type\": \"scatterpolargl\"}], \"scatterternary\": [{\"marker\": {\"colorbar\": {\"outlinewidth\": 0, \"ticks\": \"\"}}, \"type\": \"scatterternary\"}], \"surface\": [{\"colorbar\": {\"outlinewidth\": 0, \"ticks\": \"\"}, \"colorscale\": [[0.0, \"#0d0887\"], [0.1111111111111111, \"#46039f\"], [0.2222222222222222, \"#7201a8\"], [0.3333333333333333, \"#9c179e\"], [0.4444444444444444, \"#bd3786\"], [0.5555555555555556, \"#d8576b\"], [0.6666666666666666, \"#ed7953\"], [0.7777777777777778, \"#fb9f3a\"], [0.8888888888888888, \"#fdca26\"], [1.0, \"#f0f921\"]], \"type\": \"surface\"}], \"table\": [{\"cells\": {\"fill\": {\"color\": \"#EBF0F8\"}, \"line\": {\"color\": \"white\"}}, \"header\": {\"fill\": {\"color\": \"#C8D4E3\"}, \"line\": {\"color\": \"white\"}}, \"type\": \"table\"}]}, \"layout\": {\"annotationdefaults\": {\"arrowcolor\": \"#2a3f5f\", \"arrowhead\": 0, \"arrowwidth\": 1}, \"autotypenumbers\": \"strict\", \"coloraxis\": {\"colorbar\": {\"outlinewidth\": 0, \"ticks\": \"\"}}, \"colorscale\": {\"diverging\": [[0, \"#8e0152\"], [0.1, \"#c51b7d\"], [0.2, \"#de77ae\"], [0.3, \"#f1b6da\"], [0.4, \"#fde0ef\"], [0.5, \"#f7f7f7\"], [0.6, \"#e6f5d0\"], [0.7, \"#b8e186\"], [0.8, \"#7fbc41\"], [0.9, \"#4d9221\"], [1, \"#276419\"]], \"sequential\": [[0.0, \"#0d0887\"], [0.1111111111111111, \"#46039f\"], [0.2222222222222222, \"#7201a8\"], [0.3333333333333333, \"#9c179e\"], [0.4444444444444444, \"#bd3786\"], [0.5555555555555556, \"#d8576b\"], [0.6666666666666666, \"#ed7953\"], [0.7777777777777778, \"#fb9f3a\"], [0.8888888888888888, \"#fdca26\"], [1.0, \"#f0f921\"]], \"sequentialminus\": [[0.0, \"#0d0887\"], [0.1111111111111111, \"#46039f\"], [0.2222222222222222, \"#7201a8\"], [0.3333333333333333, \"#9c179e\"], [0.4444444444444444, \"#bd3786\"], [0.5555555555555556, \"#d8576b\"], [0.6666666666666666, \"#ed7953\"], [0.7777777777777778, \"#fb9f3a\"], [0.8888888888888888, \"#fdca26\"], [1.0, \"#f0f921\"]]}, \"colorway\": [\"#636efa\", \"#EF553B\", \"#00cc96\", \"#ab63fa\", \"#FFA15A\", \"#19d3f3\", \"#FF6692\", \"#B6E880\", \"#FF97FF\", \"#FECB52\"], \"font\": {\"color\": \"#2a3f5f\"}, \"geo\": {\"bgcolor\": \"white\", \"lakecolor\": \"white\", \"landcolor\": \"#E5ECF6\", \"showlakes\": true, \"showland\": true, \"subunitcolor\": \"white\"}, \"hoverlabel\": {\"align\": \"left\"}, \"hovermode\": \"closest\", \"mapbox\": {\"style\": \"light\"}, \"paper_bgcolor\": \"white\", \"plot_bgcolor\": \"#E5ECF6\", \"polar\": {\"angularaxis\": {\"gridcolor\": \"white\", \"linecolor\": \"white\", \"ticks\": \"\"}, \"bgcolor\": \"#E5ECF6\", \"radialaxis\": {\"gridcolor\": \"white\", \"linecolor\": \"white\", \"ticks\": \"\"}}, \"scene\": {\"xaxis\": {\"backgroundcolor\": \"#E5ECF6\", \"gridcolor\": \"white\", \"gridwidth\": 2, \"linecolor\": \"white\", \"showbackground\": true, \"ticks\": \"\", \"zerolinecolor\": \"white\"}, \"yaxis\": {\"backgroundcolor\": \"#E5ECF6\", \"gridcolor\": \"white\", \"gridwidth\": 2, \"linecolor\": \"white\", \"showbackground\": true, \"ticks\": \"\", \"zerolinecolor\": \"white\"}, \"zaxis\": {\"backgroundcolor\": \"#E5ECF6\", \"gridcolor\": \"white\", \"gridwidth\": 2, \"linecolor\": \"white\", \"showbackground\": true, \"ticks\": \"\", \"zerolinecolor\": \"white\"}}, \"shapedefaults\": {\"line\": {\"color\": \"#2a3f5f\"}}, \"ternary\": {\"aaxis\": {\"gridcolor\": \"white\", \"linecolor\": \"white\", \"ticks\": \"\"}, \"baxis\": {\"gridcolor\": \"white\", \"linecolor\": \"white\", \"ticks\": \"\"}, \"bgcolor\": \"#E5ECF6\", \"caxis\": {\"gridcolor\": \"white\", \"linecolor\": \"white\", \"ticks\": \"\"}}, \"title\": {\"x\": 0.05}, \"xaxis\": {\"automargin\": true, \"gridcolor\": \"white\", \"linecolor\": \"white\", \"ticks\": \"\", \"title\": {\"standoff\": 15}, \"zerolinecolor\": \"white\", \"zerolinewidth\": 2}, \"yaxis\": {\"automargin\": true, \"gridcolor\": \"white\", \"linecolor\": \"white\", \"ticks\": \"\", \"title\": {\"standoff\": 15}, \"zerolinecolor\": \"white\", \"zerolinewidth\": 2}}}},                        {\"responsive\": true}                    ).then(function(){\n                            \nvar gd = document.getElementById('901ae9b4-25b2-4907-b02d-cd59729cf2b6');\nvar x = new MutationObserver(function (mutations, observer) {{\n        var display = window.getComputedStyle(gd).display;\n        if (!display || display === 'none') {{\n            console.log([gd, 'removed!']);\n            Plotly.purge(gd);\n            observer.disconnect();\n        }}\n}});\n\n// Listen for the removal of the full notebook cells\nvar notebookContainer = gd.closest('#notebook-container');\nif (notebookContainer) {{\n    x.observe(notebookContainer, {childList: true});\n}}\n\n// Listen for the clearing of the current output cell\nvar outputEl = gd.closest('.output');\nif (outputEl) {{\n    x.observe(outputEl, {childList: true});\n}}\n\n                        })                };                            </script>        </div>\n</body>\n</html>"
          },
          "metadata": {},
          "output_type": "display_data"
        }
      ]
    },
    {
      "cell_type": "code",
      "metadata": {
        "tags": [],
        "cell_id": "00039-71d8a7b6-6d01-4da0-8dc7-dec06ff284ae",
        "deepnote_to_be_reexecuted": false,
        "source_hash": "4a6d296e",
        "execution_millis": 20,
        "execution_start": 1618108931528,
        "deepnote_cell_type": "code"
      },
      "source": "# data\nlabel = [\"ZERO\", \"ONE\", \"TWO\", \"THREE\", \"FOUR\", \"FIVE\"]\nsource = [0, 0, 1, 1, 0]\ntarget = [2, 3, 4, 5, 4]\nvalue = [8, 2, 2, 8, 4]\n# data to dict, dict to sankey\nlink = dict(source = source, target = target, value = value)\nnode = dict(label = label, pad=50, thickness=5)\ndata = go.Sankey(link = link, node=node)\n# plot\nfig = go.Figure(data)\nfig.show()\n",
      "execution_count": 293,
      "outputs": [
        {
          "data": {
            "text/html": "<html>\n<head><meta charset=\"utf-8\" /></head>\n<body>\n    <div>            <script src=\"https://cdnjs.cloudflare.com/ajax/libs/mathjax/2.7.5/MathJax.js?config=TeX-AMS-MML_SVG\"></script><script type=\"text/javascript\">if (window.MathJax) {MathJax.Hub.Config({SVG: {font: \"STIX-Web\"}});}</script>                <script type=\"text/javascript\">window.PlotlyConfig = {MathJaxConfig: 'local'};</script>\n        <script src=\"https://cdn.plot.ly/plotly-latest.min.js\"></script>                <div id=\"4d993a34-fbe7-491c-86fd-20192e4b442c\" class=\"plotly-graph-div\" style=\"height:525px; width:100%;\"></div>            <script type=\"text/javascript\">                                    window.PLOTLYENV=window.PLOTLYENV || {};                                    if (document.getElementById(\"4d993a34-fbe7-491c-86fd-20192e4b442c\")) {                    Plotly.newPlot(                        \"4d993a34-fbe7-491c-86fd-20192e4b442c\",                        [{\"link\": {\"source\": [0, 0, 1, 1, 0], \"target\": [2, 3, 4, 5, 4], \"value\": [8, 2, 2, 8, 4]}, \"node\": {\"label\": [\"ZERO\", \"ONE\", \"TWO\", \"THREE\", \"FOUR\", \"FIVE\"], \"pad\": 50, \"thickness\": 5}, \"type\": \"sankey\"}],                        {\"template\": {\"data\": {\"bar\": [{\"error_x\": {\"color\": \"#2a3f5f\"}, \"error_y\": {\"color\": \"#2a3f5f\"}, \"marker\": {\"line\": {\"color\": \"#E5ECF6\", \"width\": 0.5}}, \"type\": \"bar\"}], \"barpolar\": [{\"marker\": {\"line\": {\"color\": \"#E5ECF6\", \"width\": 0.5}}, \"type\": \"barpolar\"}], \"carpet\": [{\"aaxis\": {\"endlinecolor\": \"#2a3f5f\", \"gridcolor\": \"white\", \"linecolor\": \"white\", \"minorgridcolor\": \"white\", \"startlinecolor\": \"#2a3f5f\"}, \"baxis\": {\"endlinecolor\": \"#2a3f5f\", \"gridcolor\": \"white\", \"linecolor\": \"white\", \"minorgridcolor\": \"white\", \"startlinecolor\": \"#2a3f5f\"}, \"type\": \"carpet\"}], \"choropleth\": [{\"colorbar\": {\"outlinewidth\": 0, \"ticks\": \"\"}, \"type\": \"choropleth\"}], \"contour\": [{\"colorbar\": {\"outlinewidth\": 0, \"ticks\": \"\"}, \"colorscale\": [[0.0, \"#0d0887\"], [0.1111111111111111, \"#46039f\"], [0.2222222222222222, \"#7201a8\"], [0.3333333333333333, \"#9c179e\"], [0.4444444444444444, \"#bd3786\"], [0.5555555555555556, \"#d8576b\"], [0.6666666666666666, \"#ed7953\"], [0.7777777777777778, \"#fb9f3a\"], [0.8888888888888888, \"#fdca26\"], [1.0, \"#f0f921\"]], \"type\": \"contour\"}], \"contourcarpet\": [{\"colorbar\": {\"outlinewidth\": 0, \"ticks\": \"\"}, \"type\": \"contourcarpet\"}], \"heatmap\": [{\"colorbar\": {\"outlinewidth\": 0, \"ticks\": \"\"}, \"colorscale\": [[0.0, \"#0d0887\"], [0.1111111111111111, \"#46039f\"], [0.2222222222222222, \"#7201a8\"], [0.3333333333333333, \"#9c179e\"], [0.4444444444444444, \"#bd3786\"], [0.5555555555555556, \"#d8576b\"], [0.6666666666666666, \"#ed7953\"], [0.7777777777777778, \"#fb9f3a\"], [0.8888888888888888, \"#fdca26\"], [1.0, \"#f0f921\"]], \"type\": \"heatmap\"}], \"heatmapgl\": [{\"colorbar\": {\"outlinewidth\": 0, \"ticks\": \"\"}, \"colorscale\": [[0.0, \"#0d0887\"], [0.1111111111111111, \"#46039f\"], [0.2222222222222222, \"#7201a8\"], [0.3333333333333333, \"#9c179e\"], [0.4444444444444444, \"#bd3786\"], [0.5555555555555556, \"#d8576b\"], [0.6666666666666666, \"#ed7953\"], [0.7777777777777778, \"#fb9f3a\"], [0.8888888888888888, \"#fdca26\"], [1.0, \"#f0f921\"]], \"type\": \"heatmapgl\"}], \"histogram\": [{\"marker\": {\"colorbar\": {\"outlinewidth\": 0, \"ticks\": \"\"}}, \"type\": \"histogram\"}], \"histogram2d\": [{\"colorbar\": {\"outlinewidth\": 0, \"ticks\": \"\"}, \"colorscale\": [[0.0, \"#0d0887\"], [0.1111111111111111, \"#46039f\"], [0.2222222222222222, \"#7201a8\"], [0.3333333333333333, \"#9c179e\"], [0.4444444444444444, \"#bd3786\"], [0.5555555555555556, \"#d8576b\"], [0.6666666666666666, \"#ed7953\"], [0.7777777777777778, \"#fb9f3a\"], [0.8888888888888888, \"#fdca26\"], [1.0, \"#f0f921\"]], \"type\": \"histogram2d\"}], \"histogram2dcontour\": [{\"colorbar\": {\"outlinewidth\": 0, \"ticks\": \"\"}, \"colorscale\": [[0.0, \"#0d0887\"], [0.1111111111111111, \"#46039f\"], [0.2222222222222222, \"#7201a8\"], [0.3333333333333333, \"#9c179e\"], [0.4444444444444444, \"#bd3786\"], [0.5555555555555556, \"#d8576b\"], [0.6666666666666666, \"#ed7953\"], [0.7777777777777778, \"#fb9f3a\"], [0.8888888888888888, \"#fdca26\"], [1.0, \"#f0f921\"]], \"type\": \"histogram2dcontour\"}], \"mesh3d\": [{\"colorbar\": {\"outlinewidth\": 0, \"ticks\": \"\"}, \"type\": \"mesh3d\"}], \"parcoords\": [{\"line\": {\"colorbar\": {\"outlinewidth\": 0, \"ticks\": \"\"}}, \"type\": \"parcoords\"}], \"pie\": [{\"automargin\": true, \"type\": \"pie\"}], \"scatter\": [{\"marker\": {\"colorbar\": {\"outlinewidth\": 0, \"ticks\": \"\"}}, \"type\": \"scatter\"}], \"scatter3d\": [{\"line\": {\"colorbar\": {\"outlinewidth\": 0, \"ticks\": \"\"}}, \"marker\": {\"colorbar\": {\"outlinewidth\": 0, \"ticks\": \"\"}}, \"type\": \"scatter3d\"}], \"scattercarpet\": [{\"marker\": {\"colorbar\": {\"outlinewidth\": 0, \"ticks\": \"\"}}, \"type\": \"scattercarpet\"}], \"scattergeo\": [{\"marker\": {\"colorbar\": {\"outlinewidth\": 0, \"ticks\": \"\"}}, \"type\": \"scattergeo\"}], \"scattergl\": [{\"marker\": {\"colorbar\": {\"outlinewidth\": 0, \"ticks\": \"\"}}, \"type\": \"scattergl\"}], \"scattermapbox\": [{\"marker\": {\"colorbar\": {\"outlinewidth\": 0, \"ticks\": \"\"}}, \"type\": \"scattermapbox\"}], \"scatterpolar\": [{\"marker\": {\"colorbar\": {\"outlinewidth\": 0, \"ticks\": \"\"}}, \"type\": \"scatterpolar\"}], \"scatterpolargl\": [{\"marker\": {\"colorbar\": {\"outlinewidth\": 0, \"ticks\": \"\"}}, \"type\": \"scatterpolargl\"}], \"scatterternary\": [{\"marker\": {\"colorbar\": {\"outlinewidth\": 0, \"ticks\": \"\"}}, \"type\": \"scatterternary\"}], \"surface\": [{\"colorbar\": {\"outlinewidth\": 0, \"ticks\": \"\"}, \"colorscale\": [[0.0, \"#0d0887\"], [0.1111111111111111, \"#46039f\"], [0.2222222222222222, \"#7201a8\"], [0.3333333333333333, \"#9c179e\"], [0.4444444444444444, \"#bd3786\"], [0.5555555555555556, \"#d8576b\"], [0.6666666666666666, \"#ed7953\"], [0.7777777777777778, \"#fb9f3a\"], [0.8888888888888888, \"#fdca26\"], [1.0, \"#f0f921\"]], \"type\": \"surface\"}], \"table\": [{\"cells\": {\"fill\": {\"color\": \"#EBF0F8\"}, \"line\": {\"color\": \"white\"}}, \"header\": {\"fill\": {\"color\": \"#C8D4E3\"}, \"line\": {\"color\": \"white\"}}, \"type\": \"table\"}]}, \"layout\": {\"annotationdefaults\": {\"arrowcolor\": \"#2a3f5f\", \"arrowhead\": 0, \"arrowwidth\": 1}, \"autotypenumbers\": \"strict\", \"coloraxis\": {\"colorbar\": {\"outlinewidth\": 0, \"ticks\": \"\"}}, \"colorscale\": {\"diverging\": [[0, \"#8e0152\"], [0.1, \"#c51b7d\"], [0.2, \"#de77ae\"], [0.3, \"#f1b6da\"], [0.4, \"#fde0ef\"], [0.5, \"#f7f7f7\"], [0.6, \"#e6f5d0\"], [0.7, \"#b8e186\"], [0.8, \"#7fbc41\"], [0.9, \"#4d9221\"], [1, \"#276419\"]], \"sequential\": [[0.0, \"#0d0887\"], [0.1111111111111111, \"#46039f\"], [0.2222222222222222, \"#7201a8\"], [0.3333333333333333, \"#9c179e\"], [0.4444444444444444, \"#bd3786\"], [0.5555555555555556, \"#d8576b\"], [0.6666666666666666, \"#ed7953\"], [0.7777777777777778, \"#fb9f3a\"], [0.8888888888888888, \"#fdca26\"], [1.0, \"#f0f921\"]], \"sequentialminus\": [[0.0, \"#0d0887\"], [0.1111111111111111, \"#46039f\"], [0.2222222222222222, \"#7201a8\"], [0.3333333333333333, \"#9c179e\"], [0.4444444444444444, \"#bd3786\"], [0.5555555555555556, \"#d8576b\"], [0.6666666666666666, \"#ed7953\"], [0.7777777777777778, \"#fb9f3a\"], [0.8888888888888888, \"#fdca26\"], [1.0, \"#f0f921\"]]}, \"colorway\": [\"#636efa\", \"#EF553B\", \"#00cc96\", \"#ab63fa\", \"#FFA15A\", \"#19d3f3\", \"#FF6692\", \"#B6E880\", \"#FF97FF\", \"#FECB52\"], \"font\": {\"color\": \"#2a3f5f\"}, \"geo\": {\"bgcolor\": \"white\", \"lakecolor\": \"white\", \"landcolor\": \"#E5ECF6\", \"showlakes\": true, \"showland\": true, \"subunitcolor\": \"white\"}, \"hoverlabel\": {\"align\": \"left\"}, \"hovermode\": \"closest\", \"mapbox\": {\"style\": \"light\"}, \"paper_bgcolor\": \"white\", \"plot_bgcolor\": \"#E5ECF6\", \"polar\": {\"angularaxis\": {\"gridcolor\": \"white\", \"linecolor\": \"white\", \"ticks\": \"\"}, \"bgcolor\": \"#E5ECF6\", \"radialaxis\": {\"gridcolor\": \"white\", \"linecolor\": \"white\", \"ticks\": \"\"}}, \"scene\": {\"xaxis\": {\"backgroundcolor\": \"#E5ECF6\", \"gridcolor\": \"white\", \"gridwidth\": 2, \"linecolor\": \"white\", \"showbackground\": true, \"ticks\": \"\", \"zerolinecolor\": \"white\"}, \"yaxis\": {\"backgroundcolor\": \"#E5ECF6\", \"gridcolor\": \"white\", \"gridwidth\": 2, \"linecolor\": \"white\", \"showbackground\": true, \"ticks\": \"\", \"zerolinecolor\": \"white\"}, \"zaxis\": {\"backgroundcolor\": \"#E5ECF6\", \"gridcolor\": \"white\", \"gridwidth\": 2, \"linecolor\": \"white\", \"showbackground\": true, \"ticks\": \"\", \"zerolinecolor\": \"white\"}}, \"shapedefaults\": {\"line\": {\"color\": \"#2a3f5f\"}}, \"ternary\": {\"aaxis\": {\"gridcolor\": \"white\", \"linecolor\": \"white\", \"ticks\": \"\"}, \"baxis\": {\"gridcolor\": \"white\", \"linecolor\": \"white\", \"ticks\": \"\"}, \"bgcolor\": \"#E5ECF6\", \"caxis\": {\"gridcolor\": \"white\", \"linecolor\": \"white\", \"ticks\": \"\"}}, \"title\": {\"x\": 0.05}, \"xaxis\": {\"automargin\": true, \"gridcolor\": \"white\", \"linecolor\": \"white\", \"ticks\": \"\", \"title\": {\"standoff\": 15}, \"zerolinecolor\": \"white\", \"zerolinewidth\": 2}, \"yaxis\": {\"automargin\": true, \"gridcolor\": \"white\", \"linecolor\": \"white\", \"ticks\": \"\", \"title\": {\"standoff\": 15}, \"zerolinecolor\": \"white\", \"zerolinewidth\": 2}}}},                        {\"responsive\": true}                    ).then(function(){\n                            \nvar gd = document.getElementById('4d993a34-fbe7-491c-86fd-20192e4b442c');\nvar x = new MutationObserver(function (mutations, observer) {{\n        var display = window.getComputedStyle(gd).display;\n        if (!display || display === 'none') {{\n            console.log([gd, 'removed!']);\n            Plotly.purge(gd);\n            observer.disconnect();\n        }}\n}});\n\n// Listen for the removal of the full notebook cells\nvar notebookContainer = gd.closest('#notebook-container');\nif (notebookContainer) {{\n    x.observe(notebookContainer, {childList: true});\n}}\n\n// Listen for the clearing of the current output cell\nvar outputEl = gd.closest('.output');\nif (outputEl) {{\n    x.observe(outputEl, {childList: true});\n}}\n\n                        })                };                            </script>        </div>\n</body>\n</html>"
          },
          "metadata": {},
          "output_type": "display_data"
        }
      ]
    },
    {
      "cell_type": "code",
      "metadata": {
        "tags": [],
        "cell_id": "00039-7c02481d-0a2a-48d5-9ea3-847cb870ed50",
        "deepnote_cell_type": "code"
      },
      "source": "nodes = {\n    'start': ProcessGroup(['Syria']), # one (Syria) at the start \n    'end': ProcessGroup(list(refugees['target'])), # 7 at the end\n}",
      "execution_count": null,
      "outputs": []
    },
    {
      "cell_type": "markdown",
      "source": "<a style='text-decoration:none;line-height:16px;display:flex;color:#5B5B62;padding:10px;justify-content:end;' href='https://deepnote.com?utm_source=created-in-deepnote-cell&projectId=c317a1b8-5df8-4084-a9ee-7f5cdd0a8b44' target=\"_blank\">\n<img alt='Created in deepnote.com' style='display:inline;max-height:16px;margin:0px;margin-right:7.5px;' src='data:image/svg+xml;base64,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' > </img>\nCreated in <span style='font-weight:600;margin-left:4px;'>Deepnote</span></a>",
      "metadata": {
        "tags": [],
        "created_in_deepnote_cell": true,
        "deepnote_cell_type": "markdown"
      }
    }
  ],
  "nbformat": 4,
  "nbformat_minor": 2,
  "metadata": {
    "orig_nbformat": 2,
    "deepnote": {
      "is_reactive": false
    },
    "deepnote_notebook_id": "3f6c78bf-5338-4960-ac22-c8c267ff099f",
    "deepnote_execution_queue": []
  }
}